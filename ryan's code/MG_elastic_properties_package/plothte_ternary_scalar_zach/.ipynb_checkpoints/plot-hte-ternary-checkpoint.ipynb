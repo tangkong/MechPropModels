{
 "cells": [
  {
   "cell_type": "markdown",
   "metadata": {},
   "source": [
    "# Imports and Functions"
   ]
  },
  {
   "cell_type": "code",
   "execution_count": 1,
   "metadata": {},
   "outputs": [],
   "source": [
    "import requests\n",
    "requests.packages.urllib3.disable_warnings()\n",
    "import json\n",
    "from collections import OrderedDict\n",
    "import matplotlib\n",
    "import matplotlib.pyplot as plt\n",
    "from ternarpy import *\n",
    "import pandas as pd\n",
    "import pprint\n",
    "import numpy"
   ]
  },
  {
   "cell_type": "code",
   "execution_count": 2,
   "metadata": {},
   "outputs": [],
   "source": [
    "def check_response(r,quiet=False):\n",
    "    try:\n",
    "        r_content = r.json(object_pairs_hook=OrderedDict)\n",
    "    except:\n",
    "        r_content = r.text\n",
    "    if str(r.status_code)[0] is not \"2\":\n",
    "        if not quiet: print(\"Error: \",r.status_code) \n",
    "        if not quiet: print(r.text)\n",
    "    else:\n",
    "        return r_content"
   ]
  },
  {
   "cell_type": "code",
   "execution_count": 3,
   "metadata": {},
   "outputs": [],
   "source": [
    "def mdcs_query(host,query,format='json'):\n",
    "    url = host.strip(\"/\") + \"/rest/explore/query-by-example\"\n",
    "    data = dict()\n",
    "    data['query'] = query\n",
    "    data['dataformat'] = format\n",
    "    r = requests.post(url, data=data, verify=False) # This needs to be fixed\n",
    "    return check_response(r)"
   ]
  },
  {
   "cell_type": "markdown",
   "metadata": {},
   "source": [
    "# Get the data\n",
    "\n",
    "This may break in the future if future round robin datasets are added, which would require more specific queries."
   ]
  },
  {
   "cell_type": "code",
   "execution_count": 4,
   "metadata": {},
   "outputs": [],
   "source": [
    "host = \"https://hte.registry.nist.gov/\"\n",
    "query = '{\"content.library.keyword\":\"round robin\"}'\n",
    "query_response = mdcs_query(host,query)"
   ]
  },
  {
   "cell_type": "code",
   "execution_count": null,
   "metadata": {},
   "outputs": [],
   "source": [
    "libraries = dict()\n",
    "id_list = dict()\n",
    "id_list['s_nist_c_nist'] = list()\n",
    "id_list['s_nist_c_nrel'] = list()\n",
    "id_list['s_nrel_c_nist'] = list()\n",
    "id_list['s_nrel_c_nrel'] = list()\n",
    "flip = {'a':'b','b':'a'}\n",
    "library_pairs = dict()\n",
    "for record in query_response:\n",
    "    lib_id = record['content']['library']['identifier'][0]['id']\n",
    "    org = record['content']['library']['associated']['organization']['altName']\n",
    "    comment = record['content']['library']['comment']\n",
    "    libraries[lib_id] = record['content']['library']\n",
    "    if 'NIST' in comment:\n",
    "        nist_id = lib_id\n",
    "        end_char = nist_id[-1]\n",
    "        nrel_id = nist_id[0:-1]+flip[end_char]\n",
    "        library_pairs[nist_id] = nrel_id\n",
    "        library_pairs[nrel_id] = nist_id\n",
    "    \n",
    "    if 'NIST' in org and 'NIST' in comment:\n",
    "        id_list['s_nist_c_nist'].append(lib_id)\n",
    "    if 'NIST' in org and 'NREL' in comment:\n",
    "        id_list['s_nist_c_nrel'].append(lib_id)\n",
    "    if 'NREL' in org and 'NIST' in comment:\n",
    "        id_list['s_nrel_c_nist'].append(lib_id)\n",
    "    if 'NREL' in org and 'NREL' in comment:\n",
    "        id_list['s_nrel_c_nrel'].append(lib_id)\n",
    "\n",
    "print(id_list['s_nist_c_nist'])\n",
    "print(id_list['s_nist_c_nrel'])\n",
    "print(id_list['s_nrel_c_nist'])\n",
    "print(id_list['s_nrel_c_nrel'])\n",
    "\n",
    "print(library_pairs)"
   ]
  },
  {
   "cell_type": "markdown",
   "metadata": {},
   "source": [
    "# Parse Data"
   ]
  },
  {
   "cell_type": "code",
   "execution_count": null,
   "metadata": {},
   "outputs": [],
   "source": [
    "data_list = dict()\n",
    "data_list['s_nist_c_nist'] = list()\n",
    "data_list['s_nist_c_nrel'] = list()\n",
    "data_list['s_nrel_c_nist'] = list()\n",
    "data_list['s_nrel_c_nrel'] = list()\n",
    "columns = list()\n",
    "set_column_element = True\n",
    "set_column_property = True\n",
    "for group,members in id_list.items():\n",
    "    print(group)\n",
    "    for lib_id in members:\n",
    "        print(\"\\t\"+lib_id)\n",
    "        for sample_num,sample in enumerate(libraries[lib_id]['sample']):\n",
    "            item = list()\n",
    "            try:\n",
    "                for c in sample['composition']['constituent']:\n",
    "                    if set_column_element:\n",
    "                        columns.append(c['chemical-formula'])\n",
    "                    try:\n",
    "                        item.append(c['quantity'])\n",
    "                    except:\n",
    "                        item.append(0.0)\n",
    "            except:\n",
    "                sibling_sample = libraries[library_pairs[lib_id]]['sample'][sample_num]\n",
    "                for c in sibling_sample['composition']['constituent']:\n",
    "                    try:\n",
    "                        item.append(c['quantity'])\n",
    "                    except:\n",
    "                        item.append(0.0)\n",
    "            for p in sample['property']:\n",
    "                if set_column_property:\n",
    "                    columns.append(p['name'])\n",
    "                try:\n",
    "                    item.append(p['value'])\n",
    "                except:\n",
    "                    item.append(0.0)\n",
    "            set_column_element = False\n",
    "            set_column_property = False\n",
    "            data_list[group].append(item)"
   ]
  },
  {
   "cell_type": "code",
   "execution_count": null,
   "metadata": {},
   "outputs": [],
   "source": [
    "columns"
   ]
  },
  {
   "cell_type": "markdown",
   "metadata": {},
   "source": [
    "# Plot Band Gap"
   ]
  },
  {
   "cell_type": "code",
   "execution_count": null,
   "metadata": {},
   "outputs": [],
   "source": [
    "nist_df = pd.DataFrame(np.array(data_list['s_nist_c_nist']),columns=columns)\n",
    "nrel_df = pd.DataFrame(np.array(data_list['s_nist_c_nrel']),columns=columns)\n",
    "basis = make_basis()\n",
    "nist_X = nist_df[columns[0:3]].as_matrix()\n",
    "nrel_X = nrel_df[columns[0:3]].as_matrix()\n",
    "nist_Xt = transform(nist_X,basis)\n",
    "nrel_Xt = transform(nrel_X,basis)\n",
    "\n",
    "fig, ax = pylab.subplots(figsize=(10,10))\n",
    "setup_plot(ax, side_labels=columns[0:3], grid_values=np.arange(0.1,1,0.1))\n",
    "points = ax.scatter(nist_Xt[:,0],nist_Xt[:,1],c=nist_df['band gap'], cmap='coolwarm', vmin=3.1, vmax=3.8);\n",
    "plt.colorbar(points).ax.set_title('bandgap (eV)')\n",
    "plt.savefig(\"band-gap-NIST-syn-NIST-meas.pdf\", bbox_inches='tight')\n",
    "plt.show(points)\n",
    "\n",
    "fig, ax = pylab.subplots(figsize=(10,10))\n",
    "setup_plot(ax, side_labels=columns[0:3], grid_values=np.arange(0.1,1,0.1))\n",
    "points = ax.scatter(nrel_Xt[:,0],nrel_Xt[:,1],c=nrel_df['band gap'], cmap='coolwarm', vmin=3.1, vmax=3.8);\n",
    "plt.colorbar(points).ax.set_title('bandgap (eV)')\n",
    "plt.savefig(\"band-gap-NIST-syn-NREL-meas.pdf\", bbox_inches='tight')\n",
    "plt.show(points)"
   ]
  },
  {
   "cell_type": "code",
   "execution_count": null,
   "metadata": {},
   "outputs": [],
   "source": [
    "nist_df = pd.DataFrame(np.array(data_list['s_nrel_c_nist']),columns=columns)\n",
    "nrel_df = pd.DataFrame(np.array(data_list['s_nrel_c_nrel']),columns=columns)\n",
    "basis = make_basis()\n",
    "nist_X = nist_df[columns[0:3]].as_matrix()\n",
    "nrel_X = nrel_df[columns[0:3]].as_matrix()\n",
    "nist_Xt = transform(nist_X,basis)\n",
    "nrel_Xt = transform(nrel_X,basis)\n",
    "\n",
    "fig, ax = pylab.subplots(figsize=(10,10))\n",
    "setup_plot(ax, side_labels=columns[0:3], grid_values=np.arange(0.1,1,0.1))\n",
    "points = ax.scatter(nist_Xt[:,0],nist_Xt[:,1],c=nist_df['band gap'], cmap='coolwarm', vmin=2.5, vmax=3.2);\n",
    "plt.colorbar(points).ax.set_title('bandgap (eV)')\n",
    "plt.savefig(\"band-gap-NREL-syn-NIST-meas.pdf\", bbox_inches='tight')\n",
    "plt.show(points)\n",
    "\n",
    "fig, ax = pylab.subplots(figsize=(10,10))\n",
    "setup_plot(ax, side_labels=columns[0:3], grid_values=np.arange(0.1,1,0.1))\n",
    "points = ax.scatter(nrel_Xt[:,0],nrel_Xt[:,1],c=nrel_df['band gap'], cmap='coolwarm', vmin=2.5, vmax=3.2);\n",
    "plt.colorbar(points).ax.set_title('bandgap (eV)')\n",
    "plt.savefig(\"band-gap-NREL-syn-NREL-meas.pdf\", bbox_inches='tight')\n",
    "plt.show(points)"
   ]
  },
  {
   "cell_type": "markdown",
   "metadata": {},
   "source": [
    "# Plot Thickness"
   ]
  },
  {
   "cell_type": "code",
   "execution_count": null,
   "metadata": {},
   "outputs": [],
   "source": [
    "nist_df = pd.DataFrame(np.array(data_list['s_nist_c_nist']),columns=columns)\n",
    "nrel_df = pd.DataFrame(np.array(data_list['s_nist_c_nrel']),columns=columns)\n",
    "basis = make_basis()\n",
    "nist_X = nist_df[columns[0:3]].as_matrix()\n",
    "nrel_X = nrel_df[columns[0:3]].as_matrix()\n",
    "nist_Xt = transform(nist_X,basis)\n",
    "nrel_Xt = transform(nrel_X,basis)\n",
    "\n",
    "fig, ax = pylab.subplots(figsize=(10,10))\n",
    "setup_plot(ax, side_labels=columns[0:3], grid_values=np.arange(0.1,1,0.1))\n",
    "points = ax.scatter(nist_Xt[:,0],nist_Xt[:,1],c=nist_df['film thickness'], cmap='coolwarm', vmin=60, vmax=110);\n",
    "plt.colorbar(points).ax.set_title('Thickness (nm)')\n",
    "plt.savefig(\"thickness-NIST-syn-NIST-meas.pdf\", bbox_inches='tight')\n",
    "plt.show(points)\n",
    "\n",
    "fig, ax = pylab.subplots(figsize=(10,10))\n",
    "setup_plot(ax, side_labels=columns[0:3], grid_values=np.arange(0.1,1,0.1))\n",
    "points = ax.scatter(nrel_Xt[:,0],nrel_Xt[:,1],c=nrel_df['film thickness'], cmap='coolwarm', vmin=60, vmax=110);\n",
    "plt.colorbar(points).ax.set_title('Thickness (nm)')\n",
    "plt.savefig(\"thickness-NIST-syn-NREL-meas.pdf\", bbox_inches='tight')\n",
    "plt.show(points)"
   ]
  },
  {
   "cell_type": "code",
   "execution_count": null,
   "metadata": {},
   "outputs": [],
   "source": [
    "nist_df = pd.DataFrame(np.array(data_list['s_nrel_c_nist']),columns=columns)\n",
    "nrel_df = pd.DataFrame(np.array(data_list['s_nrel_c_nrel']),columns=columns)\n",
    "basis = make_basis()\n",
    "nist_X = nist_df[columns[0:3]].as_matrix()\n",
    "nrel_X = nrel_df[columns[0:3]].as_matrix()\n",
    "nist_Xt = transform(nist_X,basis)\n",
    "nrel_Xt = transform(nrel_X,basis)\n",
    "\n",
    "fig, ax = pylab.subplots(figsize=(10,10))\n",
    "setup_plot(ax, side_labels=columns[0:3], grid_values=np.arange(0.1,1,0.1))\n",
    "points = ax.scatter(nist_Xt[:,0],nist_Xt[:,1],c=nist_df['film thickness'], cmap='coolwarm', vmin=250, vmax=450);\n",
    "plt.colorbar(points).ax.set_title('Thickness (nm)')\n",
    "plt.savefig(\"thickness-NREL-syn-NIST-meas.pdf\", bbox_inches='tight')\n",
    "plt.show(points)\n",
    "\n",
    "fig, ax = pylab.subplots(figsize=(10,10))\n",
    "setup_plot(ax, side_labels=columns[0:3], grid_values=np.arange(0.1,1,0.1))\n",
    "points = ax.scatter(nrel_Xt[:,0],nrel_Xt[:,1],c=nrel_df['film thickness'], cmap='coolwarm', vmin=250, vmax=450);\n",
    "plt.colorbar(points).ax.set_title('Thickness (nm)')\n",
    "plt.savefig(\"thickness-NREL-syn-NREL-meas.pdf\", bbox_inches='tight')\n",
    "plt.show(points)"
   ]
  },
  {
   "cell_type": "markdown",
   "metadata": {},
   "source": [
    "# Plot Conductivity"
   ]
  },
  {
   "cell_type": "code",
   "execution_count": null,
   "metadata": {},
   "outputs": [],
   "source": [
    "nist_df = pd.DataFrame(np.array(data_list['s_nist_c_nist']),columns=columns)\n",
    "nrel_df = pd.DataFrame(np.array(data_list['s_nist_c_nrel']),columns=columns)\n",
    "nist_df_valid = nist_df[nist_df['conductivity'] > 0]\n",
    "nrel_df_valid = nrel_df[nrel_df['conductivity'] > 0]\n",
    "basis = make_basis()\n",
    "nist_X = nist_df_valid[columns[0:3]].as_matrix()\n",
    "nrel_X = nrel_df_valid[columns[0:3]].as_matrix()\n",
    "nist_Xt = transform(nist_X,basis)\n",
    "nrel_Xt = transform(nrel_X,basis)\n",
    "\n",
    "fig, ax = pylab.subplots(figsize=(10,10))\n",
    "setup_plot(ax, side_labels=columns[0:3], grid_values=np.arange(0.1,1,0.1))\n",
    "points = ax.scatter(nist_Xt[:,0],nist_Xt[:,1],c=numpy.log10(nist_df_valid['conductivity']), cmap='coolwarm', \n",
    "                    vmin=-2, vmax=2);\n",
    "plt.colorbar(points).ax.set_title('Log Conductivity Log(S/cm)')\n",
    "plt.savefig(\"conductivity-NIST-syn-NIST-meas.pdf\", bbox_inches='tight')\n",
    "plt.show(points)\n",
    "\n",
    "fig, ax = pylab.subplots(figsize=(10,10))\n",
    "setup_plot(ax, side_labels=columns[0:3], grid_values=np.arange(0.1,1,0.1))\n",
    "points = ax.scatter(nrel_Xt[:,0],nrel_Xt[:,1],c=numpy.log10(nrel_df_valid['conductivity']), cmap='coolwarm', \n",
    "                    vmin=-2, vmax=2);\n",
    "plt.colorbar(points).ax.set_title('Log Conductivity Log(S/cm)')\n",
    "plt.savefig(\"conductivity-NIST-syn-NREL-meas.pdf\", bbox_inches='tight')\n",
    "plt.show(points)"
   ]
  },
  {
   "cell_type": "code",
   "execution_count": null,
   "metadata": {},
   "outputs": [],
   "source": [
    "nist_df = pd.DataFrame(np.array(data_list['s_nrel_c_nist']),columns=columns)\n",
    "nrel_df = pd.DataFrame(np.array(data_list['s_nrel_c_nrel']),columns=columns)\n",
    "nist_df_valid = nist_df[nist_df['conductivity'] > 0]\n",
    "nrel_df_valid = nrel_df[nrel_df['conductivity'] > 0]\n",
    "basis = make_basis()\n",
    "nist_X = nist_df_valid[columns[0:3]].as_matrix()\n",
    "nrel_X = nrel_df_valid[columns[0:3]].as_matrix()\n",
    "nist_Xt = transform(nist_X,basis)\n",
    "nrel_Xt = transform(nrel_X,basis)\n",
    "\n",
    "fig, ax = pylab.subplots(figsize=(10,10))\n",
    "setup_plot(ax, side_labels=columns[0:3], grid_values=np.arange(0.1,1,0.1))\n",
    "points = ax.scatter(nist_Xt[:,0],nist_Xt[:,1],c=numpy.log10(nist_df_valid['conductivity']), cmap='coolwarm', \n",
    "                    vmin=-2, vmax=2);\n",
    "plt.colorbar(points).ax.set_title('Log Conductivity Log(S/cm)')\n",
    "plt.savefig(\"conductivity-NREL-syn-NIST-meas.pdf\", bbox_inches='tight')\n",
    "plt.show(points)\n",
    "\n",
    "fig, ax = pylab.subplots(figsize=(10,10))\n",
    "setup_plot(ax, side_labels=columns[0:3], grid_values=np.arange(0.1,1,0.1))\n",
    "points = ax.scatter(nrel_Xt[:,0],nrel_Xt[:,1],c=numpy.log10(nrel_df_valid['conductivity']), cmap='coolwarm', \n",
    "                    vmin=-2, vmax=2);\n",
    "plt.colorbar(points).ax.set_title('Log Conductivity Log(S/cm)')\n",
    "plt.savefig(\"conductivity-NREL-syn-NREL-meas.pdf\", bbox_inches='tight')\n",
    "plt.show(points)"
   ]
  },
  {
   "cell_type": "markdown",
   "metadata": {},
   "source": [
    "# Plot Sheet Resistance"
   ]
  },
  {
   "cell_type": "code",
   "execution_count": null,
   "metadata": {},
   "outputs": [],
   "source": [
    "nist_df = pd.DataFrame(np.array(data_list['s_nist_c_nist']),columns=columns)\n",
    "nrel_df = pd.DataFrame(np.array(data_list['s_nist_c_nrel']),columns=columns)\n",
    "nist_df_valid = nist_df[nist_df['sheet resistance'] > 0]\n",
    "nrel_df_valid = nrel_df[nrel_df['sheet resistance'] > 0]\n",
    "basis = make_basis()\n",
    "nist_X = nist_df_valid[columns[0:3]].as_matrix()\n",
    "nrel_X = nrel_df_valid[columns[0:3]].as_matrix()\n",
    "nist_Xt = transform(nist_X,basis)\n",
    "nrel_Xt = transform(nrel_X,basis)\n",
    "\n",
    "fig, ax = pylab.subplots(figsize=(10,10))\n",
    "setup_plot(ax, side_labels=columns[0:3], grid_values=np.arange(0.1,1,0.1))\n",
    "points = ax.scatter(nist_Xt[:,0],nist_Xt[:,1],c=numpy.log10(nist_df_valid['sheet resistance']), cmap='coolwarm', \n",
    "                    vmin=3, vmax=7);\n",
    "plt.colorbar(points).ax.set_title('Log Sheet Resistance Log(ohms/sq)')\n",
    "plt.savefig(\"sheet-resistance-NIST-syn-NIST-meas.pdf\", bbox_inches='tight')\n",
    "plt.show(points)\n",
    "\n",
    "fig, ax = pylab.subplots(figsize=(10,10))\n",
    "setup_plot(ax, side_labels=columns[0:3], grid_values=np.arange(0.1,1,0.1))\n",
    "points = ax.scatter(nrel_Xt[:,0],nrel_Xt[:,1],c=numpy.log10(nrel_df_valid['sheet resistance']), cmap='coolwarm', \n",
    "                    vmin=3, vmax=7);\n",
    "plt.colorbar(points).ax.set_title('Log Sheet Resistance Log(ohms/sq)')\n",
    "plt.savefig(\"sheet-resistance-NIST-syn-NREL-meas.pdf\", bbox_inches='tight')\n",
    "plt.show(points)"
   ]
  },
  {
   "cell_type": "code",
   "execution_count": null,
   "metadata": {},
   "outputs": [],
   "source": [
    "nist_df = pd.DataFrame(np.array(data_list['s_nrel_c_nist']),columns=columns)\n",
    "nrel_df = pd.DataFrame(np.array(data_list['s_nrel_c_nrel']),columns=columns)\n",
    "nist_df_valid = nist_df[nist_df['sheet resistance'] > 0]\n",
    "nrel_df_valid = nrel_df[nrel_df['sheet resistance'] > 0]\n",
    "basis = make_basis()\n",
    "nist_X = nist_df_valid[columns[0:3]].as_matrix()\n",
    "nrel_X = nrel_df_valid[columns[0:3]].as_matrix()\n",
    "nist_Xt = transform(nist_X,basis)\n",
    "nrel_Xt = transform(nrel_X,basis)\n",
    "\n",
    "fig, ax = pylab.subplots(figsize=(10,10))\n",
    "setup_plot(ax, side_labels=columns[0:3], grid_values=np.arange(0.1,1,0.1))\n",
    "points = ax.scatter(nist_Xt[:,0],nist_Xt[:,1],c=numpy.log10(nist_df_valid['sheet resistance']), cmap='coolwarm', \n",
    "                    vmin=3, vmax=7);\n",
    "plt.colorbar(points).ax.set_title('Log Sheet Resistance Log(ohms/sq)')\n",
    "plt.savefig(\"sheet-resistance-NREL-syn-NIST-meas.pdf\", bbox_inches='tight')\n",
    "plt.show(points)\n",
    "\n",
    "fig, ax = pylab.subplots(figsize=(10,10))\n",
    "setup_plot(ax, side_labels=columns[0:3], grid_values=np.arange(0.1,1,0.1))\n",
    "points = ax.scatter(nrel_Xt[:,0],nrel_Xt[:,1],c=numpy.log10(nrel_df_valid['sheet resistance']), cmap='coolwarm', \n",
    "                    vmin=3, vmax=7);\n",
    "plt.colorbar(points).ax.set_title('Log Sheet Resistance Log(ohms/sq)')\n",
    "plt.savefig(\"sheet-resistance-NREL-syn-NREL-meas.pdf\", bbox_inches='tight')\n",
    "plt.show(points)"
   ]
  },
  {
   "cell_type": "code",
   "execution_count": null,
   "metadata": {},
   "outputs": [],
   "source": [
    "nist_df = pd.DataFrame(np.array(data_list['s_nrel_c_nist']),columns=columns)\n",
    "nrel_df = pd.DataFrame(np.array(data_list['s_nrel_c_nrel']),columns=columns)\n",
    "nist_df_valid = nist_df[nist_df['sheet resistance'] > 0]\n",
    "nrel_df_valid = nrel_df[nrel_df['sheet resistance'] > 0]\n",
    "\n",
    "lower = 10**2\n",
    "upper = 10**9\n",
    "colors = 'krgb'\n",
    "font = {'size'   : 18}\n",
    "matplotlib.rc('font', **font)\n",
    "plt.figure(figsize=(10,10))\n",
    "ax = plt.axes()\n",
    "ax.set_yscale('log')\n",
    "plt.scatter(nist_df_valid['Sn'],nist_df_valid['sheet resistance'], label = \"NIST\")\n",
    "plt.scatter(nrel_df_valid['Sn'],nrel_df_valid['sheet resistance'], label = \"NREL\")\n",
    "plt.legend()\n",
    "plt.xlabel('Sn/(Sn+Zn+Ti)')\n",
    "plt.ylabel('Sheet Resistance (ohms/sq)')\n",
    "plt.ylim(lower, upper)\n",
    "plt.grid(True)\n",
    "plt.savefig(\"sheet-resistance-NREL-samples-Sn.pdf\", bbox_inches='tight')\n",
    "plt.show()"
   ]
  },
  {
   "cell_type": "code",
   "execution_count": null,
   "metadata": {
    "collapsed": true
   },
   "outputs": [],
   "source": []
  }
 ],
 "metadata": {
  "kernelspec": {
   "display_name": "Python 3",
   "language": "python",
   "name": "python3"
  },
  "language_info": {
   "codemirror_mode": {
    "name": "ipython",
    "version": 3
   },
   "file_extension": ".py",
   "mimetype": "text/x-python",
   "name": "python",
   "nbconvert_exporter": "python",
   "pygments_lexer": "ipython3",
   "version": "3.6.3"
  }
 },
 "nbformat": 4,
 "nbformat_minor": 2
}
