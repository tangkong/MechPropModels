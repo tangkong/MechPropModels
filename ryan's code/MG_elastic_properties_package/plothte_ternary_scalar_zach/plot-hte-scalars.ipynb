{
 "cells": [
  {
   "cell_type": "markdown",
   "metadata": {},
   "source": [
    "# Imports and Functions"
   ]
  },
  {
   "cell_type": "code",
   "execution_count": null,
   "metadata": {
    "collapsed": true
   },
   "outputs": [],
   "source": [
    "import requests\n",
    "requests.packages.urllib3.disable_warnings()\n",
    "import json\n",
    "from collections import OrderedDict\n",
    "import matplotlib\n",
    "import matplotlib.pyplot as plt\n",
    "import matplotlib.ticker as ticker"
   ]
  },
  {
   "cell_type": "code",
   "execution_count": null,
   "metadata": {
    "collapsed": true
   },
   "outputs": [],
   "source": [
    "def check_response(r,quiet=False):\n",
    "    try:\n",
    "        r_content = r.json(object_pairs_hook=OrderedDict)\n",
    "    except:\n",
    "        r_content = r.text\n",
    "    if str(r.status_code)[0] is not \"2\":\n",
    "        if not quiet: print(\"Error: \",r.status_code) \n",
    "        if not quiet: print(r.text)\n",
    "    else:\n",
    "        return r_content"
   ]
  },
  {
   "cell_type": "code",
   "execution_count": null,
   "metadata": {
    "collapsed": true
   },
   "outputs": [],
   "source": [
    "def mdcs_query(host,query,format='json'):\n",
    "    url = host.strip(\"/\") + \"/rest/explore/query-by-example\"\n",
    "    data = dict()\n",
    "    data['query'] = query\n",
    "    data['dataformat'] = format\n",
    "    r = requests.post(url, data=data, verify=False) # This needs to be fixed\n",
    "    return check_response(r)"
   ]
  },
  {
   "cell_type": "markdown",
   "metadata": {},
   "source": [
    "# Get the data\n",
    "\n",
    "This may break in the future if future round robin datasets are added, which would require more specific queries."
   ]
  },
  {
   "cell_type": "code",
   "execution_count": null,
   "metadata": {
    "collapsed": true
   },
   "outputs": [],
   "source": [
    "host = \"https://hte.registry.nist.gov/\"\n",
    "query = '{\"content.library.keyword\":\"round robin\"}'\n",
    "query_response = mdcs_query(host,query)"
   ]
  },
  {
   "cell_type": "code",
   "execution_count": null,
   "metadata": {},
   "outputs": [],
   "source": [
    "libraries = dict()\n",
    "flip = {'a':'b','b':'a'}\n",
    "library_pairs = dict()\n",
    "for record in query_response:\n",
    "    lib_name = record['content']['library']['name']\n",
    "    lib_id = record['content']['library']['identifier'][0]['id']\n",
    "    libraries[lib_id] = record['content']['library']\n",
    "    num_samples = len(record['content']['library']['sample'])\n",
    "    comment = record['content']['library']['comment']\n",
    "    if 'NIST' in comment:\n",
    "        nist_id = lib_id\n",
    "        end_char = nist_id[-1]\n",
    "        nrel_id = nist_id[0:-1]+flip[end_char]\n",
    "        library_pairs[nist_id] = nrel_id\n",
    "    #print(\"_\"*50)\n",
    "    #print(\"Library Name:\",lib_name)\n",
    "    #print(\"Library Handle:\",lib_id)\n",
    "    #print(\"Number of Samples:\",num_samples)\n",
    "    #print(\"Comment:\",comment)\n",
    "\n",
    "print(library_pairs)"
   ]
  },
  {
   "cell_type": "markdown",
   "metadata": {},
   "source": [
    "# Begin Band Gap Figues"
   ]
  },
  {
   "cell_type": "code",
   "execution_count": null,
   "metadata": {
    "collapsed": true
   },
   "outputs": [],
   "source": [
    "band_gap = dict()\n",
    "for lib_id,lib in libraries.items():\n",
    "    band_gap[lib_id] = [-1.0] * len(lib['sample'])\n",
    "    for sample in lib['sample']:\n",
    "        s_id = sample['identifier'][1]['id'] -1\n",
    "        bg = sample['property'][3]['value']\n",
    "        band_gap[lib_id][s_id] = bg"
   ]
  },
  {
   "cell_type": "code",
   "execution_count": null,
   "metadata": {},
   "outputs": [],
   "source": [
    "colors = 'krgb'\n",
    "font = {'size'   : 18}\n",
    "matplotlib.rc('font', **font)\n",
    "plt.figure(figsize=(10,10))\n",
    "i = 0\n",
    "lower_list = list()\n",
    "upper_list = list()\n",
    "for nist_id,nrel_id in library_pairs.items():\n",
    "    this_lower = min([min(band_gap[nrel_id]),min(band_gap[nist_id])])\n",
    "    this_upper = max([max(band_gap[nrel_id]),max(band_gap[nist_id])])\n",
    "    lower_list.append(this_lower)\n",
    "    upper_list.append(this_upper)\n",
    "    plt.scatter(band_gap[nrel_id],band_gap[nist_id],c=colors[i], label = nist_id.split('/')[1][0:-1])\n",
    "    i = i+1\n",
    "\n",
    "lower = min(lower_list)\n",
    "upper = max(upper_list)\n",
    "plt.plot([lower,upper],[lower,upper],'k--')\n",
    "plt.legend()\n",
    "plt.axes().set_aspect('equal')\n",
    "ax = plt.axes()\n",
    "plt.xlabel('NREL Band Gap (eV)')\n",
    "plt.ylabel('NIST Band Gap (eV)')\n",
    "plt.grid(True)\n",
    "plt.show()"
   ]
  },
  {
   "cell_type": "code",
   "execution_count": null,
   "metadata": {},
   "outputs": [],
   "source": [
    "major = 0.2\n",
    "minor = 0.05\n",
    "lower = 2.4\n",
    "upper = 4.0\n",
    "colors = 'krgb'\n",
    "font = {'size'   : 18}\n",
    "matplotlib.rc('font', **font)\n",
    "\n",
    "plt.figure(figsize=(10,10))\n",
    "ax = plt.axes()\n",
    "ax.xaxis.set_major_locator(ticker.MultipleLocator(major))\n",
    "ax.xaxis.set_minor_locator(ticker.MultipleLocator(minor))\n",
    "ax.yaxis.set_major_locator(ticker.MultipleLocator(major))\n",
    "ax.yaxis.set_minor_locator(ticker.MultipleLocator(minor))\n",
    "plt.grid(True)\n",
    "i = 0\n",
    "for nist_id,nrel_id in library_pairs.items():\n",
    "    plt.scatter(band_gap[nrel_id],band_gap[nist_id],c=colors[i], label = nist_id.split('/')[1][0:-1])\n",
    "    i = i+1\n",
    "\n",
    "plt.plot([lower,upper],[lower,upper],'k--')\n",
    "plt.legend()\n",
    "plt.axes().set_aspect('equal')\n",
    "plt.xlim(lower, upper)\n",
    "plt.ylim(lower, upper)\n",
    "plt.xlabel('NREL Band Gap (eV)')\n",
    "plt.ylabel('NIST Band Gap (eV)')\n",
    "plt.savefig(\"band-gap.pdf\", bbox_inches='tight')\n",
    "plt.show()\n"
   ]
  },
  {
   "cell_type": "markdown",
   "metadata": {},
   "source": [
    "# Begin Thickness Figures"
   ]
  },
  {
   "cell_type": "code",
   "execution_count": null,
   "metadata": {
    "collapsed": true
   },
   "outputs": [],
   "source": [
    "thickness = dict()\n",
    "for lib_id,lib in libraries.items():\n",
    "    thickness[lib_id] = [-1.0] * len(lib['sample'])\n",
    "    for sample in lib['sample']:\n",
    "        s_id = sample['identifier'][1]['id'] -1\n",
    "        z = sample['property'][0]['value']\n",
    "        thickness[lib_id][s_id] = z"
   ]
  },
  {
   "cell_type": "code",
   "execution_count": null,
   "metadata": {},
   "outputs": [],
   "source": [
    "colors = 'krgb'\n",
    "font = {'size'   : 18}\n",
    "matplotlib.rc('font', **font)\n",
    "plt.figure(figsize=(10,10))\n",
    "i = 0\n",
    "lower_list = list()\n",
    "upper_list = list()\n",
    "for nist_id,nrel_id in library_pairs.items():\n",
    "    this_lower = min([min(thickness[nrel_id]),min(thickness[nist_id])])\n",
    "    this_upper = max([max(thickness[nrel_id]),max(thickness[nist_id])])\n",
    "    lower_list.append(this_lower)\n",
    "    upper_list.append(this_upper)\n",
    "    plt.scatter(thickness[nrel_id],thickness[nist_id],c=colors[i], label = nist_id.split('/')[1][0:-1])\n",
    "    i = i+1\n",
    "\n",
    "lower = min(lower_list)\n",
    "upper = max(upper_list)\n",
    "plt.plot([lower,upper],[lower,upper],'k--')\n",
    "plt.legend()\n",
    "plt.axes().set_aspect('equal')\n",
    "ax = plt.axes()\n",
    "plt.xlabel('NREL Thickness (nm)')\n",
    "plt.ylabel('NIST Thickness (nm)')\n",
    "plt.grid(True)\n",
    "plt.savefig(\"thickness.pdf\", bbox_inches='tight')\n",
    "plt.show()"
   ]
  },
  {
   "cell_type": "markdown",
   "metadata": {},
   "source": [
    "# Begin Conductivity Figure"
   ]
  },
  {
   "cell_type": "code",
   "execution_count": null,
   "metadata": {
    "collapsed": true
   },
   "outputs": [],
   "source": [
    "cond = dict()\n",
    "for lib_id,lib in libraries.items():\n",
    "    cond[lib_id] = [10**(-10)] * len(lib['sample'])\n",
    "    for sample in lib['sample']:\n",
    "        s_id = sample['identifier'][1]['id'] -1\n",
    "        try: \n",
    "            z = sample['property'][1]['value']\n",
    "            cond[lib_id][s_id] = z\n",
    "        except:\n",
    "            pass"
   ]
  },
  {
   "cell_type": "code",
   "execution_count": null,
   "metadata": {},
   "outputs": [],
   "source": [
    "lower = 10**-2\n",
    "upper = 10**2\n",
    "colors = 'krgb'\n",
    "font = {'size'   : 18}\n",
    "matplotlib.rc('font', **font)\n",
    "plt.figure(figsize=(10,10))\n",
    "i = 0\n",
    "\n",
    "for nist_id,nrel_id in library_pairs.items():\n",
    "    plt.scatter(cond[nrel_id],cond[nist_id],c=colors[i], label = nist_id.split('/')[1][0:-1])\n",
    "    i = i+1\n",
    "\n",
    "plt.plot([lower,upper],[lower,upper],'k--')\n",
    "plt.legend()\n",
    "plt.axes().set_aspect('equal')\n",
    "ax = plt.axes()\n",
    "ax.set_xscale('log')\n",
    "ax.set_yscale('log')\n",
    "plt.xlim(lower, upper)\n",
    "plt.ylim(lower, upper)\n",
    "plt.xlabel('NREL Conductivity (S/cm)')\n",
    "plt.ylabel('NIST Conductivity (S/cm)')\n",
    "plt.grid(True)\n",
    "plt.savefig(\"conductivity.pdf\", bbox_inches='tight')\n",
    "plt.show()"
   ]
  },
  {
   "cell_type": "markdown",
   "metadata": {},
   "source": [
    "# Begin Sheet Resistance Figure"
   ]
  },
  {
   "cell_type": "code",
   "execution_count": null,
   "metadata": {
    "collapsed": true
   },
   "outputs": [],
   "source": [
    "sheet = dict()\n",
    "for lib_id,lib in libraries.items():\n",
    "    sheet[lib_id] = [1.0] * len(lib['sample'])\n",
    "    for sample in lib['sample']:\n",
    "        s_id = sample['identifier'][1]['id'] -1\n",
    "        try: \n",
    "            z = sample['property'][2]['value']\n",
    "            sheet[lib_id][s_id] = z\n",
    "        except:\n",
    "            pass"
   ]
  },
  {
   "cell_type": "code",
   "execution_count": null,
   "metadata": {},
   "outputs": [],
   "source": [
    "lower = 10**3\n",
    "upper = 10**7\n",
    "colors = 'krgb'\n",
    "font = {'size'   : 18}\n",
    "matplotlib.rc('font', **font)\n",
    "plt.figure(figsize=(10,10))\n",
    "i = 0\n",
    "\n",
    "for nist_id,nrel_id in library_pairs.items():\n",
    "    plt.scatter(sheet[nrel_id],sheet[nist_id],c=colors[i], label = nist_id.split('/')[1][0:-1])\n",
    "    i = i+1\n",
    "\n",
    "plt.plot([lower,upper],[lower,upper],'k--')\n",
    "plt.legend()\n",
    "plt.axes().set_aspect('equal')\n",
    "ax = plt.axes()\n",
    "ax.set_xscale('log')\n",
    "ax.set_yscale('log')\n",
    "plt.xlim(lower, upper)\n",
    "plt.ylim(lower, upper)\n",
    "plt.xlabel('NREL Sheet Resistance (ohms/sq)')\n",
    "plt.ylabel('NIST Sheet Resistance (ohms/sq)')\n",
    "plt.grid(True)\n",
    "plt.savefig(\"sheet-resistance.pdf\", bbox_inches='tight')\n",
    "plt.show()"
   ]
  },
  {
   "cell_type": "markdown",
   "metadata": {
    "collapsed": true
   },
   "source": [
    "# Begin Zn Figure NIST Library"
   ]
  },
  {
   "cell_type": "code",
   "execution_count": null,
   "metadata": {
    "collapsed": true
   },
   "outputs": [],
   "source": [
    "comp = dict()\n",
    "for lib_id,lib in libraries.items():\n",
    "    comp[lib_id] = [0.0] * len(lib['sample'])\n",
    "    for sample in lib['sample']:\n",
    "        s_id = sample['identifier'][1]['id'] -1\n",
    "        try: \n",
    "            z = sample['composition']['constituent'][0]['quantity']\n",
    "            comp[lib_id][s_id] = z\n",
    "        except:\n",
    "            pass"
   ]
  },
  {
   "cell_type": "code",
   "execution_count": null,
   "metadata": {},
   "outputs": [],
   "source": [
    "colors = 'krgb'\n",
    "font = {'size'   : 18}\n",
    "matplotlib.rc('font', **font)\n",
    "plt.figure(figsize=(10,10))\n",
    "i = 0\n",
    "lower_list = list()\n",
    "upper_list = list()\n",
    "for nist_id,nrel_id in library_pairs.items():\n",
    "    if '2016' in nist_id: continue\n",
    "    this_lower = min([min(comp[nrel_id]),min(comp[nist_id])])\n",
    "    this_upper = max([max(comp[nrel_id]),max(comp[nist_id])])\n",
    "    lower_list.append(this_lower)\n",
    "    upper_list.append(this_upper)\n",
    "    plt.scatter(comp[nrel_id],comp[nist_id],c=colors[i], label = nist_id.split('/')[1][0:-1])\n",
    "    i = i+1\n",
    "\n",
    "lower = min(lower_list)\n",
    "upper = max(upper_list)\n",
    "plt.plot([lower,upper],[lower,upper],'k--')\n",
    "plt.legend()\n",
    "plt.axes().set_aspect('equal')\n",
    "ax = plt.axes()\n",
    "plt.xlabel('NREL Zn (Amount of Substance Fraction)')\n",
    "plt.ylabel('NIST Zn (Amount of Substance Fraction)')\n",
    "plt.grid(True)\n",
    "plt.savefig(\"composition-Zn.pdf\", bbox_inches='tight')\n",
    "plt.show()"
   ]
  },
  {
   "cell_type": "markdown",
   "metadata": {
    "collapsed": true
   },
   "source": [
    "# Begin Sn Figure NIST Library"
   ]
  },
  {
   "cell_type": "code",
   "execution_count": null,
   "metadata": {
    "collapsed": true
   },
   "outputs": [],
   "source": [
    "comp = dict()\n",
    "for lib_id,lib in libraries.items():\n",
    "    comp[lib_id] = [0.0] * len(lib['sample'])\n",
    "    for sample in lib['sample']:\n",
    "        s_id = sample['identifier'][1]['id'] -1\n",
    "        try: \n",
    "            z = sample['composition']['constituent'][1]['quantity']\n",
    "            comp[lib_id][s_id] = z\n",
    "        except:\n",
    "            pass"
   ]
  },
  {
   "cell_type": "code",
   "execution_count": null,
   "metadata": {},
   "outputs": [],
   "source": [
    "colors = 'krgb'\n",
    "font = {'size'   : 18}\n",
    "matplotlib.rc('font', **font)\n",
    "plt.figure(figsize=(10,10))\n",
    "i = 0\n",
    "lower_list = list()\n",
    "upper_list = list()\n",
    "for nist_id,nrel_id in library_pairs.items():\n",
    "    if '2016' in nist_id: continue\n",
    "    this_lower = min([min(comp[nrel_id]),min(comp[nist_id])])\n",
    "    this_upper = max([max(comp[nrel_id]),max(comp[nist_id])])\n",
    "    lower_list.append(this_lower)\n",
    "    upper_list.append(this_upper)\n",
    "    plt.scatter(comp[nrel_id],comp[nist_id],c=colors[i], label = nist_id.split('/')[1][0:-1])\n",
    "    i = i+1\n",
    "\n",
    "lower = min(lower_list)\n",
    "upper = max(upper_list)\n",
    "plt.plot([lower,upper],[lower,upper],'k--')\n",
    "plt.legend()\n",
    "plt.axes().set_aspect('equal')\n",
    "ax = plt.axes()\n",
    "plt.xlabel('NREL Sn (Amount of Substance Fraction)')\n",
    "plt.ylabel('NIST Sn (Amount of Substance Fraction)')\n",
    "plt.grid(True)\n",
    "plt.savefig(\"composition-Sn.pdf\", bbox_inches='tight')\n",
    "plt.show()"
   ]
  },
  {
   "cell_type": "markdown",
   "metadata": {},
   "source": [
    "# Begin Ti Figure NIST Library"
   ]
  },
  {
   "cell_type": "code",
   "execution_count": null,
   "metadata": {
    "collapsed": true
   },
   "outputs": [],
   "source": [
    "comp = dict()\n",
    "for lib_id,lib in libraries.items():\n",
    "    comp[lib_id] = [0.0] * len(lib['sample'])\n",
    "    for sample in lib['sample']:\n",
    "        s_id = sample['identifier'][1]['id'] -1\n",
    "        try: \n",
    "            z = sample['composition']['constituent'][2]['quantity']\n",
    "            comp[lib_id][s_id] = z\n",
    "        except:\n",
    "            pass"
   ]
  },
  {
   "cell_type": "code",
   "execution_count": null,
   "metadata": {},
   "outputs": [],
   "source": [
    "colors = 'krgb'\n",
    "font = {'size'   : 18}\n",
    "matplotlib.rc('font', **font)\n",
    "plt.figure(figsize=(10,10))\n",
    "i = 0\n",
    "lower_list = list()\n",
    "upper_list = list()\n",
    "for nist_id,nrel_id in library_pairs.items():\n",
    "    if '2016' in nist_id: continue\n",
    "    this_lower = min([min(comp[nrel_id]),min(comp[nist_id])])\n",
    "    this_upper = max([max(comp[nrel_id]),max(comp[nist_id])])\n",
    "    lower_list.append(this_lower)\n",
    "    upper_list.append(this_upper)\n",
    "    plt.scatter(comp[nrel_id],comp[nist_id],c=colors[i], label = nist_id.split('/')[1][0:-1])\n",
    "    i = i+1\n",
    "\n",
    "lower = min(lower_list)\n",
    "upper = max(upper_list)\n",
    "plt.plot([lower,upper],[lower,upper],'k--')\n",
    "plt.legend()\n",
    "plt.axes().set_aspect('equal')\n",
    "ax = plt.axes()\n",
    "plt.xlabel('NREL Ti (Amount of Substance Fraction)')\n",
    "plt.ylabel('NIST Ti (Amount of Substance Fraction)')\n",
    "plt.grid(True)\n",
    "plt.savefig(\"composition-Ti.pdf\", bbox_inches='tight')\n",
    "plt.show()"
   ]
  },
  {
   "cell_type": "code",
   "execution_count": null,
   "metadata": {
    "collapsed": true
   },
   "outputs": [],
   "source": []
  }
 ],
 "metadata": {
  "kernelspec": {
   "display_name": "Python 3",
   "language": "python",
   "name": "python3"
  },
  "language_info": {
   "codemirror_mode": {
    "name": "ipython",
    "version": 3
   },
   "file_extension": ".py",
   "mimetype": "text/x-python",
   "name": "python",
   "nbconvert_exporter": "python",
   "pygments_lexer": "ipython3",
   "version": "3.6.1"
  }
 },
 "nbformat": 4,
 "nbformat_minor": 2
}
