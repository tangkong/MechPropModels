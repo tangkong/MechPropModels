{
 "cells": [
  {
   "cell_type": "markdown",
   "metadata": {},
   "source": [
    "# Imports and Functions"
   ]
  },
  {
   "cell_type": "code",
   "execution_count": null,
   "metadata": {},
   "outputs": [],
   "source": [
    "import requests\n",
    "requests.packages.urllib3.disable_warnings()\n",
    "import json\n",
    "from collections import OrderedDict\n",
    "import matplotlib\n",
    "import matplotlib.pyplot as plt\n",
    "from ternarpy import *\n",
    "import pandas as pd\n",
    "import pprint\n",
    "import numpy\n",
    "from skbeam.core.fitting.background import snip_method\n",
    "from scipy import signal"
   ]
  },
  {
   "cell_type": "code",
   "execution_count": null,
   "metadata": {
    "collapsed": true
   },
   "outputs": [],
   "source": [
    "def check_response(r,quiet=False):\n",
    "    try:\n",
    "        r_content = r.json(object_pairs_hook=OrderedDict)\n",
    "    except:\n",
    "        r_content = r.text\n",
    "    if str(r.status_code)[0] is not \"2\":\n",
    "        if not quiet: print(\"Error: \",r.status_code) \n",
    "        if not quiet: print(r.text)\n",
    "    else:\n",
    "        return r_content"
   ]
  },
  {
   "cell_type": "code",
   "execution_count": null,
   "metadata": {
    "collapsed": true
   },
   "outputs": [],
   "source": [
    "def mdcs_query(host,query,format='json'):\n",
    "    url = host.strip(\"/\") + \"/rest/explore/query-by-example\"\n",
    "    data = dict()\n",
    "    data['query'] = query\n",
    "    data['dataformat'] = format\n",
    "    r = requests.post(url, data=data, verify=False) # This needs to be fixed\n",
    "    return check_response(r)"
   ]
  },
  {
   "cell_type": "markdown",
   "metadata": {},
   "source": [
    "# Get the data\n",
    "\n",
    "This may break in the future if future round robin datasets are added, which would require more specific queries."
   ]
  },
  {
   "cell_type": "code",
   "execution_count": null,
   "metadata": {
    "collapsed": true
   },
   "outputs": [],
   "source": [
    "host = \"https://hte.registry.nist.gov/\"\n",
    "query = '{\"content.library.keyword\":\"round robin\"}'\n",
    "query_response = mdcs_query(host,query)"
   ]
  },
  {
   "cell_type": "code",
   "execution_count": null,
   "metadata": {},
   "outputs": [],
   "source": [
    "libraries = dict()\n",
    "id_list = dict()\n",
    "id_list['s_nist_c_nist'] = list()\n",
    "id_list['s_nist_c_nrel'] = list()\n",
    "id_list['s_nrel_c_nist'] = list()\n",
    "id_list['s_nrel_c_nrel'] = list()\n",
    "flip = {'a':'b','b':'a'}\n",
    "library_pairs = dict()\n",
    "for record in query_response:\n",
    "    lib_id = record['content']['library']['identifier'][0]['id']\n",
    "    org = record['content']['library']['associated']['organization']['altName']\n",
    "    comment = record['content']['library']['comment']\n",
    "    libraries[lib_id] = record['content']['library']\n",
    "    if 'NIST' in comment:\n",
    "        nist_id = lib_id\n",
    "        end_char = nist_id[-1]\n",
    "        nrel_id = nist_id[0:-1]+flip[end_char]\n",
    "        library_pairs[nist_id] = nrel_id\n",
    "    \n",
    "    if 'NIST' in org and 'NIST' in comment:\n",
    "        id_list['s_nist_c_nist'].append(lib_id)\n",
    "    if 'NIST' in org and 'NREL' in comment:\n",
    "        id_list['s_nist_c_nrel'].append(lib_id)\n",
    "    if 'NREL' in org and 'NIST' in comment:\n",
    "        id_list['s_nrel_c_nist'].append(lib_id)\n",
    "    if 'NREL' in org and 'NREL' in comment:\n",
    "        id_list['s_nrel_c_nrel'].append(lib_id)\n",
    "\n",
    "print(id_list['s_nist_c_nist'])\n",
    "print(id_list['s_nist_c_nrel'])\n",
    "print(id_list['s_nrel_c_nist'])\n",
    "print(id_list['s_nrel_c_nrel'])\n",
    "\n",
    "print(library_pairs)"
   ]
  },
  {
   "cell_type": "code",
   "execution_count": null,
   "metadata": {},
   "outputs": [],
   "source": [
    "diffraction_data_records = dict()\n",
    "for lib_id,library in libraries.items():\n",
    "    # Note it is possible to get an access URL from the library record. \n",
    "    # However, by performing a query for diffraction data, we can reduce\n",
    "    # the number of requests from one per diffraction pattern to one\n",
    "    # per library.\n",
    "    query = '{\"content.library-xray-diffraction-measurement.sample.identifier.id\":\"'+lib_id+'\"}'\n",
    "    query_response = mdcs_query(host,query)\n",
    "    print(lib_id,len(query_response))\n",
    "    diffraction_data_records[lib_id] = list()\n",
    "    for record in query_response:\n",
    "        diffraction_data_records[lib_id].append(record['content']['library-xray-diffraction-measurement'])"
   ]
  },
  {
   "cell_type": "code",
   "execution_count": null,
   "metadata": {
    "collapsed": true
   },
   "outputs": [],
   "source": [
    "theta_min = 30.0\n",
    "theta_max = 40.0\n",
    "diffraction_spectra_bg_sub_x = dict()\n",
    "diffraction_spectra_bg_sub_y = dict()\n",
    "for lib_id,diffraction_records in diffraction_data_records.items():\n",
    "    diffraction_spectra_bg_sub_x[lib_id] = [None] * len(diffraction_records)\n",
    "    diffraction_spectra_bg_sub_y[lib_id] = [None] * len(diffraction_records)\n",
    "    for record in diffraction_records:\n",
    "        map_index = record['point']['identifier']['id']\n",
    "        n = map_index - 1\n",
    "        pattern = record['data']\n",
    "        x = numpy.array(pattern['angle-2-theta']['value'])\n",
    "        y = numpy.array(pattern['intensity']['value'])\n",
    "        condition = np.logical_and(x >= theta_min, x <= theta_max)\n",
    "        x_range = x[condition]\n",
    "        bg = snip_method(y,0.0,1.0,0.0,iter_num=20)\n",
    "        y_bg_sub = y - bg\n",
    "        y_range_bg_sub = y_bg_sub[condition]\n",
    "        y_norm = y_range_bg_sub/max(y_range_bg_sub)\n",
    "        diffraction_spectra_bg_sub_x[lib_id][n] = list(x_range)\n",
    "        diffraction_spectra_bg_sub_y[lib_id][n] = list(y_norm)"
   ]
  },
  {
   "cell_type": "code",
   "execution_count": null,
   "metadata": {},
   "outputs": [],
   "source": [
    "for lib_id in diffraction_spectra_bg_sub_x:\n",
    "    plt.figure(figsize=(10,10))\n",
    "    img = diffraction_spectra_bg_sub_y[lib_id]\n",
    "    map_id_l = 1\n",
    "    map_id_u = len(img)\n",
    "    theta_l = diffraction_spectra_bg_sub_x[lib_id][0][0]\n",
    "    theta_u = diffraction_spectra_bg_sub_x[lib_id][0][-1]\n",
    "\n",
    "    plt.imshow(img, cmap='coolwarm', interpolation='nearest', \n",
    "               aspect=(theta_u-theta_l)/(map_id_u-map_id_l),\n",
    "               extent=[theta_l,theta_u,map_id_l,map_id_u])\n",
    "    plt.xlabel('2θ (deg)')\n",
    "    plt.ylabel('Map Position')\n",
    "    plt.title(lib_id)\n",
    "    f_name = 'xrd-range-'+lib_id.replace('20.500.12048/','')+'.pdf'\n",
    "    plt.savefig(f_name, bbox_inches='tight')\n",
    "    plt.show()\n"
   ]
  },
  {
   "cell_type": "code",
   "execution_count": null,
   "metadata": {
    "collapsed": true
   },
   "outputs": [],
   "source": [
    "theta_width = 5.0\n",
    "primary_peak_data = dict()\n",
    "for lib_id in diffraction_spectra_bg_sub_x:\n",
    "    primary_peak_data[lib_id] = dict()\n",
    "    primary_peak_data[lib_id]['theta'] = list()\n",
    "    primary_peak_data[lib_id]['intensity'] = list()\n",
    "    for i,y in enumerate(diffraction_spectra_bg_sub_y[lib_id]):\n",
    "        x = numpy.array(diffraction_spectra_bg_sub_x[lib_id][i])\n",
    "        y = numpy.array(y)\n",
    "        dx = x[1]-x[0]\n",
    "        N_width = int(theta_width/dx)\n",
    "        peaks = signal.find_peaks_cwt(y,numpy.arange(1,N_width))\n",
    "        y_max = 0.0\n",
    "        primary_peak = None\n",
    "        for peak in peaks:\n",
    "            if y[peak] > y_max:\n",
    "                primary_peak = peak\n",
    "        primary_peak_theta = x[primary_peak]\n",
    "        primary_peak_intensity = y[primary_peak]\n",
    "        primary_peak_data[lib_id]['theta'].append(primary_peak_theta)\n",
    "        primary_peak_data[lib_id]['intensity'].append(primary_peak_intensity)"
   ]
  },
  {
   "cell_type": "code",
   "execution_count": null,
   "metadata": {},
   "outputs": [],
   "source": [
    "colors = 'krgb'\n",
    "font = {'size'   : 18}\n",
    "matplotlib.rc('font', **font)\n",
    "plt.figure(figsize=(10,10))\n",
    "i = 0\n",
    "for nist_id,nrel_id in library_pairs.items():\n",
    "    plt.scatter(\n",
    "        primary_peak_data[nrel_id]['theta'],\n",
    "        primary_peak_data[nist_id]['theta'],\n",
    "        c=colors[i], \n",
    "        label = nist_id.split('/')[1][0:-1])\n",
    "    i = i+1\n",
    "\n",
    "plt.plot([theta_min,theta_max],[theta_min,theta_max],'k--')\n",
    "plt.legend()\n",
    "plt.axes().set_aspect('equal')\n",
    "ax = plt.axes()\n",
    "\n",
    "plt.grid(True)\n",
    "plt.show()"
   ]
  },
  {
   "cell_type": "code",
   "execution_count": null,
   "metadata": {
    "collapsed": true
   },
   "outputs": [],
   "source": []
  }
 ],
 "metadata": {
  "kernelspec": {
   "display_name": "Python 3",
   "language": "python",
   "name": "python3"
  },
  "language_info": {
   "codemirror_mode": {
    "name": "ipython",
    "version": 3
   },
   "file_extension": ".py",
   "mimetype": "text/x-python",
   "name": "python",
   "nbconvert_exporter": "python",
   "pygments_lexer": "ipython3",
   "version": "3.6.1"
  }
 },
 "nbformat": 4,
 "nbformat_minor": 2
}
