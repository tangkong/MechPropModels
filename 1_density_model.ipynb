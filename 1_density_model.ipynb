{
 "cells": [
  {
   "cell_type": "code",
   "execution_count": 1,
   "metadata": {},
   "outputs": [],
   "source": [
    "%matplotlib inline\n",
    "from matplotlib import pyplot as plt\n",
    "from matminer.featurizers.base import MultipleFeaturizer, StackedFeaturizer\n",
    "from matminer.featurizers import composition as cf\n",
    "from sklearn.ensemble import RandomForestClassifier, RandomForestRegressor\n",
    "from sklearn.model_selection import GridSearchCV, ShuffleSplit, LeaveOneGroupOut, cross_val_score, learning_curve, KFold\n",
    "from sklearn.pipeline import Pipeline\n",
    "from sklearn.preprocessing import Imputer, LabelEncoder\n",
    "from sklearn.metrics import roc_curve, auc, r2_score, make_scorer, mean_absolute_error\n",
    "from sklearn.feature_selection import RFECV\n",
    "from sklearn import metrics\n",
    "from pymatgen import Composition\n",
    "import pickle as pkl\n",
    "import pandas as pd\n",
    "import numpy as np\n",
    "import gzip\n",
    "import os\n",
    "import re"
   ]
  },
  {
   "cell_type": "code",
   "execution_count": 2,
   "metadata": {},
   "outputs": [],
   "source": [
    "saveFigures=False"
   ]
  },
  {
   "cell_type": "code",
   "execution_count": 3,
   "metadata": {},
   "outputs": [],
   "source": [
    "def featCleanImpute(Y):\n",
    "    ''' Convert inf to NaN in feature array, in place\n",
    "    \n",
    "    Args: \n",
    "        Y, feature array, list of ndarray (#samples x #features)\n",
    "    Returns:\n",
    "        None\n",
    "    '''\n",
    "    # Clean inf values\n",
    "    for i in range(len(Y)):\n",
    "        for j in range(len(Y[i])):\n",
    "            if Y[i][j] == np.inf:\n",
    "                Y[i][j] = np.nan\n",
    "            else:\n",
    "                Y[i][j] = Y[i][j]\n",
    "                \n",
    "    # Impute nan values\n",
    "    imp = Imputer(missing_values='NaN', axis=0, strategy='mean', copy=False)\n",
    "    imp2 = Imputer(missing_values='NaN', axis=1, strategy='mean', copy=False)\n",
    "\n",
    "    imp.fit(Y)\n",
    "    imp.transform(Y)\n",
    "    imp2.fit(Y)\n",
    "    imp.transform(Y)\n",
    "    "
   ]
  },
  {
   "cell_type": "markdown",
   "metadata": {},
   "source": [
    "# Build Model: Density"
   ]
  },
  {
   "cell_type": "markdown",
   "metadata": {},
   "source": [
    "Import feature set, import data"
   ]
  },
  {
   "cell_type": "code",
   "execution_count": 4,
   "metadata": {},
   "outputs": [],
   "source": [
    "with gzip.open('./datasets/density_features.pkl.gz', 'rb') as fp:\n",
    "    X_dens = pkl.load(fp)\n",
    "with gzip.open('./datasets/density_data.pkl.gz', 'rb') as fd:\n",
    "    densityData = pkl.load(fd)"
   ]
  },
  {
   "cell_type": "code",
   "execution_count": 5,
   "metadata": {},
   "outputs": [],
   "source": [
    "density_model = Pipeline([('impute',Imputer()), \n",
    "                          ('model', RandomForestRegressor(n_estimators=100, n_jobs=1, max_features=12))])\n",
    "dens_featurizer = MultipleFeaturizer([cf.Stoichiometry(), cf.ElementProperty.from_preset(\"magpie\"),\n",
    "                                 cf.ValenceOrbital(props=['avg']), cf.IonProperty(fast=True),\n",
    "                                cf.YangSolidSolution(), cf.AtomicPackingEfficiency()])"
   ]
  },
  {
   "cell_type": "code",
   "execution_count": 6,
   "metadata": {},
   "outputs": [
    {
     "name": "stdout",
     "output_type": "stream",
     "text": [
      "Wall time: 374 ms\n"
     ]
    },
    {
     "data": {
      "text/plain": [
       "Pipeline(memory=None,\n",
       "     steps=[('impute', Imputer(axis=0, copy=True, missing_values='NaN', strategy='mean', verbose=0)), ('model', RandomForestRegressor(bootstrap=True, criterion='mse', max_depth=None,\n",
       "           max_features=12, max_leaf_nodes=None, min_impurity_decrease=0.0,\n",
       "           min_impurity_split=None, min_samples_leaf=1,\n",
       "           min_samples_split=2, min_weight_fraction_leaf=0.0,\n",
       "           n_estimators=100, n_jobs=1, oob_score=False, random_state=None,\n",
       "           verbose=0, warm_start=False))])"
      ]
     },
     "execution_count": 6,
     "metadata": {},
     "output_type": "execute_result"
    }
   ],
   "source": [
    "%%time\n",
    "density_model.fit(X_dens, y=densityData['density'])"
   ]
  },
  {
   "cell_type": "code",
   "execution_count": 7,
   "metadata": {},
   "outputs": [
    {
     "name": "stdout",
     "output_type": "stream",
     "text": [
      "(701, 152)\n",
      "152\n",
      "152\n"
     ]
    }
   ],
   "source": [
    "print(np.shape(X_dens))\n",
    "print(len(density_model.steps[1][1].feature_importances_))\n",
    "print(len(dens_featurizer.feature_labels()))"
   ]
  },
  {
   "cell_type": "code",
   "execution_count": 8,
   "metadata": {},
   "outputs": [],
   "source": [
    "# Look at feature importances when trained on the whole data set\n",
    "featureImp = pd.DataFrame(density_model.steps[1][1].feature_importances_,\n",
    "                          index=dens_featurizer.feature_labels(),\n",
    "                          columns=['importance']).sort_values('importance',ascending=False)\n",
    "# featureImp.to_csv(os.path.join(os.getcwd(),'results','defaultDensityModel_features.csv'))"
   ]
  },
  {
   "cell_type": "code",
   "execution_count": 9,
   "metadata": {},
   "outputs": [
    {
     "data": {
      "text/plain": [
       "importance    0.000937\n",
       "Name: Yang omega, dtype: float64"
      ]
     },
     "execution_count": 9,
     "metadata": {},
     "output_type": "execute_result"
    }
   ],
   "source": [
    "# Look at feature importances when trained on the whole data set\n",
    "featureImpUnsort = pd.DataFrame(density_model.steps[1][1].feature_importances_,\n",
    "                          index=dens_featurizer.feature_labels(),\n",
    "                          columns=['importance'])\n",
    "featureImpUnsort.iloc[-7]"
   ]
  },
  {
   "cell_type": "code",
   "execution_count": 10,
   "metadata": {},
   "outputs": [],
   "source": [
    "# make scorer for r2 metric\n",
    "r2_scorer = make_scorer(r2_score)"
   ]
  },
  {
   "cell_type": "code",
   "execution_count": 11,
   "metadata": {},
   "outputs": [
    {
     "data": {
      "text/plain": [
       "(701, 152)"
      ]
     },
     "execution_count": 11,
     "metadata": {},
     "output_type": "execute_result"
    }
   ],
   "source": [
    "np.shape(X_dens)"
   ]
  },
  {
   "cell_type": "code",
   "execution_count": 12,
   "metadata": {},
   "outputs": [],
   "source": [
    "# Look at feature correlations..\n",
    "X_densDF = pd.DataFrame(X_dens, columns=dens_featurizer.feature_labels())\n",
    "correlations = X_densDF.corr()  # Returns NaN if values do not vary at all..."
   ]
  },
  {
   "cell_type": "code",
   "execution_count": 13,
   "metadata": {},
   "outputs": [
    {
     "name": "stdout",
     "output_type": "stream",
     "text": [
      "[55, 60, 72, 84, 90, 102, 120, 125, 142]\n",
      "Index(['maximum NsValence', 'minimum NpValence', 'minimum NfValence',\n",
      "       'minimum NsUnfilled', 'minimum NpUnfilled', 'minimum NfUnfilled',\n",
      "       'minimum GSbandgap', 'mode GSbandgap', 'compound possible'],\n",
      "      dtype='object')\n"
     ]
    }
   ],
   "source": [
    "# find columns that do not vary\n",
    "invariants =[ i for i in range(152) if correlations.iloc[:, i].isnull().all() ]\n",
    "print(invariants)\n",
    "print(X_densDF.columns[invariants])"
   ]
  },
  {
   "cell_type": "code",
   "execution_count": 14,
   "metadata": {},
   "outputs": [
    {
     "data": {
      "text/plain": [
       "<matplotlib.colorbar.Colorbar at 0x1580a748>"
      ]
     },
     "execution_count": 14,
     "metadata": {},
     "output_type": "execute_result"
    },
    {
     "data": {
      "image/png": "[encoded data removed]",
      "text/plain": [
       "<matplotlib.figure.Figure at 0x13756978>"
      ]
     },
     "metadata": {},
     "output_type": "display_data"
    }
   ],
   "source": [
    "fig, ax = plt.subplots(figsize=(10,10))\n",
    "cax = ax.matshow(correlations, vmin=-1, vmax=1)\n",
    "fig.colorbar(cax)"
   ]
  },
  {
   "cell_type": "code",
   "execution_count": 15,
   "metadata": {},
   "outputs": [
    {
     "data": {
      "text/plain": [
       "(701, 2)"
      ]
     },
     "execution_count": 15,
     "metadata": {},
     "output_type": "execute_result"
    }
   ],
   "source": [
    "np.shape(densityData)"
   ]
  },
  {
   "cell_type": "code",
   "execution_count": 65,
   "metadata": {},
   "outputs": [
    {
     "data": {
      "text/plain": [
       "RFECV(cv=KFold(n_splits=5, random_state=None, shuffle=False),\n",
       "   estimator=RandomForestRegressor(bootstrap=True, criterion='mse', max_depth=None,\n",
       "           max_features='auto', max_leaf_nodes=None,\n",
       "           min_impurity_decrease=0.0, min_impurity_split=None,\n",
       "           min_samples_leaf=1, min_samples_split=2,\n",
       "           min_weight_fraction_leaf=0.0, n_estimators=100, n_jobs=1,\n",
       "           oob_score=False, random_state=None, verbose=0, warm_start=False),\n",
       "   n_jobs=1, scoring=make_scorer(r2_score), step=1, verbose=0)"
      ]
     },
     "execution_count": 65,
     "metadata": {},
     "output_type": "execute_result"
    }
   ],
   "source": [
    "%%time\n",
    "# Try recursive feature elimination\n",
    "RF = RandomForestRegressor(n_estimators=100, n_jobs=1)\n",
    "\n",
    "rfecv = RFECV(estimator=RF, step=2, cv=KFold(5),\n",
    "              scoring=r2_scorer)\n",
    "if False: # Takes forever\n",
    "    rfecv.fit(X_dens, densityData['density']) "
   ]
  },
  {
   "cell_type": "code",
   "execution_count": 69,
   "metadata": {},
   "outputs": [
    {
     "name": "stdout",
     "output_type": "stream",
     "text": [
      "Optimal number of features : 16\n"
     ]
    },
    {
     "data": {
      "text/plain": [
       "(0.75, 0.85)"
      ]
     },
     "execution_count": 69,
     "metadata": {},
     "output_type": "execute_result"
    },
    {
     "data": {
      "image/png": "[encoded data removed]",
      "text/plain": [
       "<matplotlib.figure.Figure at 0x16687c18>"
      ]
     },
     "metadata": {},
     "output_type": "display_data"
    }
   ],
   "source": [
    "print(\"Optimal number of features : %d\" % rfecv.n_features_)\n",
    "\n",
    "# Plot number of features VS. cross-validation scores\n",
    "plt.figure()\n",
    "plt.xlabel(\"Number of features selected\")\n",
    "plt.ylabel(\"Cross validation score (nb of correct classifications)\")\n",
    "plt.plot(range(1, len(rfecv.grid_scores_) + 1), rfecv.grid_scores_)\n",
    "plt.ylim([0.75, 0.85])"
   ]
  },
  {
   "cell_type": "markdown",
   "metadata": {},
   "source": [
    "# Generate learning curves, assess quality of model"
   ]
  },
  {
   "cell_type": "code",
   "execution_count": 11,
   "metadata": {},
   "outputs": [],
   "source": [
    "train_sizes, train_scores, valid_scores = learning_curve(density_model, X_dens, densityData['density'], cv=ShuffleSplit(),\n",
    "                                                          scoring=r2_scorer)"
   ]
  },
  {
   "cell_type": "code",
   "execution_count": 12,
   "metadata": {},
   "outputs": [
    {
     "data": {
      "image/png": "[encoded data removed]",
      "text/plain": [
       "<matplotlib.figure.Figure at 0x13aa7320>"
      ]
     },
     "metadata": {},
     "output_type": "display_data"
    }
   ],
   "source": [
    "plt.figure()\n",
    "plt.title('Learning Curve, RForest: std features, max 12 features/estimator')\n",
    "plt.xlabel(\"Training examples: density data, SLAC.  Errors omitted\")\n",
    "plt.ylabel(\"$r^2$\")\n",
    "train_scores_mean = np.mean(train_scores, axis=1)\n",
    "train_scores_std = np.std(train_scores, axis=1)\n",
    "test_scores_mean = np.mean(valid_scores, axis=1)\n",
    "test_scores_std = np.std(valid_scores, axis=1)\n",
    "plt.grid()\n",
    "\n",
    "plt.fill_between(train_sizes, train_scores_mean - train_scores_std,\n",
    "                 train_scores_mean + train_scores_std, alpha=0.1,\n",
    "                 color=\"r\")\n",
    "plt.fill_between(train_sizes, test_scores_mean - test_scores_std,\n",
    "                 test_scores_mean + test_scores_std, alpha=0.1, color=\"g\")\n",
    "plt.plot(train_sizes, train_scores_mean, 'o-', color=\"r\",\n",
    "         label=\"Training score\")\n",
    "plt.plot(train_sizes, test_scores_mean, 'o-', color=\"g\",\n",
    "         label=\"Cross-validation score\")\n",
    "\n",
    "plt.legend(loc=\"best\")\n",
    "plt.ylim([0.7, 1])\n",
    "\n",
    "if saveFigures:\n",
    "    plt.savefig(os.path.join(os.getcwd(), 'results', 'baseModel_densityPruned.png'))\n",
    "    print('figure saved')"
   ]
  },
  {
   "cell_type": "code",
   "execution_count": 13,
   "metadata": {},
   "outputs": [
    {
     "name": "stdout",
     "output_type": "stream",
     "text": [
      "Split #0\n",
      "Split #1\n",
      "Split #2\n",
      "Split #3\n",
      "Split #4\n"
     ]
    }
   ],
   "source": [
    "#take predicted values from each cross validation set to ensure training not performed on own set.  Take 200 training samples\n",
    "# Probably could have used cross_val_predict\n",
    "kf = KFold(5)\n",
    "rep=0\n",
    "densityData['density_predict'] = np.nan\n",
    "for train_index, test_index in kf.split(densityData['comp']):\n",
    "    print('Split #{}'.format(rep))\n",
    "    density_model.fit(X_dens[train_index,:], densityData['density'][train_index])\n",
    "    \n",
    "    y_densPredict = density_model.predict(X_dens[test_index,:])\n",
    "    densityData['density_predict'][test_index] = y_densPredict\n",
    "    \n",
    "    #print(train_index, test_index)\n",
    "    rep+=1\n",
    "#y_densPredict = "
   ]
  },
  {
   "cell_type": "code",
   "execution_count": 14,
   "metadata": {},
   "outputs": [
    {
     "data": {
      "image/png": "[encoded data removed]",
      "text/plain": [
       "<matplotlib.figure.Figure at 0x15b84128>"
      ]
     },
     "metadata": {},
     "output_type": "display_data"
    }
   ],
   "source": [
    "plt.figure(figsize=(5,5))\n",
    "plt.scatter(densityData['density'], densityData['density_predict'], edgecolors='k')\n",
    "plt.plot([0,30], [0,30], 'r-')\n",
    "plt.xlabel('density [g/cm$^3$]')\n",
    "plt.ylabel('predicted density')\n",
    "\n",
    "r2Std = r2_score(densityData['density'], densityData['density_predict'])\n",
    "plt.text(7,20, 'R$^2$ score: {:.3f}'.format(r2Std))\n",
    "plt.xlim([0,25])\n",
    "plt.ylim([0,25])\n",
    "plt.title('standard model: density')\n",
    "\n",
    "if saveFigures:\n",
    "    plt.savefig(os.path.join(os.getcwd(),'results','densityScatter.png'))\n",
    "    print('figure saved')"
   ]
  },
  {
   "cell_type": "markdown",
   "metadata": {},
   "source": [
    "Compare to Vegard's law, rule of mixtures"
   ]
  },
  {
   "cell_type": "code",
   "execution_count": 15,
   "metadata": {},
   "outputs": [],
   "source": [
    "elemProp = pd.read_excel('datasets/ElementalDensityIonizationTable.xlsx')\n",
    "elemDensity = elemProp[['symbol', 'density [g/cm3]']]\n",
    "\n",
    "def vegardsDensity(comp):\n",
    "    '''\n",
    "    input: Composition object\n",
    "    '''\n",
    "        \n",
    "    density=0\n",
    "    elemSet = set(comp.elements)\n",
    "    subscriptCnt = 0\n",
    "    \n",
    "    for elem in elemSet:\n",
    "        subscriptCnt += comp[elem]\n",
    "        try: \n",
    "            densityPart = comp[elem]*elemDensity[ elemDensity['symbol'] == str(elem)]['density [g/cm3]'].item()\n",
    "        except:\n",
    "            print('element {} not found?'.format(elem))\n",
    "            return 'error'\n",
    "            \n",
    "        density += densityPart\n",
    "        # print('element {} added density of {}: {}'.format(elem, densityPart, density))\n",
    "                \n",
    "    # print(subscriptCnt)\n",
    "    return density / subscriptCnt"
   ]
  },
  {
   "cell_type": "code",
   "execution_count": 16,
   "metadata": {},
   "outputs": [],
   "source": [
    "comp = Composition('Ag10Zn30')\n",
    "comp2 = Composition('Ca3Al4')"
   ]
  },
  {
   "cell_type": "code",
   "execution_count": 17,
   "metadata": {},
   "outputs": [],
   "source": [
    "densityData['density_vegards'] = np.nan\n",
    "densityData['density_vegards'] = [vegardsDensity(c) for c in densityData['comp']]"
   ]
  },
  {
   "cell_type": "code",
   "execution_count": 18,
   "metadata": {},
   "outputs": [
    {
     "name": "stdout",
     "output_type": "stream",
     "text": [
      "Vegards: 0.8614466511737545, Random Forest Regressor: 0.8389903621264675\n"
     ]
    }
   ],
   "source": [
    "#densityData['density_vegards'] = pd.Series([vegardsDensity(comp) for comp in densityData['comp']])\n",
    "r2Vegards = r2_score(densityData['density'],densityData['density_vegards'])\n",
    "r2RF = r2_score(densityData['density'], densityData['density_predict'])\n",
    "print('Vegards: {}, Random Forest Regressor: {}'.format(r2Vegards, r2RF))"
   ]
  },
  {
   "cell_type": "code",
   "execution_count": 19,
   "metadata": {},
   "outputs": [],
   "source": [
    "#densityData[densityData['density_vegards']=='error']"
   ]
  },
  {
   "cell_type": "code",
   "execution_count": 20,
   "metadata": {},
   "outputs": [
    {
     "data": {
      "image/png": "[encoded data removed]",
      "text/plain": [
       "<matplotlib.figure.Figure at 0x15cd9dd8>"
      ]
     },
     "metadata": {},
     "output_type": "display_data"
    }
   ],
   "source": [
    "plt.figure(figsize=(5,5))\n",
    "plt.scatter(densityData['density_vegards'], densityData['density_predict'], edgecolors='k')\n",
    "plt.plot([0,30], [0,30], 'r-')\n",
    "plt.xlabel('predicted density (vegards) [g/cm$^3$]')\n",
    "plt.ylabel('predicted density (ML)')\n",
    "\n",
    "plt.xlim([0,25])\n",
    "plt.ylim([0,25])\n",
    "\n",
    "if saveFigures:\n",
    "    plt.savefig(os.path.join(os.getcwd(),'results','densityVegards.png'))\n",
    "    print('figure saved')"
   ]
  },
  {
   "cell_type": "code",
   "execution_count": 21,
   "metadata": {},
   "outputs": [
    {
     "data": {
      "image/png": "[encoded data removed]",
      "text/plain": [
       "<matplotlib.figure.Figure at 0x15d38358>"
      ]
     },
     "metadata": {},
     "output_type": "display_data"
    }
   ],
   "source": [
    "plt.figure(figsize=(5,5))\n",
    "plt.scatter(densityData['density'], densityData['density_vegards'], edgecolors='k')\n",
    "plt.plot([0,30], [0,30], 'r-')\n",
    "plt.xlabel('density [g/cm$^3$]')\n",
    "plt.ylabel('predicted density (vegards)')\n",
    "plt.title('Vegards Law predictions')\n",
    "\n",
    "r2V = r2_score(densityData['density'], densityData['density_vegards'])\n",
    "plt.text(7,20, 'R$^2$ score: {:.3f}'.format(r2V))\n",
    "\n",
    "plt.xlim([0,25])\n",
    "plt.ylim([0,25])\n",
    "\n",
    "if saveFigures:\n",
    "    plt.savefig(os.path.join(os.getcwd(),'results','densityVegardsVsTruth.png'))\n",
    "    print('figure saved')"
   ]
  },
  {
   "cell_type": "markdown",
   "metadata": {},
   "source": [
    "# Alternate Feature Set, only mean from ElementProperty feature set"
   ]
  },
  {
   "cell_type": "code",
   "execution_count": 22,
   "metadata": {},
   "outputs": [],
   "source": [
    "densModel_meanOnly = Pipeline([('impute',Imputer()), \n",
    "                          ('model', RandomForestRegressor(n_estimators=100, n_jobs=1, max_features=12))])\n",
    "elemPropFeatures = [\"Number\", \"MendeleevNumber\", \"AtomicWeight\", \"MeltingT\",\n",
    "                        \"Column\", \"Row\", \"CovalentRadius\",\n",
    "                        \"Electronegativity\", \"NsValence\", \"NpValence\",\n",
    "                        \"NdValence\", \"NfValence\", \"NValence\",\n",
    "                        \"NsUnfilled\", \"NpUnfilled\", \"NdUnfilled\", \"NfUnfilled\",\n",
    "                        \"NUnfilled\", \"GSvolume_pa\",\n",
    "                        \"GSbandgap\", \"GSmagmom\", \"SpaceGroupNumber\"]\n",
    "\n",
    "densMean_featurizer = MultipleFeaturizer([cf.Stoichiometry(), \n",
    "                          cf.ElementProperty(data_source='magpie', features = elemPropFeatures,\n",
    "                                                    stats=['mean']),\n",
    "                                 cf.ValenceOrbital(props=['avg']), cf.IonProperty(fast=True),\n",
    "                                cf.YangSolidSolution(), cf.AtomicPackingEfficiency()])"
   ]
  },
  {
   "cell_type": "code",
   "execution_count": 23,
   "metadata": {},
   "outputs": [
    {
     "data": {
      "application/vnd.jupyter.widget-view+json": {
       "model_id": "34ed48e2340b43099b37a264bae4f5a6",
       "version_major": 2,
       "version_minor": 0
      },
      "text/plain": [
       "HBox(children=(IntProgress(value=0, description='MultipleFeaturizer', max=701), HTML(value='')))"
      ]
     },
     "metadata": {},
     "output_type": "display_data"
    },
    {
     "name": "stdout",
     "output_type": "stream",
     "text": [
      "\n",
      "Computed 42 features\n",
      "Wall time: 16min 56s\n"
     ]
    }
   ],
   "source": [
    "%%time\n",
    "if False: # don't auto run while re-initializing\n",
    "    X_meanDens = densMean_featurizer.featurize_many(densityData['comp'], ignore_errors=True)\n",
    "    X_meanDens = np.array(X_meanDens)\n",
    "    X_meanDens.astype(float)\n",
    "    print('Computed {} features'.format(X_meanDens.shape[1]))\n",
    "    \n",
    "    with gzip.open('./datasets/densMean_features.pkl.gz', 'wb') as fp:\n",
    "    pkl.dump(X_meanDens, fp)"
   ]
  },
  {
   "cell_type": "code",
   "execution_count": 25,
   "metadata": {},
   "outputs": [],
   "source": [
    "with gzip.open('./datasets/densMean_features.pkl.gz', 'rb') as fp:\n",
    "    X_meanDens = pkl.load(fp)"
   ]
  },
  {
   "cell_type": "code",
   "execution_count": 26,
   "metadata": {},
   "outputs": [
    {
     "name": "stdout",
     "output_type": "stream",
     "text": [
      "Wall time: 437 ms\n"
     ]
    },
    {
     "data": {
      "text/plain": [
       "Pipeline(memory=None,\n",
       "     steps=[('impute', Imputer(axis=0, copy=True, missing_values='NaN', strategy='mean', verbose=0)), ('model', RandomForestRegressor(bootstrap=True, criterion='mse', max_depth=None,\n",
       "           max_features=12, max_leaf_nodes=None, min_impurity_decrease=0.0,\n",
       "           min_impurity_split=None, min_samples_leaf=1,\n",
       "           min_samples_split=2, min_weight_fraction_leaf=0.0,\n",
       "           n_estimators=100, n_jobs=1, oob_score=False, random_state=None,\n",
       "           verbose=0, warm_start=False))])"
      ]
     },
     "execution_count": 26,
     "metadata": {},
     "output_type": "execute_result"
    }
   ],
   "source": [
    "%%time \n",
    "# Fit the model\n",
    "densModel_meanOnly.fit(X_meanDens, densityData['density'])"
   ]
  },
  {
   "cell_type": "code",
   "execution_count": 27,
   "metadata": {},
   "outputs": [
    {
     "name": "stdout",
     "output_type": "stream",
     "text": [
      "Split #0\n",
      "Split #1\n",
      "Split #2\n",
      "Split #3\n",
      "Split #4\n"
     ]
    }
   ],
   "source": [
    "#take predicted values from each cross validation set to ensure training not performed on own set.  Take 200 training samples\n",
    "# Probably could have used cross_val_predict\n",
    "kf = KFold(5)\n",
    "rep=0\n",
    "densityData['density_predict_meanOnly'] = np.nan\n",
    "for train_index, test_index in kf.split(densityData['comp']):\n",
    "    print('Split #{}'.format(rep))\n",
    "    density_model.fit(X_meanDens[train_index,:], densityData['density'][train_index])\n",
    "    \n",
    "    y_densPredict = density_model.predict(X_meanDens[test_index,:])\n",
    "    densityData['density_predict_meanOnly'][test_index] = y_densPredict\n",
    "    \n",
    "    #print(train_index, test_index)\n",
    "    rep+=1\n",
    "#y_densPredict = "
   ]
  },
  {
   "cell_type": "code",
   "execution_count": 28,
   "metadata": {},
   "outputs": [
    {
     "data": {
      "image/png": "[encoded data removed]",
      "text/plain": [
       "<matplotlib.figure.Figure at 0x15ecbf98>"
      ]
     },
     "metadata": {},
     "output_type": "display_data"
    }
   ],
   "source": [
    "# plot Comparison, report r2\n",
    "r2meanOnly = r2_score(densityData['density'], densityData['density_predict_meanOnly'])\n",
    "\n",
    "plt.figure(figsize=(5,5))\n",
    "plt.scatter(densityData['density'], densityData['density_predict_meanOnly'], edgecolors='k')\n",
    "plt.plot([0,30], [0,30], 'r-')\n",
    "plt.xlabel('density [g/cm$^3$]')\n",
    "plt.ylabel('predicted density, only mean ElementProperties')\n",
    "\n",
    "\n",
    "plt.text(7,20, 'R$^2$ score: {:.3f}'.format(r2meanOnly))\n",
    "plt.xlim([0,25])\n",
    "plt.ylim([0,25])\n",
    "plt.title('meanOnly model: density')\n",
    "\n",
    "if saveFigures:\n",
    "    plt.savefig(os.path.join(os.getcwd(),'results','densityScatter_meanOnly.png'))\n",
    "    print('figure saved')"
   ]
  },
  {
   "cell_type": "code",
   "execution_count": 29,
   "metadata": {},
   "outputs": [],
   "source": [
    "train_sizesMean, train_scoresMean, valid_scoresMean = learning_curve(densModel_meanOnly, X_meanDens, densityData['density'], cv=ShuffleSplit(),\n",
    "                                                          scoring=r2_scorer)"
   ]
  },
  {
   "cell_type": "code",
   "execution_count": 30,
   "metadata": {},
   "outputs": [
    {
     "data": {
      "image/png": "[encoded data removed]",
      "text/plain": [
       "<matplotlib.figure.Figure at 0x15d940f0>"
      ]
     },
     "metadata": {},
     "output_type": "display_data"
    }
   ],
   "source": [
    "plt.figure()\n",
    "plt.title('Learning Curve, RForest: only mean ElementProperties (42 features)')\n",
    "plt.xlabel(\"Training examples: density data, SLAC\")\n",
    "plt.ylabel(\"$r^2$\")\n",
    "train_scores_mean = np.mean(train_scoresMean, axis=1)\n",
    "train_scores_std = np.std(train_scoresMean, axis=1)\n",
    "test_scores_mean = np.mean(valid_scoresMean, axis=1)\n",
    "test_scores_std = np.std(valid_scoresMean, axis=1)\n",
    "plt.grid()\n",
    "\n",
    "plt.fill_between(train_sizesMean, train_scores_mean - train_scores_std,\n",
    "                 train_scores_mean + train_scores_std, alpha=0.1,\n",
    "                 color=\"r\")\n",
    "plt.fill_between(train_sizesMean, test_scores_mean - test_scores_std,\n",
    "                 test_scores_mean + test_scores_std, alpha=0.1, color=\"g\")\n",
    "plt.plot(train_sizesMean, train_scores_mean, 'o-', color=\"r\",\n",
    "         label=\"Training score\")\n",
    "plt.plot(train_sizesMean, test_scores_mean, 'o-', color=\"g\",\n",
    "         label=\"Cross-validation score\")\n",
    "\n",
    "plt.legend(loc=\"best\")\n",
    "plt.ylim([0.7, 1])\n",
    "\n",
    "if saveFigures:\n",
    "    plt.savefig(os.path.join(os.getcwd(), 'results', 'baseModel_densityMeanOnly.png'))"
   ]
  },
  {
   "cell_type": "markdown",
   "metadata": {},
   "source": [
    "# Investigating poorly performing predictions"
   ]
  },
  {
   "cell_type": "code",
   "execution_count": 31,
   "metadata": {},
   "outputs": [],
   "source": [
    "largeErrorDensity = densityData[ [ abs((x-y)/x) > 0.5 for x,y in zip(densityData['density'], densityData['density_predict']) ]]"
   ]
  },
  {
   "cell_type": "code",
   "execution_count": 32,
   "metadata": {},
   "outputs": [
    {
     "data": {
      "text/html": [
       "<div>\n",
       "<style scoped>\n",
       "    .dataframe tbody tr th:only-of-type {\n",
       "        vertical-align: middle;\n",
       "    }\n",
       "\n",
       "    .dataframe tbody tr th {\n",
       "        vertical-align: top;\n",
       "    }\n",
       "\n",
       "    .dataframe thead th {\n",
       "        text-align: right;\n",
       "    }\n",
       "</style>\n",
       "<table border=\"1\" class=\"dataframe\">\n",
       "  <thead>\n",
       "    <tr style=\"text-align: right;\">\n",
       "      <th></th>\n",
       "      <th>comp</th>\n",
       "      <th>density</th>\n",
       "      <th>density_predict</th>\n",
       "      <th>density_vegards</th>\n",
       "      <th>density_predict_meanOnly</th>\n",
       "    </tr>\n",
       "  </thead>\n",
       "  <tbody>\n",
       "    <tr>\n",
       "      <th>1</th>\n",
       "      <td>(Al, Fe, B)</td>\n",
       "      <td>3.539</td>\n",
       "      <td>5.961703</td>\n",
       "      <td>3.66200</td>\n",
       "      <td>4.867570</td>\n",
       "    </tr>\n",
       "    <tr>\n",
       "      <th>4</th>\n",
       "      <td>(Hf, Al, Ni)</td>\n",
       "      <td>2.835</td>\n",
       "      <td>5.590662</td>\n",
       "      <td>3.85050</td>\n",
       "      <td>4.072068</td>\n",
       "    </tr>\n",
       "    <tr>\n",
       "      <th>5</th>\n",
       "      <td>(Nb, Al, Ni)</td>\n",
       "      <td>3.449</td>\n",
       "      <td>5.207348</td>\n",
       "      <td>3.61350</td>\n",
       "      <td>4.091582</td>\n",
       "    </tr>\n",
       "    <tr>\n",
       "      <th>24</th>\n",
       "      <td>(Al, V, Fe)</td>\n",
       "      <td>2.884</td>\n",
       "      <td>4.858210</td>\n",
       "      <td>2.93980</td>\n",
       "      <td>3.824512</td>\n",
       "    </tr>\n",
       "    <tr>\n",
       "      <th>25</th>\n",
       "      <td>(Ti, Al, Fe)</td>\n",
       "      <td>2.87</td>\n",
       "      <td>4.432590</td>\n",
       "      <td>2.89540</td>\n",
       "      <td>3.816362</td>\n",
       "    </tr>\n",
       "    <tr>\n",
       "      <th>56</th>\n",
       "      <td>(Y, Mg, Zn, Cu)</td>\n",
       "      <td>2.47</td>\n",
       "      <td>3.963002</td>\n",
       "      <td>2.80927</td>\n",
       "      <td>3.737472</td>\n",
       "    </tr>\n",
       "    <tr>\n",
       "      <th>67</th>\n",
       "      <td>(Ca, Al)</td>\n",
       "      <td>1.738</td>\n",
       "      <td>3.074890</td>\n",
       "      <td>1.93640</td>\n",
       "      <td>3.020243</td>\n",
       "    </tr>\n",
       "    <tr>\n",
       "      <th>68</th>\n",
       "      <td>(Ca, Al, Ag)</td>\n",
       "      <td>2.197</td>\n",
       "      <td>3.504819</td>\n",
       "      <td>2.79000</td>\n",
       "      <td>3.286815</td>\n",
       "    </tr>\n",
       "    <tr>\n",
       "      <th>69</th>\n",
       "      <td>(Ca, Mg, Al)</td>\n",
       "      <td>1.736</td>\n",
       "      <td>2.836240</td>\n",
       "      <td>1.91400</td>\n",
       "      <td>2.850255</td>\n",
       "    </tr>\n",
       "    <tr>\n",
       "      <th>70</th>\n",
       "      <td>(Ca, Al, Zn)</td>\n",
       "      <td>2</td>\n",
       "      <td>3.038433</td>\n",
       "      <td>2.45300</td>\n",
       "      <td>3.078585</td>\n",
       "    </tr>\n",
       "    <tr>\n",
       "      <th>71</th>\n",
       "      <td>(Ca, Mg, Al, Cu)</td>\n",
       "      <td>1.871</td>\n",
       "      <td>2.939147</td>\n",
       "      <td>2.26725</td>\n",
       "      <td>3.042731</td>\n",
       "    </tr>\n",
       "    <tr>\n",
       "      <th>72</th>\n",
       "      <td>(Ca, Mg, Al, Ag)</td>\n",
       "      <td>1.97</td>\n",
       "      <td>3.165534</td>\n",
       "      <td>2.34425</td>\n",
       "      <td>2.968641</td>\n",
       "    </tr>\n",
       "    <tr>\n",
       "      <th>77</th>\n",
       "      <td>(Ca, Mg, Al)</td>\n",
       "      <td>1.648</td>\n",
       "      <td>2.740531</td>\n",
       "      <td>1.75100</td>\n",
       "      <td>2.867067</td>\n",
       "    </tr>\n",
       "    <tr>\n",
       "      <th>155</th>\n",
       "      <td>(Zr, Nb, Al, Cu, Ni)</td>\n",
       "      <td>6.758</td>\n",
       "      <td>11.899989</td>\n",
       "      <td>6.91044</td>\n",
       "      <td>12.484196</td>\n",
       "    </tr>\n",
       "    <tr>\n",
       "      <th>254</th>\n",
       "      <td>(Sr, Mg, Zn)</td>\n",
       "      <td>3.04</td>\n",
       "      <td>4.564716</td>\n",
       "      <td>3.40580</td>\n",
       "      <td>5.042422</td>\n",
       "    </tr>\n",
       "    <tr>\n",
       "      <th>255</th>\n",
       "      <td>(Sr, Li, Mg, Zn)</td>\n",
       "      <td>2.99</td>\n",
       "      <td>4.590946</td>\n",
       "      <td>3.23750</td>\n",
       "      <td>4.881676</td>\n",
       "    </tr>\n",
       "    <tr>\n",
       "      <th>257</th>\n",
       "      <td>(Sr, Mg, Zn, Cu)</td>\n",
       "      <td>3.04</td>\n",
       "      <td>4.586843</td>\n",
       "      <td>3.38950</td>\n",
       "      <td>4.851362</td>\n",
       "    </tr>\n",
       "    <tr>\n",
       "      <th>260</th>\n",
       "      <td>(Ca, Yb, Mg, Zn)</td>\n",
       "      <td>4.3</td>\n",
       "      <td>6.739901</td>\n",
       "      <td>4.76590</td>\n",
       "      <td>6.834698</td>\n",
       "    </tr>\n",
       "    <tr>\n",
       "      <th>458</th>\n",
       "      <td>(Zr, Nb, Al, Cu, Ni)</td>\n",
       "      <td>6.69</td>\n",
       "      <td>12.325799</td>\n",
       "      <td>6.91044</td>\n",
       "      <td>12.761966</td>\n",
       "    </tr>\n",
       "    <tr>\n",
       "      <th>606</th>\n",
       "      <td>(Zr, Nb, Al, Cu, Ni)</td>\n",
       "      <td>15.2</td>\n",
       "      <td>6.722799</td>\n",
       "      <td>6.91044</td>\n",
       "      <td>6.720879</td>\n",
       "    </tr>\n",
       "    <tr>\n",
       "      <th>607</th>\n",
       "      <td>(Zr, Nb, Al, Cu, Ni)</td>\n",
       "      <td>14.3</td>\n",
       "      <td>6.722799</td>\n",
       "      <td>6.91044</td>\n",
       "      <td>6.720879</td>\n",
       "    </tr>\n",
       "    <tr>\n",
       "      <th>608</th>\n",
       "      <td>(Zr, Nb, Al, Cu, Ni)</td>\n",
       "      <td>15.67</td>\n",
       "      <td>6.722799</td>\n",
       "      <td>6.91044</td>\n",
       "      <td>6.720879</td>\n",
       "    </tr>\n",
       "    <tr>\n",
       "      <th>609</th>\n",
       "      <td>(Zr, Nb, Al, Cu, Ni)</td>\n",
       "      <td>15.44</td>\n",
       "      <td>6.722799</td>\n",
       "      <td>6.91044</td>\n",
       "      <td>6.720879</td>\n",
       "    </tr>\n",
       "  </tbody>\n",
       "</table>\n",
       "</div>"
      ],
      "text/plain": [
       "                     comp density  density_predict  density_vegards  \\\n",
       "1             (Al, Fe, B)   3.539         5.961703          3.66200   \n",
       "4            (Hf, Al, Ni)   2.835         5.590662          3.85050   \n",
       "5            (Nb, Al, Ni)   3.449         5.207348          3.61350   \n",
       "24            (Al, V, Fe)   2.884         4.858210          2.93980   \n",
       "25           (Ti, Al, Fe)    2.87         4.432590          2.89540   \n",
       "56        (Y, Mg, Zn, Cu)    2.47         3.963002          2.80927   \n",
       "67               (Ca, Al)   1.738         3.074890          1.93640   \n",
       "68           (Ca, Al, Ag)   2.197         3.504819          2.79000   \n",
       "69           (Ca, Mg, Al)   1.736         2.836240          1.91400   \n",
       "70           (Ca, Al, Zn)       2         3.038433          2.45300   \n",
       "71       (Ca, Mg, Al, Cu)   1.871         2.939147          2.26725   \n",
       "72       (Ca, Mg, Al, Ag)    1.97         3.165534          2.34425   \n",
       "77           (Ca, Mg, Al)   1.648         2.740531          1.75100   \n",
       "155  (Zr, Nb, Al, Cu, Ni)   6.758        11.899989          6.91044   \n",
       "254          (Sr, Mg, Zn)    3.04         4.564716          3.40580   \n",
       "255      (Sr, Li, Mg, Zn)    2.99         4.590946          3.23750   \n",
       "257      (Sr, Mg, Zn, Cu)    3.04         4.586843          3.38950   \n",
       "260      (Ca, Yb, Mg, Zn)     4.3         6.739901          4.76590   \n",
       "458  (Zr, Nb, Al, Cu, Ni)    6.69        12.325799          6.91044   \n",
       "606  (Zr, Nb, Al, Cu, Ni)    15.2         6.722799          6.91044   \n",
       "607  (Zr, Nb, Al, Cu, Ni)    14.3         6.722799          6.91044   \n",
       "608  (Zr, Nb, Al, Cu, Ni)   15.67         6.722799          6.91044   \n",
       "609  (Zr, Nb, Al, Cu, Ni)   15.44         6.722799          6.91044   \n",
       "\n",
       "     density_predict_meanOnly  \n",
       "1                    4.867570  \n",
       "4                    4.072068  \n",
       "5                    4.091582  \n",
       "24                   3.824512  \n",
       "25                   3.816362  \n",
       "56                   3.737472  \n",
       "67                   3.020243  \n",
       "68                   3.286815  \n",
       "69                   2.850255  \n",
       "70                   3.078585  \n",
       "71                   3.042731  \n",
       "72                   2.968641  \n",
       "77                   2.867067  \n",
       "155                 12.484196  \n",
       "254                  5.042422  \n",
       "255                  4.881676  \n",
       "257                  4.851362  \n",
       "260                  6.834698  \n",
       "458                 12.761966  \n",
       "606                  6.720879  \n",
       "607                  6.720879  \n",
       "608                  6.720879  \n",
       "609                  6.720879  "
      ]
     },
     "execution_count": 32,
     "metadata": {},
     "output_type": "execute_result"
    }
   ],
   "source": [
    "largeErrorDensity"
   ]
  },
  {
   "cell_type": "code",
   "execution_count": 33,
   "metadata": {},
   "outputs": [
    {
     "name": "stdout",
     "output_type": "stream",
     "text": [
      "Al3 Fe1 B1\n",
      "Hf1 Al17 Ni2\n",
      "Nb1 Al17 Ni2\n",
      "Al47 V2 Fe1\n",
      "Ti5 Al93 Fe2\n",
      "Y4.7 Mg81 Zn5 Cu9.3\n",
      "Ca66.4 Al33.6\n",
      "Ca6 Al3 Ag1\n",
      "Ca6 Mg1 Al3\n",
      "Ca6 Al3 Zn1\n",
      "Ca56.5 Mg10 Al28.5 Cu5\n",
      "Ca56.5 Mg10 Al28.5 Ag5\n",
      "Ca14 Mg3 Al3\n",
      "Zr57 Nb5 Al10 Cu15.4 Ni12.6\n",
      "Sr30 Mg9 Zn11\n",
      "Sr12 Li1 Mg3 Zn4\n",
      "Sr12 Mg4 Zn3 Cu1\n",
      "Ca31 Yb18 Mg11 Zn40\n",
      "Zr57 Nb5 Al10 Cu15.4 Ni12.6\n",
      "Zr57 Nb5 Al10 Cu15.4 Ni12.6\n",
      "Zr57 Nb5 Al10 Cu15.4 Ni12.6\n",
      "Zr57 Nb5 Al10 Cu15.4 Ni12.6\n",
      "Zr57 Nb5 Al10 Cu15.4 Ni12.6\n"
     ]
    }
   ],
   "source": [
    "for comp in largeErrorDensity['comp']:\n",
    "    print(comp)"
   ]
  },
  {
   "cell_type": "markdown",
   "metadata": {},
   "source": [
    "# Try removing density-related features"
   ]
  },
  {
   "cell_type": "code",
   "execution_count": 34,
   "metadata": {},
   "outputs": [],
   "source": [
    "densModel_noVol = Pipeline([('impute',Imputer()), \n",
    "                          ('model', RandomForestRegressor(n_estimators=100, n_jobs=1, max_features=12))])\n",
    "elemPropFeatures2 = [\"Number\", \"MendeleevNumber\", \"AtomicWeight\", \"MeltingT\",\n",
    "                        \"Column\", \"Row\", #\"CovalentRadius\",\n",
    "                        \"Electronegativity\", \"NsValence\", \"NpValence\",\n",
    "                        \"NdValence\", \"NfValence\", \"NValence\",\n",
    "                        \"NsUnfilled\", \"NpUnfilled\", \"NdUnfilled\", \"NfUnfilled\",\n",
    "                        \"NUnfilled\", #\"GSvolume_pa\",\n",
    "                        \"GSbandgap\", \"GSmagmom\", \"SpaceGroupNumber\"]\n",
    "\n",
    "densMean_feat_noVol = MultipleFeaturizer([cf.Stoichiometry(), \n",
    "                          cf.ElementProperty(data_source='magpie', features = elemPropFeatures2,\n",
    "                                                    stats=['mean']),\n",
    "                                 cf.ValenceOrbital(props=['avg']), cf.IonProperty(fast=True),\n",
    "                                cf.YangSolidSolution(), cf.AtomicPackingEfficiency()])"
   ]
  },
  {
   "cell_type": "code",
   "execution_count": 35,
   "metadata": {},
   "outputs": [
    {
     "data": {
      "application/vnd.jupyter.widget-view+json": {
       "model_id": "3578d24c4d37493e87e532306c67a7e9",
       "version_major": 2,
       "version_minor": 0
      },
      "text/plain": [
       "HBox(children=(IntProgress(value=0, description='MultipleFeaturizer', max=701), HTML(value='')))"
      ]
     },
     "metadata": {},
     "output_type": "display_data"
    },
    {
     "name": "stdout",
     "output_type": "stream",
     "text": [
      "\n",
      "Computed 40 features\n",
      "Wall time: 17min 15s\n"
     ]
    }
   ],
   "source": [
    "%%time\n",
    "if False:\n",
    "    X_noVolDens = densMean_feat_noVol.featurize_many(densityData['comp'], ignore_errors=True)\n",
    "    X_noVolDens = np.array(X_noVolDens)\n",
    "    X_noVolDens.astype(float)\n",
    "    print('Computed {} features'.format(X_noVolDens.shape[1]))\n",
    "    \n",
    "    with gzip.open('./datasets/densNoVol_features.pkl.gz', 'wb') as fp:\n",
    "    pkl.dump(X_noVolDens, fp)"
   ]
  },
  {
   "cell_type": "code",
   "execution_count": null,
   "metadata": {},
   "outputs": [],
   "source": [
    "with gzip.open('./datasets/densNoVol_features.pkl.gz', 'rb') as fp:\n",
    "    X_noVolDens = pkl.load(fp)"
   ]
  },
  {
   "cell_type": "code",
   "execution_count": 80,
   "metadata": {},
   "outputs": [
    {
     "name": "stdout",
     "output_type": "stream",
     "text": [
      "Wall time: 452 ms\n"
     ]
    },
    {
     "data": {
      "text/plain": [
       "Pipeline(memory=None,\n",
       "     steps=[('impute', Imputer(axis=0, copy=True, missing_values='NaN', strategy='mean', verbose=0)), ('model', RandomForestRegressor(bootstrap=True, criterion='mse', max_depth=None,\n",
       "           max_features=12, max_leaf_nodes=None, min_impurity_decrease=0.0,\n",
       "           min_impurity_split=None, min_samples_leaf=1,\n",
       "           min_samples_split=2, min_weight_fraction_leaf=0.0,\n",
       "           n_estimators=100, n_jobs=1, oob_score=False, random_state=None,\n",
       "           verbose=0, warm_start=False))])"
      ]
     },
     "execution_count": 80,
     "metadata": {},
     "output_type": "execute_result"
    }
   ],
   "source": [
    "%%time \n",
    "# Fit the model\n",
    "densModel_noVol.fit(X_noVolDens, densityData['density'])"
   ]
  },
  {
   "cell_type": "code",
   "execution_count": 81,
   "metadata": {},
   "outputs": [
    {
     "name": "stdout",
     "output_type": "stream",
     "text": [
      "Split #0\n",
      "                        importance\n",
      "mean NValence             0.152423\n",
      "mean Electronegativity    0.105795\n",
      "mean Column               0.088238\n",
      "mean NUnfilled            0.082573\n",
      "mean NdValence            0.059823\n",
      "Split #1\n",
      "                        importance\n",
      "mean NValence             0.182039\n",
      "mean MeltingT             0.123288\n",
      "mean Number               0.117519\n",
      "mean Electronegativity    0.087840\n",
      "mean AtomicWeight         0.086393\n",
      "Split #2\n",
      "                         importance\n",
      "mean MeltingT              0.139149\n",
      "mean NValence              0.130277\n",
      "mean NdValence             0.105772\n",
      "mean Number                0.096380\n",
      "avg d valence electrons    0.081973\n",
      "Split #3\n",
      "                        importance\n",
      "mean NValence             0.170359\n",
      "mean AtomicWeight         0.143176\n",
      "mean Number               0.121652\n",
      "mean MeltingT             0.080153\n",
      "mean Electronegativity    0.062045\n",
      "Split #4\n",
      "                        importance\n",
      "mean NValence             0.235889\n",
      "mean MeltingT             0.116547\n",
      "mean Number               0.114939\n",
      "mean AtomicWeight         0.112533\n",
      "mean Electronegativity    0.051745\n"
     ]
    }
   ],
   "source": [
    "#take predicted values from each cross validation set to ensure training not performed on own set.  Take 200 training samples\n",
    "# Probably could have used cross_val_predict\n",
    "kf = KFold(5)\n",
    "rep=0\n",
    "densityData['density_predict_meanNoVol'] = np.nan\n",
    "for train_index, test_index in kf.split(densityData['comp']):\n",
    "    print('Split #{}'.format(rep))\n",
    "    densModel_noVol.fit(X_noVolDens[train_index,:], densityData['density'][train_index])\n",
    "    \n",
    "    y_densPredict = densModel_noVol.predict(X_noVolDens[test_index,:])\n",
    "    densityData['density_predict_meanNoVol'][test_index] = y_densPredict\n",
    "    \n",
    "    \n",
    "    featureImp = pd.DataFrame(densModel_noVol.steps[1][1].feature_importances_,\n",
    "                          index=densMean_feat_noVol.feature_labels(),\n",
    "                          columns=['importance']).sort_values('importance',ascending=False)\n",
    "    print(featureImp.head())\n",
    "    \n",
    "    \n",
    "    #print(train_index, test_index)\n",
    "    rep+=1\n",
    "#y_densPredict = "
   ]
  },
  {
   "cell_type": "code",
   "execution_count": 82,
   "metadata": {},
   "outputs": [
    {
     "data": {
      "image/png": "[encoded data removed]",
      "text/plain": [
       "<matplotlib.figure.Figure at 0x15ec9e80>"
      ]
     },
     "metadata": {},
     "output_type": "display_data"
    }
   ],
   "source": [
    "# plot Comparison, report r2\n",
    "r2meanNoVol = r2_score(densityData['density'], densityData['density_predict_meanNoVol'])\n",
    "\n",
    "plt.figure(figsize=(5,5))\n",
    "plt.scatter(densityData['density'], densityData['density_predict_meanNoVol'], edgecolors='k')\n",
    "plt.plot([0,30], [0,30], 'r-')\n",
    "plt.xlabel('density [g/cm$^3$]')\n",
    "plt.ylabel('predicted density, no volume feats, mean only')\n",
    "\n",
    "\n",
    "plt.text(7,20, 'R$^2$ score: {:.3f}'.format(r2meanNoVol))\n",
    "plt.xlim([0,25])\n",
    "plt.ylim([0,25])\n",
    "plt.title('meanOnly, no volume feature model: density')\n",
    "\n",
    "plt.savefig(os.path.join(os.getcwd(),'results','densityScatter_meanNoVol.png'))"
   ]
  },
  {
   "cell_type": "code",
   "execution_count": 83,
   "metadata": {},
   "outputs": [],
   "source": [
    "train_sizesNoVol, train_scoresNoVol, valid_scoresNoVol = learning_curve(densModel_noVol, X_noVolDens, densityData['density'], cv=ShuffleSplit(),\n",
    "                                                          scoring=r2_scorer)"
   ]
  },
  {
   "cell_type": "code",
   "execution_count": 84,
   "metadata": {},
   "outputs": [
    {
     "data": {
      "image/png": "[encoded data removed]",
      "text/plain": [
       "<matplotlib.figure.Figure at 0xe2bd390>"
      ]
     },
     "metadata": {},
     "output_type": "display_data"
    }
   ],
   "source": [
    "plt.figure()\n",
    "plt.title('Learning Curve, RForest: only mean elemProp, no volume feats (40 features)')\n",
    "plt.xlabel(\"Training examples: density data, SLAC\")\n",
    "plt.ylabel(\"$r^2$\")\n",
    "train_scores_mean = np.mean(train_scoresNoVol, axis=1)\n",
    "train_scores_std = np.std(train_scoresNoVol, axis=1)\n",
    "test_scores_mean = np.mean(valid_scoresNoVol, axis=1)\n",
    "test_scores_std = np.std(valid_scoresNoVol, axis=1)\n",
    "plt.grid()\n",
    "\n",
    "plt.fill_between(train_sizesNoVol, train_scores_mean - train_scores_std,\n",
    "                 train_scores_mean + train_scores_std, alpha=0.1,\n",
    "                 color=\"r\")\n",
    "plt.fill_between(train_sizesNoVol, test_scores_mean - test_scores_std,\n",
    "                 test_scores_mean + test_scores_std, alpha=0.1, color=\"g\")\n",
    "plt.plot(train_sizesNoVol, train_scores_mean, 'o-', color=\"r\",\n",
    "         label=\"Training score\")\n",
    "plt.plot(train_sizesNoVol, test_scores_mean, 'o-', color=\"g\",\n",
    "         label=\"Cross-validation score\")\n",
    "\n",
    "plt.legend(loc=\"best\")\n",
    "plt.ylim([0.7, 1])\n",
    "\n",
    "plt.savefig(os.path.join(os.getcwd(), 'results', 'baseModel_densityMeanNoVol.png'))"
   ]
  },
  {
   "cell_type": "markdown",
   "metadata": {},
   "source": [
    "# Train model on difference from Vegards Predictions"
   ]
  },
  {
   "cell_type": "code",
   "execution_count": 85,
   "metadata": {},
   "outputs": [],
   "source": [
    "densityData['vegards_diff'] = densityData['density'] - densityData['density_vegards']"
   ]
  },
  {
   "cell_type": "code",
   "execution_count": 86,
   "metadata": {},
   "outputs": [
    {
     "name": "stdout",
     "output_type": "stream",
     "text": [
      "mean difference: 0.161, variance 0.707\n",
      "max difference: 8.760, min difference -2.111\n"
     ]
    }
   ],
   "source": [
    "print('mean difference: {:.3f}, variance {:.3f}'.format(densityData['vegards_diff'].mean(), densityData['vegards_diff'].var()))\n",
    "print('max difference: {:.3f}, min difference {:.3f}'.format(densityData['vegards_diff'].max(), densityData['vegards_diff'].min()))"
   ]
  },
  {
   "cell_type": "code",
   "execution_count": 87,
   "metadata": {},
   "outputs": [],
   "source": [
    "densDiffModel = Pipeline([('impute',Imputer()), \n",
    "                          ('model', RandomForestRegressor(n_estimators=100, n_jobs=1, max_features=12))])"
   ]
  },
  {
   "cell_type": "code",
   "execution_count": 88,
   "metadata": {},
   "outputs": [
    {
     "name": "stdout",
     "output_type": "stream",
     "text": [
      "Wall time: 374 ms\n"
     ]
    },
    {
     "data": {
      "text/plain": [
       "Pipeline(memory=None,\n",
       "     steps=[('impute', Imputer(axis=0, copy=True, missing_values='NaN', strategy='mean', verbose=0)), ('model', RandomForestRegressor(bootstrap=True, criterion='mse', max_depth=None,\n",
       "           max_features=12, max_leaf_nodes=None, min_impurity_decrease=0.0,\n",
       "           min_impurity_split=None, min_samples_leaf=1,\n",
       "           min_samples_split=2, min_weight_fraction_leaf=0.0,\n",
       "           n_estimators=100, n_jobs=1, oob_score=False, random_state=None,\n",
       "           verbose=0, warm_start=False))])"
      ]
     },
     "execution_count": 88,
     "metadata": {},
     "output_type": "execute_result"
    }
   ],
   "source": [
    "%%time\n",
    "densDiffModel.fit(X_dens, densityData['vegards_diff'])"
   ]
  },
  {
   "cell_type": "code",
   "execution_count": 89,
   "metadata": {},
   "outputs": [
    {
     "data": {
      "text/html": [
       "<div>\n",
       "<style scoped>\n",
       "    .dataframe tbody tr th:only-of-type {\n",
       "        vertical-align: middle;\n",
       "    }\n",
       "\n",
       "    .dataframe tbody tr th {\n",
       "        vertical-align: top;\n",
       "    }\n",
       "\n",
       "    .dataframe thead th {\n",
       "        text-align: right;\n",
       "    }\n",
       "</style>\n",
       "<table border=\"1\" class=\"dataframe\">\n",
       "  <thead>\n",
       "    <tr style=\"text-align: right;\">\n",
       "      <th></th>\n",
       "      <th>importance</th>\n",
       "    </tr>\n",
       "  </thead>\n",
       "  <tbody>\n",
       "    <tr>\n",
       "      <th>avg ionic char</th>\n",
       "      <td>0.035268</td>\n",
       "    </tr>\n",
       "    <tr>\n",
       "      <th>mean MeltingT</th>\n",
       "      <td>0.029611</td>\n",
       "    </tr>\n",
       "    <tr>\n",
       "      <th>avg_dev NValence</th>\n",
       "      <td>0.026608</td>\n",
       "    </tr>\n",
       "    <tr>\n",
       "      <th>mean Electronegativity</th>\n",
       "      <td>0.023390</td>\n",
       "    </tr>\n",
       "    <tr>\n",
       "      <th>avg_dev Column</th>\n",
       "      <td>0.023176</td>\n",
       "    </tr>\n",
       "  </tbody>\n",
       "</table>\n",
       "</div>"
      ],
      "text/plain": [
       "                        importance\n",
       "avg ionic char            0.035268\n",
       "mean MeltingT             0.029611\n",
       "avg_dev NValence          0.026608\n",
       "mean Electronegativity    0.023390\n",
       "avg_dev Column            0.023176"
      ]
     },
     "execution_count": 89,
     "metadata": {},
     "output_type": "execute_result"
    }
   ],
   "source": [
    "# Look at feature importances when trained on the whole data set\n",
    "featureImp = pd.DataFrame(densDiffModel.steps[1][1].feature_importances_,\n",
    "                          index=dens_featurizer.feature_labels(),\n",
    "                          columns=['importance']).sort_values('importance',ascending=False)\n",
    "featureImp.head()\n",
    "# featureImp.to_csv(os.path.join(os.getcwd(),'results','defaultDensityModel_features.csv'))"
   ]
  },
  {
   "cell_type": "code",
   "execution_count": 90,
   "metadata": {},
   "outputs": [
    {
     "name": "stdout",
     "output_type": "stream",
     "text": [
      "Split #0\n",
      "prediction for trouble comp: [4.5519425]\n",
      "Split #1\n",
      "prediction for trouble comp: [5.20709701]\n",
      "Split #2\n",
      "prediction for trouble comp: [4.46903033]\n",
      "Split #3\n",
      "prediction for trouble comp: [5.27161027]\n",
      "Split #4\n",
      "prediction for trouble comp: [-0.1883346]\n"
     ]
    }
   ],
   "source": [
    "#take predicted values from each cross validation set to ensure training not performed on own set.  Take 200 training samples\n",
    "# Probably could have used cross_val_predict\n",
    "\n",
    "compTrouble = Composition('Zr57 Nb5 Al10 Cu15.4 Ni12.6')\n",
    "# Also probe interesting composition\n",
    "\n",
    "kf = KFold(5)\n",
    "rep=0\n",
    "densityData['diff_predict'] = np.nan\n",
    "for train_index, test_index in kf.split(densityData['comp']):\n",
    "    print('Split #{}'.format(rep))\n",
    "    densDiffModel.fit(X_dens[train_index,:], densityData['vegards_diff'][train_index])\n",
    "    \n",
    "    y_densPredict = densDiffModel.predict(X_dens[test_index,:])\n",
    "    densityData['diff_predict'][test_index] = y_densPredict\n",
    "    \n",
    "    troublePred = densDiffModel.predict(X_dens[615,:].reshape(1,-1))\n",
    "    \n",
    "    print('prediction for trouble comp: {}'.format(troublePred))\n",
    "    \n",
    "    #print(train_index, test_index)\n",
    "    rep+=1\n",
    "#y_densPredict = "
   ]
  },
  {
   "cell_type": "code",
   "execution_count": 91,
   "metadata": {},
   "outputs": [
    {
     "data": {
      "image/png": "[encoded data removed]",
      "text/plain": [
       "<matplotlib.figure.Figure at 0xe2bd2e8>"
      ]
     },
     "metadata": {},
     "output_type": "display_data"
    }
   ],
   "source": [
    "plt.figure(figsize=(5,5))\n",
    "plt.scatter(densityData['vegards_diff'], densityData['diff_predict'], edgecolors='k')\n",
    "plt.plot([-10, 10], [-10, 10], 'r-')\n",
    "plt.xlabel(\"deviation from Vegard's Law [g/cm$^3$]\")\n",
    "plt.ylabel('predicted difference')\n",
    "plt.title(\"Vegard's difference model, all features\")\n",
    "\n",
    "r2V = r2_score(densityData['vegards_diff'], densityData['diff_predict'])\n",
    "plt.text(2,8, 'R$^2$ score: {:.3f}'.format(r2V))\n",
    "\n",
    "plt.xlim([-5,12])\n",
    "plt.ylim([-5,12])\n",
    "\n",
    "plt.savefig(os.path.join(os.getcwd(),'results','diffScatter_allFeats.png'))"
   ]
  },
  {
   "cell_type": "code",
   "execution_count": 92,
   "metadata": {},
   "outputs": [
    {
     "data": {
      "text/html": [
       "<div>\n",
       "<style scoped>\n",
       "    .dataframe tbody tr th:only-of-type {\n",
       "        vertical-align: middle;\n",
       "    }\n",
       "\n",
       "    .dataframe tbody tr th {\n",
       "        vertical-align: top;\n",
       "    }\n",
       "\n",
       "    .dataframe thead th {\n",
       "        text-align: right;\n",
       "    }\n",
       "</style>\n",
       "<table border=\"1\" class=\"dataframe\">\n",
       "  <thead>\n",
       "    <tr style=\"text-align: right;\">\n",
       "      <th></th>\n",
       "      <th>comp</th>\n",
       "      <th>density</th>\n",
       "      <th>density_predict</th>\n",
       "      <th>density_vegards</th>\n",
       "      <th>density_predict_meanOnly</th>\n",
       "      <th>density_predict_meanNoVol</th>\n",
       "      <th>vegards_diff</th>\n",
       "      <th>diff_predict</th>\n",
       "    </tr>\n",
       "  </thead>\n",
       "  <tbody>\n",
       "    <tr>\n",
       "      <th>606</th>\n",
       "      <td>(Zr, Nb, Al, Cu, Ni)</td>\n",
       "      <td>15.2</td>\n",
       "      <td>6.722799</td>\n",
       "      <td>6.91044</td>\n",
       "      <td>6.720879</td>\n",
       "      <td>6.721702</td>\n",
       "      <td>8.28956</td>\n",
       "      <td>-0.188335</td>\n",
       "    </tr>\n",
       "    <tr>\n",
       "      <th>607</th>\n",
       "      <td>(Zr, Nb, Al, Cu, Ni)</td>\n",
       "      <td>14.3</td>\n",
       "      <td>6.722799</td>\n",
       "      <td>6.91044</td>\n",
       "      <td>6.720879</td>\n",
       "      <td>6.721702</td>\n",
       "      <td>7.38956</td>\n",
       "      <td>-0.188335</td>\n",
       "    </tr>\n",
       "    <tr>\n",
       "      <th>608</th>\n",
       "      <td>(Zr, Nb, Al, Cu, Ni)</td>\n",
       "      <td>15.67</td>\n",
       "      <td>6.722799</td>\n",
       "      <td>6.91044</td>\n",
       "      <td>6.720879</td>\n",
       "      <td>6.721702</td>\n",
       "      <td>8.75956</td>\n",
       "      <td>-0.188335</td>\n",
       "    </tr>\n",
       "    <tr>\n",
       "      <th>609</th>\n",
       "      <td>(Zr, Nb, Al, Cu, Ni)</td>\n",
       "      <td>15.44</td>\n",
       "      <td>6.722799</td>\n",
       "      <td>6.91044</td>\n",
       "      <td>6.720879</td>\n",
       "      <td>6.721702</td>\n",
       "      <td>8.52956</td>\n",
       "      <td>-0.188335</td>\n",
       "    </tr>\n",
       "  </tbody>\n",
       "</table>\n",
       "</div>"
      ],
      "text/plain": [
       "                     comp density  density_predict  density_vegards  \\\n",
       "606  (Zr, Nb, Al, Cu, Ni)    15.2         6.722799          6.91044   \n",
       "607  (Zr, Nb, Al, Cu, Ni)    14.3         6.722799          6.91044   \n",
       "608  (Zr, Nb, Al, Cu, Ni)   15.67         6.722799          6.91044   \n",
       "609  (Zr, Nb, Al, Cu, Ni)   15.44         6.722799          6.91044   \n",
       "\n",
       "     density_predict_meanOnly  density_predict_meanNoVol vegards_diff  \\\n",
       "606                  6.720879                   6.721702      8.28956   \n",
       "607                  6.720879                   6.721702      7.38956   \n",
       "608                  6.720879                   6.721702      8.75956   \n",
       "609                  6.720879                   6.721702      8.52956   \n",
       "\n",
       "     diff_predict  \n",
       "606     -0.188335  \n",
       "607     -0.188335  \n",
       "608     -0.188335  \n",
       "609     -0.188335  "
      ]
     },
     "execution_count": 92,
     "metadata": {},
     "output_type": "execute_result"
    }
   ],
   "source": [
    "densityData[ abs(densityData['vegards_diff']) > 5]"
   ]
  },
  {
   "cell_type": "code",
   "execution_count": 93,
   "metadata": {},
   "outputs": [
    {
     "data": {
      "text/html": [
       "<div>\n",
       "<style scoped>\n",
       "    .dataframe tbody tr th:only-of-type {\n",
       "        vertical-align: middle;\n",
       "    }\n",
       "\n",
       "    .dataframe tbody tr th {\n",
       "        vertical-align: top;\n",
       "    }\n",
       "\n",
       "    .dataframe thead th {\n",
       "        text-align: right;\n",
       "    }\n",
       "</style>\n",
       "<table border=\"1\" class=\"dataframe\">\n",
       "  <thead>\n",
       "    <tr style=\"text-align: right;\">\n",
       "      <th></th>\n",
       "      <th>comp</th>\n",
       "      <th>density</th>\n",
       "      <th>density_predict</th>\n",
       "      <th>density_vegards</th>\n",
       "      <th>density_predict_meanOnly</th>\n",
       "      <th>density_predict_meanNoVol</th>\n",
       "      <th>vegards_diff</th>\n",
       "      <th>diff_predict</th>\n",
       "    </tr>\n",
       "  </thead>\n",
       "  <tbody>\n",
       "    <tr>\n",
       "      <th>155</th>\n",
       "      <td>(Zr, Nb, Al, Cu, Ni)</td>\n",
       "      <td>6.758</td>\n",
       "      <td>11.899989</td>\n",
       "      <td>6.91044</td>\n",
       "      <td>12.484196</td>\n",
       "      <td>12.307016</td>\n",
       "      <td>-0.15244</td>\n",
       "      <td>5.207097</td>\n",
       "    </tr>\n",
       "    <tr>\n",
       "      <th>458</th>\n",
       "      <td>(Zr, Nb, Al, Cu, Ni)</td>\n",
       "      <td>6.69</td>\n",
       "      <td>12.325799</td>\n",
       "      <td>6.91044</td>\n",
       "      <td>12.761966</td>\n",
       "      <td>12.440986</td>\n",
       "      <td>-0.22044</td>\n",
       "      <td>5.271610</td>\n",
       "    </tr>\n",
       "    <tr>\n",
       "      <th>606</th>\n",
       "      <td>(Zr, Nb, Al, Cu, Ni)</td>\n",
       "      <td>15.2</td>\n",
       "      <td>6.722799</td>\n",
       "      <td>6.91044</td>\n",
       "      <td>6.720879</td>\n",
       "      <td>6.721702</td>\n",
       "      <td>8.28956</td>\n",
       "      <td>-0.188335</td>\n",
       "    </tr>\n",
       "    <tr>\n",
       "      <th>607</th>\n",
       "      <td>(Zr, Nb, Al, Cu, Ni)</td>\n",
       "      <td>14.3</td>\n",
       "      <td>6.722799</td>\n",
       "      <td>6.91044</td>\n",
       "      <td>6.720879</td>\n",
       "      <td>6.721702</td>\n",
       "      <td>7.38956</td>\n",
       "      <td>-0.188335</td>\n",
       "    </tr>\n",
       "    <tr>\n",
       "      <th>608</th>\n",
       "      <td>(Zr, Nb, Al, Cu, Ni)</td>\n",
       "      <td>15.67</td>\n",
       "      <td>6.722799</td>\n",
       "      <td>6.91044</td>\n",
       "      <td>6.720879</td>\n",
       "      <td>6.721702</td>\n",
       "      <td>8.75956</td>\n",
       "      <td>-0.188335</td>\n",
       "    </tr>\n",
       "    <tr>\n",
       "      <th>609</th>\n",
       "      <td>(Zr, Nb, Al, Cu, Ni)</td>\n",
       "      <td>15.44</td>\n",
       "      <td>6.722799</td>\n",
       "      <td>6.91044</td>\n",
       "      <td>6.720879</td>\n",
       "      <td>6.721702</td>\n",
       "      <td>8.52956</td>\n",
       "      <td>-0.188335</td>\n",
       "    </tr>\n",
       "    <tr>\n",
       "      <th>615</th>\n",
       "      <td>(Zr, Nb, Al, Cu, Ni)</td>\n",
       "      <td>6.68</td>\n",
       "      <td>6.722799</td>\n",
       "      <td>6.91044</td>\n",
       "      <td>6.720879</td>\n",
       "      <td>6.721702</td>\n",
       "      <td>-0.23044</td>\n",
       "      <td>-0.188335</td>\n",
       "    </tr>\n",
       "  </tbody>\n",
       "</table>\n",
       "</div>"
      ],
      "text/plain": [
       "                     comp density  density_predict  density_vegards  \\\n",
       "155  (Zr, Nb, Al, Cu, Ni)   6.758        11.899989          6.91044   \n",
       "458  (Zr, Nb, Al, Cu, Ni)    6.69        12.325799          6.91044   \n",
       "606  (Zr, Nb, Al, Cu, Ni)    15.2         6.722799          6.91044   \n",
       "607  (Zr, Nb, Al, Cu, Ni)    14.3         6.722799          6.91044   \n",
       "608  (Zr, Nb, Al, Cu, Ni)   15.67         6.722799          6.91044   \n",
       "609  (Zr, Nb, Al, Cu, Ni)   15.44         6.722799          6.91044   \n",
       "615  (Zr, Nb, Al, Cu, Ni)    6.68         6.722799          6.91044   \n",
       "\n",
       "     density_predict_meanOnly  density_predict_meanNoVol vegards_diff  \\\n",
       "155                 12.484196                  12.307016     -0.15244   \n",
       "458                 12.761966                  12.440986     -0.22044   \n",
       "606                  6.720879                   6.721702      8.28956   \n",
       "607                  6.720879                   6.721702      7.38956   \n",
       "608                  6.720879                   6.721702      8.75956   \n",
       "609                  6.720879                   6.721702      8.52956   \n",
       "615                  6.720879                   6.721702     -0.23044   \n",
       "\n",
       "     diff_predict  \n",
       "155      5.207097  \n",
       "458      5.271610  \n",
       "606     -0.188335  \n",
       "607     -0.188335  \n",
       "608     -0.188335  \n",
       "609     -0.188335  \n",
       "615     -0.188335  "
      ]
     },
     "execution_count": 93,
     "metadata": {},
     "output_type": "execute_result"
    }
   ],
   "source": [
    "compTrouble = Composition('Zr57 Nb5 Al10 Cu15.4 Ni12.6')\n",
    "densityData[ [compTrouble.almost_equals(c) for c in densityData['comp']] ]"
   ]
  },
  {
   "cell_type": "code",
   "execution_count": 94,
   "metadata": {},
   "outputs": [
    {
     "data": {
      "text/plain": [
       "(152,)"
      ]
     },
     "execution_count": 94,
     "metadata": {},
     "output_type": "execute_result"
    }
   ],
   "source": [
    "x_trouble = dens_featurizer.featurize(compTrouble)\n",
    "np.shape(x_trouble)"
   ]
  },
  {
   "cell_type": "code",
   "execution_count": 95,
   "metadata": {},
   "outputs": [
    {
     "data": {
      "text/plain": [
       "array([-0.1883346])"
      ]
     },
     "execution_count": 95,
     "metadata": {},
     "output_type": "execute_result"
    }
   ],
   "source": [
    "densDiffModel.predict(X_dens[615,:].reshape(1,-1))"
   ]
  },
  {
   "cell_type": "markdown",
   "metadata": {},
   "source": [
    "...Why does this happen?  For the same composition one should get the same features, yet the predicted density varies.  This is also true for the previous predictions.  \n",
    "\n",
    "Should probably depend on the specific split used to train the model"
   ]
  },
  {
   "cell_type": "code",
   "execution_count": 96,
   "metadata": {},
   "outputs": [
    {
     "data": {
      "text/plain": [
       "True"
      ]
     },
     "execution_count": 96,
     "metadata": {},
     "output_type": "execute_result"
    }
   ],
   "source": [
    "compTrouble.almost_equals(densityData.loc[606]['comp'])"
   ]
  },
  {
   "cell_type": "code",
   "execution_count": 97,
   "metadata": {},
   "outputs": [
    {
     "data": {
      "text/html": [
       "<div>\n",
       "<style scoped>\n",
       "    .dataframe tbody tr th:only-of-type {\n",
       "        vertical-align: middle;\n",
       "    }\n",
       "\n",
       "    .dataframe tbody tr th {\n",
       "        vertical-align: top;\n",
       "    }\n",
       "\n",
       "    .dataframe thead th {\n",
       "        text-align: right;\n",
       "    }\n",
       "</style>\n",
       "<table border=\"1\" class=\"dataframe\">\n",
       "  <thead>\n",
       "    <tr style=\"text-align: right;\">\n",
       "      <th></th>\n",
       "      <th>comp</th>\n",
       "      <th>density</th>\n",
       "      <th>density_predict</th>\n",
       "      <th>density_vegards</th>\n",
       "      <th>density_predict_meanOnly</th>\n",
       "      <th>density_predict_meanNoVol</th>\n",
       "      <th>vegards_diff</th>\n",
       "      <th>diff_predict</th>\n",
       "    </tr>\n",
       "  </thead>\n",
       "  <tbody>\n",
       "    <tr>\n",
       "      <th>0</th>\n",
       "      <td>(Ce, Al)</td>\n",
       "      <td>3.462</td>\n",
       "      <td>3.967243</td>\n",
       "      <td>3.1070</td>\n",
       "      <td>3.811169</td>\n",
       "      <td>3.761203</td>\n",
       "      <td>0.355</td>\n",
       "      <td>0.307466</td>\n",
       "    </tr>\n",
       "    <tr>\n",
       "      <th>1</th>\n",
       "      <td>(Al, Fe, B)</td>\n",
       "      <td>3.539</td>\n",
       "      <td>5.961703</td>\n",
       "      <td>3.6620</td>\n",
       "      <td>4.867570</td>\n",
       "      <td>4.972765</td>\n",
       "      <td>-0.123</td>\n",
       "      <td>0.558711</td>\n",
       "    </tr>\n",
       "    <tr>\n",
       "      <th>2</th>\n",
       "      <td>(Zr, Al, Ni)</td>\n",
       "      <td>3.384</td>\n",
       "      <td>4.085152</td>\n",
       "      <td>3.5105</td>\n",
       "      <td>4.019465</td>\n",
       "      <td>3.682056</td>\n",
       "      <td>-0.1265</td>\n",
       "      <td>0.156822</td>\n",
       "    </tr>\n",
       "    <tr>\n",
       "      <th>3</th>\n",
       "      <td>(Zr, Al, Ni)</td>\n",
       "      <td>3.517</td>\n",
       "      <td>4.240630</td>\n",
       "      <td>3.6965</td>\n",
       "      <td>4.205598</td>\n",
       "      <td>3.927851</td>\n",
       "      <td>-0.1795</td>\n",
       "      <td>0.129934</td>\n",
       "    </tr>\n",
       "    <tr>\n",
       "      <th>4</th>\n",
       "      <td>(Hf, Al, Ni)</td>\n",
       "      <td>2.835</td>\n",
       "      <td>5.590662</td>\n",
       "      <td>3.8505</td>\n",
       "      <td>4.072068</td>\n",
       "      <td>3.887592</td>\n",
       "      <td>-1.0155</td>\n",
       "      <td>0.279791</td>\n",
       "    </tr>\n",
       "  </tbody>\n",
       "</table>\n",
       "</div>"
      ],
      "text/plain": [
       "           comp density  density_predict  density_vegards  \\\n",
       "0      (Ce, Al)   3.462         3.967243           3.1070   \n",
       "1   (Al, Fe, B)   3.539         5.961703           3.6620   \n",
       "2  (Zr, Al, Ni)   3.384         4.085152           3.5105   \n",
       "3  (Zr, Al, Ni)   3.517         4.240630           3.6965   \n",
       "4  (Hf, Al, Ni)   2.835         5.590662           3.8505   \n",
       "\n",
       "   density_predict_meanOnly  density_predict_meanNoVol vegards_diff  \\\n",
       "0                  3.811169                   3.761203        0.355   \n",
       "1                  4.867570                   4.972765       -0.123   \n",
       "2                  4.019465                   3.682056      -0.1265   \n",
       "3                  4.205598                   3.927851      -0.1795   \n",
       "4                  4.072068                   3.887592      -1.0155   \n",
       "\n",
       "   diff_predict  \n",
       "0      0.307466  \n",
       "1      0.558711  \n",
       "2      0.156822  \n",
       "3      0.129934  \n",
       "4      0.279791  "
      ]
     },
     "execution_count": 97,
     "metadata": {},
     "output_type": "execute_result"
    }
   ],
   "source": [
    "densityData.head()"
   ]
  },
  {
   "cell_type": "code",
   "execution_count": 98,
   "metadata": {},
   "outputs": [
    {
     "name": "stdout",
     "output_type": "stream",
     "text": [
      "Deviation Prediction, r2 sans outliers: 0.4843386868661409\n"
     ]
    }
   ],
   "source": [
    "#  Examine performance without outliers (trouble compositions)\n",
    "notTroubleDF = densityData[ [not compTrouble.almost_equals(c) for c in densityData['comp']] ]\n",
    "notTroubleDF.reset_index(inplace=True, drop=True)\n",
    "print('Deviation Prediction, r2 sans outliers: {}'.format(r2_score(notTroubleDF['vegards_diff'], notTroubleDF['diff_predict'])))"
   ]
  },
  {
   "cell_type": "code",
   "execution_count": 99,
   "metadata": {},
   "outputs": [
    {
     "name": "stdout",
     "output_type": "stream",
     "text": [
      "Density Prediction, r2 sans outliers: 0.9086074867498517\n"
     ]
    }
   ],
   "source": [
    "#  Examine performance without outliers in normal model\n",
    "print('Density Prediction, r2 sans outliers: {}'.format(r2_score(notTroubleDF['density_predict'], notTroubleDF['density'])))"
   ]
  },
  {
   "cell_type": "markdown",
   "metadata": {},
   "source": [
    "Make sure is true\n",
    "\n",
    "See if there's any learning at all \n",
    "\n",
    "Everything else must be process dependant, experimental, bad data, etc"
   ]
  },
  {
   "cell_type": "code",
   "execution_count": 100,
   "metadata": {},
   "outputs": [],
   "source": [
    "X_notTrouble = X_dens[ [not compTrouble.almost_equals(c) for c in densityData['comp']] ]"
   ]
  },
  {
   "cell_type": "code",
   "execution_count": 101,
   "metadata": {},
   "outputs": [
    {
     "name": "stdout",
     "output_type": "stream",
     "text": [
      "Split #0\n",
      "                        importance\n",
      "mean Electronegativity    0.065685\n",
      "mode Number               0.060162\n",
      "mean NValence             0.052179\n",
      "mode NValence             0.049069\n",
      "mode Column               0.037593\n",
      "Split #1\n",
      "                   importance\n",
      "mean NValence        0.067496\n",
      "mode Number          0.064752\n",
      "mode AtomicWeight    0.064232\n",
      "mean MeltingT        0.046130\n",
      "mean AtomicWeight    0.041483\n",
      "Split #2\n",
      "                importance\n",
      "mode Number       0.066134\n",
      "mean NdValence    0.055200\n",
      "mean NValence     0.051233\n",
      "mode MeltingT     0.048094\n",
      "mean MeltingT     0.047988\n",
      "Split #3\n",
      "                   importance\n",
      "mean Number          0.073356\n",
      "mode NValence        0.067999\n",
      "mode Number          0.060634\n",
      "mean NValence        0.059200\n",
      "mode AtomicWeight    0.054610\n",
      "Split #4\n",
      "                   importance\n",
      "mode Number          0.097569\n",
      "mode AtomicWeight    0.075039\n",
      "mode NValence        0.063696\n",
      "mean NValence        0.056127\n",
      "mean MeltingT        0.039384\n"
     ]
    }
   ],
   "source": [
    "# how is learning in general without outliers?  Train on whole feature set\n",
    "densFeatTop = pd.DataFrame()\n",
    "\n",
    "# take predicted values from each cross validation set to ensure training not performed on own set.  Take 200 training samples\n",
    "# Probably could have used cross_val_predict\n",
    "kf = KFold(5)\n",
    "rep=0\n",
    "notTroubleDF['density_predict_noOutlier'] = np.nan\n",
    "for train_index, test_index in kf.split(notTroubleDF['comp']):\n",
    "    print('Split #{}'.format(rep))\n",
    "    density_model.fit(X_notTrouble[train_index,:], notTroubleDF['density'][train_index])\n",
    "    \n",
    "    y_densPredict = density_model.predict(X_notTrouble[test_index,:])\n",
    "    notTroubleDF['density_predict_noOutlier'][test_index] = y_densPredict\n",
    "    \n",
    "    \n",
    "    featureImp = pd.DataFrame(density_model.steps[1][1].feature_importances_,\n",
    "                          index=dens_featurizer.feature_labels(),\n",
    "                          columns=['importance']).sort_values('importance',ascending=False)\n",
    "    print(featureImp.head())\n",
    "    \n",
    "    densFeatTop = densFeatTop.append(featureImp)\n",
    "\n",
    "    \n",
    "    #print(train_index, test_index)\n",
    "    rep+=1\n",
    "#y_densPredict = "
   ]
  },
  {
   "cell_type": "code",
   "execution_count": 102,
   "metadata": {},
   "outputs": [
    {
     "name": "stdout",
     "output_type": "stream",
     "text": [
      "top features over 5 training splits\n"
     ]
    },
    {
     "data": {
      "text/html": [
       "<div>\n",
       "<style scoped>\n",
       "    .dataframe tbody tr th:only-of-type {\n",
       "        vertical-align: middle;\n",
       "    }\n",
       "\n",
       "    .dataframe tbody tr th {\n",
       "        vertical-align: top;\n",
       "    }\n",
       "\n",
       "    .dataframe thead th {\n",
       "        text-align: right;\n",
       "    }\n",
       "</style>\n",
       "<table border=\"1\" class=\"dataframe\">\n",
       "  <thead>\n",
       "    <tr style=\"text-align: right;\">\n",
       "      <th></th>\n",
       "      <th>importance</th>\n",
       "      <th>totalImp</th>\n",
       "    </tr>\n",
       "  </thead>\n",
       "  <tbody>\n",
       "    <tr>\n",
       "      <th>mode Number</th>\n",
       "      <td>0.060162</td>\n",
       "      <td>0.349252</td>\n",
       "    </tr>\n",
       "    <tr>\n",
       "      <th>mean NValence</th>\n",
       "      <td>0.052179</td>\n",
       "      <td>0.286235</td>\n",
       "    </tr>\n",
       "    <tr>\n",
       "      <th>mode AtomicWeight</th>\n",
       "      <td>0.025568</td>\n",
       "      <td>0.260935</td>\n",
       "    </tr>\n",
       "    <tr>\n",
       "      <th>mode NValence</th>\n",
       "      <td>0.049069</td>\n",
       "      <td>0.258786</td>\n",
       "    </tr>\n",
       "    <tr>\n",
       "      <th>mean Number</th>\n",
       "      <td>0.018204</td>\n",
       "      <td>0.195328</td>\n",
       "    </tr>\n",
       "  </tbody>\n",
       "</table>\n",
       "</div>"
      ],
      "text/plain": [
       "                   importance  totalImp\n",
       "mode Number          0.060162  0.349252\n",
       "mean NValence        0.052179  0.286235\n",
       "mode AtomicWeight    0.025568  0.260935\n",
       "mode NValence        0.049069  0.258786\n",
       "mean Number          0.018204  0.195328"
      ]
     },
     "execution_count": 102,
     "metadata": {},
     "output_type": "execute_result"
    }
   ],
   "source": [
    "densFeatTop['totalImp'] = densFeatTop.groupby(level=0)['importance'].transform('sum')\n",
    "densFeatTop = densFeatTop.drop_duplicates(subset=['totalImp']).sort_values('totalImp',ascending=False)\n",
    "print('top features over 5 training splits')\n",
    "densFeatTop.head()"
   ]
  },
  {
   "cell_type": "code",
   "execution_count": 103,
   "metadata": {},
   "outputs": [],
   "source": [
    "densFeatTop.to_csv(os.path.join(os.getcwd(),'results','avgTopFeats_densityNoOutliers.csv'))"
   ]
  },
  {
   "cell_type": "code",
   "execution_count": 104,
   "metadata": {},
   "outputs": [
    {
     "data": {
      "image/png": "[encoded data removed]",
      "text/plain": [
       "<matplotlib.figure.Figure at 0xe567c88>"
      ]
     },
     "metadata": {},
     "output_type": "display_data"
    }
   ],
   "source": [
    "# plot Comparison, report r2\n",
    "r2noOut = r2_score(notTroubleDF['density'], notTroubleDF['density_predict_noOutlier'])\n",
    "\n",
    "plt.figure(figsize=(5,5))\n",
    "plt.scatter(notTroubleDF['density'], notTroubleDF['density_predict_noOutlier'], edgecolors='k')\n",
    "plt.plot([0,30], [0,30], 'r-')\n",
    "plt.xlabel('density [g/cm$^3$]')\n",
    "plt.ylabel('predicted density without Outlier Comp')\n",
    "\n",
    "\n",
    "plt.text(7,20, 'R$^2$ score: {:.3f}'.format(r2noOut))\n",
    "plt.xlim([0,25])\n",
    "plt.ylim([0,25])\n",
    "plt.title('default model: density, drop outlier comp')\n",
    "\n",
    "if saveFigures:\n",
    "    plt.savefig(os.path.join(os.getcwd(),'results','densityScatter_noOutliers_allFeats.png'))\n",
    "    print('figure saved')"
   ]
  },
  {
   "cell_type": "code",
   "execution_count": 105,
   "metadata": {},
   "outputs": [
    {
     "data": {
      "image/png": "[encoded data removed]",
      "text/plain": [
       "<matplotlib.figure.Figure at 0x16f34898>"
      ]
     },
     "metadata": {},
     "output_type": "display_data"
    }
   ],
   "source": [
    "# plot Comparison, report r2\n",
    "r2noOut = r2_score(notTroubleDF['density'], notTroubleDF['density_vegards'])\n",
    "\n",
    "plt.figure(figsize=(5,5))\n",
    "plt.scatter(notTroubleDF['density'], notTroubleDF['density_vegards'], edgecolors='k')\n",
    "plt.plot([0,30], [0,30], 'r-')\n",
    "plt.xlabel('density [g/cm$^3$]')\n",
    "plt.ylabel('Vegards-predicted density without Outlier Comp')\n",
    "\n",
    "\n",
    "plt.text(7,20, 'R$^2$ score: {:.3f}'.format(r2noOut))\n",
    "plt.xlim([0,25])\n",
    "plt.ylim([0,25])\n",
    "plt.title('Vegards Law: density, drop outlier comp')\n",
    "\n",
    "if saveFigures:\n",
    "    plt.savefig(os.path.join(os.getcwd(),'results','densityScatter_noOutliers_vegards.png'))\n",
    "    print('figure saved')"
   ]
  },
  {
   "cell_type": "code",
   "execution_count": 106,
   "metadata": {},
   "outputs": [],
   "source": [
    "train_sizesNoOut, train_scoresNoOut, valid_scoresNoOut = learning_curve(density_model, X_notTrouble, notTroubleDF['density'], \n",
    "                                                                    cv=ShuffleSplit(), scoring=r2_scorer)"
   ]
  },
  {
   "cell_type": "code",
   "execution_count": 107,
   "metadata": {},
   "outputs": [
    {
     "data": {
      "image/png": "[encoded data removed]",
      "text/plain": [
       "<matplotlib.figure.Figure at 0xe43b588>"
      ]
     },
     "metadata": {},
     "output_type": "display_data"
    }
   ],
   "source": [
    "plt.figure()\n",
    "plt.title('Learning Curve, RForest: default features, no Outlier')\n",
    "plt.xlabel(\"Training examples: density data, SLAC\")\n",
    "plt.ylabel(\"$r^2$\")\n",
    "train_scores_mean = np.mean(train_scoresNoOut, axis=1)\n",
    "train_scores_std = np.std(train_scoresNoOut, axis=1)\n",
    "test_scores_mean = np.mean(valid_scoresNoOut, axis=1)\n",
    "test_scores_std = np.std(valid_scoresNoOut, axis=1)\n",
    "plt.grid()\n",
    "\n",
    "plt.fill_between(train_sizesNoOut, train_scores_mean - train_scores_std,\n",
    "                 train_scores_mean + train_scores_std, alpha=0.1,\n",
    "                 color=\"r\")\n",
    "plt.fill_between(train_sizesNoOut, test_scores_mean - test_scores_std,\n",
    "                 test_scores_mean + test_scores_std, alpha=0.1, color=\"g\")\n",
    "plt.plot(train_sizesNoOut, train_scores_mean, 'o-', color=\"r\",\n",
    "         label=\"Training score\")\n",
    "plt.plot(train_sizesNoOut, test_scores_mean, 'o-', color=\"g\",\n",
    "         label=\"Cross-validation score\")\n",
    "\n",
    "plt.legend(loc=\"best\")\n",
    "plt.ylim([0.7, 1])\n",
    "\n",
    "if saveFigures:\n",
    "    plt.savefig(os.path.join(os.getcwd(), 'results', 'learningCurve_noOutlier.png'))\n",
    "    print('saved figure')"
   ]
  },
  {
   "cell_type": "markdown",
   "metadata": {},
   "source": [
    "## Train on difference between density and vegards, see what features float up\n",
    "Not including outliers"
   ]
  },
  {
   "cell_type": "code",
   "execution_count": 108,
   "metadata": {},
   "outputs": [
    {
     "data": {
      "text/html": [
       "<div>\n",
       "<style scoped>\n",
       "    .dataframe tbody tr th:only-of-type {\n",
       "        vertical-align: middle;\n",
       "    }\n",
       "\n",
       "    .dataframe tbody tr th {\n",
       "        vertical-align: top;\n",
       "    }\n",
       "\n",
       "    .dataframe thead th {\n",
       "        text-align: right;\n",
       "    }\n",
       "</style>\n",
       "<table border=\"1\" class=\"dataframe\">\n",
       "  <thead>\n",
       "    <tr style=\"text-align: right;\">\n",
       "      <th></th>\n",
       "      <th>comp</th>\n",
       "      <th>density</th>\n",
       "      <th>density_predict</th>\n",
       "      <th>density_vegards</th>\n",
       "      <th>density_predict_meanOnly</th>\n",
       "      <th>density_predict_meanNoVol</th>\n",
       "      <th>vegards_diff</th>\n",
       "      <th>diff_predict</th>\n",
       "      <th>density_predict_noOutlier</th>\n",
       "    </tr>\n",
       "  </thead>\n",
       "  <tbody>\n",
       "    <tr>\n",
       "      <th>0</th>\n",
       "      <td>(Ce, Al)</td>\n",
       "      <td>3.462</td>\n",
       "      <td>3.967243</td>\n",
       "      <td>3.1070</td>\n",
       "      <td>3.811169</td>\n",
       "      <td>3.761203</td>\n",
       "      <td>0.355</td>\n",
       "      <td>0.307466</td>\n",
       "      <td>4.338898</td>\n",
       "    </tr>\n",
       "    <tr>\n",
       "      <th>1</th>\n",
       "      <td>(Al, Fe, B)</td>\n",
       "      <td>3.539</td>\n",
       "      <td>5.961703</td>\n",
       "      <td>3.6620</td>\n",
       "      <td>4.867570</td>\n",
       "      <td>4.972765</td>\n",
       "      <td>-0.123</td>\n",
       "      <td>0.558711</td>\n",
       "      <td>5.647757</td>\n",
       "    </tr>\n",
       "    <tr>\n",
       "      <th>2</th>\n",
       "      <td>(Zr, Al, Ni)</td>\n",
       "      <td>3.384</td>\n",
       "      <td>4.085152</td>\n",
       "      <td>3.5105</td>\n",
       "      <td>4.019465</td>\n",
       "      <td>3.682056</td>\n",
       "      <td>-0.1265</td>\n",
       "      <td>0.156822</td>\n",
       "      <td>4.401826</td>\n",
       "    </tr>\n",
       "    <tr>\n",
       "      <th>3</th>\n",
       "      <td>(Zr, Al, Ni)</td>\n",
       "      <td>3.517</td>\n",
       "      <td>4.240630</td>\n",
       "      <td>3.6965</td>\n",
       "      <td>4.205598</td>\n",
       "      <td>3.927851</td>\n",
       "      <td>-0.1795</td>\n",
       "      <td>0.129934</td>\n",
       "      <td>4.550935</td>\n",
       "    </tr>\n",
       "    <tr>\n",
       "      <th>4</th>\n",
       "      <td>(Hf, Al, Ni)</td>\n",
       "      <td>2.835</td>\n",
       "      <td>5.590662</td>\n",
       "      <td>3.8505</td>\n",
       "      <td>4.072068</td>\n",
       "      <td>3.887592</td>\n",
       "      <td>-1.0155</td>\n",
       "      <td>0.279791</td>\n",
       "      <td>5.469309</td>\n",
       "    </tr>\n",
       "  </tbody>\n",
       "</table>\n",
       "</div>"
      ],
      "text/plain": [
       "           comp density  density_predict  density_vegards  \\\n",
       "0      (Ce, Al)   3.462         3.967243           3.1070   \n",
       "1   (Al, Fe, B)   3.539         5.961703           3.6620   \n",
       "2  (Zr, Al, Ni)   3.384         4.085152           3.5105   \n",
       "3  (Zr, Al, Ni)   3.517         4.240630           3.6965   \n",
       "4  (Hf, Al, Ni)   2.835         5.590662           3.8505   \n",
       "\n",
       "   density_predict_meanOnly  density_predict_meanNoVol vegards_diff  \\\n",
       "0                  3.811169                   3.761203        0.355   \n",
       "1                  4.867570                   4.972765       -0.123   \n",
       "2                  4.019465                   3.682056      -0.1265   \n",
       "3                  4.205598                   3.927851      -0.1795   \n",
       "4                  4.072068                   3.887592      -1.0155   \n",
       "\n",
       "   diff_predict  density_predict_noOutlier  \n",
       "0      0.307466                   4.338898  \n",
       "1      0.558711                   5.647757  \n",
       "2      0.156822                   4.401826  \n",
       "3      0.129934                   4.550935  \n",
       "4      0.279791                   5.469309  "
      ]
     },
     "execution_count": 108,
     "metadata": {},
     "output_type": "execute_result"
    }
   ],
   "source": [
    "notTroubleDF.head()"
   ]
  },
  {
   "cell_type": "code",
   "execution_count": 109,
   "metadata": {},
   "outputs": [
    {
     "name": "stdout",
     "output_type": "stream",
     "text": [
      "Split #0, training on 555\n",
      "                        importance\n",
      "avg_dev GSbandgap         0.044552\n",
      "mean GSbandgap            0.032233\n",
      "mean NpValence            0.030110\n",
      "minimum CovalentRadius    0.027130\n",
      "mean CovalentRadius       0.026109\n",
      "Split #1, training on 555\n",
      "                        importance\n",
      "minimum CovalentRadius    0.052362\n",
      "avg_dev GSbandgap         0.038330\n",
      "minimum GSvolume_pa       0.031254\n",
      "mean GSbandgap            0.028582\n",
      "avg_dev NdValence         0.027214\n",
      "Split #2, training on 555\n",
      "                        importance\n",
      "avg_dev Column            0.058895\n",
      "mean GSmagmom             0.042948\n",
      "mean Electronegativity    0.037889\n",
      "avg_dev GSbandgap         0.034547\n",
      "range GSbandgap           0.029998\n",
      "Split #3, training on 555\n",
      "                        importance\n",
      "avg_dev Column            0.031193\n",
      "minimum CovalentRadius    0.030716\n",
      "avg_dev NpValence         0.029232\n",
      "mean GSbandgap            0.028376\n",
      "minimum GSvolume_pa       0.025581\n",
      "Split #4, training on 556\n",
      "                        importance\n",
      "minimum CovalentRadius    0.054242\n",
      "minimum GSvolume_pa       0.047391\n",
      "avg_dev Column            0.034493\n",
      "mode MeltingT             0.032935\n",
      "mode NValence             0.031113\n"
     ]
    }
   ],
   "source": [
    "# Train on difference\n",
    "diffFeatTop5 = pd.DataFrame()\n",
    "\n",
    "# take predicted values from each cross validation set to ensure training not performed on own set.  Take 200 training samples\n",
    "# Probably could have used cross_val_predict\n",
    "kf = KFold(5)\n",
    "rep=0\n",
    "notTroubleDF['diff_predict'] = np.nan\n",
    "for train_index, test_index in kf.split(notTroubleDF['comp']):\n",
    "    print('Split #{}, training on {}'.format(rep, len(train_index)))\n",
    "    density_model.fit(X_notTrouble[train_index,:], notTroubleDF['vegards_diff'][train_index])\n",
    "    \n",
    "    y_diffPredict = density_model.predict(X_notTrouble[test_index,:])\n",
    "    notTroubleDF['diff_predict'][test_index] = y_diffPredict\n",
    "    \n",
    "    \n",
    "    featureImp = pd.DataFrame(density_model.steps[1][1].feature_importances_,\n",
    "                          index=dens_featurizer.feature_labels(),\n",
    "                          columns=['importance']).sort_values('importance',ascending=False)\n",
    "    print(featureImp.head())\n",
    "    \n",
    "    diffFeatTop5 = diffFeatTop5.append(featureImp)\n",
    "\n",
    "    \n",
    "    #print(train_index, test_index)\n",
    "    rep+=1\n",
    "#y_densPredict = "
   ]
  },
  {
   "cell_type": "code",
   "execution_count": 110,
   "metadata": {},
   "outputs": [
    {
     "name": "stdout",
     "output_type": "stream",
     "text": [
      "top features over 5 training splits\n"
     ]
    }
   ],
   "source": [
    "diffFeatTop5['totalImp'] = diffFeatTop5.groupby(level=0)['importance'].transform('sum')\n",
    "diffFeatTop = diffFeatTop5.drop_duplicates(subset=['totalImp']).sort_values('totalImp',ascending=False)\n",
    "print('top features over 5 training splits')\n",
    "diffFeatTop.head()\n",
    "diffFeatTop.to_csv(os.path.join(os.getcwd(),'results','avgTopFeats_densityVegardsDiff.csv'))"
   ]
  },
  {
   "cell_type": "code",
   "execution_count": 111,
   "metadata": {},
   "outputs": [
    {
     "data": {
      "image/png": "[encoded data removed]",
      "text/plain": [
       "<matplotlib.figure.Figure at 0x171e24e0>"
      ]
     },
     "metadata": {},
     "output_type": "display_data"
    }
   ],
   "source": [
    "# plot Comparison, report r2\n",
    "r2noOutDiff = r2_score(notTroubleDF['vegards_diff'], notTroubleDF['diff_predict'])\n",
    "\n",
    "plt.figure(figsize=(5,5))\n",
    "plt.scatter(notTroubleDF['vegards_diff'], notTroubleDF['diff_predict'], edgecolors='k')\n",
    "plt.plot([-5,5], [-5,5], 'r-')\n",
    "plt.xlabel('(density - vegards prediction) [g/cm$^3$]')\n",
    "plt.ylabel('predicted difference')\n",
    "\n",
    "\n",
    "plt.text(-1,4, 'R$^2$ score: {:.3f}'.format(r2noOutDiff))\n",
    "plt.xlim([-5,5])\n",
    "plt.ylim([-5,5])\n",
    "plt.title('Prediction of deviation from vegards drop outlier comp')\n",
    "\n",
    "if saveFigures:\n",
    "    plt.savefig(os.path.join(os.getcwd(),'results','densityDiffScatter_noOutliers.png'))\n",
    "    print('figure saved')"
   ]
  },
  {
   "cell_type": "code",
   "execution_count": 112,
   "metadata": {},
   "outputs": [],
   "source": [
    "train_sizes, train_scores, valid_scores = learning_curve(density_model, X_notTrouble, notTroubleDF['vegards_diff'], \n",
    "                                                                    cv=ShuffleSplit(), scoring=r2_scorer)"
   ]
  },
  {
   "cell_type": "code",
   "execution_count": 113,
   "metadata": {},
   "outputs": [
    {
     "data": {
      "image/png": "[encoded data removed]",
      "text/plain": [
       "<matplotlib.figure.Figure at 0xe4b1748>"
      ]
     },
     "metadata": {},
     "output_type": "display_data"
    }
   ],
   "source": [
    "plt.figure()\n",
    "plt.title('Default feats, deviation from Vegards')\n",
    "plt.xlabel(\"Training examples: density data, SLAC\")\n",
    "plt.ylabel(\"$r^2$\")\n",
    "train_scores_mean = np.mean(train_scores, axis=1)\n",
    "train_scores_std = np.std(train_scores, axis=1)\n",
    "test_scores_mean = np.mean(valid_scores, axis=1)\n",
    "test_scores_std = np.std(valid_scores, axis=1)\n",
    "plt.grid()\n",
    "\n",
    "plt.fill_between(train_sizes, train_scores_mean - train_scores_std,\n",
    "                 train_scores_mean + train_scores_std, alpha=0.1,\n",
    "                 color=\"r\")\n",
    "plt.fill_between(train_sizes, test_scores_mean - test_scores_std,\n",
    "                 test_scores_mean + test_scores_std, alpha=0.1, color=\"g\")\n",
    "plt.plot(train_sizesNoOut, train_scores_mean, 'o-', color=\"r\",\n",
    "         label=\"Training score\")\n",
    "plt.plot(train_sizesNoOut, test_scores_mean, 'o-', color=\"g\",\n",
    "         label=\"Cross-validation score\")\n",
    "\n",
    "plt.legend(loc=4)\n",
    "#plt.ylim([0.4, 1])\n",
    "\n",
    "if saveFigures:\n",
    "    plt.savefig(os.path.join(os.getcwd(), 'results', 'learningCurve_densityDiff_noOut.png'))\n",
    "    print('saved figure')"
   ]
  },
  {
   "cell_type": "code",
   "execution_count": 114,
   "metadata": {},
   "outputs": [
    {
     "data": {
      "text/plain": [
       "555.2"
      ]
     },
     "execution_count": 114,
     "metadata": {},
     "output_type": "execute_result"
    }
   ],
   "source": [
    "0.8*len(notTroubleDF)"
   ]
  },
  {
   "cell_type": "code",
   "execution_count": 115,
   "metadata": {},
   "outputs": [
    {
     "name": "stdout",
     "output_type": "stream",
     "text": [
      "MAE for random forest: 0.3014 vs vegards law 0.4477\n",
      "0.17192901628097415\n"
     ]
    }
   ],
   "source": [
    "# Look at mean absolute err with this new data set:\n",
    "\n",
    "mae = mean_absolute_error(notTroubleDF['density'], notTroubleDF['density_predict_noOutlier'])\n",
    "mae_vegards = mean_absolute_error(notTroubleDF['density'], notTroubleDF['density_vegards'])\n",
    "print('MAE for random forest: {:.4f} vs vegards law {:.4f}'.format(mae, mae_vegards))\n",
    "mae_diff = mean_absolute_error(notTroubleDF['vegards_diff'], notTroubleDF['diff_predict'])\n",
    "print(mae_diff)"
   ]
  },
  {
   "cell_type": "markdown",
   "metadata": {},
   "source": [
    "# Assess performance of using difference predictions instead of full model "
   ]
  },
  {
   "cell_type": "code",
   "execution_count": 117,
   "metadata": {},
   "outputs": [
    {
     "name": "stdout",
     "output_type": "stream",
     "text": [
      "0.9789072909956441\n",
      "figure saved\n"
     ]
    },
    {
     "data": {
      "image/png": "[encoded data removed]",
      "text/plain": [
       "<matplotlib.figure.Figure at 0x177f22e8>"
      ]
     },
     "metadata": {},
     "output_type": "display_data"
    }
   ],
   "source": [
    "notTroubleDF['vPlusDiff'] = notTroubleDF['density_vegards'] + notTroubleDF['diff_predict']\n",
    "r2Comp = r2_score(notTroubleDF['density'], notTroubleDF['vPlusDiff'])\n",
    "print(r2Comp)\n",
    "\n",
    "plt.figure(figsize=(5,5))\n",
    "plt.scatter(notTroubleDF['vPlusDiff'], notTroubleDF['density'], edgecolors='k')\n",
    "plt.plot([0,25], [0,25], 'r-')\n",
    "plt.xlabel('density [g/cm$^3$]')\n",
    "plt.ylabel('predicted: Vegards + predicted difference')\n",
    "\n",
    "\n",
    "plt.text(10,20, 'R$^2$ score: {:.3f}'.format(r2Comp))\n",
    "plt.xlim([0,25])\n",
    "plt.ylim([0,25])\n",
    "plt.title('Prediction of deviation from vegards drop outlier comp')\n",
    "\n",
    "if saveFigures:\n",
    "    plt.savefig(os.path.join(os.getcwd(),'results','densityDiffScatter_VegardsPlusDiff.png'))\n",
    "    print('figure saved')"
   ]
  },
  {
   "cell_type": "markdown",
   "metadata": {},
   "source": [
    "# Try to predict Vegard's law directly"
   ]
  },
  {
   "cell_type": "code",
   "execution_count": 118,
   "metadata": {},
   "outputs": [
    {
     "name": "stdout",
     "output_type": "stream",
     "text": [
      "Split #0, training on 555\n",
      "                        importance\n",
      "mean NValence             0.069204\n",
      "mode Number               0.063939\n",
      "mean Electronegativity    0.044993\n",
      "mean NdValence            0.043229\n",
      "mean Column               0.037068\n",
      "Split #1, training on 555\n",
      "                        importance\n",
      "mode AtomicWeight         0.082678\n",
      "mode Number               0.072935\n",
      "mean NValence             0.051796\n",
      "mean Number               0.044637\n",
      "mean Electronegativity    0.039969\n",
      "Split #2, training on 555\n",
      "                         importance\n",
      "mode AtomicWeight          0.079128\n",
      "mode Number                0.058020\n",
      "avg d valence electrons    0.055308\n",
      "mode NValence              0.052046\n",
      "mean NValence              0.042370\n",
      "Split #3, training on 555\n",
      "                         importance\n",
      "mean NValence              0.076489\n",
      "mean Number                0.067652\n",
      "mode AtomicWeight          0.058352\n",
      "avg d valence electrons    0.056415\n",
      "mode NValence              0.050389\n",
      "Split #4, training on 556\n",
      "                         importance\n",
      "mean Number                0.065092\n",
      "mean NValence              0.061613\n",
      "mode Number                0.060020\n",
      "mode NValence              0.048567\n",
      "avg d valence electrons    0.042453\n"
     ]
    }
   ],
   "source": [
    "# Train on difference\n",
    "vegardFeats = pd.DataFrame()\n",
    "\n",
    "# take predicted values from each cross validation set to ensure training not performed on own set.  Take 200 training samples\n",
    "# Probably could have used cross_val_predict\n",
    "kf = KFold(5)\n",
    "rep=0\n",
    "notTroubleDF['vegards_predict'] = np.nan\n",
    "for train_index, test_index in kf.split(notTroubleDF['comp']):\n",
    "    print('Split #{}, training on {}'.format(rep, len(train_index)))\n",
    "    density_model.fit(X_notTrouble[train_index,:], notTroubleDF['density_vegards'][train_index])\n",
    "    \n",
    "    y_pred = density_model.predict(X_notTrouble[test_index,:])\n",
    "    notTroubleDF['vegards_predict'][test_index] = y_pred\n",
    "    \n",
    "    \n",
    "    featureImp = pd.DataFrame(density_model.steps[1][1].feature_importances_,\n",
    "                          index=dens_featurizer.feature_labels(),\n",
    "                          columns=['importance']).sort_values('importance',ascending=False)\n",
    "    print(featureImp.head())\n",
    "    \n",
    "    vegardFeats = vegardFeats.append(featureImp)\n",
    "\n",
    "    rep+=1"
   ]
  },
  {
   "cell_type": "code",
   "execution_count": 119,
   "metadata": {},
   "outputs": [
    {
     "name": "stdout",
     "output_type": "stream",
     "text": [
      "top features over 5 training splits\n"
     ]
    }
   ],
   "source": [
    "# Sort and compile importances\n",
    "vegardFeats['totalImp'] = vegardFeats.groupby(level=0)['importance'].transform('sum')\n",
    "vegardFeats = vegardFeats.drop_duplicates(subset=['totalImp']).sort_values('totalImp',ascending=False)\n",
    "print('top features over 5 training splits')\n",
    "vegardFeats.head()\n",
    "vegardFeats.to_csv(os.path.join(os.getcwd(),'results','avgTopFeats_densityVegards.csv'))"
   ]
  },
  {
   "cell_type": "code",
   "execution_count": 120,
   "metadata": {},
   "outputs": [
    {
     "name": "stdout",
     "output_type": "stream",
     "text": [
      "0.9494800505646892\n",
      "figure saved\n"
     ]
    },
    {
     "data": {
      "image/png": "[encoded data removed]",
      "text/plain": [
       "<matplotlib.figure.Figure at 0x16f050b8>"
      ]
     },
     "metadata": {},
     "output_type": "display_data"
    }
   ],
   "source": [
    "r2Veg = r2_score(notTroubleDF['density_vegards'], notTroubleDF['vegards_predict'])\n",
    "print(r2Veg)\n",
    "\n",
    "plt.figure(figsize=(5,5))\n",
    "plt.scatter(notTroubleDF['vegards_predict'], notTroubleDF['density_predict'], edgecolors='k')\n",
    "plt.plot([0,25], [0,25], 'r-')\n",
    "plt.xlabel('Vegards predicted density [g/cm$^3$]')\n",
    "plt.ylabel('predicted density')\n",
    "\n",
    "\n",
    "plt.text(10,20, 'R$^2$ score: {:.3f}'.format(r2Veg))\n",
    "plt.xlim([0,25])\n",
    "plt.ylim([0,25])\n",
    "#plt.title('')\n",
    "\n",
    "if saveFigures:\n",
    "    plt.savefig(os.path.join(os.getcwd(),'results','densityScatter_VegardsPredict.png'))\n",
    "    print('figure saved')"
   ]
  },
  {
   "cell_type": "markdown",
   "metadata": {},
   "source": [
    "# Restrict to 12 Features with varying importance\n",
    "Omitting outliers\n",
    "Compare to best model: Vegards+Difference predictions\n",
    "ref: Jae/Nils attempts"
   ]
  },
  {
   "cell_type": "code",
   "execution_count": 121,
   "metadata": {},
   "outputs": [
    {
     "data": {
      "text/html": [
       "<div>\n",
       "<style scoped>\n",
       "    .dataframe tbody tr th:only-of-type {\n",
       "        vertical-align: middle;\n",
       "    }\n",
       "\n",
       "    .dataframe tbody tr th {\n",
       "        vertical-align: top;\n",
       "    }\n",
       "\n",
       "    .dataframe thead th {\n",
       "        text-align: right;\n",
       "    }\n",
       "</style>\n",
       "<table border=\"1\" class=\"dataframe\">\n",
       "  <thead>\n",
       "    <tr style=\"text-align: right;\">\n",
       "      <th></th>\n",
       "      <th>comp</th>\n",
       "      <th>density</th>\n",
       "      <th>density_vegards</th>\n",
       "      <th>vegards_diff</th>\n",
       "      <th>vPlusDiff</th>\n",
       "    </tr>\n",
       "  </thead>\n",
       "  <tbody>\n",
       "    <tr>\n",
       "      <th>0</th>\n",
       "      <td>(Ce, Al)</td>\n",
       "      <td>3.462</td>\n",
       "      <td>3.1070</td>\n",
       "      <td>0.355</td>\n",
       "      <td>3.418790</td>\n",
       "    </tr>\n",
       "    <tr>\n",
       "      <th>1</th>\n",
       "      <td>(Al, Fe, B)</td>\n",
       "      <td>3.539</td>\n",
       "      <td>3.6620</td>\n",
       "      <td>-0.123</td>\n",
       "      <td>4.377142</td>\n",
       "    </tr>\n",
       "    <tr>\n",
       "      <th>2</th>\n",
       "      <td>(Zr, Al, Ni)</td>\n",
       "      <td>3.384</td>\n",
       "      <td>3.5105</td>\n",
       "      <td>-0.1265</td>\n",
       "      <td>3.582263</td>\n",
       "    </tr>\n",
       "    <tr>\n",
       "      <th>3</th>\n",
       "      <td>(Zr, Al, Ni)</td>\n",
       "      <td>3.517</td>\n",
       "      <td>3.6965</td>\n",
       "      <td>-0.1795</td>\n",
       "      <td>3.765707</td>\n",
       "    </tr>\n",
       "    <tr>\n",
       "      <th>4</th>\n",
       "      <td>(Hf, Al, Ni)</td>\n",
       "      <td>2.835</td>\n",
       "      <td>3.8505</td>\n",
       "      <td>-1.0155</td>\n",
       "      <td>3.967953</td>\n",
       "    </tr>\n",
       "  </tbody>\n",
       "</table>\n",
       "</div>"
      ],
      "text/plain": [
       "           comp density  density_vegards vegards_diff  vPlusDiff\n",
       "0      (Ce, Al)   3.462           3.1070        0.355   3.418790\n",
       "1   (Al, Fe, B)   3.539           3.6620       -0.123   4.377142\n",
       "2  (Zr, Al, Ni)   3.384           3.5105      -0.1265   3.582263\n",
       "3  (Zr, Al, Ni)   3.517           3.6965      -0.1795   3.765707\n",
       "4  (Hf, Al, Ni)   2.835           3.8505      -1.0155   3.967953"
      ]
     },
     "execution_count": 121,
     "metadata": {},
     "output_type": "execute_result"
    }
   ],
   "source": [
    "varyFeatData = notTroubleDF[['comp', 'density', 'density_vegards', 'vegards_diff','vPlusDiff']]\n",
    "varyFeatData.head()"
   ]
  },
  {
   "cell_type": "code",
   "execution_count": 122,
   "metadata": {},
   "outputs": [
    {
     "name": "stdout",
     "output_type": "stream",
     "text": [
      "Split #0, training on 555\n",
      "Split #1, training on 555\n",
      "Split #2, training on 555\n",
      "Split #3, training on 555\n",
      "Split #4, training on 556\n",
      "top features over 5 training splits:\n"
     ]
    },
    {
     "data": {
      "text/html": [
       "<div>\n",
       "<style scoped>\n",
       "    .dataframe tbody tr th:only-of-type {\n",
       "        vertical-align: middle;\n",
       "    }\n",
       "\n",
       "    .dataframe tbody tr th {\n",
       "        vertical-align: top;\n",
       "    }\n",
       "\n",
       "    .dataframe thead th {\n",
       "        text-align: right;\n",
       "    }\n",
       "</style>\n",
       "<table border=\"1\" class=\"dataframe\">\n",
       "  <thead>\n",
       "    <tr style=\"text-align: right;\">\n",
       "      <th></th>\n",
       "      <th>importance</th>\n",
       "      <th>totalImp</th>\n",
       "    </tr>\n",
       "  </thead>\n",
       "  <tbody>\n",
       "    <tr>\n",
       "      <th>mode AtomicWeight</th>\n",
       "      <td>0.042562</td>\n",
       "      <td>0.334090</td>\n",
       "    </tr>\n",
       "    <tr>\n",
       "      <th>mode Number</th>\n",
       "      <td>0.030902</td>\n",
       "      <td>0.297319</td>\n",
       "    </tr>\n",
       "    <tr>\n",
       "      <th>mean NValence</th>\n",
       "      <td>0.057231</td>\n",
       "      <td>0.288785</td>\n",
       "    </tr>\n",
       "    <tr>\n",
       "      <th>mode NValence</th>\n",
       "      <td>0.068930</td>\n",
       "      <td>0.256911</td>\n",
       "    </tr>\n",
       "    <tr>\n",
       "      <th>mean Number</th>\n",
       "      <td>0.023545</td>\n",
       "      <td>0.173221</td>\n",
       "    </tr>\n",
       "  </tbody>\n",
       "</table>\n",
       "</div>"
      ],
      "text/plain": [
       "                   importance  totalImp\n",
       "mode AtomicWeight    0.042562  0.334090\n",
       "mode Number          0.030902  0.297319\n",
       "mean NValence        0.057231  0.288785\n",
       "mode NValence        0.068930  0.256911\n",
       "mean Number          0.023545  0.173221"
      ]
     },
     "execution_count": 122,
     "metadata": {},
     "output_type": "execute_result"
    }
   ],
   "source": [
    "#Train density_model on all data several times, get consistently performing features\n",
    "featListSorted = pd.DataFrame()\n",
    "\n",
    "kf = KFold(5)\n",
    "rep=0\n",
    "for train_index, test_index in kf.split(notTroubleDF['comp']):\n",
    "    print('Split #{}, training on {}'.format(rep, len(train_index)))\n",
    "    density_model.fit(X_notTrouble[train_index,:], notTroubleDF['density'][train_index])\n",
    "   \n",
    "    topFeats = pd.DataFrame(density_model.steps[1][1].feature_importances_,\n",
    "                          index=dens_featurizer.feature_labels(),\n",
    "                          columns=['importance']).sort_values('importance', ascending=False)\n",
    "    \n",
    "    featListSorted = featListSorted.append(topFeats)\n",
    "    rep += 1\n",
    "    \n",
    "    \n",
    "featListSorted['totalImp'] = featListSorted.groupby(level=0)['importance'].transform('sum')\n",
    "featListSorted = featListSorted.drop_duplicates(subset=['totalImp']).sort_values('totalImp',ascending=False)\n",
    "print('top features over 5 training splits:')\n",
    "featListSorted.head()"
   ]
  },
  {
   "cell_type": "code",
   "execution_count": 123,
   "metadata": {},
   "outputs": [],
   "source": [
    "featList = pd.DataFrame(density_model.steps[1][1].feature_importances_,\n",
    "                          index=dens_featurizer.feature_labels(),\n",
    "                          columns=['importance'])\n",
    "featList.reset_index(inplace=True)"
   ]
  },
  {
   "cell_type": "code",
   "execution_count": 124,
   "metadata": {},
   "outputs": [
    {
     "name": "stdout",
     "output_type": "stream",
     "text": [
      "--------------------------------------------------------\n",
      "Split #0, training on 555: n0Part0_predict\n",
      "Split #1, training on 555: n0Part1_predict\n",
      "Split #2, training on 555: n0Part2_predict\n",
      "Split #3, training on 555: n0Part3_predict\n",
      "Split #4, training on 556: n0Part4_predict\n",
      "--------------------------------------------------------\n",
      "Split #0, training on 555: n5Part0_predict\n",
      "Split #1, training on 555: n5Part1_predict\n",
      "Split #2, training on 555: n5Part2_predict\n",
      "Split #3, training on 555: n5Part3_predict\n",
      "Split #4, training on 556: n5Part4_predict\n",
      "--------------------------------------------------------\n",
      "Split #0, training on 555: n10Part0_predict\n",
      "Split #1, training on 555: n10Part1_predict\n",
      "Split #2, training on 555: n10Part2_predict\n",
      "Split #3, training on 555: n10Part3_predict\n",
      "Split #4, training on 556: n10Part4_predict\n",
      "--------------------------------------------------------\n",
      "Split #0, training on 555: n15Part0_predict\n",
      "Split #1, training on 555: n15Part1_predict\n",
      "Split #2, training on 555: n15Part2_predict\n",
      "Split #3, training on 555: n15Part3_predict\n",
      "Split #4, training on 556: n15Part4_predict\n",
      "--------------------------------------------------------\n",
      "Split #0, training on 555: n20Part0_predict\n",
      "Split #1, training on 555: n20Part1_predict\n",
      "Split #2, training on 555: n20Part2_predict\n",
      "Split #3, training on 555: n20Part3_predict\n",
      "Split #4, training on 556: n20Part4_predict\n",
      "--------------------------------------------------------\n",
      "Split #0, training on 555: n25Part0_predict\n",
      "Split #1, training on 555: n25Part1_predict\n",
      "Split #2, training on 555: n25Part2_predict\n",
      "Split #3, training on 555: n25Part3_predict\n",
      "Split #4, training on 556: n25Part4_predict\n",
      "--------------------------------------------------------\n",
      "Split #0, training on 555: n30Part0_predict\n",
      "Split #1, training on 555: n30Part1_predict\n",
      "Split #2, training on 555: n30Part2_predict\n",
      "Split #3, training on 555: n30Part3_predict\n",
      "Split #4, training on 556: n30Part4_predict\n",
      "--------------------------------------------------------\n",
      "Split #0, training on 555: n35Part0_predict\n",
      "Split #1, training on 555: n35Part1_predict\n",
      "Split #2, training on 555: n35Part2_predict\n",
      "Split #3, training on 555: n35Part3_predict\n",
      "Split #4, training on 556: n35Part4_predict\n",
      "--------------------------------------------------------\n",
      "Split #0, training on 555: n40Part0_predict\n",
      "Split #1, training on 555: n40Part1_predict\n",
      "Split #2, training on 555: n40Part2_predict\n",
      "Split #3, training on 555: n40Part3_predict\n",
      "Split #4, training on 556: n40Part4_predict\n",
      "--------------------------------------------------------\n",
      "Split #0, training on 555: n45Part0_predict\n",
      "Split #1, training on 555: n45Part1_predict\n",
      "Split #2, training on 555: n45Part2_predict\n",
      "Split #3, training on 555: n45Part3_predict\n",
      "Split #4, training on 556: n45Part4_predict\n",
      "--------------------------------------------------------\n",
      "Split #0, training on 555: n50Part0_predict\n",
      "Split #1, training on 555: n50Part1_predict\n",
      "Split #2, training on 555: n50Part2_predict\n",
      "Split #3, training on 555: n50Part3_predict\n",
      "Split #4, training on 556: n50Part4_predict\n",
      "--------------------------------------------------------\n",
      "Split #0, training on 555: n55Part0_predict\n",
      "Split #1, training on 555: n55Part1_predict\n",
      "Split #2, training on 555: n55Part2_predict\n",
      "Split #3, training on 555: n55Part3_predict\n",
      "Split #4, training on 556: n55Part4_predict\n",
      "--------------------------------------------------------\n",
      "Split #0, training on 555: n60Part0_predict\n",
      "Split #1, training on 555: n60Part1_predict\n",
      "Split #2, training on 555: n60Part2_predict\n",
      "Split #3, training on 555: n60Part3_predict\n",
      "Split #4, training on 556: n60Part4_predict\n",
      "--------------------------------------------------------\n",
      "Split #0, training on 555: n65Part0_predict\n",
      "Split #1, training on 555: n65Part1_predict\n",
      "Split #2, training on 555: n65Part2_predict\n",
      "Split #3, training on 555: n65Part3_predict\n",
      "Split #4, training on 556: n65Part4_predict\n",
      "--------------------------------------------------------\n",
      "Split #0, training on 555: n70Part0_predict\n",
      "Split #1, training on 555: n70Part1_predict\n",
      "Split #2, training on 555: n70Part2_predict\n",
      "Split #3, training on 555: n70Part3_predict\n",
      "Split #4, training on 556: n70Part4_predict\n",
      "--------------------------------------------------------\n",
      "Split #0, training on 555: n75Part0_predict\n",
      "Split #1, training on 555: n75Part1_predict\n",
      "Split #2, training on 555: n75Part2_predict\n",
      "Split #3, training on 555: n75Part3_predict\n",
      "Split #4, training on 556: n75Part4_predict\n",
      "--------------------------------------------------------\n",
      "Split #0, training on 555: n80Part0_predict\n",
      "Split #1, training on 555: n80Part1_predict\n",
      "Split #2, training on 555: n80Part2_predict\n",
      "Split #3, training on 555: n80Part3_predict\n",
      "Split #4, training on 556: n80Part4_predict\n",
      "--------------------------------------------------------\n",
      "Split #0, training on 555: n85Part0_predict\n",
      "Split #1, training on 555: n85Part1_predict\n",
      "Split #2, training on 555: n85Part2_predict\n",
      "Split #3, training on 555: n85Part3_predict\n",
      "Split #4, training on 556: n85Part4_predict\n",
      "--------------------------------------------------------\n",
      "Split #0, training on 555: n90Part0_predict\n",
      "Split #1, training on 555: n90Part1_predict\n",
      "Split #2, training on 555: n90Part2_predict\n",
      "Split #3, training on 555: n90Part3_predict\n",
      "Split #4, training on 556: n90Part4_predict\n",
      "--------------------------------------------------------\n",
      "Split #0, training on 555: n95Part0_predict\n",
      "Split #1, training on 555: n95Part1_predict\n",
      "Split #2, training on 555: n95Part2_predict\n",
      "Split #3, training on 555: n95Part3_predict\n",
      "Split #4, training on 556: n95Part4_predict\n",
      "--------------------------------------------------------\n",
      "Split #0, training on 555: n100Part0_predict\n",
      "Split #1, training on 555: n100Part1_predict\n",
      "Split #2, training on 555: n100Part2_predict\n",
      "Split #3, training on 555: n100Part3_predict\n",
      "Split #4, training on 556: n100Part4_predict\n",
      "--------------------------------------------------------\n",
      "Split #0, training on 555: n105Part0_predict\n",
      "Split #1, training on 555: n105Part1_predict\n",
      "Split #2, training on 555: n105Part2_predict\n",
      "Split #3, training on 555: n105Part3_predict\n",
      "Split #4, training on 556: n105Part4_predict\n",
      "--------------------------------------------------------\n",
      "Split #0, training on 555: n110Part0_predict\n",
      "Split #1, training on 555: n110Part1_predict\n",
      "Split #2, training on 555: n110Part2_predict\n",
      "Split #3, training on 555: n110Part3_predict\n",
      "Split #4, training on 556: n110Part4_predict\n",
      "--------------------------------------------------------\n",
      "Split #0, training on 555: n115Part0_predict\n",
      "Split #1, training on 555: n115Part1_predict\n",
      "Split #2, training on 555: n115Part2_predict\n",
      "Split #3, training on 555: n115Part3_predict\n",
      "Split #4, training on 556: n115Part4_predict\n",
      "--------------------------------------------------------\n",
      "Split #0, training on 555: n120Part0_predict\n",
      "Split #1, training on 555: n120Part1_predict\n",
      "Split #2, training on 555: n120Part2_predict\n",
      "Split #3, training on 555: n120Part3_predict\n",
      "Split #4, training on 556: n120Part4_predict\n",
      "--------------------------------------------------------\n",
      "Split #0, training on 555: n125Part0_predict\n",
      "Split #1, training on 555: n125Part1_predict\n",
      "Split #2, training on 555: n125Part2_predict\n",
      "Split #3, training on 555: n125Part3_predict\n",
      "Split #4, training on 556: n125Part4_predict\n",
      "--------------------------------------------------------\n",
      "Split #0, training on 555: n130Part0_predict\n",
      "Split #1, training on 555: n130Part1_predict\n",
      "Split #2, training on 555: n130Part2_predict\n",
      "Split #3, training on 555: n130Part3_predict\n",
      "Split #4, training on 556: n130Part4_predict\n"
     ]
    }
   ],
   "source": [
    "#diffFeatTop\n",
    "#densFeatTop\n",
    "# Gather default ordering of features\n",
    "#featList = pd.DataFrame(density_model.steps[1][1].feature_importances_,\n",
    "#                          index=dens_featurizer.feature_labels(),\n",
    "#                          columns=['importance'])\n",
    "#featList.reset_index(inplace=True)\n",
    "\n",
    "scoreDict = {}\n",
    "colList = []\n",
    "\n",
    "for n in range(0, len(featList)-20, 5):\n",
    "    # Grab n to n+12th most important features\n",
    "    featIndex = featList[ [x in diffFeatTop.iloc[n:n+20].index for x in featList['index']] ].index.values\n",
    "\n",
    "    X_temp = X_notTrouble[:, featIndex]\n",
    "\n",
    "    # Begin training with 5-fold CV\n",
    "    kf = KFold(5)\n",
    "    rep=0\n",
    "    \n",
    "    scoreDict[n] = []\n",
    "    print('--------------------------------------------------------')\n",
    "    for train_index, test_index in kf.split(varyFeatData['comp']):\n",
    "        # String for column name\n",
    "        colStr = 'n{}Part{}_predict'.format(n, rep)\n",
    "        colList.append(colStr)\n",
    "        \n",
    "        print('Split #{}, training on {}: {}'.format(rep, len(train_index), colStr))\n",
    "        \n",
    "        varyFeatData[colStr] = np.nan    \n",
    "        \n",
    "        density_model.fit(X_temp[train_index,:], varyFeatData['density'][train_index])\n",
    "\n",
    "        y_pred = density_model.predict(X_temp[test_index,:])\n",
    "        varyFeatData[colStr][test_index] = y_pred\n",
    "\n",
    "        #print(train_index, test_index)\n",
    "        rep+=1\n",
    "   "
   ]
  },
  {
   "cell_type": "code",
   "execution_count": 125,
   "metadata": {},
   "outputs": [
    {
     "data": {
      "text/html": [
       "<div>\n",
       "<style scoped>\n",
       "    .dataframe tbody tr th:only-of-type {\n",
       "        vertical-align: middle;\n",
       "    }\n",
       "\n",
       "    .dataframe tbody tr th {\n",
       "        vertical-align: top;\n",
       "    }\n",
       "\n",
       "    .dataframe thead th {\n",
       "        text-align: right;\n",
       "    }\n",
       "</style>\n",
       "<table border=\"1\" class=\"dataframe\">\n",
       "  <thead>\n",
       "    <tr style=\"text-align: right;\">\n",
       "      <th></th>\n",
       "      <th>comp</th>\n",
       "      <th>density</th>\n",
       "      <th>density_vegards</th>\n",
       "      <th>vegards_diff</th>\n",
       "      <th>vPlusDiff</th>\n",
       "      <th>n0Part0_predict</th>\n",
       "      <th>n0Part1_predict</th>\n",
       "      <th>n0Part2_predict</th>\n",
       "      <th>n0Part3_predict</th>\n",
       "      <th>n0Part4_predict</th>\n",
       "      <th>...</th>\n",
       "      <th>n125Part0_predict</th>\n",
       "      <th>n125Part1_predict</th>\n",
       "      <th>n125Part2_predict</th>\n",
       "      <th>n125Part3_predict</th>\n",
       "      <th>n125Part4_predict</th>\n",
       "      <th>n130Part0_predict</th>\n",
       "      <th>n130Part1_predict</th>\n",
       "      <th>n130Part2_predict</th>\n",
       "      <th>n130Part3_predict</th>\n",
       "      <th>n130Part4_predict</th>\n",
       "    </tr>\n",
       "  </thead>\n",
       "  <tbody>\n",
       "    <tr>\n",
       "      <th>0</th>\n",
       "      <td>(Ce, Al)</td>\n",
       "      <td>3.462</td>\n",
       "      <td>3.1070</td>\n",
       "      <td>0.355</td>\n",
       "      <td>3.418790</td>\n",
       "      <td>3.923103</td>\n",
       "      <td>NaN</td>\n",
       "      <td>NaN</td>\n",
       "      <td>NaN</td>\n",
       "      <td>NaN</td>\n",
       "      <td>...</td>\n",
       "      <td>4.401029</td>\n",
       "      <td>NaN</td>\n",
       "      <td>NaN</td>\n",
       "      <td>NaN</td>\n",
       "      <td>NaN</td>\n",
       "      <td>4.207330</td>\n",
       "      <td>NaN</td>\n",
       "      <td>NaN</td>\n",
       "      <td>NaN</td>\n",
       "      <td>NaN</td>\n",
       "    </tr>\n",
       "    <tr>\n",
       "      <th>1</th>\n",
       "      <td>(Al, Fe, B)</td>\n",
       "      <td>3.539</td>\n",
       "      <td>3.6620</td>\n",
       "      <td>-0.123</td>\n",
       "      <td>4.377142</td>\n",
       "      <td>4.650380</td>\n",
       "      <td>NaN</td>\n",
       "      <td>NaN</td>\n",
       "      <td>NaN</td>\n",
       "      <td>NaN</td>\n",
       "      <td>...</td>\n",
       "      <td>4.274711</td>\n",
       "      <td>NaN</td>\n",
       "      <td>NaN</td>\n",
       "      <td>NaN</td>\n",
       "      <td>NaN</td>\n",
       "      <td>4.145395</td>\n",
       "      <td>NaN</td>\n",
       "      <td>NaN</td>\n",
       "      <td>NaN</td>\n",
       "      <td>NaN</td>\n",
       "    </tr>\n",
       "    <tr>\n",
       "      <th>2</th>\n",
       "      <td>(Zr, Al, Ni)</td>\n",
       "      <td>3.384</td>\n",
       "      <td>3.5105</td>\n",
       "      <td>-0.1265</td>\n",
       "      <td>3.582263</td>\n",
       "      <td>3.984405</td>\n",
       "      <td>NaN</td>\n",
       "      <td>NaN</td>\n",
       "      <td>NaN</td>\n",
       "      <td>NaN</td>\n",
       "      <td>...</td>\n",
       "      <td>3.773131</td>\n",
       "      <td>NaN</td>\n",
       "      <td>NaN</td>\n",
       "      <td>NaN</td>\n",
       "      <td>NaN</td>\n",
       "      <td>4.145395</td>\n",
       "      <td>NaN</td>\n",
       "      <td>NaN</td>\n",
       "      <td>NaN</td>\n",
       "      <td>NaN</td>\n",
       "    </tr>\n",
       "    <tr>\n",
       "      <th>3</th>\n",
       "      <td>(Zr, Al, Ni)</td>\n",
       "      <td>3.517</td>\n",
       "      <td>3.6965</td>\n",
       "      <td>-0.1795</td>\n",
       "      <td>3.765707</td>\n",
       "      <td>4.017775</td>\n",
       "      <td>NaN</td>\n",
       "      <td>NaN</td>\n",
       "      <td>NaN</td>\n",
       "      <td>NaN</td>\n",
       "      <td>...</td>\n",
       "      <td>3.773131</td>\n",
       "      <td>NaN</td>\n",
       "      <td>NaN</td>\n",
       "      <td>NaN</td>\n",
       "      <td>NaN</td>\n",
       "      <td>4.145395</td>\n",
       "      <td>NaN</td>\n",
       "      <td>NaN</td>\n",
       "      <td>NaN</td>\n",
       "      <td>NaN</td>\n",
       "    </tr>\n",
       "    <tr>\n",
       "      <th>4</th>\n",
       "      <td>(Hf, Al, Ni)</td>\n",
       "      <td>2.835</td>\n",
       "      <td>3.8505</td>\n",
       "      <td>-1.0155</td>\n",
       "      <td>3.967953</td>\n",
       "      <td>3.968335</td>\n",
       "      <td>NaN</td>\n",
       "      <td>NaN</td>\n",
       "      <td>NaN</td>\n",
       "      <td>NaN</td>\n",
       "      <td>...</td>\n",
       "      <td>3.773131</td>\n",
       "      <td>NaN</td>\n",
       "      <td>NaN</td>\n",
       "      <td>NaN</td>\n",
       "      <td>NaN</td>\n",
       "      <td>4.145395</td>\n",
       "      <td>NaN</td>\n",
       "      <td>NaN</td>\n",
       "      <td>NaN</td>\n",
       "      <td>NaN</td>\n",
       "    </tr>\n",
       "  </tbody>\n",
       "</table>\n",
       "<p>5 rows × 140 columns</p>\n",
       "</div>"
      ],
      "text/plain": [
       "           comp density  density_vegards vegards_diff  vPlusDiff  \\\n",
       "0      (Ce, Al)   3.462           3.1070        0.355   3.418790   \n",
       "1   (Al, Fe, B)   3.539           3.6620       -0.123   4.377142   \n",
       "2  (Zr, Al, Ni)   3.384           3.5105      -0.1265   3.582263   \n",
       "3  (Zr, Al, Ni)   3.517           3.6965      -0.1795   3.765707   \n",
       "4  (Hf, Al, Ni)   2.835           3.8505      -1.0155   3.967953   \n",
       "\n",
       "   n0Part0_predict  n0Part1_predict  n0Part2_predict  n0Part3_predict  \\\n",
       "0         3.923103              NaN              NaN              NaN   \n",
       "1         4.650380              NaN              NaN              NaN   \n",
       "2         3.984405              NaN              NaN              NaN   \n",
       "3         4.017775              NaN              NaN              NaN   \n",
       "4         3.968335              NaN              NaN              NaN   \n",
       "\n",
       "   n0Part4_predict        ...          n125Part0_predict  n125Part1_predict  \\\n",
       "0              NaN        ...                   4.401029                NaN   \n",
       "1              NaN        ...                   4.274711                NaN   \n",
       "2              NaN        ...                   3.773131                NaN   \n",
       "3              NaN        ...                   3.773131                NaN   \n",
       "4              NaN        ...                   3.773131                NaN   \n",
       "\n",
       "   n125Part2_predict  n125Part3_predict  n125Part4_predict  n130Part0_predict  \\\n",
       "0                NaN                NaN                NaN           4.207330   \n",
       "1                NaN                NaN                NaN           4.145395   \n",
       "2                NaN                NaN                NaN           4.145395   \n",
       "3                NaN                NaN                NaN           4.145395   \n",
       "4                NaN                NaN                NaN           4.145395   \n",
       "\n",
       "   n130Part1_predict  n130Part2_predict  n130Part3_predict  n130Part4_predict  \n",
       "0                NaN                NaN                NaN                NaN  \n",
       "1                NaN                NaN                NaN                NaN  \n",
       "2                NaN                NaN                NaN                NaN  \n",
       "3                NaN                NaN                NaN                NaN  \n",
       "4                NaN                NaN                NaN                NaN  \n",
       "\n",
       "[5 rows x 140 columns]"
      ]
     },
     "execution_count": 125,
     "metadata": {},
     "output_type": "execute_result"
    }
   ],
   "source": [
    "varyFeatData.head()"
   ]
  },
  {
   "cell_type": "code",
   "execution_count": 127,
   "metadata": {},
   "outputs": [],
   "source": [
    "for name in colList:\n",
    "    num = int(re.search('n(\\d*)Part*', name)[1])\n",
    "    currSplit = varyFeatData[ ~varyFeatData[name].apply(np.isnan) ]\n",
    "    scoreDict[num].append( r2_score(currSplit['density'], currSplit[name]))\n",
    "    \n",
    "#print('avg: {}, std: {}'.format(np.mean(scores),np.std(scores)))"
   ]
  },
  {
   "cell_type": "code",
   "execution_count": 128,
   "metadata": {},
   "outputs": [],
   "source": [
    "ns = []\n",
    "avgs = []\n",
    "meds = []\n",
    "stds = []\n",
    "mins = []\n",
    "for key, item in scoreDict.items():\n",
    "    ns.append(key)\n",
    "    avgs.append(np.mean(item))\n",
    "    meds.append(np.median(item))\n",
    "    stds.append(np.std(item))\n",
    "    mins.append(np.min(item))"
   ]
  },
  {
   "cell_type": "code",
   "execution_count": 129,
   "metadata": {},
   "outputs": [],
   "source": [
    "ns = np.array(ns)\n",
    "avgs = np.array(avgs)\n",
    "meds = np.array(meds)\n",
    "stds = np.array(stds)\n",
    "mins = np.array(mins)"
   ]
  },
  {
   "cell_type": "code",
   "execution_count": 131,
   "metadata": {},
   "outputs": [
    {
     "name": "stdout",
     "output_type": "stream",
     "text": [
      "figure saved\n"
     ]
    },
    {
     "data": {
      "image/png": "[encoded data removed]",
      "text/plain": [
       "<matplotlib.figure.Figure at 0xe4afe80>"
      ]
     },
     "metadata": {},
     "output_type": "display_data"
    }
   ],
   "source": [
    "plt.figure()\n",
    "\n",
    "plt.title('Performance with 20 features')\n",
    "plt.xlabel('n where nth to n+20th most important feats used')\n",
    "plt.ylabel('r$^2$ score')\n",
    "\n",
    "plt.fill_between(ns, avgs - stds,\n",
    "                 avgs + stds, alpha=0.1,\n",
    "                 color=\"r\")\n",
    "plt.plot(ns, avgs, 'o-', color=\"r\", label='mean')\n",
    "plt.plot(ns, mins, 's-', color='g', label='min')\n",
    "plt.plot([-5,ns[-1]+5], [0, 0], '--', color='k')\n",
    "plt.legend(loc='lower left')\n",
    "\n",
    "plt.xlim([-5,ns[-1]+5])\n",
    "\n",
    "if saveFigures:\n",
    "    plt.savefig(os.path.join(os.getcwd(),'results','featElim_20_noOut.png'))\n",
    "    print('figure saved')"
   ]
  },
  {
   "cell_type": "code",
   "execution_count": 236,
   "metadata": {},
   "outputs": [],
   "source": [
    "# Sum importances\n",
    "featListSorted['cumSum_totalImp'] = featListSorted['totalImp'].cumsum()/5"
   ]
  },
  {
   "cell_type": "code",
   "execution_count": 239,
   "metadata": {},
   "outputs": [
    {
     "name": "stdout",
     "output_type": "stream",
     "text": [
      "figure saved\n"
     ]
    },
    {
     "data": {
      "image/png": "[encoded data removed]",
      "text/plain": [
       "<matplotlib.figure.Figure at 0x1f08ed68>"
      ]
     },
     "metadata": {},
     "output_type": "display_data"
    }
   ],
   "source": [
    "plt.figure()\n",
    "\n",
    "plt.plot(range(len(featListSorted)), featListSorted['cumSum_totalImp'])\n",
    "plt.ylabel('Cumulative Feature Importance')\n",
    "plt.xlabel('n most important features')\n",
    "\n",
    "if saveFigures:\n",
    "    plt.savefig(os.path.join(os.getcwd(),'results','cumSum_FeatImp.png'))\n",
    "    print('figure saved')"
   ]
  },
  {
   "cell_type": "raw",
   "metadata": {},
   "source": []
  }
 ],
 "metadata": {
  "kernelspec": {
   "display_name": "Python 3",
   "language": "python",
   "name": "python3"
  },
  "language_info": {
   "codemirror_mode": {
    "name": "ipython",
    "version": 3
   },
   "file_extension": ".py",
   "mimetype": "text/x-python",
   "name": "python",
   "nbconvert_exporter": "python",
   "pygments_lexer": "ipython3",
   "version": "3.6.3"
  }
 },
 "nbformat": 4,
 "nbformat_minor": 2
}
