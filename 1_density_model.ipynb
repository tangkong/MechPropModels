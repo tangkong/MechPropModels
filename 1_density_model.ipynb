{
 "cells": [
  {
   "cell_type": "code",
   "execution_count": 2,
   "metadata": {},
   "outputs": [],
   "source": [
    "%matplotlib inline\n",
    "from matplotlib import pyplot as plt\n",
    "from matminer.featurizers.base import MultipleFeaturizer, StackedFeaturizer\n",
    "from matminer.featurizers import composition as cf\n",
    "from sklearn.ensemble import RandomForestClassifier, RandomForestRegressor\n",
    "from sklearn.model_selection import GridSearchCV, ShuffleSplit, LeaveOneGroupOut, cross_val_score, learning_curve, KFold\n",
    "from sklearn.pipeline import Pipeline\n",
    "from sklearn.preprocessing import Imputer, LabelEncoder\n",
    "from sklearn.metrics import roc_curve, auc, r2_score, make_scorer\n",
    "from sklearn import metrics\n",
    "from pymatgen import Composition\n",
    "import pickle as pkl\n",
    "import pandas as pd\n",
    "import numpy as np\n",
    "import gzip\n",
    "import os"
   ]
  },
  {
   "cell_type": "code",
   "execution_count": 3,
   "metadata": {},
   "outputs": [],
   "source": [
    "def featCleanImpute(Y):\n",
    "    ''' Convert inf to NaN in feature array, in place\n",
    "    \n",
    "    Args: \n",
    "        Y, feature array, list of ndarray (#samples x #features)\n",
    "    Returns:\n",
    "        None\n",
    "    '''\n",
    "    # Clean inf values\n",
    "    for i in range(len(Y)):\n",
    "        for j in range(len(Y[i])):\n",
    "            if Y[i][j] == np.inf:\n",
    "                Y[i][j] = np.nan\n",
    "            else:\n",
    "                Y[i][j] = Y[i][j]\n",
    "                \n",
    "    # Impute nan values\n",
    "    imp = Imputer(missing_values='NaN', axis=0, strategy='mean', copy=False)\n",
    "    imp2 = Imputer(missing_values='NaN', axis=1, strategy='mean', copy=False)\n",
    "\n",
    "    imp.fit(Y)\n",
    "    imp.transform(Y)\n",
    "    imp2.fit(Y)\n",
    "    imp.transform(Y)\n",
    "    "
   ]
  },
  {
   "cell_type": "markdown",
   "metadata": {},
   "source": [
    "# Build Model: Density"
   ]
  },
  {
   "cell_type": "markdown",
   "metadata": {},
   "source": [
    "Import feature set, import data"
   ]
  },
  {
   "cell_type": "code",
   "execution_count": 52,
   "metadata": {},
   "outputs": [],
   "source": [
    "with gzip.open('./datasets/density_features.pkl.gz', 'rb') as fp:\n",
    "    X_dens = pkl.load(fp)\n",
    "with gzip.open('./datasets/density_data.pkl.gz', 'rb') as fd:\n",
    "    densityData = pkl.load(fd)"
   ]
  },
  {
   "cell_type": "code",
   "execution_count": 33,
   "metadata": {},
   "outputs": [],
   "source": [
    "density_model = Pipeline([('impute',Imputer()), \n",
    "                          ('model', RandomForestRegressor(n_estimators=100, n_jobs=1, max_features=12))])\n",
    "dens_featurizer = MultipleFeaturizer([cf.Stoichiometry(), cf.ElementProperty.from_preset(\"magpie\"),\n",
    "                                 cf.ValenceOrbital(props=['avg']), cf.IonProperty(fast=True),\n",
    "                                cf.YangSolidSolution(), cf.AtomicPackingEfficiency()])"
   ]
  },
  {
   "cell_type": "code",
   "execution_count": 34,
   "metadata": {},
   "outputs": [
    {
     "name": "stdout",
     "output_type": "stream",
     "text": [
      "Wall time: 369 ms\n"
     ]
    },
    {
     "data": {
      "text/plain": [
       "Pipeline(memory=None,\n",
       "     steps=[('impute', Imputer(axis=0, copy=True, missing_values='NaN', strategy='mean', verbose=0)), ('model', RandomForestRegressor(bootstrap=True, criterion='mse', max_depth=None,\n",
       "           max_features=12, max_leaf_nodes=None, min_impurity_decrease=0.0,\n",
       "           min_impurity_split=None, min_samples_leaf=1,\n",
       "           min_samples_split=2, min_weight_fraction_leaf=0.0,\n",
       "           n_estimators=100, n_jobs=1, oob_score=False, random_state=None,\n",
       "           verbose=0, warm_start=False))])"
      ]
     },
     "execution_count": 34,
     "metadata": {},
     "output_type": "execute_result"
    }
   ],
   "source": [
    "%%time\n",
    "density_model.fit(X_dens, y=densityData['density'])"
   ]
  },
  {
   "cell_type": "code",
   "execution_count": 35,
   "metadata": {},
   "outputs": [
    {
     "name": "stdout",
     "output_type": "stream",
     "text": [
      "(701, 152)\n",
      "152\n",
      "152\n"
     ]
    }
   ],
   "source": [
    "print(np.shape(X_dens))\n",
    "print(len(density_model.steps[1][1].feature_importances_))\n",
    "print(len(dens_featurizer.feature_labels()))"
   ]
  },
  {
   "cell_type": "code",
   "execution_count": 75,
   "metadata": {},
   "outputs": [],
   "source": [
    "# Look at feature importances when trained on the whole data set\n",
    "featureImp = pd.DataFrame(density_model.steps[1][1].feature_importances_,\n",
    "                          index=dens_featurizer.feature_labels(),\n",
    "                          columns=['importance']).sort_values('importance',ascending=False)\n",
    "# featureImp.to_csv(os.path.join(os.getcwd(),'results','defaultDensityModel_features.csv'))"
   ]
  },
  {
   "cell_type": "code",
   "execution_count": 66,
   "metadata": {},
   "outputs": [
    {
     "data": {
      "text/plain": [
       "importance    0.000901\n",
       "Name: Yang omega, dtype: float64"
      ]
     },
     "execution_count": 66,
     "metadata": {},
     "output_type": "execute_result"
    }
   ],
   "source": [
    "# Look at feature importances when trained on the whole data set\n",
    "featureImpUnsort = pd.DataFrame(density_model.steps[1][1].feature_importances_,\n",
    "                          index=dens_featurizer.feature_labels(),\n",
    "                          columns=['importance'])\n",
    "featureImpUnsort.iloc[-7]"
   ]
  },
  {
   "cell_type": "code",
   "execution_count": 19,
   "metadata": {},
   "outputs": [],
   "source": [
    "# make scorer for r2 metric\n",
    "r2_scorer = make_scorer(r2_score)"
   ]
  },
  {
   "cell_type": "markdown",
   "metadata": {},
   "source": [
    "# Generate learning curves, assess quality of model"
   ]
  },
  {
   "cell_type": "code",
   "execution_count": 40,
   "metadata": {},
   "outputs": [],
   "source": [
    "train_sizes, train_scores, valid_scores = learning_curve(density_model, X_dens, densityData['density'], cv=ShuffleSplit(),\n",
    "                                                          scoring=r2_scorer)"
   ]
  },
  {
   "cell_type": "code",
   "execution_count": 78,
   "metadata": {},
   "outputs": [
    {
     "data": {
      "image/png": "[encoded data removed]",
      "text/plain": [
       "<matplotlib.figure.Figure at 0x174fa550>"
      ]
     },
     "metadata": {},
     "output_type": "display_data"
    }
   ],
   "source": [
    "plt.figure()\n",
    "plt.title('Learning Curve, RForest: std features, max 12 features/estimator')\n",
    "plt.xlabel(\"Training examples: density data, SLAC.  Errors omitted\")\n",
    "plt.ylabel(\"$r^2$\")\n",
    "train_scores_mean = np.mean(train_scores, axis=1)\n",
    "train_scores_std = np.std(train_scores, axis=1)\n",
    "test_scores_mean = np.mean(valid_scores, axis=1)\n",
    "test_scores_std = np.std(valid_scores, axis=1)\n",
    "plt.grid()\n",
    "\n",
    "plt.fill_between(train_sizes, train_scores_mean - train_scores_std,\n",
    "                 train_scores_mean + train_scores_std, alpha=0.1,\n",
    "                 color=\"r\")\n",
    "plt.fill_between(train_sizes, test_scores_mean - test_scores_std,\n",
    "                 test_scores_mean + test_scores_std, alpha=0.1, color=\"g\")\n",
    "plt.plot(train_sizes, train_scores_mean, 'o-', color=\"r\",\n",
    "         label=\"Training score\")\n",
    "plt.plot(train_sizes, test_scores_mean, 'o-', color=\"g\",\n",
    "         label=\"Cross-validation score\")\n",
    "\n",
    "plt.legend(loc=\"best\")\n",
    "\n",
    "plt.savefig(os.path.join(os.getcwd(), 'results', 'baseModel_densityPruned.png'))"
   ]
  },
  {
   "cell_type": "code",
   "execution_count": 60,
   "metadata": {},
   "outputs": [
    {
     "name": "stdout",
     "output_type": "stream",
     "text": [
      "Split #0\n",
      "Split #1\n",
      "Split #2\n",
      "Split #3\n",
      "Split #4\n"
     ]
    }
   ],
   "source": [
    "#take predicted values from each cross validation set to ensure training not performed on own set.  Take 200 training samples\n",
    "# Probably could have used cross_val_predict\n",
    "kf = KFold(5)\n",
    "rep=0\n",
    "densityData['density_predict'] = np.nan\n",
    "for train_index, test_index in kf.split(densityData['comp']):\n",
    "    print('Split #{}'.format(rep))\n",
    "    density_model.fit(X_dens[train_index,:], densityData['density'][train_index])\n",
    "    \n",
    "    y_densPredict = density_model.predict(X_dens[test_index,:])\n",
    "    densityData['density_predict'][test_index] = y_densPredict\n",
    "    \n",
    "    #print(train_index, test_index)\n",
    "    rep+=1\n",
    "#y_densPredict = "
   ]
  },
  {
   "cell_type": "code",
   "execution_count": 98,
   "metadata": {},
   "outputs": [
    {
     "data": {
      "image/png": "[encoded data removed]",
      "text/plain": [
       "<matplotlib.figure.Figure at 0x194e1160>"
      ]
     },
     "metadata": {},
     "output_type": "display_data"
    }
   ],
   "source": [
    "plt.figure(figsize=(5,5))\n",
    "plt.scatter(densityData['density'], densityData['density_predict'], edgecolors='k')\n",
    "plt.plot([0,30], [0,30], 'r-')\n",
    "plt.xlabel('density [g/cm$^3$]')\n",
    "plt.ylabel('predicted density')\n",
    "\n",
    "r2Std = r2_score(densityData['density'], densityData['density_predict'])\n",
    "plt.text(7,20, 'R$^2$ score: {:.3f}'.format(r2Std))\n",
    "plt.xlim([0,25])\n",
    "plt.ylim([0,25])\n",
    "plt.title('standard model: density')\n",
    "\n",
    "plt.savefig(os.path.join(os.getcwd(),'results','densityScatter.png'))"
   ]
  },
  {
   "cell_type": "markdown",
   "metadata": {},
   "source": [
    "Compare to Vegard's law, rule of mixtures"
   ]
  },
  {
   "cell_type": "code",
   "execution_count": 44,
   "metadata": {},
   "outputs": [],
   "source": [
    "elemProp = pd.read_excel('datasets/ElementalDensityIonizationTable.xlsx')\n",
    "elemDensity = elemProp[['symbol', 'density [g/cm3]']]\n",
    "\n",
    "def vegardsDensity(comp):\n",
    "    '''\n",
    "    input: Composition object\n",
    "    '''\n",
    "        \n",
    "    density=0\n",
    "    elemSet = set(comp.elements)\n",
    "    subscriptCnt = 0\n",
    "    \n",
    "    for elem in elemSet:\n",
    "        subscriptCnt += comp[elem]\n",
    "        try: \n",
    "            densityPart = comp[elem]*elemDensity[ elemDensity['symbol'] == str(elem)]['density [g/cm3]'].item()\n",
    "        except:\n",
    "            print('element {} not found?'.format(elem))\n",
    "            return 'error'\n",
    "            \n",
    "        density += densityPart\n",
    "        # print('element {} added density of {}: {}'.format(elem, densityPart, density))\n",
    "                \n",
    "    # print(subscriptCnt)\n",
    "    return density / subscriptCnt"
   ]
  },
  {
   "cell_type": "code",
   "execution_count": 45,
   "metadata": {},
   "outputs": [],
   "source": [
    "comp = Composition('Ag10Zn30')\n",
    "comp2 = Composition('Ca3Al4')"
   ]
  },
  {
   "cell_type": "code",
   "execution_count": 46,
   "metadata": {},
   "outputs": [
    {
     "data": {
      "text/plain": [
       "2.2071428571428573"
      ]
     },
     "execution_count": 46,
     "metadata": {},
     "output_type": "execute_result"
    }
   ],
   "source": [
    "vegardsDensity(comp2)"
   ]
  },
  {
   "cell_type": "code",
   "execution_count": 68,
   "metadata": {},
   "outputs": [
    {
     "name": "stdout",
     "output_type": "stream",
     "text": [
      "Vegards: 0.8614466511737545, Random Forest Regressor: 0.8354906118737868\n"
     ]
    }
   ],
   "source": [
    "#densityData['density_vegards'] = pd.Series([vegardsDensity(comp) for comp in densityData['comp']])\n",
    "r2Vegards = r2_score(densityData['density'],densityData['density_vegards'])\n",
    "r2RF = r2_score(densityData['density'], densityData['density_predict'])\n",
    "print('Vegards: {}, Random Forest Regressor: {}'.format(r2Vegards, r2RF))"
   ]
  },
  {
   "cell_type": "code",
   "execution_count": 49,
   "metadata": {},
   "outputs": [],
   "source": [
    "#densityData[densityData['density_vegards']=='error']"
   ]
  },
  {
   "cell_type": "code",
   "execution_count": 63,
   "metadata": {},
   "outputs": [
    {
     "data": {
      "image/png": "[encoded data removed]",
      "text/plain": [
       "<matplotlib.figure.Figure at 0x167fa908>"
      ]
     },
     "metadata": {},
     "output_type": "display_data"
    }
   ],
   "source": [
    "plt.figure(figsize=(5,5))\n",
    "plt.scatter(densityData['density_vegards'], densityData['density_predict'], edgecolors='k')\n",
    "plt.plot([0,30], [0,30], 'r-')\n",
    "plt.xlabel('predicted density (vegards) [g/cm$^3$]')\n",
    "plt.ylabel('predicted density (ML)')\n",
    "\n",
    "plt.xlim([0,25])\n",
    "plt.ylim([0,25])\n",
    "\n",
    "plt.savefig(os.path.join(os.getcwd(),'results','densityVegards.png'))"
   ]
  },
  {
   "cell_type": "code",
   "execution_count": 97,
   "metadata": {},
   "outputs": [
    {
     "data": {
      "image/png": "[encoded data removed]",
      "text/plain": [
       "<matplotlib.figure.Figure at 0x194bf9b0>"
      ]
     },
     "metadata": {},
     "output_type": "display_data"
    }
   ],
   "source": [
    "plt.figure(figsize=(5,5))\n",
    "plt.scatter(densityData['density'], densityData['density_vegards'], edgecolors='k')\n",
    "plt.plot([0,30], [0,30], 'r-')\n",
    "plt.xlabel('density [g/cm$^3$]')\n",
    "plt.ylabel('predicted density (vegards)')\n",
    "\n",
    "r2V = r2_score(densityData['density'], densityData['density_vegards'])\n",
    "plt.text(7,20, 'R$^2$ score: {:.3f}'.format(r2V))\n",
    "\n",
    "plt.xlim([0,25])\n",
    "plt.ylim([0,25])\n",
    "\n",
    "plt.savefig(os.path.join(os.getcwd(),'results','densityVegardsVsTruth.png'))"
   ]
  },
  {
   "cell_type": "markdown",
   "metadata": {},
   "source": [
    "# Alternate Feature Set, only mean from ElementProperty feature set"
   ]
  },
  {
   "cell_type": "code",
   "execution_count": 80,
   "metadata": {},
   "outputs": [],
   "source": [
    "densModel_meanOnly = Pipeline([('impute',Imputer()), \n",
    "                          ('model', RandomForestRegressor(n_estimators=100, n_jobs=1, max_features=12))])\n",
    "elemPropFeatures = [\"Number\", \"MendeleevNumber\", \"AtomicWeight\", \"MeltingT\",\n",
    "                        \"Column\", \"Row\", \"CovalentRadius\",\n",
    "                        \"Electronegativity\", \"NsValence\", \"NpValence\",\n",
    "                        \"NdValence\", \"NfValence\", \"NValence\",\n",
    "                        \"NsUnfilled\", \"NpUnfilled\", \"NdUnfilled\", \"NfUnfilled\",\n",
    "                        \"NUnfilled\", \"GSvolume_pa\",\n",
    "                        \"GSbandgap\", \"GSmagmom\", \"SpaceGroupNumber\"]\n",
    "\n",
    "densMean_featurizer = MultipleFeaturizer([cf.Stoichiometry(), \n",
    "                          cf.ElementProperty(data_source='magpie', features = [\"Number\",     \n",
    "                                                    \"MendeleevNumber\", \"AtomicWeight\", \"MeltingT\",\n",
    "                                                    \"Column\", \"Row\", \"CovalentRadius\",\n",
    "                                                    \"Electronegativity\", \"NsValence\", \"NpValence\",\n",
    "                                                    \"NdValence\", \"NfValence\", \"NValence\",\n",
    "                                                    \"NsUnfilled\", \"NpUnfilled\", \"NdUnfilled\", \"NfUnfilled\",\n",
    "                                                    \"NUnfilled\", \"GSvolume_pa\",\n",
    "                                                    \"GSbandgap\", \"GSmagmom\", \"SpaceGroupNumber\"],\n",
    "                                                    stats=['mean']),\n",
    "                                 cf.ValenceOrbital(props=['avg']), cf.IonProperty(fast=True),\n",
    "                                cf.YangSolidSolution(), cf.AtomicPackingEfficiency()])"
   ]
  },
  {
   "cell_type": "code",
   "execution_count": 82,
   "metadata": {},
   "outputs": [
    {
     "name": "stdout",
     "output_type": "stream",
     "text": [
      "Computed 42 features\n",
      "Wall time: 18min 23s\n"
     ]
    }
   ],
   "source": [
    "%%time\n",
    "X_meanDens = densMean_featurizer.featurize_many(densityData['comp'], ignore_errors=True)\n",
    "X_meanDens = np.array(X_meanDens)\n",
    "X_meanDens.astype(float)\n",
    "print('Computed {} features'.format(X_meanDens.shape[1]))"
   ]
  },
  {
   "cell_type": "code",
   "execution_count": 84,
   "metadata": {},
   "outputs": [
    {
     "name": "stdout",
     "output_type": "stream",
     "text": [
      "Wall time: 463 ms\n"
     ]
    },
    {
     "data": {
      "text/plain": [
       "Pipeline(memory=None,\n",
       "     steps=[('impute', Imputer(axis=0, copy=True, missing_values='NaN', strategy='mean', verbose=0)), ('model', RandomForestRegressor(bootstrap=True, criterion='mse', max_depth=None,\n",
       "           max_features=12, max_leaf_nodes=None, min_impurity_decrease=0.0,\n",
       "           min_impurity_split=None, min_samples_leaf=1,\n",
       "           min_samples_split=2, min_weight_fraction_leaf=0.0,\n",
       "           n_estimators=100, n_jobs=1, oob_score=False, random_state=None,\n",
       "           verbose=0, warm_start=False))])"
      ]
     },
     "execution_count": 84,
     "metadata": {},
     "output_type": "execute_result"
    }
   ],
   "source": [
    "%%time \n",
    "# Fit the model\n",
    "densModel_meanOnly.fit(X_meanDens, densityData['density'])"
   ]
  },
  {
   "cell_type": "code",
   "execution_count": 85,
   "metadata": {},
   "outputs": [
    {
     "name": "stdout",
     "output_type": "stream",
     "text": [
      "Split #0\n",
      "Split #1\n",
      "Split #2\n",
      "Split #3\n",
      "Split #4\n"
     ]
    }
   ],
   "source": [
    "#take predicted values from each cross validation set to ensure training not performed on own set.  Take 200 training samples\n",
    "# Probably could have used cross_val_predict\n",
    "kf = KFold(5)\n",
    "rep=0\n",
    "densityData['density_predict_meanOnly'] = np.nan\n",
    "for train_index, test_index in kf.split(densityData['comp']):\n",
    "    print('Split #{}'.format(rep))\n",
    "    density_model.fit(X_meanDens[train_index,:], densityData['density'][train_index])\n",
    "    \n",
    "    y_densPredict = density_model.predict(X_meanDens[test_index,:])\n",
    "    densityData['density_predict_meanOnly'][test_index] = y_densPredict\n",
    "    \n",
    "    #print(train_index, test_index)\n",
    "    rep+=1\n",
    "#y_densPredict = "
   ]
  },
  {
   "cell_type": "code",
   "execution_count": 99,
   "metadata": {},
   "outputs": [
    {
     "data": {
      "image/png": "[encoded data removed]",
      "text/plain": [
       "<matplotlib.figure.Figure at 0x1950ce48>"
      ]
     },
     "metadata": {},
     "output_type": "display_data"
    }
   ],
   "source": [
    "# plot Comparison, report r2\n",
    "r2meanOnly = r2_score(densityData['density'], densityData['density_predict_meanOnly'])\n",
    "\n",
    "plt.figure(figsize=(5,5))\n",
    "plt.scatter(densityData['density'], densityData['density_predict_meanOnly'], edgecolors='k')\n",
    "plt.plot([0,30], [0,30], 'r-')\n",
    "plt.xlabel('density [g/cm$^3$]')\n",
    "plt.ylabel('predicted density, only mean ElementProperties')\n",
    "\n",
    "\n",
    "plt.text(7,20, 'R$^2$ score: {:.3f}'.format(r2meanOnly))\n",
    "plt.xlim([0,25])\n",
    "plt.ylim([0,25])\n",
    "plt.title('meanOnly model: density')\n",
    "\n",
    "plt.savefig(os.path.join(os.getcwd(),'results','densityScatter_meanOnly.png'))"
   ]
  },
  {
   "cell_type": "code",
   "execution_count": 92,
   "metadata": {},
   "outputs": [],
   "source": [
    "train_sizesMean, train_scoresMean, valid_scoresMean = learning_curve(densModel_meanOnly, X_meanDens, densityData['density'], cv=ShuffleSplit(),\n",
    "                                                          scoring=r2_scorer)"
   ]
  },
  {
   "cell_type": "code",
   "execution_count": 94,
   "metadata": {},
   "outputs": [
    {
     "data": {
      "image/png": "[encoded data removed]",
      "text/plain": [
       "<matplotlib.figure.Figure at 0x17f93da0>"
      ]
     },
     "metadata": {},
     "output_type": "display_data"
    }
   ],
   "source": [
    "plt.figure()\n",
    "plt.title('Learning Curve, RForest: only mean ElementProperties (42 features)')\n",
    "plt.xlabel(\"Training examples: density data, SLAC\")\n",
    "plt.ylabel(\"$r^2$\")\n",
    "train_scores_mean = np.mean(train_scoresMean, axis=1)\n",
    "train_scores_std = np.std(train_scoresMean, axis=1)\n",
    "test_scores_mean = np.mean(valid_scoresMean, axis=1)\n",
    "test_scores_std = np.std(valid_scoresMean, axis=1)\n",
    "plt.grid()\n",
    "\n",
    "plt.fill_between(train_sizesMean, train_scores_mean - train_scores_std,\n",
    "                 train_scores_mean + train_scores_std, alpha=0.1,\n",
    "                 color=\"r\")\n",
    "plt.fill_between(train_sizesMean, test_scores_mean - test_scores_std,\n",
    "                 test_scores_mean + test_scores_std, alpha=0.1, color=\"g\")\n",
    "plt.plot(train_sizesMean, train_scores_mean, 'o-', color=\"r\",\n",
    "         label=\"Training score\")\n",
    "plt.plot(train_sizesMean, test_scores_mean, 'o-', color=\"g\",\n",
    "         label=\"Cross-validation score\")\n",
    "\n",
    "plt.legend(loc=\"best\")\n",
    "\n",
    "plt.savefig(os.path.join(os.getcwd(), 'results', 'baseModel_densityMeanOnly.png'))"
   ]
  },
  {
   "cell_type": "markdown",
   "metadata": {},
   "source": [
    "# Investigating poorly performing predictions"
   ]
  },
  {
   "cell_type": "code",
   "execution_count": 113,
   "metadata": {},
   "outputs": [],
   "source": [
    "largeErrorDensity = densityData[ [ abs((x-y)/x) > 0.5 for x,y in zip(densityData['density'], densityData['density_predict']) ]]"
   ]
  },
  {
   "cell_type": "code",
   "execution_count": 114,
   "metadata": {},
   "outputs": [
    {
     "data": {
      "text/html": [
       "<div>\n",
       "<style scoped>\n",
       "    .dataframe tbody tr th:only-of-type {\n",
       "        vertical-align: middle;\n",
       "    }\n",
       "\n",
       "    .dataframe tbody tr th {\n",
       "        vertical-align: top;\n",
       "    }\n",
       "\n",
       "    .dataframe thead th {\n",
       "        text-align: right;\n",
       "    }\n",
       "</style>\n",
       "<table border=\"1\" class=\"dataframe\">\n",
       "  <thead>\n",
       "    <tr style=\"text-align: right;\">\n",
       "      <th></th>\n",
       "      <th>comp</th>\n",
       "      <th>density</th>\n",
       "      <th>density_vegards</th>\n",
       "      <th>density_predict</th>\n",
       "      <th>density_predict_meanOnly</th>\n",
       "    </tr>\n",
       "  </thead>\n",
       "  <tbody>\n",
       "    <tr>\n",
       "      <th>1</th>\n",
       "      <td>(Al, Fe, B)</td>\n",
       "      <td>3.539</td>\n",
       "      <td>3.66200</td>\n",
       "      <td>5.817383</td>\n",
       "      <td>4.844840</td>\n",
       "    </tr>\n",
       "    <tr>\n",
       "      <th>4</th>\n",
       "      <td>(Hf, Al, Ni)</td>\n",
       "      <td>2.835</td>\n",
       "      <td>3.85050</td>\n",
       "      <td>5.581040</td>\n",
       "      <td>3.982367</td>\n",
       "    </tr>\n",
       "    <tr>\n",
       "      <th>5</th>\n",
       "      <td>(Nb, Al, Ni)</td>\n",
       "      <td>3.449</td>\n",
       "      <td>3.61350</td>\n",
       "      <td>5.549445</td>\n",
       "      <td>4.016457</td>\n",
       "    </tr>\n",
       "    <tr>\n",
       "      <th>24</th>\n",
       "      <td>(Al, V, Fe)</td>\n",
       "      <td>2.884</td>\n",
       "      <td>2.93980</td>\n",
       "      <td>5.143712</td>\n",
       "      <td>3.805915</td>\n",
       "    </tr>\n",
       "    <tr>\n",
       "      <th>56</th>\n",
       "      <td>(Y, Mg, Zn, Cu)</td>\n",
       "      <td>2.47</td>\n",
       "      <td>2.80927</td>\n",
       "      <td>3.906464</td>\n",
       "      <td>3.730377</td>\n",
       "    </tr>\n",
       "    <tr>\n",
       "      <th>67</th>\n",
       "      <td>(Ca, Al)</td>\n",
       "      <td>1.738</td>\n",
       "      <td>1.93640</td>\n",
       "      <td>3.080266</td>\n",
       "      <td>3.283033</td>\n",
       "    </tr>\n",
       "    <tr>\n",
       "      <th>68</th>\n",
       "      <td>(Ca, Al, Ag)</td>\n",
       "      <td>2.197</td>\n",
       "      <td>2.79000</td>\n",
       "      <td>3.469263</td>\n",
       "      <td>3.500853</td>\n",
       "    </tr>\n",
       "    <tr>\n",
       "      <th>69</th>\n",
       "      <td>(Ca, Mg, Al)</td>\n",
       "      <td>1.736</td>\n",
       "      <td>1.91400</td>\n",
       "      <td>2.946232</td>\n",
       "      <td>3.091332</td>\n",
       "    </tr>\n",
       "    <tr>\n",
       "      <th>70</th>\n",
       "      <td>(Ca, Al, Zn)</td>\n",
       "      <td>2</td>\n",
       "      <td>2.45300</td>\n",
       "      <td>3.018026</td>\n",
       "      <td>3.245160</td>\n",
       "    </tr>\n",
       "    <tr>\n",
       "      <th>71</th>\n",
       "      <td>(Ca, Mg, Al, Cu)</td>\n",
       "      <td>1.871</td>\n",
       "      <td>2.26725</td>\n",
       "      <td>2.996972</td>\n",
       "      <td>3.264013</td>\n",
       "    </tr>\n",
       "    <tr>\n",
       "      <th>72</th>\n",
       "      <td>(Ca, Mg, Al, Ag)</td>\n",
       "      <td>1.97</td>\n",
       "      <td>2.34425</td>\n",
       "      <td>3.262187</td>\n",
       "      <td>3.226131</td>\n",
       "    </tr>\n",
       "    <tr>\n",
       "      <th>77</th>\n",
       "      <td>(Ca, Mg, Al)</td>\n",
       "      <td>1.648</td>\n",
       "      <td>1.75100</td>\n",
       "      <td>2.642957</td>\n",
       "      <td>3.085505</td>\n",
       "    </tr>\n",
       "    <tr>\n",
       "      <th>155</th>\n",
       "      <td>(Zr, Nb, Al, Cu, Ni)</td>\n",
       "      <td>6.758</td>\n",
       "      <td>6.91044</td>\n",
       "      <td>12.381683</td>\n",
       "      <td>12.390891</td>\n",
       "    </tr>\n",
       "    <tr>\n",
       "      <th>458</th>\n",
       "      <td>(Zr, Nb, Al, Cu, Ni)</td>\n",
       "      <td>6.69</td>\n",
       "      <td>6.91044</td>\n",
       "      <td>12.305884</td>\n",
       "      <td>12.233124</td>\n",
       "    </tr>\n",
       "    <tr>\n",
       "      <th>606</th>\n",
       "      <td>(Zr, Nb, Al, Cu, Ni)</td>\n",
       "      <td>15.2</td>\n",
       "      <td>6.91044</td>\n",
       "      <td>6.724616</td>\n",
       "      <td>6.720214</td>\n",
       "    </tr>\n",
       "    <tr>\n",
       "      <th>607</th>\n",
       "      <td>(Zr, Nb, Al, Cu, Ni)</td>\n",
       "      <td>14.3</td>\n",
       "      <td>6.91044</td>\n",
       "      <td>6.724616</td>\n",
       "      <td>6.720214</td>\n",
       "    </tr>\n",
       "    <tr>\n",
       "      <th>608</th>\n",
       "      <td>(Zr, Nb, Al, Cu, Ni)</td>\n",
       "      <td>15.67</td>\n",
       "      <td>6.91044</td>\n",
       "      <td>6.724616</td>\n",
       "      <td>6.720214</td>\n",
       "    </tr>\n",
       "    <tr>\n",
       "      <th>609</th>\n",
       "      <td>(Zr, Nb, Al, Cu, Ni)</td>\n",
       "      <td>15.44</td>\n",
       "      <td>6.91044</td>\n",
       "      <td>6.724616</td>\n",
       "      <td>6.720214</td>\n",
       "    </tr>\n",
       "  </tbody>\n",
       "</table>\n",
       "</div>"
      ],
      "text/plain": [
       "                     comp density  density_vegards  density_predict  \\\n",
       "1             (Al, Fe, B)   3.539          3.66200         5.817383   \n",
       "4            (Hf, Al, Ni)   2.835          3.85050         5.581040   \n",
       "5            (Nb, Al, Ni)   3.449          3.61350         5.549445   \n",
       "24            (Al, V, Fe)   2.884          2.93980         5.143712   \n",
       "56        (Y, Mg, Zn, Cu)    2.47          2.80927         3.906464   \n",
       "67               (Ca, Al)   1.738          1.93640         3.080266   \n",
       "68           (Ca, Al, Ag)   2.197          2.79000         3.469263   \n",
       "69           (Ca, Mg, Al)   1.736          1.91400         2.946232   \n",
       "70           (Ca, Al, Zn)       2          2.45300         3.018026   \n",
       "71       (Ca, Mg, Al, Cu)   1.871          2.26725         2.996972   \n",
       "72       (Ca, Mg, Al, Ag)    1.97          2.34425         3.262187   \n",
       "77           (Ca, Mg, Al)   1.648          1.75100         2.642957   \n",
       "155  (Zr, Nb, Al, Cu, Ni)   6.758          6.91044        12.381683   \n",
       "458  (Zr, Nb, Al, Cu, Ni)    6.69          6.91044        12.305884   \n",
       "606  (Zr, Nb, Al, Cu, Ni)    15.2          6.91044         6.724616   \n",
       "607  (Zr, Nb, Al, Cu, Ni)    14.3          6.91044         6.724616   \n",
       "608  (Zr, Nb, Al, Cu, Ni)   15.67          6.91044         6.724616   \n",
       "609  (Zr, Nb, Al, Cu, Ni)   15.44          6.91044         6.724616   \n",
       "\n",
       "     density_predict_meanOnly  \n",
       "1                    4.844840  \n",
       "4                    3.982367  \n",
       "5                    4.016457  \n",
       "24                   3.805915  \n",
       "56                   3.730377  \n",
       "67                   3.283033  \n",
       "68                   3.500853  \n",
       "69                   3.091332  \n",
       "70                   3.245160  \n",
       "71                   3.264013  \n",
       "72                   3.226131  \n",
       "77                   3.085505  \n",
       "155                 12.390891  \n",
       "458                 12.233124  \n",
       "606                  6.720214  \n",
       "607                  6.720214  \n",
       "608                  6.720214  \n",
       "609                  6.720214  "
      ]
     },
     "execution_count": 114,
     "metadata": {},
     "output_type": "execute_result"
    }
   ],
   "source": [
    "largeErrorDensity"
   ]
  },
  {
   "cell_type": "code",
   "execution_count": 116,
   "metadata": {},
   "outputs": [
    {
     "name": "stdout",
     "output_type": "stream",
     "text": [
      "Al3 Fe1 B1\n",
      "Hf1 Al17 Ni2\n",
      "Nb1 Al17 Ni2\n",
      "Al47 V2 Fe1\n",
      "Y4.7 Mg81 Zn5 Cu9.3\n",
      "Ca66.4 Al33.6\n",
      "Ca6 Al3 Ag1\n",
      "Ca6 Mg1 Al3\n",
      "Ca6 Al3 Zn1\n",
      "Ca56.5 Mg10 Al28.5 Cu5\n",
      "Ca56.5 Mg10 Al28.5 Ag5\n",
      "Ca14 Mg3 Al3\n",
      "Zr57 Nb5 Al10 Cu15.4 Ni12.6\n",
      "Zr57 Nb5 Al10 Cu15.4 Ni12.6\n",
      "Zr57 Nb5 Al10 Cu15.4 Ni12.6\n",
      "Zr57 Nb5 Al10 Cu15.4 Ni12.6\n",
      "Zr57 Nb5 Al10 Cu15.4 Ni12.6\n",
      "Zr57 Nb5 Al10 Cu15.4 Ni12.6\n"
     ]
    }
   ],
   "source": [
    "for comp in largeErrorDensity['comp']:\n",
    "    print(comp)"
   ]
  },
  {
   "cell_type": "code",
   "execution_count": null,
   "metadata": {},
   "outputs": [],
   "source": []
  }
 ],
 "metadata": {
  "kernelspec": {
   "display_name": "Python 3",
   "language": "python",
   "name": "python3"
  },
  "language_info": {
   "codemirror_mode": {
    "name": "ipython",
    "version": 3
   },
   "file_extension": ".py",
   "mimetype": "text/x-python",
   "name": "python",
   "nbconvert_exporter": "python",
   "pygments_lexer": "ipython3",
   "version": "3.6.3"
  }
 },
 "nbformat": 4,
 "nbformat_minor": 2
}
