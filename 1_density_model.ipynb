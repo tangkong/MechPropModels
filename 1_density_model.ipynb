{
 "cells": [
  {
   "cell_type": "code",
   "execution_count": 1,
   "metadata": {},
   "outputs": [],
   "source": [
    "%matplotlib inline\n",
    "from matplotlib import pyplot as plt\n",
    "from matminer.featurizers.base import MultipleFeaturizer, StackedFeaturizer\n",
    "from matminer.featurizers import composition as cf\n",
    "from sklearn.ensemble import RandomForestClassifier, RandomForestRegressor\n",
    "from sklearn.model_selection import GridSearchCV, ShuffleSplit, LeaveOneGroupOut, cross_val_score, learning_curve, KFold\n",
    "from sklearn.pipeline import Pipeline\n",
    "from sklearn.preprocessing import Imputer, LabelEncoder\n",
    "from sklearn.metrics import roc_curve, auc, r2_score, make_scorer, mean_absolute_error\n",
    "from sklearn.feature_selection import RFECV\n",
    "from sklearn import metrics\n",
    "from pymatgen import Composition\n",
    "import pickle as pkl\n",
    "import pandas as pd\n",
    "import numpy as np\n",
    "import gzip\n",
    "import os\n",
    "import re"
   ]
  },
  {
   "cell_type": "code",
   "execution_count": 2,
   "metadata": {},
   "outputs": [],
   "source": [
    "saveFigures=False"
   ]
  },
  {
   "cell_type": "code",
   "execution_count": 3,
   "metadata": {},
   "outputs": [],
   "source": [
    "def featCleanImpute(Y):\n",
    "    ''' Convert inf to NaN in feature array, in place\n",
    "    \n",
    "    Args: \n",
    "        Y, feature array, list of ndarray (#samples x #features)\n",
    "    Returns:\n",
    "        None\n",
    "    '''\n",
    "    # Clean inf values\n",
    "    for i in range(len(Y)):\n",
    "        for j in range(len(Y[i])):\n",
    "            if Y[i][j] == np.inf:\n",
    "                Y[i][j] = np.nan\n",
    "            else:\n",
    "                Y[i][j] = Y[i][j]\n",
    "                \n",
    "    # Impute nan values\n",
    "    imp = Imputer(missing_values='NaN', axis=0, strategy='mean', copy=False)\n",
    "    imp2 = Imputer(missing_values='NaN', axis=1, strategy='mean', copy=False)\n",
    "\n",
    "    imp.fit(Y)\n",
    "    imp.transform(Y)\n",
    "    imp2.fit(Y)\n",
    "    imp.transform(Y)\n",
    "    "
   ]
  },
  {
   "cell_type": "code",
   "execution_count": 4,
   "metadata": {},
   "outputs": [],
   "source": [
    "elemProp = pd.read_excel('datasets/ElementalDensityIonizationTable.xlsx')\n",
    "elemDensity = elemProp[['symbol', 'density [g/cm3]']]\n",
    "\n",
    "def vegardsDensity(comp):\n",
    "    '''\n",
    "    input: Composition object\n",
    "    '''\n",
    "        \n",
    "    density=0\n",
    "    elemSet = set(comp.elements)\n",
    "    subscriptCnt = 0\n",
    "    \n",
    "    for elem in elemSet:\n",
    "        subscriptCnt += comp[elem]\n",
    "        try: \n",
    "            densityPart = comp[elem]*elemDensity[ elemDensity['symbol'] == str(elem)]['density [g/cm3]'].item()\n",
    "        except:\n",
    "            print('element {} not found?'.format(elem))\n",
    "            return 'error'\n",
    "            \n",
    "        density += densityPart\n",
    "        # print('element {} added density of {}: {}'.format(elem, densityPart, density))\n",
    "                \n",
    "    # print(subscriptCnt)\n",
    "    return density / subscriptCnt"
   ]
  },
  {
   "cell_type": "markdown",
   "metadata": {},
   "source": [
    "# Build Model: Density"
   ]
  },
  {
   "cell_type": "markdown",
   "metadata": {},
   "source": [
    "Import feature set, import data"
   ]
  },
  {
   "cell_type": "code",
   "execution_count": 5,
   "metadata": {},
   "outputs": [],
   "source": [
    "with gzip.open('./datasets/density_features.pkl.gz', 'rb') as fp:\n",
    "    X_dens = pkl.load(fp)\n",
    "with gzip.open('./datasets/density_data.pkl.gz', 'rb') as fd:\n",
    "    densityData = pkl.load(fd)"
   ]
  },
  {
   "cell_type": "code",
   "execution_count": 6,
   "metadata": {},
   "outputs": [],
   "source": [
    "density_model = Pipeline([('impute',Imputer()), \n",
    "                          ('model', RandomForestRegressor(n_estimators=100, n_jobs=1, max_features=12))])\n",
    "dens_featurizer = MultipleFeaturizer([cf.Stoichiometry(), cf.ElementProperty.from_preset(\"magpie\"),\n",
    "                                 cf.ValenceOrbital(props=['avg']), cf.IonProperty(fast=True),\n",
    "                                cf.YangSolidSolution(), cf.AtomicPackingEfficiency()])"
   ]
  },
  {
   "cell_type": "code",
   "execution_count": 7,
   "metadata": {},
   "outputs": [
    {
     "name": "stdout",
     "output_type": "stream",
     "text": [
      "Wall time: 390 ms\n"
     ]
    },
    {
     "data": {
      "text/plain": [
       "Pipeline(memory=None,\n",
       "     steps=[('impute', Imputer(axis=0, copy=True, missing_values='NaN', strategy='mean', verbose=0)), ('model', RandomForestRegressor(bootstrap=True, criterion='mse', max_depth=None,\n",
       "           max_features=12, max_leaf_nodes=None, min_impurity_decrease=0.0,\n",
       "           min_impurity_split=None, min_samples_leaf=1,\n",
       "           min_samples_split=2, min_weight_fraction_leaf=0.0,\n",
       "           n_estimators=100, n_jobs=1, oob_score=False, random_state=None,\n",
       "           verbose=0, warm_start=False))])"
      ]
     },
     "execution_count": 7,
     "metadata": {},
     "output_type": "execute_result"
    }
   ],
   "source": [
    "%%time\n",
    "density_model.fit(X_dens, y=densityData['density'])"
   ]
  },
  {
   "cell_type": "code",
   "execution_count": 8,
   "metadata": {},
   "outputs": [],
   "source": [
    "# Export for testing with MAPI data?\n",
    "with gzip.open('./datasets/MG_density_model.pkl.gz', 'wb') as fp:\n",
    "    pkl.dump(density_model, fp)"
   ]
  },
  {
   "cell_type": "code",
   "execution_count": 9,
   "metadata": {},
   "outputs": [
    {
     "name": "stdout",
     "output_type": "stream",
     "text": [
      "(701, 152)\n",
      "152\n",
      "152\n"
     ]
    }
   ],
   "source": [
    "print(np.shape(X_dens)) # should be (701 x 152)\n",
    "print(len(density_model.steps[1][1].feature_importances_)) # should be 152\n",
    "print(len(dens_featurizer.feature_labels())) # should be 152"
   ]
  },
  {
   "cell_type": "code",
   "execution_count": 10,
   "metadata": {},
   "outputs": [],
   "source": [
    "# Look at feature importances when trained on the whole data set\n",
    "featureImp = pd.DataFrame(density_model.steps[1][1].feature_importances_,\n",
    "                          index=dens_featurizer.feature_labels(),\n",
    "                          columns=['importance']).sort_values('importance',ascending=False)\n",
    "# featureImp.to_csv(os.path.join(os.getcwd(),'results','defaultDensityModel_features.csv'))"
   ]
  },
  {
   "cell_type": "code",
   "execution_count": 11,
   "metadata": {},
   "outputs": [],
   "source": [
    "# make scorer for r2 metric\n",
    "r2_scorer = make_scorer(r2_score)"
   ]
  },
  {
   "cell_type": "markdown",
   "metadata": {},
   "source": [
    "# Generate learning curves, assess initial quality of model"
   ]
  },
  {
   "cell_type": "code",
   "execution_count": 12,
   "metadata": {},
   "outputs": [],
   "source": [
    "train_sizes, train_scores, valid_scores = learning_curve(density_model, X_dens, densityData['density'], cv=ShuffleSplit(),\n",
    "                                                          scoring=r2_scorer)"
   ]
  },
  {
   "cell_type": "code",
   "execution_count": 13,
   "metadata": {
    "scrolled": true
   },
   "outputs": [
    {
     "data": {
      "image/png": "[encoded data removed]",
      "text/plain": [
       "<matplotlib.figure.Figure at 0x13aec4e0>"
      ]
     },
     "metadata": {},
     "output_type": "display_data"
    }
   ],
   "source": [
    "plt.figure()\n",
    "plt.title('Learning Curve, RForest: std features, max 12 features/estimator')\n",
    "plt.xlabel(\"Training examples: density data, SLAC.  Errors omitted\")\n",
    "plt.ylabel(\"$r^2$\")\n",
    "train_scores_mean = np.mean(train_scores, axis=1)\n",
    "train_scores_std = np.std(train_scores, axis=1)\n",
    "test_scores_mean = np.mean(valid_scores, axis=1)\n",
    "test_scores_std = np.std(valid_scores, axis=1)\n",
    "plt.grid()\n",
    "\n",
    "plt.fill_between(train_sizes, train_scores_mean - train_scores_std,\n",
    "                 train_scores_mean + train_scores_std, alpha=0.1,\n",
    "                 color=\"r\")\n",
    "plt.fill_between(train_sizes, test_scores_mean - test_scores_std,\n",
    "                 test_scores_mean + test_scores_std, alpha=0.1, color=\"g\")\n",
    "plt.plot(train_sizes, train_scores_mean, 'o-', color=\"r\",\n",
    "         label=\"Training score\")\n",
    "plt.plot(train_sizes, test_scores_mean, 'o-', color=\"g\",\n",
    "         label=\"Cross-validation score\")\n",
    "\n",
    "plt.legend(loc=\"best\")\n",
    "plt.ylim([0.7, 1])\n",
    "\n",
    "if saveFigures:\n",
    "    plt.savefig(os.path.join(os.getcwd(), 'results', 'finalFigs', \n",
    "                             'densityMG-v1.0_LearningCurve.png'))\n",
    "    print('figure saved')"
   ]
  },
  {
   "cell_type": "code",
   "execution_count": 14,
   "metadata": {},
   "outputs": [
    {
     "name": "stdout",
     "output_type": "stream",
     "text": [
      "Split #0\n",
      "Split #1\n",
      "Split #2\n",
      "Split #3\n",
      "Split #4\n"
     ]
    }
   ],
   "source": [
    "#take predicted values from each cross validation set to ensure training not performed on own set.  Take 200 training samples\n",
    "# Probably could have used cross_val_predict\n",
    "kf = KFold(5)\n",
    "rep=0\n",
    "densityData['density_predict'] = np.nan\n",
    "for train_index, test_index in kf.split(densityData['comp']):\n",
    "    print('Split #{}'.format(rep))\n",
    "    density_model.fit(X_dens[train_index,:], densityData['density'][train_index])\n",
    "    \n",
    "    y_densPredict = density_model.predict(X_dens[test_index,:])\n",
    "    densityData['density_predict'][test_index] = y_densPredict\n",
    "    \n",
    "    #print(train_index, test_index)\n",
    "    rep+=1\n",
    "#y_densPredict = "
   ]
  },
  {
   "cell_type": "code",
   "execution_count": 15,
   "metadata": {
    "scrolled": true
   },
   "outputs": [
    {
     "data": {
      "image/png": "[encoded data removed]",
      "text/plain": [
       "<matplotlib.figure.Figure at 0x15bb5c88>"
      ]
     },
     "metadata": {},
     "output_type": "display_data"
    }
   ],
   "source": [
    "plt.figure(figsize=(5,5))\n",
    "plt.scatter(densityData['density'], densityData['density_predict'], edgecolors='k')\n",
    "plt.plot([0,30], [0,30], 'r-')\n",
    "plt.xlabel('density [g/cm$^3$]')\n",
    "plt.ylabel('predicted density (RF)')\n",
    "\n",
    "r2Std = r2_score(densityData['density'], densityData['density_predict'])\n",
    "plt.text(7,20, 'R$^2$ score: {:.3f}'.format(r2Std))\n",
    "plt.xlim([0,25])\n",
    "plt.ylim([0,25])\n",
    "plt.title('Gen. 0')\n",
    "\n",
    "if saveFigures:\n",
    "    plt.savefig(os.path.join(os.getcwd(), 'results', 'finalFigs', \n",
    "                             'densityMG-v0_Scatter.png'))\n",
    "    print('figure saved')"
   ]
  },
  {
   "cell_type": "markdown",
   "metadata": {},
   "source": [
    "Compare to Vegard's law, rule of mixtures"
   ]
  },
  {
   "cell_type": "code",
   "execution_count": 16,
   "metadata": {},
   "outputs": [],
   "source": [
    "densityData['density_vegards'] = np.nan\n",
    "densityData['density_vegards'] = [vegardsDensity(c) for c in densityData['comp']]\n",
    "densityData['vegards_diff'] = densityData['density'] - densityData['density_vegards']"
   ]
  },
  {
   "cell_type": "code",
   "execution_count": 17,
   "metadata": {},
   "outputs": [
    {
     "name": "stdout",
     "output_type": "stream",
     "text": [
      "Vegards: 0.8614466511737545, Random Forest Regressor: 0.834774621570455\n"
     ]
    }
   ],
   "source": [
    "#densityData['density_vegards'] = pd.Series([vegardsDensity(comp) for comp in densityData['comp']])\n",
    "r2Vegards = r2_score(densityData['density'],densityData['density_vegards'])\n",
    "r2RF = r2_score(densityData['density'], densityData['density_predict'])\n",
    "print('Vegards: {}, Random Forest Regressor: {}'.format(r2Vegards, r2RF))"
   ]
  },
  {
   "cell_type": "code",
   "execution_count": 18,
   "metadata": {},
   "outputs": [
    {
     "data": {
      "image/png": "[encoded data removed]",
      "text/plain": [
       "<matplotlib.figure.Figure at 0x15ce0d68>"
      ]
     },
     "metadata": {},
     "output_type": "display_data"
    }
   ],
   "source": [
    "plt.figure(figsize=(5,5))\n",
    "plt.scatter(densityData['density'], densityData['density_vegards'], edgecolors='k')\n",
    "plt.plot([0,30], [0,30], 'r-')\n",
    "plt.xlabel('density [g/cm$^3$]')\n",
    "plt.ylabel('predicted density (Vegard\\'s)')\n",
    "plt.title('Gen. 0')\n",
    "\n",
    "r2V = r2_score(densityData['density'], densityData['density_vegards'])\n",
    "plt.text(7,20, 'R$^2$ score: {:.3f}'.format(r2V))\n",
    "\n",
    "plt.xlim([0,25])\n",
    "plt.ylim([0,25])\n",
    "\n",
    "if saveFigures:\n",
    "    plt.savefig(os.path.join(os.getcwd(), 'results', 'finalFigs', \n",
    "                             'densityMG-v0_Vegards_Scatter.png'))\n",
    "    print('figure saved')"
   ]
  },
  {
   "cell_type": "markdown",
   "metadata": {},
   "source": [
    "# Investigating poorly performing predictions"
   ]
  },
  {
   "cell_type": "code",
   "execution_count": 19,
   "metadata": {},
   "outputs": [
    {
     "name": "stdout",
     "output_type": "stream",
     "text": [
      "Cu1.5 Si1.5 Ag0.3 B4 P18 Pt74.7\n",
      "Ta21 Co11 Ni18\n",
      "Hf62 Al13 Ni9.75\n",
      "Hf46 Nb2 Al13 Cu29.25 Ni9.75\n",
      "Hf49 Ta2 Al12 Cu27.75 Ni9.25\n",
      "Fe9 P5 Pt6\n",
      "Zr57 Nb5 Al10 Cu15.4 Ni12.6\n",
      "Zr57 Nb5 Al10 Cu15.4 Ni12.6\n",
      "Zr57 Nb5 Al10 Cu15.4 Ni12.6\n",
      "Zr57 Nb5 Al10 Cu15.4 Ni12.6\n"
     ]
    }
   ],
   "source": [
    "largeErrorDensity = densityData[ [ (abs((x-y)) > 2)&(x>10) for x,y in zip(densityData['density'], densityData['density_predict']) ]]\n",
    "for comp in largeErrorDensity['comp']:\n",
    "    print(comp)"
   ]
  },
  {
   "cell_type": "code",
   "execution_count": 20,
   "metadata": {},
   "outputs": [
    {
     "data": {
      "text/html": [
       "<div>\n",
       "<style scoped>\n",
       "    .dataframe tbody tr th:only-of-type {\n",
       "        vertical-align: middle;\n",
       "    }\n",
       "\n",
       "    .dataframe tbody tr th {\n",
       "        vertical-align: top;\n",
       "    }\n",
       "\n",
       "    .dataframe thead th {\n",
       "        text-align: right;\n",
       "    }\n",
       "</style>\n",
       "<table border=\"1\" class=\"dataframe\">\n",
       "  <thead>\n",
       "    <tr style=\"text-align: right;\">\n",
       "      <th></th>\n",
       "      <th>comp</th>\n",
       "      <th>density</th>\n",
       "      <th>density_predict</th>\n",
       "      <th>density_vegards</th>\n",
       "      <th>vegards_diff</th>\n",
       "    </tr>\n",
       "  </thead>\n",
       "  <tbody>\n",
       "    <tr>\n",
       "      <th>155</th>\n",
       "      <td>(Zr, Nb, Al, Cu, Ni)</td>\n",
       "      <td>6.758</td>\n",
       "      <td>12.330885</td>\n",
       "      <td>6.91044</td>\n",
       "      <td>-0.15244</td>\n",
       "    </tr>\n",
       "    <tr>\n",
       "      <th>458</th>\n",
       "      <td>(Zr, Nb, Al, Cu, Ni)</td>\n",
       "      <td>6.69</td>\n",
       "      <td>12.400876</td>\n",
       "      <td>6.91044</td>\n",
       "      <td>-0.22044</td>\n",
       "    </tr>\n",
       "    <tr>\n",
       "      <th>606</th>\n",
       "      <td>(Zr, Nb, Al, Cu, Ni)</td>\n",
       "      <td>15.2</td>\n",
       "      <td>6.715432</td>\n",
       "      <td>6.91044</td>\n",
       "      <td>8.28956</td>\n",
       "    </tr>\n",
       "    <tr>\n",
       "      <th>607</th>\n",
       "      <td>(Zr, Nb, Al, Cu, Ni)</td>\n",
       "      <td>14.3</td>\n",
       "      <td>6.715432</td>\n",
       "      <td>6.91044</td>\n",
       "      <td>7.38956</td>\n",
       "    </tr>\n",
       "    <tr>\n",
       "      <th>608</th>\n",
       "      <td>(Zr, Nb, Al, Cu, Ni)</td>\n",
       "      <td>15.67</td>\n",
       "      <td>6.715432</td>\n",
       "      <td>6.91044</td>\n",
       "      <td>8.75956</td>\n",
       "    </tr>\n",
       "    <tr>\n",
       "      <th>609</th>\n",
       "      <td>(Zr, Nb, Al, Cu, Ni)</td>\n",
       "      <td>15.44</td>\n",
       "      <td>6.715432</td>\n",
       "      <td>6.91044</td>\n",
       "      <td>8.52956</td>\n",
       "    </tr>\n",
       "    <tr>\n",
       "      <th>615</th>\n",
       "      <td>(Zr, Nb, Al, Cu, Ni)</td>\n",
       "      <td>6.68</td>\n",
       "      <td>6.715432</td>\n",
       "      <td>6.91044</td>\n",
       "      <td>-0.23044</td>\n",
       "    </tr>\n",
       "  </tbody>\n",
       "</table>\n",
       "</div>"
      ],
      "text/plain": [
       "                     comp density  density_predict  density_vegards  \\\n",
       "155  (Zr, Nb, Al, Cu, Ni)   6.758        12.330885          6.91044   \n",
       "458  (Zr, Nb, Al, Cu, Ni)    6.69        12.400876          6.91044   \n",
       "606  (Zr, Nb, Al, Cu, Ni)    15.2         6.715432          6.91044   \n",
       "607  (Zr, Nb, Al, Cu, Ni)    14.3         6.715432          6.91044   \n",
       "608  (Zr, Nb, Al, Cu, Ni)   15.67         6.715432          6.91044   \n",
       "609  (Zr, Nb, Al, Cu, Ni)   15.44         6.715432          6.91044   \n",
       "615  (Zr, Nb, Al, Cu, Ni)    6.68         6.715432          6.91044   \n",
       "\n",
       "    vegards_diff  \n",
       "155     -0.15244  \n",
       "458     -0.22044  \n",
       "606      8.28956  \n",
       "607      7.38956  \n",
       "608      8.75956  \n",
       "609      8.52956  \n",
       "615     -0.23044  "
      ]
     },
     "execution_count": 20,
     "metadata": {},
     "output_type": "execute_result"
    }
   ],
   "source": [
    "compTrouble = Composition('Zr57 Nb5 Al10 Cu15.4 Ni12.6')\n",
    "densityData[ [compTrouble.almost_equals(c) for c in densityData['comp']] ]"
   ]
  },
  {
   "cell_type": "code",
   "execution_count": 21,
   "metadata": {},
   "outputs": [
    {
     "name": "stdout",
     "output_type": "stream",
     "text": [
      "error std: 0.8400961959128355, error mean: 0.16131624945023973\n"
     ]
    },
    {
     "data": {
      "image/png": "[encoded data removed]",
      "text/plain": [
       "<matplotlib.figure.Figure at 0x15cf42e8>"
      ]
     },
     "metadata": {},
     "output_type": "display_data"
    }
   ],
   "source": [
    "plt.figure(figsize=(5,5))\n",
    "plt.scatter(densityData['density'], densityData['vegards_diff'], edgecolors='k')\n",
    "plt.plot([0,25], [0,0], 'r-')\n",
    "plt.xlabel('density [g/cm$^3$]')\n",
    "plt.ylabel('error')\n",
    "plt.title('Vegards Law Error')\n",
    "\n",
    "stddev = np.std(densityData['vegards_diff'])\n",
    "mean = np.mean(densityData['vegards_diff'])\n",
    "plt.plot([0, 25], [stddev, stddev], 'r--')\n",
    "plt.plot([0, 25], [-stddev, -stddev], 'r--')\n",
    "\n",
    "plt.xlim([0,25])\n",
    "plt.ylim([-17,17])\n",
    "\n",
    "print('error std: {}, error mean: {}'.format(stddev, mean))\n",
    "\n",
    "if saveFigures:\n",
    "    plt.savefig(os.path.join(os.getcwd(), 'results', 'finalFigs', \n",
    "                             'densityMG-v0_Vegards_Error.png'))\n",
    "    print('figure saved')"
   ]
  },
  {
   "cell_type": "code",
   "execution_count": 22,
   "metadata": {},
   "outputs": [
    {
     "data": {
      "text/plain": [
       "11.683333333333334"
      ]
     },
     "execution_count": 22,
     "metadata": {},
     "output_type": "execute_result"
    }
   ],
   "source": [
    "len(densityData)/60"
   ]
  },
  {
   "cell_type": "code",
   "execution_count": 23,
   "metadata": {},
   "outputs": [
    {
     "name": "stdout",
     "output_type": "stream",
     "text": [
      "error std: 0.8400961959128355, error mean: 0.16131624945023973\n"
     ]
    },
    {
     "data": {
      "image/png": "[encoded data removed]",
      "text/plain": [
       "<matplotlib.figure.Figure at 0x15fb92b0>"
      ]
     },
     "metadata": {},
     "output_type": "display_data"
    }
   ],
   "source": [
    "plt.figure(figsize=(5,5))\n",
    "n, bins = np.histogram(densityData['vegards_diff'].values, bins='auto')\n",
    "\n",
    "binCenter = [(bins[i]+bins[i+1])/2 for i in range(len(bins)-1)]\n",
    "\n",
    "plt.bar(binCenter, n)\n",
    "\n",
    "plt.xlabel('error')\n",
    "plt.ylabel('frequency')\n",
    "plt.title('Vegards Law Error')\n",
    "\n",
    "plt.xlim([-5,10])\n",
    "plt.ylim([0,1.1*np.max(n)])\n",
    "\n",
    "stddev = np.std(densityData['vegards_diff'])\n",
    "mean = np.mean(densityData['vegards_diff'])\n",
    "plt.plot([mean, mean], [0, 1.2*np.max(n)], 'r')\n",
    "plt.plot([stddev, stddev], [0, 1.2*np.max(n)], 'r--')\n",
    "plt.plot([-stddev, -stddev], [0, 1.2*np.max(n)], 'r--')\n",
    "\n",
    "plt.text(3,60, '$\\mu$={:.3f}, $\\sigma$={:.3f}'.format(mean, stddev))\n",
    "print('error std: {}, error mean: {}'.format(stddev, mean))\n",
    "\n",
    "\n",
    "if saveFigures:\n",
    "    plt.tight_layout()\n",
    "    plt.savefig(os.path.join(os.getcwd(), 'results', 'finalFigs', \n",
    "                             'densityMG-v0_Vegards_Error_hist.png'))\n",
    "    print('figure saved')"
   ]
  },
  {
   "cell_type": "markdown",
   "metadata": {},
   "source": [
    "Why would the same composition be predicted differently?  For the same composition one should get the same features, yet the predicted density varies.  This is also true for the previous predictions.  \n",
    "\n",
    "Should probably depend on the specific split used to train the model"
   ]
  },
  {
   "cell_type": "code",
   "execution_count": 24,
   "metadata": {},
   "outputs": [],
   "source": [
    "# Drop troublesome compositions\n",
    "X_notTrouble = X_dens[ [not compTrouble.almost_equals(c) for c in densityData['comp']] ]"
   ]
  },
  {
   "cell_type": "code",
   "execution_count": 25,
   "metadata": {},
   "outputs": [
    {
     "name": "stdout",
     "output_type": "stream",
     "text": [
      "Density Prediction, r2 sans outliers: 0.9075911576494425\n"
     ]
    }
   ],
   "source": [
    "#  Examine performance without outliers (trouble compositions)\n",
    "notTroubleDF = densityData[ [not compTrouble.almost_equals(c) for c in densityData['comp']] ]\n",
    "notTroubleDF.reset_index(inplace=True, drop=True)\n",
    "\n",
    "#  Examine performance without outliers in normal model\n",
    "print('Density Prediction, r2 sans outliers: {}'.format(r2_score(notTroubleDF['density_predict'], notTroubleDF['density'])))"
   ]
  },
  {
   "cell_type": "code",
   "execution_count": 26,
   "metadata": {},
   "outputs": [
    {
     "name": "stdout",
     "output_type": "stream",
     "text": [
      "Split #0\n",
      "Split #1\n",
      "Split #2\n",
      "Split #3\n",
      "Split #4\n"
     ]
    }
   ],
   "source": [
    "#take predicted values from each cross validation set to ensure training not performed on own set.  Take 200 training samples\n",
    "# Probably could have used cross_val_predict\n",
    "impDF = pd.DataFrame()\n",
    "\n",
    "kf = KFold(5)\n",
    "rep=0\n",
    "notTroubleDF['density_predict'] = np.nan\n",
    "for train_index, test_index in kf.split(notTroubleDF['comp']):\n",
    "    print('Split #{}'.format(rep))\n",
    "    density_model.fit(X_notTrouble[train_index,:], notTroubleDF['density'][train_index])\n",
    "    \n",
    "    y_densPredict = density_model.predict(X_notTrouble[test_index,:])\n",
    "    notTroubleDF['density_predict'][test_index] = y_densPredict\n",
    "    \n",
    "    featureImp = pd.DataFrame(density_model.steps[1][1].feature_importances_,\n",
    "                          index=dens_featurizer.feature_labels(),\n",
    "                          columns=['importance']).sort_values('importance',ascending=False)\n",
    "    impDF = impDF.append(featureImp)\n",
    "\n",
    "    \n",
    "    #print(train_index, test_index)\n",
    "    rep+=1\n",
    "#y_densPredict = "
   ]
  },
  {
   "cell_type": "code",
   "execution_count": 27,
   "metadata": {},
   "outputs": [
    {
     "name": "stdout",
     "output_type": "stream",
     "text": [
      "top features over 5 training splits\n"
     ]
    },
    {
     "data": {
      "text/html": [
       "<div>\n",
       "<style scoped>\n",
       "    .dataframe tbody tr th:only-of-type {\n",
       "        vertical-align: middle;\n",
       "    }\n",
       "\n",
       "    .dataframe tbody tr th {\n",
       "        vertical-align: top;\n",
       "    }\n",
       "\n",
       "    .dataframe thead th {\n",
       "        text-align: right;\n",
       "    }\n",
       "</style>\n",
       "<table border=\"1\" class=\"dataframe\">\n",
       "  <thead>\n",
       "    <tr style=\"text-align: right;\">\n",
       "      <th></th>\n",
       "      <th>importance</th>\n",
       "      <th>totalImp</th>\n",
       "    </tr>\n",
       "  </thead>\n",
       "  <tbody>\n",
       "    <tr>\n",
       "      <th>mode Number</th>\n",
       "      <td>0.052223</td>\n",
       "      <td>0.300349</td>\n",
       "    </tr>\n",
       "    <tr>\n",
       "      <th>mean NValence</th>\n",
       "      <td>0.057423</td>\n",
       "      <td>0.288853</td>\n",
       "    </tr>\n",
       "    <tr>\n",
       "      <th>mode AtomicWeight</th>\n",
       "      <td>0.038915</td>\n",
       "      <td>0.255935</td>\n",
       "    </tr>\n",
       "    <tr>\n",
       "      <th>mode NValence</th>\n",
       "      <td>0.042134</td>\n",
       "      <td>0.246298</td>\n",
       "    </tr>\n",
       "    <tr>\n",
       "      <th>mean Number</th>\n",
       "      <td>0.018850</td>\n",
       "      <td>0.221519</td>\n",
       "    </tr>\n",
       "  </tbody>\n",
       "</table>\n",
       "</div>"
      ],
      "text/plain": [
       "                   importance  totalImp\n",
       "mode Number          0.052223  0.300349\n",
       "mean NValence        0.057423  0.288853\n",
       "mode AtomicWeight    0.038915  0.255935\n",
       "mode NValence        0.042134  0.246298\n",
       "mean Number          0.018850  0.221519"
      ]
     },
     "execution_count": 27,
     "metadata": {},
     "output_type": "execute_result"
    }
   ],
   "source": [
    "impDF['totalImp'] = impDF.groupby(level=0)['importance'].transform('sum')\n",
    "impDFtop = impDF.drop_duplicates(subset=['totalImp']).sort_values('totalImp',ascending=False)\n",
    "print('top features over 5 training splits')\n",
    "impDFtop.to_csv(os.path.join(os.getcwd(),'results','finalFigs',\n",
    "                             'densityMG-v1_featImportance.csv'))\n",
    "impDFtop.head()"
   ]
  },
  {
   "cell_type": "code",
   "execution_count": 28,
   "metadata": {},
   "outputs": [
    {
     "data": {
      "image/png": "[encoded data removed]",
      "text/plain": [
       "<matplotlib.figure.Figure at 0x16061cf8>"
      ]
     },
     "metadata": {},
     "output_type": "display_data"
    }
   ],
   "source": [
    "plt.figure(figsize=(5,5))\n",
    "plt.scatter(notTroubleDF['density'], notTroubleDF['density_vegards'], edgecolors='k')\n",
    "plt.plot([0,30], [0,30], 'r-')\n",
    "plt.xlabel('density [g/cm$^3$]')\n",
    "plt.ylabel('predicted density (Vegard\\'s)')\n",
    "plt.title('Gen. 1')\n",
    "\n",
    "r2V = r2_score(notTroubleDF['density'], notTroubleDF['density_vegards'])\n",
    "plt.text(7,20, 'R$^2$ score: {:.3f}'.format(r2V))\n",
    "\n",
    "plt.xlim([0,25])\n",
    "plt.ylim([0,25])\n",
    "\n",
    "if saveFigures:\n",
    "    plt.savefig(os.path.join(os.getcwd(), 'results', 'finalFigs', \n",
    "                             'densityMG-v1_Vegards_Scatter.png'))\n",
    "    print('figure saved')"
   ]
  },
  {
   "cell_type": "code",
   "execution_count": 29,
   "metadata": {},
   "outputs": [
    {
     "data": {
      "image/png": "[encoded data removed]",
      "text/plain": [
       "<matplotlib.figure.Figure at 0x1606ba90>"
      ]
     },
     "metadata": {},
     "output_type": "display_data"
    }
   ],
   "source": [
    "plt.figure(figsize=(5,5))\n",
    "plt.scatter(notTroubleDF['density'], notTroubleDF['density_predict'], edgecolors='k')\n",
    "plt.plot([0,30], [0,30], 'r-')\n",
    "plt.xlabel('density [g/cm$^3$]')\n",
    "plt.ylabel('predicted density (RF)')\n",
    "plt.title('Gen. 1')\n",
    "\n",
    "r2V = r2_score(notTroubleDF['density'], notTroubleDF['density_predict'])\n",
    "plt.text(7,20, 'R$^2$ score: {:.3f}'.format(r2V))\n",
    "\n",
    "plt.xlim([0,25])\n",
    "plt.ylim([0,25])\n",
    "\n",
    "if saveFigures:\n",
    "    plt.savefig(os.path.join(os.getcwd(), 'results', 'finalFigs', \n",
    "                             'densityMG-v1_Scatter.png'))\n",
    "    print('figure saved')"
   ]
  },
  {
   "cell_type": "markdown",
   "metadata": {},
   "source": [
    "# Alternate Feature Set, from rfecv and covariance matrix"
   ]
  },
  {
   "cell_type": "code",
   "execution_count": 30,
   "metadata": {},
   "outputs": [
    {
     "name": "stdout",
     "output_type": "stream",
     "text": [
      "['maximum NsValence', 'minimum NpValence', 'minimum NfValence', 'minimum NsUnfilled', 'minimum NpUnfilled', 'minimum NfUnfilled', 'minimum GSbandgap', 'mode GSbandgap', 'compound possible']\n"
     ]
    },
    {
     "data": {
      "text/plain": [
       "<matplotlib.colorbar.Colorbar at 0x15b305c0>"
      ]
     },
     "execution_count": 30,
     "metadata": {},
     "output_type": "execute_result"
    },
    {
     "data": {
      "image/png": "[encoded data removed]",
      "text/plain": [
       "<matplotlib.figure.Figure at 0x1607e3c8>"
      ]
     },
     "metadata": {},
     "output_type": "display_data"
    }
   ],
   "source": [
    "# Look at feature correlations..\n",
    "X_densDF = pd.DataFrame(X_dens, columns=dens_featurizer.feature_labels())\n",
    "correlations = X_densDF.corr()  # Returns NaN if values do not vary at all...\n",
    "\n",
    "# find columns that do not vary\n",
    "invariants =[ col for col in correlations.columns if correlations[col].isnull().all() ]\n",
    "print(invariants)\n",
    "\n",
    "# plot covariance matrix\n",
    "fig, ax = plt.subplots(figsize=(10,10))\n",
    "cax = ax.matshow(correlations, vmin=-1, vmax=1)\n",
    "fig.colorbar(cax, label='correlation')"
   ]
  },
  {
   "cell_type": "code",
   "execution_count": 31,
   "metadata": {},
   "outputs": [
    {
     "name": "stdout",
     "output_type": "stream",
     "text": [
      "----------------------------correlated features to drop\n",
      "['3-norm', '5-norm', '7-norm', '10-norm', 'minimum AtomicWeight', 'maximum AtomicWeight', 'range AtomicWeight', 'mean AtomicWeight', 'avg_dev AtomicWeight', 'mode AtomicWeight', 'minimum Row', 'mean Row', 'mode Row', 'maximum NpValence', 'range NpValence', 'range NdValence', 'range NfValence', 'avg_dev NfValence', 'mode NfValence', 'range NValence', 'range NsUnfilled', 'range NpUnfilled', 'mode NpUnfilled', 'range NdUnfilled', 'range NfUnfilled', 'avg_dev NfUnfilled', 'mode NfUnfilled', 'range NUnfilled', 'range GSvolume_pa', 'range GSbandgap', 'avg_dev GSbandgap', 'range GSmagmom', 'mode GSmagmom', 'avg s valence electrons', 'avg p valence electrons', 'avg d valence electrons', 'avg f valence electrons', 'max ionic char', 'avg ionic char']\n",
      "----------------------------invariants:\n",
      "['maximum NsValence', 'minimum NpValence', 'minimum NfValence', 'minimum NsUnfilled', 'minimum NpUnfilled', 'minimum NfUnfilled', 'minimum GSbandgap', 'mode GSbandgap', 'compound possible']\n"
     ]
    }
   ],
   "source": [
    "# Select upper triangle of correlation matrix\n",
    "upper = correlations.where(np.triu(np.ones(correlations.shape),k=1).astype(np.bool))\n",
    "\n",
    "# Find index of feature columns with correlation greater than 0.95\n",
    "to_drop = [col for col in upper.columns if any(upper[col] > 0.95)]\n",
    "print('----------------------------correlated features to drop')\n",
    "print(to_drop)\n",
    "print('----------------------------invariants:')\n",
    "print(invariants)"
   ]
  },
  {
   "cell_type": "code",
   "execution_count": 32,
   "metadata": {},
   "outputs": [
    {
     "data": {
      "text/plain": [
       "39"
      ]
     },
     "execution_count": 32,
     "metadata": {},
     "output_type": "execute_result"
    }
   ],
   "source": [
    "len(to_drop)"
   ]
  },
  {
   "cell_type": "code",
   "execution_count": 33,
   "metadata": {},
   "outputs": [
    {
     "data": {
      "text/plain": [
       "avg_dev GSbandgap           0.997949\n",
       "maximum GSmagmom            0.510955\n",
       "range GSmagmom              0.510955\n",
       "mean GSmagmom               0.741110\n",
       "avg_dev GSmagmom            0.723227\n",
       "mode GSmagmom               0.796498\n",
       "range SpaceGroupNumber      0.628599\n",
       "avg_dev SpaceGroupNumber    0.552631\n",
       "mode SpaceGroupNumber       0.604314\n",
       "avg p valence electrons     0.531445\n",
       "Name: mean GSbandgap, dtype: float64"
      ]
     },
     "execution_count": 33,
     "metadata": {},
     "output_type": "execute_result"
    }
   ],
   "source": [
    "feat = 'mean GSbandgap'\n",
    "upper.loc[feat][upper.loc[feat]>0.5]\n",
    "#returns other features fitting the covariance condition.  (queries rows of cov matrix)"
   ]
  },
  {
   "cell_type": "code",
   "execution_count": 49,
   "metadata": {},
   "outputs": [
    {
     "name": "stdout",
     "output_type": "stream",
     "text": [
      "Wall time: 9min 53s\n"
     ]
    }
   ],
   "source": [
    "%%time\n",
    "# Try recursive feature elimination\n",
    "RF = RandomForestRegressor(n_estimators=100, n_jobs=1)\n",
    "\n",
    "rfecv = RFECV(estimator=RF, step=2, cv=KFold(5),\n",
    "              scoring=r2_scorer)\n",
    "if True: # Takes forever\n",
    "    rfecv.fit(X_dens, densityData['density']) "
   ]
  },
  {
   "cell_type": "code",
   "execution_count": 50,
   "metadata": {},
   "outputs": [
    {
     "name": "stdout",
     "output_type": "stream",
     "text": [
      "Optimal number of features : 30\n"
     ]
    },
    {
     "data": {
      "image/png": "[encoded data removed]",
      "text/plain": [
       "<matplotlib.figure.Figure at 0x17df2358>"
      ]
     },
     "metadata": {},
     "output_type": "display_data"
    }
   ],
   "source": [
    "print(\"Optimal number of features : %d\" % rfecv.n_features_)\n",
    "\n",
    "# Plot number of features VS. cross-validation scores\n",
    "plt.figure()\n",
    "plt.xlabel(\"Number of features selected\")\n",
    "plt.ylabel(\"Cross validation score (nb of correct classifications)\")\n",
    "plt.plot(range(1, len(rfecv.grid_scores_) + 1), rfecv.grid_scores_)\n",
    "plt.ylim([0.75, 0.85])\n",
    "\n",
    "if saveFigures:\n",
    "    plt.savefig(os.path.join(os.getcwd(), 'results', 'finalFigs', \n",
    "                             'densityMG-v1_rfecv.png'))\n",
    "    print('figure saved')"
   ]
  },
  {
   "cell_type": "code",
   "execution_count": 51,
   "metadata": {},
   "outputs": [],
   "source": [
    "# Combine data: original feature order, feature rankings by rfecv\n",
    "feats = pd.DataFrame(dens_featurizer.feature_labels(), columns=['feat_name'])\n",
    "feats['orig_order'] = range(len(feats))\n",
    "feats['rfecv_ranking'] = rfecv.ranking_\n",
    "\n",
    "# Mark features to drop\n",
    "feats['to_remove'] = 0\n",
    "feats['to_remove'] = [1 if feats['feat_name'][x] in to_drop+invariants else 0 for x in range(len(feats))]"
   ]
  },
  {
   "cell_type": "code",
   "execution_count": 52,
   "metadata": {},
   "outputs": [],
   "source": [
    "# take all features ok'd (not dropped due to covariance or invariance\n",
    "feats_subset = feats[feats['to_remove']==0]\n",
    "\n",
    "feats_subset.sort_values(by='rfecv_ranking',inplace=True)\n",
    "feats_subset.reset_index(drop=True, inplace=True)\n",
    "\n",
    "# Create new feature matrix and list of features (differently ordered from original featurizer)\n",
    "X_subset = X_notTrouble[:,feats_subset['orig_order'][:rfecv.n_features_].tolist()]\n",
    "reduced_feats = feats_subset['feat_name'][:rfecv.n_features_]"
   ]
  },
  {
   "cell_type": "markdown",
   "metadata": {},
   "source": [
    "### After feature reduction, try re-evaluating model performance"
   ]
  },
  {
   "cell_type": "code",
   "execution_count": 53,
   "metadata": {},
   "outputs": [],
   "source": [
    "densModel_elimFeats = Pipeline([('impute',Imputer()), \n",
    "                          ('model', RandomForestRegressor(n_estimators=100, n_jobs=1, max_features=12))])"
   ]
  },
  {
   "cell_type": "code",
   "execution_count": 54,
   "metadata": {},
   "outputs": [
    {
     "name": "stdout",
     "output_type": "stream",
     "text": [
      "Split #0\n",
      "Split #1\n",
      "Split #2\n",
      "Split #3\n",
      "Split #4\n"
     ]
    }
   ],
   "source": [
    "#take predicted values from each cross validation set to ensure training not performed on own set.  Take 200 training samples\n",
    "# Probably could have used cross_val_predict\n",
    "impDF = pd.DataFrame()\n",
    "\n",
    "kf = KFold(5)\n",
    "rep=0\n",
    "notTroubleDF['density_predict_rfecv'] = np.nan\n",
    "for train_index, test_index in kf.split(notTroubleDF['comp']):\n",
    "    print('Split #{}'.format(rep))\n",
    "    densModel_elimFeats.fit(X_subset[train_index,:], notTroubleDF['density'][train_index])\n",
    "    \n",
    "    y_densPredict = densModel_elimFeats.predict(X_subset[test_index,:])\n",
    "    notTroubleDF['density_predict_rfecv'][test_index] = y_densPredict\n",
    "    \n",
    "    featureImp = pd.DataFrame(densModel_elimFeats.steps[1][1].feature_importances_,\n",
    "                          index=reduced_feats,\n",
    "                          columns=['importance']).sort_values('importance',ascending=False)\n",
    "    impDF = impDF.append(featureImp)\n",
    "    #print(train_index, test_index)\n",
    "    rep+=1\n",
    "#y_densPredict = "
   ]
  },
  {
   "cell_type": "code",
   "execution_count": 55,
   "metadata": {},
   "outputs": [
    {
     "name": "stdout",
     "output_type": "stream",
     "text": [
      "top features over 5 training splits\n"
     ]
    },
    {
     "data": {
      "text/html": [
       "<div>\n",
       "<style scoped>\n",
       "    .dataframe tbody tr th:only-of-type {\n",
       "        vertical-align: middle;\n",
       "    }\n",
       "\n",
       "    .dataframe tbody tr th {\n",
       "        vertical-align: top;\n",
       "    }\n",
       "\n",
       "    .dataframe thead th {\n",
       "        text-align: right;\n",
       "    }\n",
       "</style>\n",
       "<table border=\"1\" class=\"dataframe\">\n",
       "  <thead>\n",
       "    <tr style=\"text-align: right;\">\n",
       "      <th></th>\n",
       "      <th>importance</th>\n",
       "      <th>totalImp</th>\n",
       "    </tr>\n",
       "    <tr>\n",
       "      <th>feat_name</th>\n",
       "      <th></th>\n",
       "      <th></th>\n",
       "    </tr>\n",
       "  </thead>\n",
       "  <tbody>\n",
       "    <tr>\n",
       "      <th>mode NValence</th>\n",
       "      <td>0.195739</td>\n",
       "      <td>0.940237</td>\n",
       "    </tr>\n",
       "    <tr>\n",
       "      <th>mode Number</th>\n",
       "      <td>0.067177</td>\n",
       "      <td>0.916297</td>\n",
       "    </tr>\n",
       "    <tr>\n",
       "      <th>mean NValence</th>\n",
       "      <td>0.171629</td>\n",
       "      <td>0.663548</td>\n",
       "    </tr>\n",
       "    <tr>\n",
       "      <th>mean Electronegativity</th>\n",
       "      <td>0.093666</td>\n",
       "      <td>0.361777</td>\n",
       "    </tr>\n",
       "    <tr>\n",
       "      <th>mean Number</th>\n",
       "      <td>0.031258</td>\n",
       "      <td>0.275884</td>\n",
       "    </tr>\n",
       "  </tbody>\n",
       "</table>\n",
       "</div>"
      ],
      "text/plain": [
       "                        importance  totalImp\n",
       "feat_name                                   \n",
       "mode NValence             0.195739  0.940237\n",
       "mode Number               0.067177  0.916297\n",
       "mean NValence             0.171629  0.663548\n",
       "mean Electronegativity    0.093666  0.361777\n",
       "mean Number               0.031258  0.275884"
      ]
     },
     "execution_count": 55,
     "metadata": {},
     "output_type": "execute_result"
    }
   ],
   "source": [
    "impDF['totalImp'] = impDF.groupby(level=0)['importance'].transform('sum')\n",
    "impDFtop = impDF.drop_duplicates(subset=['totalImp']).sort_values('totalImp',ascending=False)\n",
    "print('top features over 5 training splits')\n",
    "impDFtop.to_csv(os.path.join(os.getcwd(),'results','finalFigs',\n",
    "                             'densityMG-v2_featImportance.csv'))\n",
    "impDFtop.head()"
   ]
  },
  {
   "cell_type": "code",
   "execution_count": 56,
   "metadata": {},
   "outputs": [
    {
     "data": {
      "image/png": "[encoded data removed]",
      "text/plain": [
       "<matplotlib.figure.Figure at 0x17cc1b00>"
      ]
     },
     "metadata": {},
     "output_type": "display_data"
    }
   ],
   "source": [
    "# plot Comparison, report r2\n",
    "r2rfecv = r2_score(notTroubleDF['density'], notTroubleDF['density_predict_rfecv'])\n",
    "\n",
    "plt.figure(figsize=(5,5))\n",
    "plt.scatter(notTroubleDF['density'], notTroubleDF['density_predict_rfecv'], edgecolors='k')\n",
    "plt.plot([0,30], [0,30], 'r-')\n",
    "plt.xlabel('density [g/cm$^3$]')\n",
    "plt.ylabel('predicted density (RF)')\n",
    "\n",
    "\n",
    "plt.text(7,20, 'R$^2$ score: {:.3f}'.format(r2rfecv))\n",
    "plt.xlim([0,25])\n",
    "plt.ylim([0,25])\n",
    "plt.title('Gen. 2')\n",
    "\n",
    "if saveFigures:\n",
    "    plt.savefig(os.path.join(os.getcwd(),'results','finalFigs',\n",
    "                             'densityMG-v2_Scatter.png'))\n",
    "    print('figure saved')"
   ]
  },
  {
   "cell_type": "code",
   "execution_count": 57,
   "metadata": {},
   "outputs": [
    {
     "data": {
      "image/png": "[encoded data removed]",
      "text/plain": [
       "<matplotlib.figure.Figure at 0x16091978>"
      ]
     },
     "metadata": {},
     "output_type": "display_data"
    }
   ],
   "source": [
    "plt.figure(figsize=(5,5))\n",
    "plt.scatter(notTroubleDF['density'], notTroubleDF['density_vegards'], edgecolors='k')\n",
    "plt.plot([0,30], [0,30], 'r-')\n",
    "plt.xlabel('density [g/cm$^3$]')\n",
    "plt.ylabel('predicted density (Vegard\\'s)')\n",
    "plt.title('Gen. 2')\n",
    "\n",
    "r2V = r2_score(notTroubleDF['density'], notTroubleDF['density_vegards'])\n",
    "plt.text(7,20, 'R$^2$ score: {:.3f}'.format(r2V))\n",
    "\n",
    "plt.xlim([0,25])\n",
    "plt.ylim([0,25])\n",
    "\n",
    "if saveFigures:\n",
    "    plt.savefig(os.path.join(os.getcwd(),'results','finalFigs',\n",
    "                             'densityMG-v2_Vegards_Scatter.png'))\n",
    "    print('figure saved')"
   ]
  },
  {
   "cell_type": "markdown",
   "metadata": {},
   "source": [
    "# Train model on difference from Vegards Predictions"
   ]
  },
  {
   "cell_type": "code",
   "execution_count": 58,
   "metadata": {},
   "outputs": [
    {
     "name": "stdout",
     "output_type": "stream",
     "text": [
      "mean difference: 0.161, variance 0.707\n",
      "max difference: 8.760, min difference -2.111\n"
     ]
    }
   ],
   "source": [
    "print('mean difference: {:.3f}, variance {:.3f}'.format(densityData['vegards_diff'].mean(), densityData['vegards_diff'].var()))\n",
    "print('max difference: {:.3f}, min difference {:.3f}'.format(densityData['vegards_diff'].max(), densityData['vegards_diff'].min()))"
   ]
  },
  {
   "cell_type": "code",
   "execution_count": 59,
   "metadata": {},
   "outputs": [],
   "source": [
    "densDiffModel = Pipeline([('impute',Imputer()), \n",
    "                          ('model', RandomForestRegressor(n_estimators=100, n_jobs=1, max_features=12))])"
   ]
  },
  {
   "cell_type": "code",
   "execution_count": 60,
   "metadata": {},
   "outputs": [
    {
     "name": "stdout",
     "output_type": "stream",
     "text": [
      "Wall time: 374 ms\n"
     ]
    },
    {
     "data": {
      "text/plain": [
       "Pipeline(memory=None,\n",
       "     steps=[('impute', Imputer(axis=0, copy=True, missing_values='NaN', strategy='mean', verbose=0)), ('model', RandomForestRegressor(bootstrap=True, criterion='mse', max_depth=None,\n",
       "           max_features=12, max_leaf_nodes=None, min_impurity_decrease=0.0,\n",
       "           min_impurity_split=None, min_samples_leaf=1,\n",
       "           min_samples_split=2, min_weight_fraction_leaf=0.0,\n",
       "           n_estimators=100, n_jobs=1, oob_score=False, random_state=None,\n",
       "           verbose=0, warm_start=False))])"
      ]
     },
     "execution_count": 60,
     "metadata": {},
     "output_type": "execute_result"
    }
   ],
   "source": [
    "%%time\n",
    "densDiffModel.fit(X_dens, densityData['vegards_diff'])"
   ]
  },
  {
   "cell_type": "markdown",
   "metadata": {},
   "source": [
    "Make sure is true\n",
    "\n",
    "See if there's any learning at all \n",
    "\n",
    "Everything else must be process dependant, experimental, bad data, etc"
   ]
  },
  {
   "cell_type": "markdown",
   "metadata": {},
   "source": [
    "## Train on difference between density and vegards, see what features float up\n",
    "Not including outliers"
   ]
  },
  {
   "cell_type": "code",
   "execution_count": 61,
   "metadata": {},
   "outputs": [
    {
     "data": {
      "text/html": [
       "<div>\n",
       "<style scoped>\n",
       "    .dataframe tbody tr th:only-of-type {\n",
       "        vertical-align: middle;\n",
       "    }\n",
       "\n",
       "    .dataframe tbody tr th {\n",
       "        vertical-align: top;\n",
       "    }\n",
       "\n",
       "    .dataframe thead th {\n",
       "        text-align: right;\n",
       "    }\n",
       "</style>\n",
       "<table border=\"1\" class=\"dataframe\">\n",
       "  <thead>\n",
       "    <tr style=\"text-align: right;\">\n",
       "      <th></th>\n",
       "      <th>comp</th>\n",
       "      <th>density</th>\n",
       "      <th>density_predict</th>\n",
       "      <th>density_vegards</th>\n",
       "      <th>vegards_diff</th>\n",
       "      <th>density_predict_rfecv</th>\n",
       "    </tr>\n",
       "  </thead>\n",
       "  <tbody>\n",
       "    <tr>\n",
       "      <th>0</th>\n",
       "      <td>(Ce, Al)</td>\n",
       "      <td>3.462</td>\n",
       "      <td>4.057876</td>\n",
       "      <td>3.1070</td>\n",
       "      <td>0.355</td>\n",
       "      <td>3.936705</td>\n",
       "    </tr>\n",
       "    <tr>\n",
       "      <th>1</th>\n",
       "      <td>(Al, Fe, B)</td>\n",
       "      <td>3.539</td>\n",
       "      <td>5.809120</td>\n",
       "      <td>3.6620</td>\n",
       "      <td>-0.123</td>\n",
       "      <td>4.743269</td>\n",
       "    </tr>\n",
       "    <tr>\n",
       "      <th>2</th>\n",
       "      <td>(Zr, Al, Ni)</td>\n",
       "      <td>3.384</td>\n",
       "      <td>3.895027</td>\n",
       "      <td>3.5105</td>\n",
       "      <td>-0.1265</td>\n",
       "      <td>4.059783</td>\n",
       "    </tr>\n",
       "    <tr>\n",
       "      <th>3</th>\n",
       "      <td>(Zr, Al, Ni)</td>\n",
       "      <td>3.517</td>\n",
       "      <td>3.999587</td>\n",
       "      <td>3.6965</td>\n",
       "      <td>-0.1795</td>\n",
       "      <td>4.178260</td>\n",
       "    </tr>\n",
       "    <tr>\n",
       "      <th>4</th>\n",
       "      <td>(Hf, Al, Ni)</td>\n",
       "      <td>2.835</td>\n",
       "      <td>5.478570</td>\n",
       "      <td>3.8505</td>\n",
       "      <td>-1.0155</td>\n",
       "      <td>4.376186</td>\n",
       "    </tr>\n",
       "  </tbody>\n",
       "</table>\n",
       "</div>"
      ],
      "text/plain": [
       "           comp density  density_predict  density_vegards vegards_diff  \\\n",
       "0      (Ce, Al)   3.462         4.057876           3.1070        0.355   \n",
       "1   (Al, Fe, B)   3.539         5.809120           3.6620       -0.123   \n",
       "2  (Zr, Al, Ni)   3.384         3.895027           3.5105      -0.1265   \n",
       "3  (Zr, Al, Ni)   3.517         3.999587           3.6965      -0.1795   \n",
       "4  (Hf, Al, Ni)   2.835         5.478570           3.8505      -1.0155   \n",
       "\n",
       "   density_predict_rfecv  \n",
       "0               3.936705  \n",
       "1               4.743269  \n",
       "2               4.059783  \n",
       "3               4.178260  \n",
       "4               4.376186  "
      ]
     },
     "execution_count": 61,
     "metadata": {},
     "output_type": "execute_result"
    }
   ],
   "source": [
    "notTroubleDF.head()"
   ]
  },
  {
   "cell_type": "markdown",
   "metadata": {},
   "source": [
    "Need to RFECV with this dataset independently"
   ]
  },
  {
   "cell_type": "code",
   "execution_count": 88,
   "metadata": {},
   "outputs": [
    {
     "name": "stdout",
     "output_type": "stream",
     "text": [
      "Wall time: 10min 3s\n"
     ]
    }
   ],
   "source": [
    "%%time\n",
    "# Try recursive feature elimination\n",
    "RF = RandomForestRegressor(n_estimators=100, n_jobs=1)\n",
    "\n",
    "rfecv_diff = RFECV(estimator=RF, step=2, cv=KFold(5),\n",
    "              scoring=r2_scorer)\n",
    "if True: # Takes forever\n",
    "    rfecv_diff.fit(X_dens, densityData['vegards_diff']) "
   ]
  },
  {
   "cell_type": "code",
   "execution_count": 89,
   "metadata": {},
   "outputs": [
    {
     "name": "stdout",
     "output_type": "stream",
     "text": [
      "Optimal number of features : 74\n"
     ]
    },
    {
     "data": {
      "image/png": "[encoded data removed]",
      "text/plain": [
       "<matplotlib.figure.Figure at 0x193a26d8>"
      ]
     },
     "metadata": {},
     "output_type": "display_data"
    }
   ],
   "source": [
    "print(\"Optimal number of features : %d\" % rfecv_diff.n_features_)\n",
    "\n",
    "# Plot number of features VS. cross-validation scores\n",
    "plt.figure()\n",
    "plt.xlabel(\"Number of features selected\")\n",
    "plt.ylabel(\"Cross validation score (nb of correct classifications)\")\n",
    "plt.plot(range(1, len(rfecv_diff.grid_scores_) + 1), rfecv_diff.grid_scores_)\n",
    "#plt.ylim([0.75, 0.85])\n",
    "\n",
    "if saveFigures:\n",
    "    plt.savefig(os.path.join(os.getcwd(), 'results', 'finalFigs', \n",
    "                             'densityMG-v3_rfecv.png'))\n",
    "    print('figure saved')"
   ]
  },
  {
   "cell_type": "code",
   "execution_count": 90,
   "metadata": {},
   "outputs": [],
   "source": [
    "# Combine data: original feature order, feature rankings by rfecv\n",
    "feats_diff = pd.DataFrame(dens_featurizer.feature_labels(), columns=['feat_name'])\n",
    "feats_diff['orig_order'] = range(len(feats_diff))\n",
    "feats_diff['rfecv_ranking'] = rfecv_diff.ranking_\n",
    "\n",
    "# Mark features to drop\n",
    "feats_diff['to_remove'] = 0\n",
    "feats_diff['to_remove'] = [1 if feats_diff['feat_name'][x] in to_drop+invariants else 0 for x in range(len(feats_diff))]\n",
    "\n",
    "# take all features ok'd (not dropped due to covariance or invariance\n",
    "feats_diff_subset = feats_diff[feats_diff['to_remove']==0]\n",
    "\n",
    "feats_diff_subset.sort_values(by='rfecv_ranking',inplace=True)\n",
    "feats_diff_subset.reset_index(drop=True, inplace=True)\n",
    "\n",
    "# Create new feature matrix and list of features (differently ordered from original featurizer)\n",
    "X_diff_subset = X_notTrouble[:,feats_diff_subset['orig_order'][:rfecv_diff.n_features_].tolist()]\n",
    "reduced_feats_diff = feats_diff_subset['feat_name'][:rfecv_diff.n_features_]"
   ]
  },
  {
   "cell_type": "code",
   "execution_count": 91,
   "metadata": {},
   "outputs": [
    {
     "name": "stdout",
     "output_type": "stream",
     "text": [
      "Split #0, training on 555\n",
      "                        importance\n",
      "feat_name                         \n",
      "minimum CovalentRadius    0.090222\n",
      "mean NpValence            0.052912\n",
      "avg_dev Column            0.043513\n",
      "mean CovalentRadius       0.039461\n",
      "mean GSbandgap            0.034925\n",
      "Split #1, training on 555\n",
      "                        importance\n",
      "feat_name                         \n",
      "minimum CovalentRadius    0.055082\n",
      "avg_dev NpValence         0.043464\n",
      "avg_dev Column            0.043173\n",
      "minimum GSvolume_pa       0.041328\n",
      "mode MeltingT             0.036597\n",
      "Split #2, training on 555\n",
      "                        importance\n",
      "feat_name                         \n",
      "avg_dev Column            0.106061\n",
      "minimum CovalentRadius    0.091468\n",
      "mean GSbandgap            0.056466\n",
      "mean Electronegativity    0.037023\n",
      "mean CovalentRadius       0.034887\n",
      "Split #3, training on 555\n",
      "                           importance\n",
      "feat_name                            \n",
      "minimum CovalentRadius       0.063427\n",
      "mean SpaceGroupNumber        0.047460\n",
      "avg_dev Row                  0.038823\n",
      "avg_dev Column               0.036288\n",
      "avg_dev Electronegativity    0.035690\n",
      "Split #4, training on 556\n",
      "                        importance\n",
      "feat_name                         \n",
      "minimum GSvolume_pa       0.066839\n",
      "mode MeltingT             0.061686\n",
      "minimum CovalentRadius    0.059429\n",
      "avg_dev GSmagmom          0.058920\n",
      "mean GSbandgap            0.037199\n"
     ]
    }
   ],
   "source": [
    "# Train on difference\n",
    "diffFeatTop5 = pd.DataFrame()\n",
    "\n",
    "# take predicted values from each cross validation set to ensure training not performed on own set.  Take 200 training samples\n",
    "# Probably could have used cross_val_predict\n",
    "kf = KFold(5)\n",
    "rep=0\n",
    "notTroubleDF['diff_predict'] = np.nan\n",
    "for train_index, test_index in kf.split(notTroubleDF['comp']):\n",
    "    print('Split #{}, training on {}'.format(rep, len(train_index)))\n",
    "    density_model.fit(X_diff_subset[train_index,:], notTroubleDF['vegards_diff'][train_index])\n",
    "    \n",
    "    y_diffPredict = density_model.predict(X_diff_subset[test_index,:])\n",
    "    notTroubleDF['diff_predict'][test_index] = y_diffPredict\n",
    "    \n",
    "    \n",
    "    featureImp = pd.DataFrame(density_model.steps[1][1].feature_importances_,\n",
    "                          index=reduced_feats_diff,\n",
    "                          columns=['importance']).sort_values('importance',ascending=False)\n",
    "    print(featureImp.head())\n",
    "    \n",
    "    diffFeatTop5 = diffFeatTop5.append(featureImp)\n",
    "\n",
    "    \n",
    "    #print(train_index, test_index)\n",
    "    rep+=1\n",
    "#y_densPredict = "
   ]
  },
  {
   "cell_type": "code",
   "execution_count": 92,
   "metadata": {},
   "outputs": [
    {
     "name": "stdout",
     "output_type": "stream",
     "text": [
      "top features over 5 training splits\n"
     ]
    },
    {
     "data": {
      "text/html": [
       "<div>\n",
       "<style scoped>\n",
       "    .dataframe tbody tr th:only-of-type {\n",
       "        vertical-align: middle;\n",
       "    }\n",
       "\n",
       "    .dataframe tbody tr th {\n",
       "        vertical-align: top;\n",
       "    }\n",
       "\n",
       "    .dataframe thead th {\n",
       "        text-align: right;\n",
       "    }\n",
       "</style>\n",
       "<table border=\"1\" class=\"dataframe\">\n",
       "  <thead>\n",
       "    <tr style=\"text-align: right;\">\n",
       "      <th></th>\n",
       "      <th>importance</th>\n",
       "      <th>totalImp</th>\n",
       "    </tr>\n",
       "    <tr>\n",
       "      <th>feat_name</th>\n",
       "      <th></th>\n",
       "      <th></th>\n",
       "    </tr>\n",
       "  </thead>\n",
       "  <tbody>\n",
       "    <tr>\n",
       "      <th>minimum CovalentRadius</th>\n",
       "      <td>0.090222</td>\n",
       "      <td>0.359628</td>\n",
       "    </tr>\n",
       "    <tr>\n",
       "      <th>avg_dev Column</th>\n",
       "      <td>0.043513</td>\n",
       "      <td>0.257590</td>\n",
       "    </tr>\n",
       "    <tr>\n",
       "      <th>mean GSbandgap</th>\n",
       "      <td>0.034925</td>\n",
       "      <td>0.190607</td>\n",
       "    </tr>\n",
       "    <tr>\n",
       "      <th>avg_dev GSmagmom</th>\n",
       "      <td>0.033573</td>\n",
       "      <td>0.161952</td>\n",
       "    </tr>\n",
       "    <tr>\n",
       "      <th>minimum GSvolume_pa</th>\n",
       "      <td>0.014008</td>\n",
       "      <td>0.159870</td>\n",
       "    </tr>\n",
       "  </tbody>\n",
       "</table>\n",
       "</div>"
      ],
      "text/plain": [
       "                        importance  totalImp\n",
       "feat_name                                   \n",
       "minimum CovalentRadius    0.090222  0.359628\n",
       "avg_dev Column            0.043513  0.257590\n",
       "mean GSbandgap            0.034925  0.190607\n",
       "avg_dev GSmagmom          0.033573  0.161952\n",
       "minimum GSvolume_pa       0.014008  0.159870"
      ]
     },
     "execution_count": 92,
     "metadata": {},
     "output_type": "execute_result"
    }
   ],
   "source": [
    "diffFeatTop5['totalImp'] = diffFeatTop5.groupby(level=0)['importance'].transform('sum')\n",
    "diffFeatTop = diffFeatTop5.drop_duplicates(subset=['totalImp']).sort_values('totalImp',ascending=False)\n",
    "print('top features over 5 training splits')\n",
    "diffFeatTop.to_csv(os.path.join(os.getcwd(),'results', 'finalFigs',\n",
    "                                'densityMG-v3_featImportance_190319_4.csv'))\n",
    "diffFeatTop.head()"
   ]
  },
  {
   "cell_type": "code",
   "execution_count": null,
   "metadata": {},
   "outputs": [],
   "source": [
    "# plot Comparison, report r2\n",
    "r2noOutDiff = r2_score(notTroubleDF['vegards_diff'], notTroubleDF['diff_predict'])\n",
    "\n",
    "plt.figure(figsize=(5,5))\n",
    "plt.scatter(notTroubleDF['vegards_diff'], notTroubleDF['diff_predict'], edgecolors='k')\n",
    "plt.plot([-5,5], [-5,5], 'r-')\n",
    "plt.xlabel('(density - vegards prediction) [g/cm$^3$]')\n",
    "plt.ylabel('predicted difference')\n",
    "\n",
    "\n",
    "plt.text(-1,4, 'R$^2$ score: {:.3f}'.format(r2noOutDiff))\n",
    "plt.xlim([-5,5])\n",
    "plt.ylim([-5,5])\n",
    "plt.title('Pre-Gen. 3')\n",
    "\n",
    "if saveFigures:\n",
    "    plt.savefig(os.path.join(os.getcwd(),'results','finalFigs',\n",
    "                             'densityMG-v3_differenceScatter.png'))\n",
    "    print('figure saved')"
   ]
  },
  {
   "cell_type": "code",
   "execution_count": null,
   "metadata": {},
   "outputs": [],
   "source": [
    "train_sizes, train_scores, valid_scores = learning_curve(density_model, X_subset, notTroubleDF['vegards_diff'], \n",
    "                                                                    cv=ShuffleSplit(), scoring=r2_scorer)"
   ]
  },
  {
   "cell_type": "code",
   "execution_count": null,
   "metadata": {},
   "outputs": [],
   "source": [
    "plt.figure()\n",
    "plt.title('Default feats, deviation from Vegards')\n",
    "plt.xlabel(\"Training examples: density data, SLAC\")\n",
    "plt.ylabel(\"$r^2$\")\n",
    "train_scores_mean = np.mean(train_scores, axis=1)\n",
    "train_scores_std = np.std(train_scores, axis=1)\n",
    "test_scores_mean = np.mean(valid_scores, axis=1)\n",
    "test_scores_std = np.std(valid_scores, axis=1)\n",
    "plt.grid()\n",
    "\n",
    "plt.fill_between(train_sizes, train_scores_mean - train_scores_std,\n",
    "                 train_scores_mean + train_scores_std, alpha=0.1,\n",
    "                 color=\"r\")\n",
    "plt.fill_between(train_sizes, test_scores_mean - test_scores_std,\n",
    "                 test_scores_mean + test_scores_std, alpha=0.1, color=\"g\")\n",
    "plt.plot(train_sizes, train_scores_mean, 'o-', color=\"r\",\n",
    "         label=\"Training score\")\n",
    "plt.plot(train_sizes, test_scores_mean, 'o-', color=\"g\",\n",
    "         label=\"Cross-validation score\")\n",
    "\n",
    "plt.legend(loc=4)\n",
    "#plt.ylim([0.4, 1])\n",
    "\n",
    "if saveFigures:\n",
    "    plt.savefig(os.path.join(os.getcwd(), 'results', 'finalFigs',\n",
    "                             'densityMG-v2.0_LearningCurve.png'))\n",
    "    print('saved figure')"
   ]
  },
  {
   "cell_type": "code",
   "execution_count": null,
   "metadata": {},
   "outputs": [],
   "source": [
    "# Look at mean absolute err with this new data set:\n",
    "\n",
    "mae = mean_absolute_error(notTroubleDF['density'], notTroubleDF['density_predict'])\n",
    "mae_vegards = mean_absolute_error(notTroubleDF['density'], notTroubleDF['density_vegards'])\n",
    "print('MAE for random forest: {:.4f} vs vegards law {:.4f}'.format(mae, mae_vegards))\n",
    "mae_diff = mean_absolute_error(notTroubleDF['vegards_diff'], notTroubleDF['diff_predict'])\n",
    "print(mae_diff)"
   ]
  },
  {
   "cell_type": "markdown",
   "metadata": {},
   "source": [
    "# Assess performance of using difference predictions instead of full model "
   ]
  },
  {
   "cell_type": "code",
   "execution_count": null,
   "metadata": {},
   "outputs": [],
   "source": [
    "notTroubleDF['vPlusDiff'] = notTroubleDF['density_vegards'] + notTroubleDF['diff_predict']\n",
    "r2Comp = r2_score(notTroubleDF['density'], notTroubleDF['vPlusDiff'])\n",
    "print(r2Comp)\n",
    "\n",
    "plt.figure(figsize=(5,5))\n",
    "plt.scatter(notTroubleDF['vPlusDiff'], notTroubleDF['density'], edgecolors='k')\n",
    "plt.plot([0,25], [0,25], 'r-')\n",
    "plt.xlabel('density [g/cm$^3$]')\n",
    "plt.ylabel('predicted density (Vegard\\'s + difference)')\n",
    "\n",
    "\n",
    "plt.text(10,20, 'R$^2$ score: {:.3f}'.format(r2Comp))\n",
    "plt.xlim([0,25])\n",
    "plt.ylim([0,25])\n",
    "plt.title('Gen. 3')\n",
    "\n",
    "if saveFigures:\n",
    "    plt.savefig(os.path.join(os.getcwd(),'results','finalFigs',\n",
    "                             'densityMG-v3_Scatter.png'))\n",
    "    print('figure saved')"
   ]
  },
  {
   "cell_type": "markdown",
   "metadata": {},
   "source": [
    "# Try to predict Vegard's law directly"
   ]
  },
  {
   "cell_type": "code",
   "execution_count": null,
   "metadata": {},
   "outputs": [],
   "source": [
    "# Train on difference\n",
    "vegardFeats = pd.DataFrame()\n",
    "\n",
    "# take predicted values from each cross validation set to ensure training not performed on own set.  Take 200 training samples\n",
    "# Probably could have used cross_val_predict\n",
    "kf = KFold(5)\n",
    "rep=0\n",
    "notTroubleDF['vegards_predict'] = np.nan\n",
    "for train_index, test_index in kf.split(notTroubleDF['comp']):\n",
    "    print('Split #{}, training on {}'.format(rep, len(train_index)))\n",
    "    density_model.fit(X_subset[train_index,:], notTroubleDF['density_vegards'][train_index])\n",
    "    \n",
    "    y_pred = density_model.predict(X_subset[test_index,:])\n",
    "    notTroubleDF['vegards_predict'][test_index] = y_pred\n",
    "    \n",
    "    \n",
    "    featureImp = pd.DataFrame(density_model.steps[1][1].feature_importances_,\n",
    "                          index=reduced_feats,\n",
    "                          columns=['importance']).sort_values('importance',ascending=False)\n",
    "    #print(featureImp.head())\n",
    "    \n",
    "    vegardFeats = vegardFeats.append(featureImp)\n",
    "\n",
    "    rep+=1"
   ]
  },
  {
   "cell_type": "code",
   "execution_count": null,
   "metadata": {},
   "outputs": [],
   "source": [
    "# Sort and compile importances\n",
    "vegardFeats['totalImp'] = vegardFeats.groupby(level=0)['importance'].transform('sum')\n",
    "vegardFeats = vegardFeats.drop_duplicates(subset=['totalImp']).sort_values('totalImp',ascending=False)\n",
    "print('top features over 5 training splits')\n",
    "vegardFeats.to_csv(os.path.join(os.getcwd(),'results','densityMG-Vegards_featureImportance.csv'))\n",
    "vegardFeats.head()"
   ]
  },
  {
   "cell_type": "code",
   "execution_count": null,
   "metadata": {},
   "outputs": [],
   "source": [
    "r2Veg = r2_score(notTroubleDF['density_vegards'], notTroubleDF['vegards_predict'])\n",
    "print(r2Veg)\n",
    "\n",
    "plt.figure(figsize=(5,5))\n",
    "plt.scatter(notTroubleDF['vegards_predict'], notTroubleDF['density_predict'], edgecolors='k')\n",
    "plt.plot([0,25], [0,25], 'r-')\n",
    "plt.xlabel('Vegards predicted density [g/cm$^3$]')\n",
    "plt.ylabel('predicted density')\n",
    "\n",
    "\n",
    "plt.text(10,20, 'R$^2$ score: {:.3f}'.format(r2Veg))\n",
    "plt.xlim([0,25])\n",
    "plt.ylim([0,25])\n",
    "#plt.title('')\n",
    "\n",
    "if saveFigures:\n",
    "    plt.savefig(os.path.join(os.getcwd(),'results','finalFigs',\n",
    "                             'densityMG-Vegards_predictScatter.png'))\n",
    "    print('figure saved')"
   ]
  },
  {
   "cell_type": "code",
   "execution_count": null,
   "metadata": {},
   "outputs": [],
   "source": [
    "# Once satisfied with feature set, overwrite original datasets?\n",
    "\n",
    "with gzip.open('./datasets/density_features_subset.pkl.gz', 'wb') as fp:\n",
    "    pkl.dump(X_subset, fp)\n",
    "with gzip.open('./datasets/density_data_subset.pkl.gz', 'wb') as fd:\n",
    "    pkl.dump(notTroubleDF, fd)\n",
    "with gzip.open('./datasets/reduced_feats.pkl.gz', 'wb') as fr:\n",
    "    pkl.dump(reduced_feats, fr)"
   ]
  },
  {
   "cell_type": "markdown",
   "metadata": {},
   "source": [
    "# Restrict to 12 Features with varying importance\n",
    "Omitting outliers\n",
    "Compare to best model: Vegards+Difference predictions\n",
    "ref: Jae/Nils attempts"
   ]
  },
  {
   "cell_type": "code",
   "execution_count": null,
   "metadata": {},
   "outputs": [],
   "source": [
    "varyFeatData = notTroubleDF[['comp', 'density', 'density_vegards', 'vegards_diff','vPlusDiff']]\n",
    "varyFeatData.head()"
   ]
  },
  {
   "cell_type": "code",
   "execution_count": null,
   "metadata": {},
   "outputs": [],
   "source": [
    "#Train density_model on all data several times, get consistently performing features\n",
    "featListSorted = pd.DataFrame()\n",
    "\n",
    "kf = KFold(5)\n",
    "rep=0\n",
    "for train_index, test_index in kf.split(notTroubleDF['comp']):\n",
    "    print('Split #{}, training on {}'.format(rep, len(train_index)))\n",
    "    density_model.fit(X_notTrouble[train_index,:], notTroubleDF['density'][train_index])\n",
    "   \n",
    "    topFeats = pd.DataFrame(density_model.steps[1][1].feature_importances_,\n",
    "                          index=dens_featurizer.feature_labels(),\n",
    "                          columns=['importance']).sort_values('importance', ascending=False)\n",
    "    \n",
    "    featListSorted = featListSorted.append(topFeats)\n",
    "    rep += 1\n",
    "    \n",
    "    \n",
    "featListSorted['totalImp'] = featListSorted.groupby(level=0)['importance'].transform('sum')\n",
    "featListSorted = featListSorted.drop_duplicates(subset=['totalImp']).sort_values('totalImp',ascending=False)\n",
    "print('top features over 5 training splits:')\n",
    "featListSorted.head()"
   ]
  },
  {
   "cell_type": "code",
   "execution_count": null,
   "metadata": {},
   "outputs": [],
   "source": [
    "featList = pd.DataFrame(density_model.steps[1][1].feature_importances_,\n",
    "                          index=dens_featurizer.feature_labels(),\n",
    "                          columns=['importance'])\n",
    "featList.reset_index(inplace=True)"
   ]
  },
  {
   "cell_type": "code",
   "execution_count": null,
   "metadata": {},
   "outputs": [],
   "source": [
    "#diffFeatTop\n",
    "#densFeatTop\n",
    "# Gather default ordering of features\n",
    "#featList = pd.DataFrame(density_model.steps[1][1].feature_importances_,\n",
    "#                          index=dens_featurizer.feature_labels(),\n",
    "#                          columns=['importance'])\n",
    "#featList.reset_index(inplace=True)\n",
    "\n",
    "scoreDict = {}\n",
    "colList = []\n",
    "\n",
    "for n in range(0, len(featList)-20, 5):\n",
    "    # Grab n to n+12th most important features\n",
    "    featIndex = featList[ [x in diffFeatTop.iloc[n:n+20].index for x in featList['index']] ].index.values\n",
    "\n",
    "    X_temp = X_notTrouble[:, featIndex]\n",
    "\n",
    "    # Begin training with 5-fold CV\n",
    "    kf = KFold(5)\n",
    "    rep=0\n",
    "    \n",
    "    scoreDict[n] = []\n",
    "    print('--------------------------------------------------------')\n",
    "    for train_index, test_index in kf.split(varyFeatData['comp']):\n",
    "        # String for column name\n",
    "        colStr = 'n{}Part{}_predict'.format(n, rep)\n",
    "        colList.append(colStr)\n",
    "        \n",
    "        print('Split #{}, training on {}: {}'.format(rep, len(train_index), colStr))\n",
    "        \n",
    "        varyFeatData[colStr] = np.nan    \n",
    "        \n",
    "        density_model.fit(X_temp[train_index,:], varyFeatData['density'][train_index])\n",
    "\n",
    "        y_pred = density_model.predict(X_temp[test_index,:])\n",
    "        varyFeatData[colStr][test_index] = y_pred\n",
    "\n",
    "        #print(train_index, test_index)\n",
    "        rep+=1\n",
    "   "
   ]
  },
  {
   "cell_type": "code",
   "execution_count": null,
   "metadata": {},
   "outputs": [],
   "source": [
    "varyFeatData.head()"
   ]
  },
  {
   "cell_type": "code",
   "execution_count": null,
   "metadata": {},
   "outputs": [],
   "source": [
    "for name in colList:\n",
    "    num = int(re.search('n(\\d*)Part*', name)[1])\n",
    "    currSplit = varyFeatData[ ~varyFeatData[name].apply(np.isnan) ]\n",
    "    scoreDict[num].append( r2_score(currSplit['density'], currSplit[name]))\n",
    "    \n",
    "#print('avg: {}, std: {}'.format(np.mean(scores),np.std(scores)))"
   ]
  },
  {
   "cell_type": "code",
   "execution_count": null,
   "metadata": {},
   "outputs": [],
   "source": [
    "ns = []\n",
    "avgs = []\n",
    "meds = []\n",
    "stds = []\n",
    "mins = []\n",
    "for key, item in scoreDict.items():\n",
    "    ns.append(key)\n",
    "    avgs.append(np.mean(item))\n",
    "    meds.append(np.median(item))\n",
    "    stds.append(np.std(item))\n",
    "    mins.append(np.min(item))"
   ]
  },
  {
   "cell_type": "code",
   "execution_count": null,
   "metadata": {},
   "outputs": [],
   "source": [
    "ns = np.array(ns)\n",
    "avgs = np.array(avgs)\n",
    "meds = np.array(meds)\n",
    "stds = np.array(stds)\n",
    "mins = np.array(mins)"
   ]
  },
  {
   "cell_type": "code",
   "execution_count": null,
   "metadata": {},
   "outputs": [],
   "source": [
    "plt.figure()\n",
    "\n",
    "plt.title('Performance with 20 features')\n",
    "plt.xlabel('n where nth to n+20th most important feats used')\n",
    "plt.ylabel('r$^2$ score')\n",
    "\n",
    "plt.fill_between(ns, avgs - stds,\n",
    "                 avgs + stds, alpha=0.1,\n",
    "                 color=\"r\")\n",
    "plt.plot(ns, avgs, 'o-', color=\"r\", label='mean')\n",
    "plt.plot(ns, mins, 's-', color='g', label='min')\n",
    "plt.plot([-5,ns[-1]+5], [0, 0], '--', color='k')\n",
    "plt.legend(loc='lower left')\n",
    "\n",
    "plt.xlim([-5,ns[-1]+5])\n",
    "\n",
    "if saveFigures:\n",
    "    plt.savefig(os.path.join(os.getcwd(),'results','featElim_20_noOut.png'))\n",
    "    print('figure saved')"
   ]
  },
  {
   "cell_type": "code",
   "execution_count": null,
   "metadata": {},
   "outputs": [],
   "source": [
    "# Sum importances\n",
    "featListSorted['cumSum_totalImp'] = featListSorted['totalImp'].cumsum()/5"
   ]
  },
  {
   "cell_type": "code",
   "execution_count": null,
   "metadata": {},
   "outputs": [],
   "source": [
    "plt.figure()\n",
    "\n",
    "plt.plot(range(len(featListSorted)), featListSorted['cumSum_totalImp'])\n",
    "plt.ylabel('Cumulative Feature Importance')\n",
    "plt.xlabel('n most important features')\n",
    "\n",
    "if saveFigures:\n",
    "    plt.savefig(os.path.join(os.getcwd(),'results','cumSum_FeatImp.png'))\n",
    "    print('figure saved')"
   ]
  },
  {
   "cell_type": "code",
   "execution_count": 57,
   "metadata": {},
   "outputs": [
    {
     "data": {
      "text/plain": [
       "0                       maximum MeltingT\n",
       "1                       mode GSvolume_pa\n",
       "2                 mean Electronegativity\n",
       "3                         mean NUnfilled\n",
       "4                            mean Column\n",
       "5                  mean SpaceGroupNumber\n",
       "6               avg_dev SpaceGroupNumber\n",
       "7                          mode MeltingT\n",
       "8                       avg_dev MeltingT\n",
       "9                          mean MeltingT\n",
       "10                        range MeltingT\n",
       "11                   mode CovalentRadius\n",
       "12                     avg_dev NUnfilled\n",
       "13                        mean NsValence\n",
       "14               avg_dev MendeleevNumber\n",
       "15                         mode NValence\n",
       "16                      avg_dev NValence\n",
       "17                         mean NValence\n",
       "18               minimum MendeleevNumber\n",
       "19                           mode Number\n",
       "20                           mean Number\n",
       "21        mean simul. packing efficiency\n",
       "22                      maximum NValence\n",
       "23                        mean NfValence\n",
       "24                       mean NdUnfilled\n",
       "25                   avg_dev GSvolume_pa\n",
       "26             avg_dev Electronegativity\n",
       "27    mean abs simul. packing efficiency\n",
       "28                        avg_dev Number\n",
       "29                        minimum Column\n",
       "Name: feat_name, dtype: object"
      ]
     },
     "execution_count": 57,
     "metadata": {},
     "output_type": "execute_result"
    }
   ],
   "source": [
    "reduced_feats"
   ]
  },
  {
   "cell_type": "code",
   "execution_count": null,
   "metadata": {},
   "outputs": [],
   "source": []
  }
 ],
 "metadata": {
  "kernelspec": {
   "display_name": "Python 3",
   "language": "python",
   "name": "python3"
  },
  "language_info": {
   "codemirror_mode": {
    "name": "ipython",
    "version": 3
   },
   "file_extension": ".py",
   "mimetype": "text/x-python",
   "name": "python",
   "nbconvert_exporter": "python",
   "pygments_lexer": "ipython3",
   "version": "3.6.3"
  }
 },
 "nbformat": 4,
 "nbformat_minor": 2
}
