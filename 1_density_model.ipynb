{
 "cells": [
  {
   "cell_type": "code",
   "execution_count": 1,
   "metadata": {},
   "outputs": [],
   "source": [
    "%matplotlib inline\n",
    "from matplotlib import pyplot as plt\n",
    "from matminer.featurizers.base import MultipleFeaturizer, StackedFeaturizer\n",
    "from matminer.featurizers import composition as cf\n",
    "from sklearn.ensemble import RandomForestClassifier, RandomForestRegressor\n",
    "from sklearn.model_selection import GridSearchCV, ShuffleSplit, LeaveOneGroupOut, cross_val_score, learning_curve, KFold\n",
    "from sklearn.pipeline import Pipeline\n",
    "from sklearn.preprocessing import Imputer, LabelEncoder\n",
    "from sklearn.metrics import roc_curve, auc, r2_score, make_scorer\n",
    "from sklearn import metrics\n",
    "from pymatgen import Composition\n",
    "import pickle as pkl\n",
    "import pandas as pd\n",
    "import numpy as np\n",
    "import gzip\n",
    "import os"
   ]
  },
  {
   "cell_type": "code",
   "execution_count": 2,
   "metadata": {},
   "outputs": [],
   "source": [
    "def featCleanImpute(Y):\n",
    "    ''' Convert inf to NaN in feature array, in place\n",
    "    \n",
    "    Args: \n",
    "        Y, feature array, list of ndarray (#samples x #features)\n",
    "    Returns:\n",
    "        None\n",
    "    '''\n",
    "    # Clean inf values\n",
    "    for i in range(len(Y)):\n",
    "        for j in range(len(Y[i])):\n",
    "            if Y[i][j] == np.inf:\n",
    "                Y[i][j] = np.nan\n",
    "            else:\n",
    "                Y[i][j] = Y[i][j]\n",
    "                \n",
    "    # Impute nan values\n",
    "    imp = Imputer(missing_values='NaN', axis=0, strategy='mean', copy=False)\n",
    "    imp2 = Imputer(missing_values='NaN', axis=1, strategy='mean', copy=False)\n",
    "\n",
    "    imp.fit(Y)\n",
    "    imp.transform(Y)\n",
    "    imp2.fit(Y)\n",
    "    imp.transform(Y)\n",
    "    "
   ]
  },
  {
   "cell_type": "markdown",
   "metadata": {},
   "source": [
    "# Build Model: Density"
   ]
  },
  {
   "cell_type": "markdown",
   "metadata": {},
   "source": [
    "Import feature set, import data"
   ]
  },
  {
   "cell_type": "code",
   "execution_count": null,
   "metadata": {},
   "outputs": [],
   "source": [
    "with gzip.open('./datasets/density_features.pkl.gz', 'wb') as fp:\n",
    "    pkl.load(X_dens, fp)\n",
    "with gzip.open('./datasets/density_data.pkl.gz', 'wb') as fd:\n",
    "    pkl.load(densityData, fd)"
   ]
  },
  {
   "cell_type": "code",
   "execution_count": null,
   "metadata": {},
   "outputs": [],
   "source": [
    "density_model = Pipeline([('impute',Imputer()), \n",
    "                          ('model', RandomForestRegressor(n_estimators=100, n_jobs=1, max_features=12))])"
   ]
  },
  {
   "cell_type": "code",
   "execution_count": null,
   "metadata": {},
   "outputs": [],
   "source": [
    "# Look at feature importances when trained on the whole data set"
   ]
  },
  {
   "cell_type": "code",
   "execution_count": null,
   "metadata": {},
   "outputs": [],
   "source": [
    "# make scorer for r2 metric\n",
    "r2_scorer = make_scorer(r2_score)"
   ]
  },
  {
   "cell_type": "markdown",
   "metadata": {},
   "source": [
    "Generate learning curves"
   ]
  },
  {
   "cell_type": "code",
   "execution_count": null,
   "metadata": {},
   "outputs": [],
   "source": [
    "train_sizes, train_scores, valid_scores = learning_curve(density_model, X_dens, densitySLAC['density'], cv=ShuffleSplit(),\n",
    "                                                          scoring=r2_scorer)"
   ]
  },
  {
   "cell_type": "code",
   "execution_count": null,
   "metadata": {},
   "outputs": [],
   "source": [
    "plt.figure()\n",
    "plt.title('Learning Curve, RForest: std features, max 12 estimators')\n",
    "plt.xlabel(\"Training examples: density data, NREL+SLAC.  Duplicates Permitted\")\n",
    "plt.ylabel(\"$r^2$\")\n",
    "train_scores_mean = np.mean(train_scores, axis=1)\n",
    "train_scores_std = np.std(train_scores, axis=1)\n",
    "test_scores_mean = np.mean(valid_scores, axis=1)\n",
    "test_scores_std = np.std(valid_scores, axis=1)\n",
    "plt.grid()\n",
    "\n",
    "plt.fill_between(train_sizes, train_scores_mean - train_scores_std,\n",
    "                 train_scores_mean + train_scores_std, alpha=0.1,\n",
    "                 color=\"r\")\n",
    "plt.fill_between(train_sizes, test_scores_mean - test_scores_std,\n",
    "                 test_scores_mean + test_scores_std, alpha=0.1, color=\"g\")\n",
    "plt.plot(train_sizes, train_scores_mean, 'o-', color=\"r\",\n",
    "         label=\"Training score\")\n",
    "plt.plot(train_sizes, test_scores_mean, 'o-', color=\"g\",\n",
    "         label=\"Cross-validation score\")\n",
    "\n",
    "plt.legend(loc=\"best\")\n",
    "plt.show()"
   ]
  },
  {
   "cell_type": "code",
   "execution_count": null,
   "metadata": {},
   "outputs": [],
   "source": [
    "#take predicted values from each cross validation set to ensure training not performed on own set.  Take 200 training samples\n",
    "# Probably could have used cross_val_predict\n",
    "kf = KFold(5)\n",
    "rep=0\n",
    "densitySLAC['density_predict'] = np.nan\n",
    "for train_index, test_index in kf.split(densitySLAC['comp']):\n",
    "    print('Split #{}'.format(rep))\n",
    "    density_model.fit(X_dens[train_index,:], densitySLAC['density'][train_index])\n",
    "    \n",
    "    y_densPredict = density_model.predict(X_dens[test_index,:])\n",
    "    densitySLAC['density_predict'][test_index] = y_densPredict\n",
    "    \n",
    "    #print(train_index, test_index)\n",
    "    rep+=1\n",
    "#y_densPredict = "
   ]
  },
  {
   "cell_type": "code",
   "execution_count": null,
   "metadata": {},
   "outputs": [],
   "source": [
    "plt.figure(figsize=(5,5))\n",
    "plt.scatter(densitySLAC['density'], densitySLAC['density_predict'], edgecolors='k')\n",
    "plt.plot([0,30], [0,30], 'r-')\n",
    "plt.xlabel('density [g/cm$^3$]')\n",
    "plt.ylabel('predicted density')\n",
    "\n",
    "plt.xlim([0,25])\n",
    "plt.ylim([0,25])"
   ]
  }
 ],
 "metadata": {
  "kernelspec": {
   "display_name": "Python 3",
   "language": "python",
   "name": "python3"
  },
  "language_info": {
   "codemirror_mode": {
    "name": "ipython",
    "version": 3
   },
   "file_extension": ".py",
   "mimetype": "text/x-python",
   "name": "python",
   "nbconvert_exporter": "python",
   "pygments_lexer": "ipython3",
   "version": "3.6.3"
  }
 },
 "nbformat": 4,
 "nbformat_minor": 2
}
