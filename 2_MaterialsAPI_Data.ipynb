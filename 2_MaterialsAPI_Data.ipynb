{
 "cells": [
  {
   "cell_type": "code",
   "execution_count": 1,
   "metadata": {},
   "outputs": [],
   "source": [
    "import numpy as np\n",
    "import os\n",
    "import pandas as pd\n",
    "import gzip\n",
    "import pickle as pkl\n",
    "\n",
    "from pymatgen import MPRester \n",
    "    # Look to gist.github or pymatgen docs for examples\n",
    "from pymatgen import Composition\n",
    "import json\n",
    "\n",
    "from matminer.featurizers.base import MultipleFeaturizer\n",
    "from matminer.featurizers import composition as cf"
   ]
  },
  {
   "cell_type": "markdown",
   "metadata": {},
   "source": [
    "# Obtain data from MAPI via RESTurl"
   ]
  },
  {
   "cell_type": "code",
   "execution_count": 2,
   "metadata": {},
   "outputs": [],
   "source": [
    "# Keep private, scrub when publishing\n",
    "APIkey = ''"
   ]
  },
  {
   "cell_type": "code",
   "execution_count": 3,
   "metadata": {},
   "outputs": [],
   "source": [
    "mpr = MPRester(api_key=APIkey)"
   ]
  },
  {
   "cell_type": "code",
   "execution_count": 4,
   "metadata": {},
   "outputs": [],
   "source": [
    "data = mpr.get_data('ZrAlNi',prop='density')\n",
    "data1 = mpr.get_data('ZrAlNi')"
   ]
  },
  {
   "cell_type": "code",
   "execution_count": 5,
   "metadata": {},
   "outputs": [
    {
     "data": {
      "text/plain": [
       "[{'density': 6.0990192647020605,\n",
       "  'material_id': 'mp-1025457',\n",
       "  'pretty_formula': 'HfAl5Ni2'},\n",
       " {'density': 9.372035219242056,\n",
       "  'material_id': 'mp-1078767',\n",
       "  'pretty_formula': 'HfAlNi'},\n",
       " {'density': 9.530657163365866,\n",
       "  'material_id': 'mp-5748',\n",
       "  'pretty_formula': 'HfAlNi2'}]"
      ]
     },
     "execution_count": 5,
     "metadata": {},
     "output_type": "execute_result"
    }
   ],
   "source": [
    "mpr.query({'elements':{'$all':['Hf','Al','Ni']}}, properties=['material_id', 'density', 'pretty_formula'])"
   ]
  },
  {
   "cell_type": "code",
   "execution_count": 6,
   "metadata": {},
   "outputs": [
    {
     "data": {
      "text/plain": [
       "\"# generated using pymatgen\\ndata_ZrAlNi\\n_symmetry_space_group_name_H-M   'P 1'\\n_cell_length_a   3.50853034\\n_cell_length_b   6.90772970\\n_cell_length_c   6.90716467\\n_cell_angle_alpha   120.00270371\\n_cell_angle_beta   90.00000000\\n_cell_angle_gamma   90.00000000\\n_symmetry_Int_Tables_number   1\\n_chemical_formula_structural   ZrAlNi\\n_chemical_formula_sum   'Zr3 Al3 Ni3'\\n_cell_volume   144.97034775\\n_cell_formula_units_Z   3\\nloop_\\n _symmetry_equiv_pos_site_id\\n _symmetry_equiv_pos_as_xyz\\n  1  'x, y, z'\\nloop_\\n _atom_site_type_symbol\\n _atom_site_label\\n _atom_site_symmetry_multiplicity\\n _atom_site_fract_x\\n _atom_site_fract_y\\n _atom_site_fract_z\\n _atom_site_occupancy\\n  Zr  Zr1  1  0.500000  0.592952  1.000000  1\\n  Zr  Zr2  1  0.500000  0.407024  0.407037  1\\n  Zr  Zr3  1  0.500000  0.999988  0.592963  1\\n  Al  Al4  1  0.000000  0.249448  0.000000  1\\n  Al  Al5  1  -0.000000  0.750544  0.750578  1\\n  Al  Al6  1  -0.000000  0.999967  0.249422  1\\n  Ni  Ni7  1  0.500000  0.000001  0.000000  1\\n  Ni  Ni8  1  0.000000  0.333340  0.666703  1\\n  Ni  Ni9  1  -0.000000  0.666636  0.333297  1\\n\""
      ]
     },
     "execution_count": 6,
     "metadata": {},
     "output_type": "execute_result"
    }
   ],
   "source": [
    "data1[0]['cif']"
   ]
  },
  {
   "cell_type": "markdown",
   "metadata": {},
   "source": [
    "# Try getting density from MAPI"
   ]
  },
  {
   "cell_type": "code",
   "execution_count": 7,
   "metadata": {},
   "outputs": [],
   "source": [
    "with gzip.open('./datasets/density_data.pkl.gz', 'rb') as fd:\n",
    "    densityData = pkl.load(fd)"
   ]
  },
  {
   "cell_type": "code",
   "execution_count": 8,
   "metadata": {},
   "outputs": [],
   "source": [
    "# make set of all ternary systems, grab all MP alloys in same ternary\n",
    "comps = densityData['comp']\n",
    "compSet = set()\n",
    "\n",
    "for x in comps:\n",
    "    tern = frozenset(x.as_dict().keys())\n",
    "    compSet.add(tern)"
   ]
  },
  {
   "cell_type": "code",
   "execution_count": 9,
   "metadata": {},
   "outputs": [
    {
     "data": {
      "text/plain": [
       "['Zr', 'Cu', 'Al', 'Ag']"
      ]
     },
     "execution_count": 9,
     "metadata": {},
     "output_type": "execute_result"
    }
   ],
   "source": [
    "list(tern)"
   ]
  },
  {
   "cell_type": "code",
   "execution_count": 10,
   "metadata": {},
   "outputs": [
    {
     "name": "stdout",
     "output_type": "stream",
     "text": [
      "Out of 251 compositions, 183 ternaries had no examples, found 5026 other items\n"
     ]
    }
   ],
   "source": [
    "cols = ['pretty_formula', 'density', 'material_id']\n",
    "MAPIdf = pd.DataFrame(columns=cols)\n",
    "dataDict = dict()\n",
    "failLog = set()\n",
    "for tern in compSet:\n",
    "    #print(tern)\n",
    "    matches = mpr.query({'elements':{'$all':list(tern)}}, properties=['material_id', 'density', 'pretty_formula'])\n",
    "    if len(matches) == 0:\n",
    "        #print('no data for: {}'.format(tern))\n",
    "        failLog.add(tern)\n",
    "    else:\n",
    "        MAPIdf = MAPIdf.append(pd.DataFrame(matches))\n",
    "        \n",
    "print('Out of {} compositions, {} ternaries had no examples, found {} other items'.format(len(compSet), len(failLog), len(MAPIdf)))\n",
    "        \n",
    "# add Composition object\n",
    "MAPIdf['comp'] = [Composition(x) for x in MAPIdf['pretty_formula']]"
   ]
  },
  {
   "cell_type": "code",
   "execution_count": 11,
   "metadata": {},
   "outputs": [],
   "source": [
    "base_featurizer = MultipleFeaturizer([cf.Stoichiometry(), cf.ElementProperty.from_preset(\"magpie\"),\n",
    "                                 cf.ValenceOrbital(props=['avg']), cf.IonProperty(fast=True),\n",
    "                                cf.YangSolidSolution(), cf.AtomicPackingEfficiency()])"
   ]
  },
  {
   "cell_type": "code",
   "execution_count": 12,
   "metadata": {},
   "outputs": [],
   "source": [
    "if False:\n",
    "    %%time\n",
    "    X_mapi = base_featurizer.featurize_many(MAPIdf['comp'], ignore_errors=True)\n",
    "    X_mapi = np.array(X_mapi)\n",
    "    X_mapi.astype(float)\n",
    "    print('Computed {} features'.format(X_mapi.shape[1]))"
   ]
  },
  {
   "cell_type": "code",
   "execution_count": 13,
   "metadata": {},
   "outputs": [],
   "source": [
    "with gzip.open('./datasets/MAPI_density_data.pkl.gz', 'wb') as fp:\n",
    "    pkl.dump(MAPIdf, fp)\n",
    "#with gzip.open('./datasets/MAPI_density_features.pkl.gz', 'wb') as fx:\n",
    "#    pkl.dump(X_mapi, fx)"
   ]
  },
  {
   "cell_type": "code",
   "execution_count": null,
   "metadata": {},
   "outputs": [],
   "source": []
  },
  {
   "cell_type": "code",
   "execution_count": null,
   "metadata": {},
   "outputs": [],
   "source": []
  },
  {
   "cell_type": "code",
   "execution_count": null,
   "metadata": {},
   "outputs": [],
   "source": []
  }
 ],
 "metadata": {
  "kernelspec": {
   "display_name": "Python 3",
   "language": "python",
   "name": "python3"
  },
  "language_info": {
   "codemirror_mode": {
    "name": "ipython",
    "version": 3
   },
   "file_extension": ".py",
   "mimetype": "text/x-python",
   "name": "python",
   "nbconvert_exporter": "python",
   "pygments_lexer": "ipython3",
   "version": "3.6.3"
  }
 },
 "nbformat": 4,
 "nbformat_minor": 2
}
