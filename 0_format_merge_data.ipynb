{
 "cells": [
  {
   "cell_type": "code",
   "execution_count": 1,
   "metadata": {},
   "outputs": [],
   "source": [
    "%matplotlib inline\n",
    "from matplotlib import pyplot as plt\n",
    "from matminer.featurizers.base import MultipleFeaturizer, StackedFeaturizer\n",
    "from matminer.featurizers import composition as cf\n",
    "from sklearn.ensemble import RandomForestClassifier, RandomForestRegressor\n",
    "from sklearn.model_selection import GridSearchCV, ShuffleSplit, LeaveOneGroupOut, cross_val_score, learning_curve, KFold\n",
    "from sklearn.pipeline import Pipeline\n",
    "from sklearn.preprocessing import Imputer, LabelEncoder\n",
    "from sklearn.metrics import roc_curve, auc, r2_score, make_scorer\n",
    "from sklearn import metrics\n",
    "from pymatgen import Composition\n",
    "import pickle as pkl\n",
    "import pandas as pd\n",
    "import numpy as np\n",
    "import gzip\n",
    "import os\n",
    "import copy"
   ]
  },
  {
   "cell_type": "code",
   "execution_count": 2,
   "metadata": {},
   "outputs": [],
   "source": [
    "def featCleanImpute(Y):\n",
    "    ''' Convert inf to NaN in feature array, in place\n",
    "    \n",
    "    Args: \n",
    "        Y, feature array, list of ndarray (#samples x #features)\n",
    "    Returns:\n",
    "        None\n",
    "    '''\n",
    "    # Clean inf values\n",
    "    for i in range(len(Y)):\n",
    "        for j in range(len(Y[i])):\n",
    "            if Y[i][j] == np.inf:\n",
    "                Y[i][j] = np.nan\n",
    "            else:\n",
    "                Y[i][j] = Y[i][j]\n",
    "                \n",
    "    # Impute nan values\n",
    "    imp = Imputer(missing_values='NaN', axis=0, strategy='mean', copy=False)\n",
    "    imp2 = Imputer(missing_values='NaN', axis=1, strategy='mean', copy=False)\n",
    "\n",
    "    imp.fit(Y)\n",
    "    imp.transform(Y)\n",
    "    imp2.fit(Y)\n",
    "    imp.transform(Y)\n",
    "    "
   ]
  },
  {
   "cell_type": "code",
   "execution_count": 3,
   "metadata": {},
   "outputs": [],
   "source": [
    "def genStatsDF(dfOrig):\n",
    "    '''\n",
    "    Generates a new dataframe that merges duplicate entries, while supplying avg/std/no.\n",
    "\n",
    "    input: DataFrame with 2 columns, first is composition, second is property\n",
    "    output: Datafrme with 4 columns\n",
    "\n",
    "    '''\n",
    "    yDcopy = dfOrig.copy()\n",
    "    (col1, col2) = dfOrig.columns\n",
    "\n",
    "    redList = []\n",
    "    cnt=0\n",
    "    while ~yDcopy.empty and cnt < len(yDcopy):\n",
    "        compTemp = yDcopy[col1][0]\n",
    "        \n",
    "        # difference must be below atol+rtol*mean.  \n",
    "        dupes = yDcopy[ [x.almost_equals(compTemp) for x in yDcopy[col1]] ]\n",
    "\n",
    "        tempDict = {col1: compTemp, col2+'_avg': dupes[col2].mean(), \n",
    "                    col2+'_std': dupes[col2].std(), 'numSamp': len(dupes)}\n",
    "\n",
    "        redList.append(tempDict)\n",
    "\n",
    "        #remove processed entries\n",
    "        yDcopy.drop(index=list(dupes.index), inplace=True)\n",
    "        yDcopy.reset_index(drop=True, inplace=True)\n",
    "        cnt+=1\n",
    "\n",
    "    reducedDF = pd.DataFrame(redList)\n",
    "    return reducedDF"
   ]
  },
  {
   "cell_type": "markdown",
   "metadata": {},
   "source": [
    "# Import and Format datasets"
   ]
  },
  {
   "cell_type": "code",
   "execution_count": 4,
   "metadata": {},
   "outputs": [
    {
     "data": {
      "text/plain": [
       "2174"
      ]
     },
     "execution_count": 4,
     "metadata": {},
     "output_type": "execute_result"
    }
   ],
   "source": [
    "elastProp_SLAC = pd.read_excel('datasets/Mechnical properties analysis v33_Pruned.xlsx')\n",
    "rawCopy = elastProp_SLAC.copy()\n",
    "len(rawCopy)"
   ]
  },
  {
   "cell_type": "code",
   "execution_count": 5,
   "metadata": {
    "scrolled": true
   },
   "outputs": [
    {
     "data": {
      "text/html": [
       "<div>\n",
       "<style scoped>\n",
       "    .dataframe tbody tr th:only-of-type {\n",
       "        vertical-align: middle;\n",
       "    }\n",
       "\n",
       "    .dataframe tbody tr th {\n",
       "        vertical-align: top;\n",
       "    }\n",
       "\n",
       "    .dataframe thead th {\n",
       "        text-align: right;\n",
       "    }\n",
       "</style>\n",
       "<table border=\"1\" class=\"dataframe\">\n",
       "  <thead>\n",
       "    <tr style=\"text-align: right;\">\n",
       "      <th></th>\n",
       "      <th>Compositions</th>\n",
       "      <th>Sample</th>\n",
       "      <th>Conditions</th>\n",
       "      <th>Tensile strength (MPa)</th>\n",
       "      <th>Error</th>\n",
       "      <th>Yeild strength, σy (MPa)</th>\n",
       "      <th>Error</th>\n",
       "      <th>Elongation (%)</th>\n",
       "      <th>Compressive fracture strength, σf (MPa)</th>\n",
       "      <th>Error.1</th>\n",
       "      <th>...</th>\n",
       "      <th>Vd (%)</th>\n",
       "      <th>Strain hardening rate</th>\n",
       "      <th>ρ (g/cm3)</th>\n",
       "      <th>Stress Intensity, Kc</th>\n",
       "      <th>G/K</th>\n",
       "      <th>θd</th>\n",
       "      <th>Energy of fracture,Gc</th>\n",
       "      <th>Glasses</th>\n",
       "      <th>Diameter, mm</th>\n",
       "      <th>Reference2</th>\n",
       "    </tr>\n",
       "  </thead>\n",
       "  <tbody>\n",
       "    <tr>\n",
       "      <th>0</th>\n",
       "      <td>Zr55Al10Ni5Cu30</td>\n",
       "      <td>Zr-based</td>\n",
       "      <td>NaN</td>\n",
       "      <td>1840</td>\n",
       "      <td>NaN</td>\n",
       "      <td>NaN</td>\n",
       "      <td>NaN</td>\n",
       "      <td>2</td>\n",
       "      <td>NaN</td>\n",
       "      <td>NaN</td>\n",
       "      <td>...</td>\n",
       "      <td>NaN</td>\n",
       "      <td>NaN</td>\n",
       "      <td>NaN</td>\n",
       "      <td>NaN</td>\n",
       "      <td>NaN</td>\n",
       "      <td>NaN</td>\n",
       "      <td>NaN</td>\n",
       "      <td>BMG</td>\n",
       "      <td>NaN</td>\n",
       "      <td>B. Guennec et al, Intermetallics 92 (2018) 72–78</td>\n",
       "    </tr>\n",
       "    <tr>\n",
       "      <th>1</th>\n",
       "      <td>Zr61Ti2Cu25Al12</td>\n",
       "      <td>Zr-based</td>\n",
       "      <td>NaN</td>\n",
       "      <td>1600</td>\n",
       "      <td>NaN</td>\n",
       "      <td>NaN</td>\n",
       "      <td>NaN</td>\n",
       "      <td>NaN</td>\n",
       "      <td>1688</td>\n",
       "      <td>NaN</td>\n",
       "      <td>...</td>\n",
       "      <td>NaN</td>\n",
       "      <td>NaN</td>\n",
       "      <td>NaN</td>\n",
       "      <td>NaN</td>\n",
       "      <td>NaN</td>\n",
       "      <td>NaN</td>\n",
       "      <td>NaN</td>\n",
       "      <td>BMG</td>\n",
       "      <td>NaN</td>\n",
       "      <td>Z-Q Song et al, Acta Materialia 99 (2015) 165–175</td>\n",
       "    </tr>\n",
       "    <tr>\n",
       "      <th>2</th>\n",
       "      <td>Zr56Co24Ag4Al16</td>\n",
       "      <td>Zr-based</td>\n",
       "      <td>(electric charge 100 Ag)</td>\n",
       "      <td>2284</td>\n",
       "      <td>63</td>\n",
       "      <td>NaN</td>\n",
       "      <td>NaN</td>\n",
       "      <td>NaN</td>\n",
       "      <td>NaN</td>\n",
       "      <td>NaN</td>\n",
       "      <td>...</td>\n",
       "      <td>NaN</td>\n",
       "      <td>NaN</td>\n",
       "      <td>NaN</td>\n",
       "      <td>NaN</td>\n",
       "      <td>NaN</td>\n",
       "      <td>NaN</td>\n",
       "      <td>NaN</td>\n",
       "      <td>BMG</td>\n",
       "      <td>NaN</td>\n",
       "      <td>M. Mohammadi Rahvard et al, Journal of Non-Cry...</td>\n",
       "    </tr>\n",
       "    <tr>\n",
       "      <th>3</th>\n",
       "      <td>Zr56Co24Ag4Al16</td>\n",
       "      <td>Zr-based</td>\n",
       "      <td>(electric charge 90 Ag)</td>\n",
       "      <td>2197</td>\n",
       "      <td>48</td>\n",
       "      <td>NaN</td>\n",
       "      <td>NaN</td>\n",
       "      <td>NaN</td>\n",
       "      <td>NaN</td>\n",
       "      <td>NaN</td>\n",
       "      <td>...</td>\n",
       "      <td>NaN</td>\n",
       "      <td>NaN</td>\n",
       "      <td>NaN</td>\n",
       "      <td>NaN</td>\n",
       "      <td>NaN</td>\n",
       "      <td>NaN</td>\n",
       "      <td>NaN</td>\n",
       "      <td>BMG</td>\n",
       "      <td>NaN</td>\n",
       "      <td>M. Mohammadi Rahvard et al, Journal of Non-Cry...</td>\n",
       "    </tr>\n",
       "    <tr>\n",
       "      <th>4</th>\n",
       "      <td>Al20Co25Zr55</td>\n",
       "      <td>Al-based</td>\n",
       "      <td>NaN</td>\n",
       "      <td>2050</td>\n",
       "      <td>NaN</td>\n",
       "      <td>NaN</td>\n",
       "      <td>NaN</td>\n",
       "      <td>2.1</td>\n",
       "      <td>2200</td>\n",
       "      <td>NaN</td>\n",
       "      <td>...</td>\n",
       "      <td>NaN</td>\n",
       "      <td>NaN</td>\n",
       "      <td>NaN</td>\n",
       "      <td>NaN</td>\n",
       "      <td>NaN</td>\n",
       "      <td>NaN</td>\n",
       "      <td>NaN</td>\n",
       "      <td>BMG</td>\n",
       "      <td>NaN</td>\n",
       "      <td>M. Mohammadi Rahvard et al, Journal of Non-Cry...</td>\n",
       "    </tr>\n",
       "  </tbody>\n",
       "</table>\n",
       "<p>5 rows × 40 columns</p>\n",
       "</div>"
      ],
      "text/plain": [
       "      Compositions    Sample                 Conditions  \\\n",
       "0  Zr55Al10Ni5Cu30  Zr-based                        NaN   \n",
       "1  Zr61Ti2Cu25Al12  Zr-based                        NaN   \n",
       "2  Zr56Co24Ag4Al16  Zr-based   (electric charge 100 Ag)   \n",
       "3  Zr56Co24Ag4Al16  Zr-based    (electric charge 90 Ag)   \n",
       "4     Al20Co25Zr55  Al-based                        NaN   \n",
       "\n",
       "  Tensile strength (MPa) Error  Yeild strength, σy (MPa)  Error  \\\n",
       "0                   1840    NaN                      NaN    NaN   \n",
       "1                   1600    NaN                      NaN    NaN   \n",
       "2                   2284     63                      NaN    NaN   \n",
       "3                   2197     48                      NaN    NaN   \n",
       "4                   2050    NaN                      NaN    NaN   \n",
       "\n",
       "  Elongation (%) Compressive fracture strength, σf (MPa)  Error.1  \\\n",
       "0              2                                     NaN      NaN   \n",
       "1            NaN                                    1688      NaN   \n",
       "2            NaN                                     NaN      NaN   \n",
       "3            NaN                                     NaN      NaN   \n",
       "4            2.1                                    2200      NaN   \n",
       "\n",
       "                         ...                         Vd (%)  \\\n",
       "0                        ...                            NaN   \n",
       "1                        ...                            NaN   \n",
       "2                        ...                            NaN   \n",
       "3                        ...                            NaN   \n",
       "4                        ...                            NaN   \n",
       "\n",
       "   Strain hardening rate ρ (g/cm3) Stress Intensity, Kc G/K   θd  \\\n",
       "0                    NaN       NaN                  NaN NaN  NaN   \n",
       "1                    NaN       NaN                  NaN NaN  NaN   \n",
       "2                    NaN       NaN                  NaN NaN  NaN   \n",
       "3                    NaN       NaN                  NaN NaN  NaN   \n",
       "4                    NaN       NaN                  NaN NaN  NaN   \n",
       "\n",
       "   Energy of fracture,Gc Glasses  Diameter, mm  \\\n",
       "0                    NaN     BMG           NaN   \n",
       "1                    NaN     BMG           NaN   \n",
       "2                    NaN     BMG           NaN   \n",
       "3                    NaN     BMG           NaN   \n",
       "4                    NaN     BMG           NaN   \n",
       "\n",
       "                                          Reference2  \n",
       "0   B. Guennec et al, Intermetallics 92 (2018) 72–78  \n",
       "1  Z-Q Song et al, Acta Materialia 99 (2015) 165–175  \n",
       "2  M. Mohammadi Rahvard et al, Journal of Non-Cry...  \n",
       "3  M. Mohammadi Rahvard et al, Journal of Non-Cry...  \n",
       "4  M. Mohammadi Rahvard et al, Journal of Non-Cry...  \n",
       "\n",
       "[5 rows x 40 columns]"
      ]
     },
     "execution_count": 5,
     "metadata": {},
     "output_type": "execute_result"
    }
   ],
   "source": [
    "elastProp_SLAC.head()"
   ]
  },
  {
   "cell_type": "code",
   "execution_count": 6,
   "metadata": {},
   "outputs": [],
   "source": [
    "elastProp_SLAC.rename(index=str, columns={'θd':'theta_d', 'ρ (g/cm3)':'density (g/cm3)', \n",
    "                                          'Yeild strength, σy (MPa)':'Yeild strength (MPa)', \n",
    "                                         'Compressive fracture strength, σf (MPa)': 'Compressive fracture strength (MPa)'},inplace=True)\n",
    "#elastProp_SLAC.columns"
   ]
  },
  {
   "cell_type": "code",
   "execution_count": 7,
   "metadata": {},
   "outputs": [],
   "source": [
    "dfSLAC = elastProp_SLAC"
   ]
  },
  {
   "cell_type": "code",
   "execution_count": 8,
   "metadata": {},
   "outputs": [],
   "source": [
    "def makeComp(x):\n",
    "    '''Apply Composition() constructor to string x\n",
    "       Return: Composition object, or 0 if not parse-able'''\n",
    "    try:\n",
    "        return Composition(x)\n",
    "    except:\n",
    "        print(x)\n",
    "        return 0"
   ]
  },
  {
   "cell_type": "code",
   "execution_count": 9,
   "metadata": {},
   "outputs": [
    {
     "name": "stdout",
     "output_type": "stream",
     "text": [
      "Mg60Ca30−xTixY10\n",
      "Mg60Li5Cu25−xZnx (Y, Gd)10\n",
      "Mg65−xLixCu25Znx (Y, Gd)10\n",
      "(CaCu)100xMgx\n",
      "La57.6Al17.5(Cu,Ni)24.9\n",
      "La64Al14 (Cu = Ni)22\n",
      "Fused quartz\n",
      "Amorphous carbon\n",
      "Microcrystal glass\n",
      "Breakaway glass\n",
      "Water-white glass\n",
      "Window glass\n",
      "Float glass\n",
      "Ti-glass\n",
      "Borosilicate glass\n",
      "B2O3 glass\n",
      "Glassy sulfur\n",
      "Amorphous Se\n",
      "Fused quartz\n",
      "window glass (SiO2)\n",
      "∥Fe70Mo5Ni5∣P12.5∥C5B2.5∣\n",
      "Toughened glass (SiO2)\n",
      "Amorphous carbon\n",
      "Vit1\n",
      "Float glass\n",
      "Ti-glass\n",
      "Window glass\n",
      "Water-white glass\n",
      "Fused quartz\n",
      "Microcrystal glass\n",
      "Borosilicate glass\n",
      "Carbon glass\n",
      "Mo52Cr14Fel4P12B8\n",
      "Fused silica\n",
      "Window glass\n",
      "Toughened glass\n",
      "Sn 99.9%\n",
      "(Zr54Al17C029)100-0Ta0\n",
      "316L SS\n",
      "Ti-6Al-4V\n",
      "Cortical bone\n",
      "Vitreloy 105\n",
      "FC20+0.4 wt.% B\n",
      "La74Al14(Cu,Ni)12\n",
      "300 M Steel\n",
      "D6AC Steel \n",
      "Ti-6Al-4V \n",
      "2090-T81 Al–Li \n"
     ]
    }
   ],
   "source": [
    "# prints out compositions that cannot be converted into Composition objects\n",
    "dfSLAC['comp'] = dfSLAC['Compositions'].apply(makeComp)"
   ]
  },
  {
   "cell_type": "markdown",
   "metadata": {},
   "source": [
    "Remove entries where composition was unable to be read"
   ]
  },
  {
   "cell_type": "code",
   "execution_count": 10,
   "metadata": {},
   "outputs": [
    {
     "name": "stdout",
     "output_type": "stream",
     "text": [
      "2126 entries remaining\n"
     ]
    }
   ],
   "source": [
    "dfSLAC = dfSLAC[dfSLAC['comp']!=0]\n",
    "dfSLAC.reset_index(drop=True, inplace=True)\n",
    "print('{} entries remaining'.format(len(dfSLAC)))"
   ]
  },
  {
   "cell_type": "code",
   "execution_count": 11,
   "metadata": {},
   "outputs": [
    {
     "name": "stdout",
     "output_type": "stream",
     "text": [
      "moved 'comp' to first column\n"
     ]
    }
   ],
   "source": [
    "cols = dfSLAC.columns.tolist()\n",
    "dfSLAC = dfSLAC[cols[-1:] + cols[:-1]]\n",
    "print(\"moved 'comp' to first column\")"
   ]
  },
  {
   "cell_type": "code",
   "execution_count": 12,
   "metadata": {},
   "outputs": [
    {
     "data": {
      "text/plain": [
       "2126"
      ]
     },
     "execution_count": 12,
     "metadata": {},
     "output_type": "execute_result"
    }
   ],
   "source": [
    "len(dfSLAC['comp']!=0)"
   ]
  },
  {
   "cell_type": "code",
   "execution_count": 13,
   "metadata": {},
   "outputs": [
    {
     "name": "stderr",
     "output_type": "stream",
     "text": [
      "C:\\Users\\Hikaru\\Anaconda2\\envs\\py36\\lib\\site-packages\\pymatgen\\core\\periodic_table.py:423: UserWarning:\n",
      "\n",
      "No electronegativity for Ar. Setting to NaN. This has no physical meaning, and is mainly done to avoid errors caused by the code expecting a float.\n",
      "\n"
     ]
    },
    {
     "name": "stdout",
     "output_type": "stream",
     "text": [
      "\n",
      "2125 entries remaining\n"
     ]
    }
   ],
   "source": [
    "def redComp(x):\n",
    "    try: \n",
    "        return Composition(x.reduced_formula)\n",
    "    except: \n",
    "        print(x)\n",
    "        return 0\n",
    "    \n",
    "dfSLAC['comp'] = dfSLAC['comp'].apply(redComp)\n",
    "dfSLAC = dfSLAC[dfSLAC['comp']!=0]\n",
    "dfSLAC.reset_index(drop=True, inplace=True)\n",
    "print('{} entries remaining'.format(len(dfSLAC)))"
   ]
  },
  {
   "cell_type": "code",
   "execution_count": 14,
   "metadata": {},
   "outputs": [
    {
     "data": {
      "text/html": [
       "<div>\n",
       "<style scoped>\n",
       "    .dataframe tbody tr th:only-of-type {\n",
       "        vertical-align: middle;\n",
       "    }\n",
       "\n",
       "    .dataframe tbody tr th {\n",
       "        vertical-align: top;\n",
       "    }\n",
       "\n",
       "    .dataframe thead th {\n",
       "        text-align: right;\n",
       "    }\n",
       "</style>\n",
       "<table border=\"1\" class=\"dataframe\">\n",
       "  <thead>\n",
       "    <tr style=\"text-align: right;\">\n",
       "      <th></th>\n",
       "      <th>comp</th>\n",
       "      <th>Compositions</th>\n",
       "      <th>Sample</th>\n",
       "      <th>Conditions</th>\n",
       "      <th>Tensile strength (MPa)</th>\n",
       "      <th>Error</th>\n",
       "      <th>Yeild strength (MPa)</th>\n",
       "      <th>Error</th>\n",
       "      <th>Elongation (%)</th>\n",
       "      <th>Compressive fracture strength (MPa)</th>\n",
       "      <th>...</th>\n",
       "      <th>Vd (%)</th>\n",
       "      <th>Strain hardening rate</th>\n",
       "      <th>density (g/cm3)</th>\n",
       "      <th>Stress Intensity, Kc</th>\n",
       "      <th>G/K</th>\n",
       "      <th>theta_d</th>\n",
       "      <th>Energy of fracture,Gc</th>\n",
       "      <th>Glasses</th>\n",
       "      <th>Diameter, mm</th>\n",
       "      <th>Reference2</th>\n",
       "    </tr>\n",
       "  </thead>\n",
       "  <tbody>\n",
       "    <tr>\n",
       "      <th>0</th>\n",
       "      <td>(Zr, Al, Cu, Ni)</td>\n",
       "      <td>Zr55Al10Ni5Cu30</td>\n",
       "      <td>Zr-based</td>\n",
       "      <td>NaN</td>\n",
       "      <td>1840</td>\n",
       "      <td>NaN</td>\n",
       "      <td>NaN</td>\n",
       "      <td>NaN</td>\n",
       "      <td>2</td>\n",
       "      <td>NaN</td>\n",
       "      <td>...</td>\n",
       "      <td>NaN</td>\n",
       "      <td>NaN</td>\n",
       "      <td>NaN</td>\n",
       "      <td>NaN</td>\n",
       "      <td>NaN</td>\n",
       "      <td>NaN</td>\n",
       "      <td>NaN</td>\n",
       "      <td>BMG</td>\n",
       "      <td>NaN</td>\n",
       "      <td>B. Guennec et al, Intermetallics 92 (2018) 72–78</td>\n",
       "    </tr>\n",
       "    <tr>\n",
       "      <th>1</th>\n",
       "      <td>(Zr, Ti, Al, Cu)</td>\n",
       "      <td>Zr61Ti2Cu25Al12</td>\n",
       "      <td>Zr-based</td>\n",
       "      <td>NaN</td>\n",
       "      <td>1600</td>\n",
       "      <td>NaN</td>\n",
       "      <td>NaN</td>\n",
       "      <td>NaN</td>\n",
       "      <td>NaN</td>\n",
       "      <td>1688</td>\n",
       "      <td>...</td>\n",
       "      <td>NaN</td>\n",
       "      <td>NaN</td>\n",
       "      <td>NaN</td>\n",
       "      <td>NaN</td>\n",
       "      <td>NaN</td>\n",
       "      <td>NaN</td>\n",
       "      <td>NaN</td>\n",
       "      <td>BMG</td>\n",
       "      <td>NaN</td>\n",
       "      <td>Z-Q Song et al, Acta Materialia 99 (2015) 165–175</td>\n",
       "    </tr>\n",
       "    <tr>\n",
       "      <th>2</th>\n",
       "      <td>(Zr, Al, Co, Ag)</td>\n",
       "      <td>Zr56Co24Ag4Al16</td>\n",
       "      <td>Zr-based</td>\n",
       "      <td>(electric charge 100 Ag)</td>\n",
       "      <td>2284</td>\n",
       "      <td>63</td>\n",
       "      <td>NaN</td>\n",
       "      <td>NaN</td>\n",
       "      <td>NaN</td>\n",
       "      <td>NaN</td>\n",
       "      <td>...</td>\n",
       "      <td>NaN</td>\n",
       "      <td>NaN</td>\n",
       "      <td>NaN</td>\n",
       "      <td>NaN</td>\n",
       "      <td>NaN</td>\n",
       "      <td>NaN</td>\n",
       "      <td>NaN</td>\n",
       "      <td>BMG</td>\n",
       "      <td>NaN</td>\n",
       "      <td>M. Mohammadi Rahvard et al, Journal of Non-Cry...</td>\n",
       "    </tr>\n",
       "    <tr>\n",
       "      <th>3</th>\n",
       "      <td>(Zr, Al, Co, Ag)</td>\n",
       "      <td>Zr56Co24Ag4Al16</td>\n",
       "      <td>Zr-based</td>\n",
       "      <td>(electric charge 90 Ag)</td>\n",
       "      <td>2197</td>\n",
       "      <td>48</td>\n",
       "      <td>NaN</td>\n",
       "      <td>NaN</td>\n",
       "      <td>NaN</td>\n",
       "      <td>NaN</td>\n",
       "      <td>...</td>\n",
       "      <td>NaN</td>\n",
       "      <td>NaN</td>\n",
       "      <td>NaN</td>\n",
       "      <td>NaN</td>\n",
       "      <td>NaN</td>\n",
       "      <td>NaN</td>\n",
       "      <td>NaN</td>\n",
       "      <td>BMG</td>\n",
       "      <td>NaN</td>\n",
       "      <td>M. Mohammadi Rahvard et al, Journal of Non-Cry...</td>\n",
       "    </tr>\n",
       "    <tr>\n",
       "      <th>4</th>\n",
       "      <td>(Zr, Al, Co)</td>\n",
       "      <td>Al20Co25Zr55</td>\n",
       "      <td>Al-based</td>\n",
       "      <td>NaN</td>\n",
       "      <td>2050</td>\n",
       "      <td>NaN</td>\n",
       "      <td>NaN</td>\n",
       "      <td>NaN</td>\n",
       "      <td>2.1</td>\n",
       "      <td>2200</td>\n",
       "      <td>...</td>\n",
       "      <td>NaN</td>\n",
       "      <td>NaN</td>\n",
       "      <td>NaN</td>\n",
       "      <td>NaN</td>\n",
       "      <td>NaN</td>\n",
       "      <td>NaN</td>\n",
       "      <td>NaN</td>\n",
       "      <td>BMG</td>\n",
       "      <td>NaN</td>\n",
       "      <td>M. Mohammadi Rahvard et al, Journal of Non-Cry...</td>\n",
       "    </tr>\n",
       "  </tbody>\n",
       "</table>\n",
       "<p>5 rows × 41 columns</p>\n",
       "</div>"
      ],
      "text/plain": [
       "               comp     Compositions    Sample                 Conditions  \\\n",
       "0  (Zr, Al, Cu, Ni)  Zr55Al10Ni5Cu30  Zr-based                        NaN   \n",
       "1  (Zr, Ti, Al, Cu)  Zr61Ti2Cu25Al12  Zr-based                        NaN   \n",
       "2  (Zr, Al, Co, Ag)  Zr56Co24Ag4Al16  Zr-based   (electric charge 100 Ag)   \n",
       "3  (Zr, Al, Co, Ag)  Zr56Co24Ag4Al16  Zr-based    (electric charge 90 Ag)   \n",
       "4      (Zr, Al, Co)     Al20Co25Zr55  Al-based                        NaN   \n",
       "\n",
       "  Tensile strength (MPa) Error  Yeild strength (MPa)  Error Elongation (%)  \\\n",
       "0                   1840    NaN                  NaN    NaN              2   \n",
       "1                   1600    NaN                  NaN    NaN            NaN   \n",
       "2                   2284     63                  NaN    NaN            NaN   \n",
       "3                   2197     48                  NaN    NaN            NaN   \n",
       "4                   2050    NaN                  NaN    NaN            2.1   \n",
       "\n",
       "  Compressive fracture strength (MPa)  \\\n",
       "0                                 NaN   \n",
       "1                                1688   \n",
       "2                                 NaN   \n",
       "3                                 NaN   \n",
       "4                                2200   \n",
       "\n",
       "                         ...                          Vd (%)  \\\n",
       "0                        ...                             NaN   \n",
       "1                        ...                             NaN   \n",
       "2                        ...                             NaN   \n",
       "3                        ...                             NaN   \n",
       "4                        ...                             NaN   \n",
       "\n",
       "  Strain hardening rate  density (g/cm3) Stress Intensity, Kc G/K theta_d  \\\n",
       "0                   NaN              NaN                  NaN NaN     NaN   \n",
       "1                   NaN              NaN                  NaN NaN     NaN   \n",
       "2                   NaN              NaN                  NaN NaN     NaN   \n",
       "3                   NaN              NaN                  NaN NaN     NaN   \n",
       "4                   NaN              NaN                  NaN NaN     NaN   \n",
       "\n",
       "  Energy of fracture,Gc  Glasses Diameter, mm  \\\n",
       "0                   NaN      BMG          NaN   \n",
       "1                   NaN      BMG          NaN   \n",
       "2                   NaN      BMG          NaN   \n",
       "3                   NaN      BMG          NaN   \n",
       "4                   NaN      BMG          NaN   \n",
       "\n",
       "                                          Reference2  \n",
       "0   B. Guennec et al, Intermetallics 92 (2018) 72–78  \n",
       "1  Z-Q Song et al, Acta Materialia 99 (2015) 165–175  \n",
       "2  M. Mohammadi Rahvard et al, Journal of Non-Cry...  \n",
       "3  M. Mohammadi Rahvard et al, Journal of Non-Cry...  \n",
       "4  M. Mohammadi Rahvard et al, Journal of Non-Cry...  \n",
       "\n",
       "[5 rows x 41 columns]"
      ]
     },
     "execution_count": 14,
     "metadata": {},
     "output_type": "execute_result"
    }
   ],
   "source": [
    "dfSLAC.head()"
   ]
  },
  {
   "cell_type": "markdown",
   "metadata": {},
   "source": [
    "Import NREL dataset"
   ]
  },
  {
   "cell_type": "code",
   "execution_count": 15,
   "metadata": {},
   "outputs": [],
   "source": [
    "# cell about Composition.almost_equal() method experimentation was here\n",
    "# Note that an unreduced chemical formula is not equal in composition"
   ]
  },
  {
   "cell_type": "markdown",
   "metadata": {},
   "source": [
    "# Build individual datasets"
   ]
  },
  {
   "cell_type": "markdown",
   "metadata": {},
   "source": [
    "### Generate, clean feature set"
   ]
  },
  {
   "cell_type": "code",
   "execution_count": 16,
   "metadata": {},
   "outputs": [],
   "source": [
    "base_featurizer = MultipleFeaturizer([cf.Stoichiometry(), cf.ElementProperty.from_preset(\"magpie\"),\n",
    "                                 cf.ValenceOrbital(props=['avg']), cf.IonProperty(fast=True),\n",
    "                                cf.YangSolidSolution(), cf.AtomicPackingEfficiency()])"
   ]
  },
  {
   "cell_type": "markdown",
   "metadata": {},
   "source": [
    "### Young's Modulus dataset \n",
    "Isolate Youngs Modulus, Composition.\n",
    "Build Features"
   ]
  },
  {
   "cell_type": "code",
   "execution_count": 17,
   "metadata": {},
   "outputs": [],
   "source": [
    "# Separate Data into new frame\n",
    "youngsSLAC = pd.DataFrame()\n",
    "youngsSLAC['comp'] = dfSLAC['comp']\n",
    "youngsSLAC['E'] = dfSLAC['Young’s  Modulus, E (GPa)']\n",
    "\n",
    "# Drop missing entries \n",
    "youngsSLAC = youngsSLAC[[(type(x) in (int, float)) for x in youngsSLAC['E']]]\n",
    "youngsSLAC.reset_index(drop=True, inplace=True)\n",
    "youngsSLAC = youngsSLAC[~youngsSLAC['E'].isnull()]\n",
    "youngsSLAC['E'].astype(float)\n",
    "youngsSLAC.reset_index(drop=True, inplace=True)"
   ]
  },
  {
   "cell_type": "code",
   "execution_count": 18,
   "metadata": {},
   "outputs": [
    {
     "name": "stderr",
     "output_type": "stream",
     "text": [
      "C:\\Users\\Hikaru\\Anaconda2\\envs\\py36\\lib\\site-packages\\pymatgen\\core\\periodic_table.py:423: UserWarning:\n",
      "\n",
      "No electronegativity for Ar. Setting to NaN. This has no physical meaning, and is mainly done to avoid errors caused by the code expecting a float.\n",
      "\n"
     ]
    },
    {
     "name": "stdout",
     "output_type": "stream",
     "text": [
      "1203 = 1203 + 0?\n"
     ]
    }
   ],
   "source": [
    "# Join and sort data (SLAC dataset is complete)\n",
    "youngsData = youngsSLAC #.append(youngsNREL, ignore_index=True)\n",
    "youngsData = youngsData.sort_values('comp').reset_index(drop=True)\n",
    "print('{} = {} + {}?'.format(len(youngsData), len(youngsSLAC), len([])))"
   ]
  },
  {
   "cell_type": "code",
   "execution_count": 22,
   "metadata": {},
   "outputs": [
    {
     "data": {
      "text/plain": [
       "comp    (Cu, Ar)\n",
       "E          100.5\n",
       "Name: 69, dtype: object"
      ]
     },
     "execution_count": 22,
     "metadata": {},
     "output_type": "execute_result"
    }
   ],
   "source": [
    "youngsData.loc[69]"
   ]
  },
  {
   "cell_type": "code",
   "execution_count": 23,
   "metadata": {},
   "outputs": [
    {
     "name": "stdout",
     "output_type": "stream",
     "text": [
      "                  comp     E\n",
      "1201     (M0+, Al, Cu)  30.9\n",
      "1202  (Glass0+, Si, O)  83.6\n"
     ]
    }
   ],
   "source": [
    "# Drop exceptions actually accepted into composition object.... (T0+, M0+, glass0+)\n",
    "print(youngsData.loc[[1201, 1202]])\n",
    "youngsData.drop([1201, 1202], inplace=True)\n",
    "youngsData.reset_index(inplace=True, drop=True)"
   ]
  },
  {
   "cell_type": "code",
   "execution_count": 24,
   "metadata": {},
   "outputs": [
    {
     "data": {
      "application/vnd.jupyter.widget-view+json": {
       "model_id": "fad5409b522b4383aa932cb982eece3d",
       "version_major": 2,
       "version_minor": 0
      },
      "text/plain": [
       "HBox(children=(IntProgress(value=0, description='MultipleFeaturizer', max=1201), HTML(value='')))"
      ]
     },
     "metadata": {},
     "output_type": "display_data"
    },
    {
     "name": "stdout",
     "output_type": "stream",
     "text": [
      "\n",
      "Computed 152 features\n",
      "Wall time: 18min 14s\n"
     ]
    }
   ],
   "source": [
    "%%time\n",
    "X_E = base_featurizer.featurize_many(youngsData['comp'], ignore_errors=True)\n",
    "X_E = np.array(X_E)\n",
    "X_E.astype(float)\n",
    "print('Computed {} features'.format(X_E.shape[1]))"
   ]
  },
  {
   "cell_type": "code",
   "execution_count": null,
   "metadata": {},
   "outputs": [],
   "source": [
    "# Create smaller dataset for quick tests\n",
    "youngsDataSmall = youngsData.sample(500).reset_index(drop=True)"
   ]
  },
  {
   "cell_type": "code",
   "execution_count": null,
   "metadata": {},
   "outputs": [],
   "source": [
    "XEsmall = base_featurizer.featurize_many(youngsDataSmall['comp'], ignore_errors=True)\n",
    "XEsmall = np.array(XEsmall)\n",
    "XEsmall.astype(float)\n",
    "print('Computed {} features'.format(XEsmall.shape[1]))"
   ]
  },
  {
   "cell_type": "code",
   "execution_count": 25,
   "metadata": {},
   "outputs": [
    {
     "name": "stdout",
     "output_type": "stream",
     "text": [
      "Comp: Zr14 Al4 Co7 .... at row: 481\n",
      "Comp: Zr14 Al4 Co7 .... at row: 482\n"
     ]
    }
   ],
   "source": [
    "# some duplicates exist\n",
    "comp = Composition('Zr14Al4Co7')\n",
    "comp2 = Composition('Zr20Al4Co7') \n",
    "for index, row in youngsData[ [x.almost_equals(comp) for x in youngsData['comp']] ].iterrows():\n",
    "    print('Comp: {} .... at row: {}'.format(row['comp'], index))"
   ]
  },
  {
   "cell_type": "code",
   "execution_count": null,
   "metadata": {},
   "outputs": [],
   "source": [
    "print(np.where(np.isnan(X_E)))\n",
    "featCleanImpute(X_E)\n",
    "print(np.where(np.isnan(X_E)))"
   ]
  },
  {
   "cell_type": "code",
   "execution_count": 26,
   "metadata": {},
   "outputs": [],
   "source": [
    "with gzip.open('./datasets/youngs_features.pkl.gz', 'wb') as fp:\n",
    "    pkl.dump(X_E, fp)\n",
    "with gzip.open('./datasets/youngs_data.pkl.gz', 'wb') as fd:\n",
    "    pkl.dump(youngsData, fd)"
   ]
  },
  {
   "cell_type": "code",
   "execution_count": null,
   "metadata": {},
   "outputs": [],
   "source": [
    "with gzip.open('./datasets/youngsSmall_features.pkl.gz', 'wb') as fp:\n",
    "    pkl.dump(XEsmall, fp)\n",
    "with gzip.open('./datasets/youngsSmall_data.pkl.gz', 'wb') as fd:\n",
    "    pkl.dump(youngsDataSmall, fd)"
   ]
  },
  {
   "cell_type": "markdown",
   "metadata": {},
   "source": [
    "#### Generate new dataframe, reducing duplicates"
   ]
  },
  {
   "cell_type": "code",
   "execution_count": 21,
   "metadata": {},
   "outputs": [
    {
     "name": "stdout",
     "output_type": "stream",
     "text": [
      "Wall time: 5.71 s\n"
     ]
    }
   ],
   "source": [
    "%%time\n",
    "youngsReduced = genStatsDF(youngsData)\n",
    "youngsReduced.head()"
   ]
  },
  {
   "cell_type": "code",
   "execution_count": 22,
   "metadata": {},
   "outputs": [
    {
     "data": {
      "text/plain": [
       "<matplotlib.axes._subplots.AxesSubplot at 0x15bbf5f8>"
      ]
     },
     "execution_count": 22,
     "metadata": {},
     "output_type": "execute_result"
    },
    {
     "data": {
      "image/png": "[encoded data removed]",
      "text/plain": [
       "<matplotlib.figure.Figure at 0x15bb9438>"
      ]
     },
     "metadata": {},
     "output_type": "display_data"
    }
   ],
   "source": [
    "youngsReduced['numSamp'].plot()"
   ]
  },
  {
   "cell_type": "code",
   "execution_count": 23,
   "metadata": {},
   "outputs": [
    {
     "data": {
      "text/plain": [
       "<matplotlib.axes._subplots.AxesSubplot at 0x15bb91d0>"
      ]
     },
     "execution_count": 23,
     "metadata": {},
     "output_type": "execute_result"
    },
    {
     "data": {
      "image/png": "[encoded data removed]",
      "text/plain": [
       "<matplotlib.figure.Figure at 0x15cd67f0>"
      ]
     },
     "metadata": {},
     "output_type": "display_data"
    }
   ],
   "source": [
    "youngsReduced['E_std'].plot()"
   ]
  },
  {
   "cell_type": "markdown",
   "metadata": {},
   "source": [
    "### Density Model Dataset\n",
    "Use as benchmark for validity of other models?"
   ]
  },
  {
   "cell_type": "code",
   "execution_count": 30,
   "metadata": {},
   "outputs": [],
   "source": [
    "densitySLAC = pd.DataFrame()\n",
    "densitySLAC['comp'] = dfSLAC['comp']\n",
    "densitySLAC['density'] = dfSLAC['density (g/cm3)']\n",
    "\n",
    "densitySLAC.dropna(inplace=True)\n",
    "densitySLAC.reset_index(drop=True, inplace=True)\n",
    "densitySLAC = densitySLAC[[(type(x) in (int, float)) for x in densitySLAC['density']]]\n",
    "densitySLAC['density'].astype(float)\n",
    "densitySLAC.reset_index(drop=True, inplace=True)"
   ]
  },
  {
   "cell_type": "code",
   "execution_count": 31,
   "metadata": {},
   "outputs": [
    {
     "name": "stdout",
     "output_type": "stream",
     "text": [
      "dropping N/A, non number density values leaves 746 values\n"
     ]
    },
    {
     "data": {
      "text/html": [
       "<div>\n",
       "<style scoped>\n",
       "    .dataframe tbody tr th:only-of-type {\n",
       "        vertical-align: middle;\n",
       "    }\n",
       "\n",
       "    .dataframe tbody tr th {\n",
       "        vertical-align: top;\n",
       "    }\n",
       "\n",
       "    .dataframe thead th {\n",
       "        text-align: right;\n",
       "    }\n",
       "</style>\n",
       "<table border=\"1\" class=\"dataframe\">\n",
       "  <thead>\n",
       "    <tr style=\"text-align: right;\">\n",
       "      <th></th>\n",
       "      <th>comp</th>\n",
       "      <th>density</th>\n",
       "    </tr>\n",
       "  </thead>\n",
       "  <tbody>\n",
       "    <tr>\n",
       "      <th>0</th>\n",
       "      <td>(Ce, Al)</td>\n",
       "      <td>3.462</td>\n",
       "    </tr>\n",
       "    <tr>\n",
       "      <th>1</th>\n",
       "      <td>(Al, Fe, B)</td>\n",
       "      <td>3.539</td>\n",
       "    </tr>\n",
       "    <tr>\n",
       "      <th>2</th>\n",
       "      <td>(Zr, Al, Ni)</td>\n",
       "      <td>3.384</td>\n",
       "    </tr>\n",
       "    <tr>\n",
       "      <th>3</th>\n",
       "      <td>(Zr, Al, Ni)</td>\n",
       "      <td>3.517</td>\n",
       "    </tr>\n",
       "    <tr>\n",
       "      <th>4</th>\n",
       "      <td>(Hf, Al, Ni)</td>\n",
       "      <td>2.835</td>\n",
       "    </tr>\n",
       "  </tbody>\n",
       "</table>\n",
       "</div>"
      ],
      "text/plain": [
       "           comp density\n",
       "0      (Ce, Al)   3.462\n",
       "1   (Al, Fe, B)   3.539\n",
       "2  (Zr, Al, Ni)   3.384\n",
       "3  (Zr, Al, Ni)   3.517\n",
       "4  (Hf, Al, Ni)   2.835"
      ]
     },
     "execution_count": 31,
     "metadata": {},
     "output_type": "execute_result"
    }
   ],
   "source": [
    "print('dropping N/A, non number density values leaves {} values'.format(len(densitySLAC)))\n",
    "densitySLAC.head()"
   ]
  },
  {
   "cell_type": "code",
   "execution_count": 32,
   "metadata": {},
   "outputs": [
    {
     "name": "stdout",
     "output_type": "stream",
     "text": [
      "746 = 746 + 0?\n"
     ]
    }
   ],
   "source": [
    "densityData = densitySLAC #.append(densityNREL, ignore_index=True)\n",
    "print('{} = {} + {}?'.format(len(densityData), len(densitySLAC), len([])))"
   ]
  },
  {
   "cell_type": "code",
   "execution_count": 35,
   "metadata": {},
   "outputs": [
    {
     "name": "stdout",
     "output_type": "stream",
     "text": [
      "                      comp density\n",
      "94   (T0+, Zr, Cu, Sn, Pd)    6.62\n",
      "273          (M0+, Al, Cu)   6.564\n",
      "326       (Glass0+, Si, O)     2.2\n"
     ]
    }
   ],
   "source": [
    "# Drop exceptions actually accepted into composition object.... (T0+, M0+, glass0+)\n",
    "print(densityData.loc[[94, 273, 326]])\n",
    "densityData.drop([94, 273, 326], inplace=True)\n",
    "densityData.reset_index(inplace=True, drop=True)"
   ]
  },
  {
   "cell_type": "code",
   "execution_count": null,
   "metadata": {},
   "outputs": [],
   "source": [
    "%%time\n",
    "X_dens = base_featurizer.featurize_many(densityData['comp'], ignore_errors=True)\n",
    "X_dens = np.array(X_dens)\n",
    "X_dens.astype(float)\n",
    "print('Computed {} features'.format(X_dens.shape[1]))"
   ]
  },
  {
   "cell_type": "code",
   "execution_count": null,
   "metadata": {},
   "outputs": [],
   "source": [
    "print(np.where(np.isnan(X_dens)))\n",
    "featCleanImpute(X_dens)\n",
    "print(np.where(np.isnan(X_dens)))"
   ]
  },
  {
   "cell_type": "code",
   "execution_count": null,
   "metadata": {},
   "outputs": [],
   "source": [
    "X_dens_raw = base_featurizer.featurize_many(densityData['comp'], ignore_errors=True)"
   ]
  },
  {
   "cell_type": "code",
   "execution_count": null,
   "metadata": {
    "scrolled": true
   },
   "outputs": [],
   "source": [
    "iinf = set(np.where(np.isinf(X_dens_raw))[0])\n",
    "print(len(iinf))\n",
    "iinf"
   ]
  },
  {
   "cell_type": "code",
   "execution_count": null,
   "metadata": {},
   "outputs": [],
   "source": [
    "ierror = inan.union(iinf)\n",
    "X_dens_trim = np.delete(X_dens_raw, list(ierror), axis=0)\n",
    "print(len(X_dens_trim))\n",
    "densityDataTrim = densityData.drop(axis=0,index=list(ierror))\n",
    "densityDataTrim.reset_index(drop=True, inplace=True)"
   ]
  },
  {
   "cell_type": "code",
   "execution_count": null,
   "metadata": {},
   "outputs": [],
   "source": [
    "np.where(np.isinf(X_dens_trim))"
   ]
  },
  {
   "cell_type": "code",
   "execution_count": null,
   "metadata": {},
   "outputs": [],
   "source": [
    "with gzip.open('./datasets/density_features.pkl.gz', 'wb') as fp:\n",
    "    pkl.dump(X_dens_trim, fp)\n",
    "with gzip.open('./datasets/density_data.pkl.gz', 'wb') as fd:\n",
    "    pkl.dump(densityDataTrim, fd)"
   ]
  },
  {
   "cell_type": "markdown",
   "metadata": {},
   "source": [
    "#### Generate Reduced Dataset with some stats"
   ]
  },
  {
   "cell_type": "code",
   "execution_count": null,
   "metadata": {},
   "outputs": [],
   "source": [
    "%%time\n",
    "densReduced = genStatsDF(densityData)\n",
    "densReduced.head()\n",
    "\n",
    "print('combining duplicates removes {} entries'.format(len(densityData)-len(densReduced)))"
   ]
  },
  {
   "cell_type": "code",
   "execution_count": null,
   "metadata": {},
   "outputs": [],
   "source": [
    "densReduced['density_std'].plot()"
   ]
  },
  {
   "cell_type": "code",
   "execution_count": null,
   "metadata": {},
   "outputs": [],
   "source": [
    "densReduced['numSamp'].plot()"
   ]
  },
  {
   "cell_type": "code",
   "execution_count": null,
   "metadata": {},
   "outputs": [],
   "source": [
    "cnt=0\n",
    "\n",
    "for x in densityData['comp']:\n",
    "    print(x)\n",
    "    cnt+=1\n",
    "    if cnt==30:\n",
    "        break"
   ]
  },
  {
   "cell_type": "code",
   "execution_count": null,
   "metadata": {},
   "outputs": [],
   "source": []
  }
 ],
 "metadata": {
  "kernelspec": {
   "display_name": "Python 3",
   "language": "python",
   "name": "python3"
  },
  "language_info": {
   "codemirror_mode": {
    "name": "ipython",
    "version": 3
   },
   "file_extension": ".py",
   "mimetype": "text/x-python",
   "name": "python",
   "nbconvert_exporter": "python",
   "pygments_lexer": "ipython3",
   "version": "3.6.3"
  }
 },
 "nbformat": 4,
 "nbformat_minor": 2
}
