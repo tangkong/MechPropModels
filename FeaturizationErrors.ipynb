{
 "cells": [
  {
   "cell_type": "code",
   "execution_count": 12,
   "metadata": {},
   "outputs": [],
   "source": [
    "%matplotlib inline\n",
    "from matplotlib import pyplot as plt\n",
    "from matminer.featurizers.base import MultipleFeaturizer, StackedFeaturizer\n",
    "from matminer.featurizers import composition as cf\n",
    "from sklearn.ensemble import RandomForestClassifier, RandomForestRegressor\n",
    "from sklearn.model_selection import GridSearchCV, ShuffleSplit, LeaveOneGroupOut, cross_val_score, learning_curve, KFold\n",
    "from sklearn.pipeline import Pipeline\n",
    "from sklearn.preprocessing import Imputer, LabelEncoder\n",
    "from sklearn.metrics import roc_curve, auc, r2_score, make_scorer\n",
    "from sklearn import metrics\n",
    "from pymatgen import Composition\n",
    "import pickle as pkl\n",
    "import pandas as pd\n",
    "import numpy as np\n",
    "import gzip\n",
    "import os\n",
    "import copy"
   ]
  },
  {
   "cell_type": "code",
   "execution_count": 14,
   "metadata": {},
   "outputs": [],
   "source": [
    "base_featurizer = MultipleFeaturizer([cf.Stoichiometry(), cf.ElementProperty.from_preset(\"magpie\"),\n",
    "                                 cf.ValenceOrbital(props=['avg']), cf.IonProperty(fast=True),\n",
    "                                cf.YangSolidSolution(), cf.AtomicPackingEfficiency()])"
   ]
  },
  {
   "cell_type": "code",
   "execution_count": 22,
   "metadata": {},
   "outputs": [
    {
     "name": "stdout",
     "output_type": "stream",
     "text": [
      "Zr55 Al10\n"
     ]
    },
    {
     "data": {
      "text/plain": [
       "array([ 2.00000000e+00,  8.60026145e-01,  8.47845735e-01,  8.46187469e-01,\n",
       "        8.46154640e-01,  8.46153849e-01,  1.30000000e+01,  4.00000000e+01,\n",
       "        2.70000000e+01,  3.58461538e+01,  7.02958580e+00,  4.00000000e+01,\n",
       "        4.40000000e+01,  7.30000000e+01,  2.90000000e+01,  4.84615385e+01,\n",
       "        7.55029586e+00,  4.40000000e+01,  2.69815386e+01,  9.12240000e+01,\n",
       "        6.42424614e+01,  8.13405444e+01,  1.67258479e+01,  9.12240000e+01,\n",
       "        9.33470000e+02,  2.12800000e+03,  1.19453000e+03,  1.94422615e+03,\n",
       "        3.11001893e+02,  2.12800000e+03,  4.00000000e+00,  1.30000000e+01,\n",
       "        9.00000000e+00,  5.38461538e+00,  2.34319527e+00,  4.00000000e+00,\n",
       "        3.00000000e+00,  5.00000000e+00,  2.00000000e+00,  4.69230769e+00,\n",
       "        5.20710059e-01,  5.00000000e+00,  1.21000000e+02,  1.75000000e+02,\n",
       "        5.40000000e+01,  1.66692308e+02,  1.40591716e+01,  1.75000000e+02,\n",
       "        1.33000000e+00,  1.61000000e+00,  2.80000000e-01,  1.37307692e+00,\n",
       "        7.28994083e-02,  1.33000000e+00,  2.00000000e+00,  2.00000000e+00,\n",
       "        0.00000000e+00,  2.00000000e+00,  0.00000000e+00,  2.00000000e+00,\n",
       "        0.00000000e+00,  1.00000000e+00,  1.00000000e+00,  1.53846154e-01,\n",
       "        2.60355030e-01,  0.00000000e+00,  0.00000000e+00,  2.00000000e+00,\n",
       "        2.00000000e+00,  1.69230769e+00,  5.20710059e-01,  2.00000000e+00,\n",
       "        0.00000000e+00,  0.00000000e+00,  0.00000000e+00,  0.00000000e+00,\n",
       "        0.00000000e+00,  0.00000000e+00,  3.00000000e+00,  4.00000000e+00,\n",
       "        1.00000000e+00,  3.84615385e+00,  2.60355030e-01,  4.00000000e+00,\n",
       "        0.00000000e+00,  0.00000000e+00,  0.00000000e+00,  0.00000000e+00,\n",
       "        0.00000000e+00,  0.00000000e+00,  0.00000000e+00,  5.00000000e+00,\n",
       "        5.00000000e+00,  7.69230769e-01,  1.30177515e+00,  0.00000000e+00,\n",
       "        0.00000000e+00,  8.00000000e+00,  8.00000000e+00,  6.76923077e+00,\n",
       "        2.08284024e+00,  8.00000000e+00,  0.00000000e+00,  0.00000000e+00,\n",
       "        0.00000000e+00,  0.00000000e+00,  0.00000000e+00,  0.00000000e+00,\n",
       "        5.00000000e+00,  8.00000000e+00,  3.00000000e+00,  7.53846154e+00,\n",
       "        7.81065089e-01,  8.00000000e+00,  1.64800000e+01,  2.31950000e+01,\n",
       "        6.71500000e+00,  2.21619231e+01,  1.74828402e+00,  2.31950000e+01,\n",
       "        0.00000000e+00,  0.00000000e+00,  0.00000000e+00,  0.00000000e+00,\n",
       "        0.00000000e+00,  0.00000000e+00,  0.00000000e+00,  0.00000000e+00,\n",
       "        0.00000000e+00,  0.00000000e+00,  0.00000000e+00,  0.00000000e+00,\n",
       "        1.94000000e+02,  2.25000000e+02,  3.10000000e+01,  1.98769231e+02,\n",
       "        8.07100592e+00,  1.94000000e+02,  2.00000000e+00,  1.53846154e-01,\n",
       "        1.69230769e+00,  0.00000000e+00,  0.00000000e+00,  1.94091688e-02,\n",
       "        2.52663736e-03,  3.02895161e-01,  3.94737960e-02, -2.44783658e-02,\n",
       "        2.62798246e-02,  0.00000000e+00,  6.95019486e-02,  1.62090631e-01])"
      ]
     },
     "execution_count": 22,
     "metadata": {},
     "output_type": "execute_result"
    }
   ],
   "source": [
    "# No errors in values\n",
    "compValid = Composition('Zr55Al10')\n",
    "print(compValid)\n",
    "Xvalid = base_featurizer.featurize(compValid)\n",
    "Xvalid"
   ]
  },
  {
   "cell_type": "code",
   "execution_count": 20,
   "metadata": {},
   "outputs": [
    {
     "name": "stderr",
     "output_type": "stream",
     "text": [
      "C:\\Users\\Hikaru\\Anaconda2\\envs\\py36\\lib\\site-packages\\matminer\\featurizers\\composition.py:1388: RuntimeWarning:\n",
      "\n",
      "invalid value encountered in double_scalars\n",
      "\n"
     ]
    },
    {
     "ename": "ValueError",
     "evalue": "Found array with 0 sample(s) (shape=(0, 103)) while a minimum of 1 is required.",
     "output_type": "error",
     "traceback": [
      "\u001b[1;31m---------------------------------------------------------------------------\u001b[0m",
      "\u001b[1;31mValueError\u001b[0m                                Traceback (most recent call last)",
      "\u001b[1;32m<ipython-input-20-b1d5f8b9d441>\u001b[0m in \u001b[0;36m<module>\u001b[1;34m()\u001b[0m\n\u001b[0;32m      1\u001b[0m \u001b[0mcompSingle\u001b[0m \u001b[1;33m=\u001b[0m \u001b[0mComposition\u001b[0m\u001b[1;33m(\u001b[0m\u001b[1;34m'Ti1'\u001b[0m\u001b[1;33m)\u001b[0m\u001b[1;33m\u001b[0m\u001b[0m\n\u001b[1;32m----> 2\u001b[1;33m \u001b[0mXsingle\u001b[0m \u001b[1;33m=\u001b[0m \u001b[0mbase_featurizer\u001b[0m\u001b[1;33m.\u001b[0m\u001b[0mfeaturize\u001b[0m\u001b[1;33m(\u001b[0m\u001b[0mcompSingle\u001b[0m\u001b[1;33m)\u001b[0m\u001b[1;33m\u001b[0m\u001b[0m\n\u001b[0m",
      "\u001b[1;32m~\\Anaconda2\\envs\\py36\\lib\\site-packages\\matminer\\featurizers\\base.py\u001b[0m in \u001b[0;36mfeaturize\u001b[1;34m(self, *x)\u001b[0m\n\u001b[0;32m    357\u001b[0m \u001b[1;33m\u001b[0m\u001b[0m\n\u001b[0;32m    358\u001b[0m     \u001b[1;32mdef\u001b[0m \u001b[0mfeaturize\u001b[0m\u001b[1;33m(\u001b[0m\u001b[0mself\u001b[0m\u001b[1;33m,\u001b[0m \u001b[1;33m*\u001b[0m\u001b[0mx\u001b[0m\u001b[1;33m)\u001b[0m\u001b[1;33m:\u001b[0m\u001b[1;33m\u001b[0m\u001b[0m\n\u001b[1;32m--> 359\u001b[1;33m         \u001b[1;32mreturn\u001b[0m \u001b[0mnp\u001b[0m\u001b[1;33m.\u001b[0m\u001b[0mhstack\u001b[0m\u001b[1;33m(\u001b[0m\u001b[0mnp\u001b[0m\u001b[1;33m.\u001b[0m\u001b[0msqueeze\u001b[0m\u001b[1;33m(\u001b[0m\u001b[0mf\u001b[0m\u001b[1;33m.\u001b[0m\u001b[0mfeaturize\u001b[0m\u001b[1;33m(\u001b[0m\u001b[1;33m*\u001b[0m\u001b[0mx\u001b[0m\u001b[1;33m)\u001b[0m\u001b[1;33m)\u001b[0m \u001b[1;32mfor\u001b[0m \u001b[0mf\u001b[0m \u001b[1;32min\u001b[0m \u001b[0mself\u001b[0m\u001b[1;33m.\u001b[0m\u001b[0mfeaturizers\u001b[0m\u001b[1;33m)\u001b[0m\u001b[1;33m\u001b[0m\u001b[0m\n\u001b[0m\u001b[0;32m    360\u001b[0m \u001b[1;33m\u001b[0m\u001b[0m\n\u001b[0;32m    361\u001b[0m     \u001b[1;32mdef\u001b[0m \u001b[0mset_n_jobs\u001b[0m\u001b[1;33m(\u001b[0m\u001b[0mself\u001b[0m\u001b[1;33m,\u001b[0m \u001b[0mn_jobs\u001b[0m\u001b[1;33m)\u001b[0m\u001b[1;33m:\u001b[0m\u001b[1;33m\u001b[0m\u001b[0m\n",
      "\u001b[1;32m~\\Anaconda2\\envs\\py36\\lib\\site-packages\\numpy\\core\\shape_base.py\u001b[0m in \u001b[0;36mhstack\u001b[1;34m(tup)\u001b[0m\n\u001b[0;32m    281\u001b[0m \u001b[1;33m\u001b[0m\u001b[0m\n\u001b[0;32m    282\u001b[0m     \"\"\"\n\u001b[1;32m--> 283\u001b[1;33m     \u001b[0marrs\u001b[0m \u001b[1;33m=\u001b[0m \u001b[1;33m[\u001b[0m\u001b[0matleast_1d\u001b[0m\u001b[1;33m(\u001b[0m\u001b[0m_m\u001b[0m\u001b[1;33m)\u001b[0m \u001b[1;32mfor\u001b[0m \u001b[0m_m\u001b[0m \u001b[1;32min\u001b[0m \u001b[0mtup\u001b[0m\u001b[1;33m]\u001b[0m\u001b[1;33m\u001b[0m\u001b[0m\n\u001b[0m\u001b[0;32m    284\u001b[0m     \u001b[1;31m# As a special case, dimension 0 of 1-dimensional arrays is \"horizontal\"\u001b[0m\u001b[1;33m\u001b[0m\u001b[1;33m\u001b[0m\u001b[0m\n\u001b[0;32m    285\u001b[0m     \u001b[1;32mif\u001b[0m \u001b[0marrs\u001b[0m \u001b[1;32mand\u001b[0m \u001b[0marrs\u001b[0m\u001b[1;33m[\u001b[0m\u001b[1;36m0\u001b[0m\u001b[1;33m]\u001b[0m\u001b[1;33m.\u001b[0m\u001b[0mndim\u001b[0m \u001b[1;33m==\u001b[0m \u001b[1;36m1\u001b[0m\u001b[1;33m:\u001b[0m\u001b[1;33m\u001b[0m\u001b[0m\n",
      "\u001b[1;32m~\\Anaconda2\\envs\\py36\\lib\\site-packages\\numpy\\core\\shape_base.py\u001b[0m in \u001b[0;36m<listcomp>\u001b[1;34m(.0)\u001b[0m\n\u001b[0;32m    281\u001b[0m \u001b[1;33m\u001b[0m\u001b[0m\n\u001b[0;32m    282\u001b[0m     \"\"\"\n\u001b[1;32m--> 283\u001b[1;33m     \u001b[0marrs\u001b[0m \u001b[1;33m=\u001b[0m \u001b[1;33m[\u001b[0m\u001b[0matleast_1d\u001b[0m\u001b[1;33m(\u001b[0m\u001b[0m_m\u001b[0m\u001b[1;33m)\u001b[0m \u001b[1;32mfor\u001b[0m \u001b[0m_m\u001b[0m \u001b[1;32min\u001b[0m \u001b[0mtup\u001b[0m\u001b[1;33m]\u001b[0m\u001b[1;33m\u001b[0m\u001b[0m\n\u001b[0m\u001b[0;32m    284\u001b[0m     \u001b[1;31m# As a special case, dimension 0 of 1-dimensional arrays is \"horizontal\"\u001b[0m\u001b[1;33m\u001b[0m\u001b[1;33m\u001b[0m\u001b[0m\n\u001b[0;32m    285\u001b[0m     \u001b[1;32mif\u001b[0m \u001b[0marrs\u001b[0m \u001b[1;32mand\u001b[0m \u001b[0marrs\u001b[0m\u001b[1;33m[\u001b[0m\u001b[1;36m0\u001b[0m\u001b[1;33m]\u001b[0m\u001b[1;33m.\u001b[0m\u001b[0mndim\u001b[0m \u001b[1;33m==\u001b[0m \u001b[1;36m1\u001b[0m\u001b[1;33m:\u001b[0m\u001b[1;33m\u001b[0m\u001b[0m\n",
      "\u001b[1;32m~\\Anaconda2\\envs\\py36\\lib\\site-packages\\matminer\\featurizers\\base.py\u001b[0m in \u001b[0;36m<genexpr>\u001b[1;34m(.0)\u001b[0m\n\u001b[0;32m    357\u001b[0m \u001b[1;33m\u001b[0m\u001b[0m\n\u001b[0;32m    358\u001b[0m     \u001b[1;32mdef\u001b[0m \u001b[0mfeaturize\u001b[0m\u001b[1;33m(\u001b[0m\u001b[0mself\u001b[0m\u001b[1;33m,\u001b[0m \u001b[1;33m*\u001b[0m\u001b[0mx\u001b[0m\u001b[1;33m)\u001b[0m\u001b[1;33m:\u001b[0m\u001b[1;33m\u001b[0m\u001b[0m\n\u001b[1;32m--> 359\u001b[1;33m         \u001b[1;32mreturn\u001b[0m \u001b[0mnp\u001b[0m\u001b[1;33m.\u001b[0m\u001b[0mhstack\u001b[0m\u001b[1;33m(\u001b[0m\u001b[0mnp\u001b[0m\u001b[1;33m.\u001b[0m\u001b[0msqueeze\u001b[0m\u001b[1;33m(\u001b[0m\u001b[0mf\u001b[0m\u001b[1;33m.\u001b[0m\u001b[0mfeaturize\u001b[0m\u001b[1;33m(\u001b[0m\u001b[1;33m*\u001b[0m\u001b[0mx\u001b[0m\u001b[1;33m)\u001b[0m\u001b[1;33m)\u001b[0m \u001b[1;32mfor\u001b[0m \u001b[0mf\u001b[0m \u001b[1;32min\u001b[0m \u001b[0mself\u001b[0m\u001b[1;33m.\u001b[0m\u001b[0mfeaturizers\u001b[0m\u001b[1;33m)\u001b[0m\u001b[1;33m\u001b[0m\u001b[0m\n\u001b[0m\u001b[0;32m    360\u001b[0m \u001b[1;33m\u001b[0m\u001b[0m\n\u001b[0;32m    361\u001b[0m     \u001b[1;32mdef\u001b[0m \u001b[0mset_n_jobs\u001b[0m\u001b[1;33m(\u001b[0m\u001b[0mself\u001b[0m\u001b[1;33m,\u001b[0m \u001b[0mn_jobs\u001b[0m\u001b[1;33m)\u001b[0m\u001b[1;33m:\u001b[0m\u001b[1;33m\u001b[0m\u001b[0m\n",
      "\u001b[1;32m~\\Anaconda2\\envs\\py36\\lib\\site-packages\\matminer\\featurizers\\composition.py\u001b[0m in \u001b[0;36mfeaturize\u001b[1;34m(self, comp)\u001b[0m\n\u001b[0;32m   1513\u001b[0m     \u001b[1;32mdef\u001b[0m \u001b[0mfeaturize\u001b[0m\u001b[1;33m(\u001b[0m\u001b[0mself\u001b[0m\u001b[1;33m,\u001b[0m \u001b[0mcomp\u001b[0m\u001b[1;33m)\u001b[0m\u001b[1;33m:\u001b[0m\u001b[1;33m\u001b[0m\u001b[0m\n\u001b[0;32m   1514\u001b[0m         \u001b[1;32mreturn\u001b[0m \u001b[0mlist\u001b[0m\u001b[1;33m(\u001b[0m\u001b[0mself\u001b[0m\u001b[1;33m.\u001b[0m\u001b[0mcompute_simultaneous_packing_efficiency\u001b[0m\u001b[1;33m(\u001b[0m\u001b[0mcomp\u001b[0m\u001b[1;33m)\u001b[0m\u001b[1;33m)\u001b[0m \u001b[1;33m+\u001b[0m\u001b[0;31m \u001b[0m\u001b[0;31m\\\u001b[0m\u001b[1;33m\u001b[0m\u001b[0m\n\u001b[1;32m-> 1515\u001b[1;33m                \u001b[0mself\u001b[0m\u001b[1;33m.\u001b[0m\u001b[0mcompute_nearest_cluster_distance\u001b[0m\u001b[1;33m(\u001b[0m\u001b[0mcomp\u001b[0m\u001b[1;33m)\u001b[0m\u001b[1;33m\u001b[0m\u001b[0m\n\u001b[0m\u001b[0;32m   1516\u001b[0m \u001b[1;33m\u001b[0m\u001b[0m\n\u001b[0;32m   1517\u001b[0m     \u001b[1;32mdef\u001b[0m \u001b[0mfeature_labels\u001b[0m\u001b[1;33m(\u001b[0m\u001b[0mself\u001b[0m\u001b[1;33m)\u001b[0m\u001b[1;33m:\u001b[0m\u001b[1;33m\u001b[0m\u001b[0m\n",
      "\u001b[1;32m~\\Anaconda2\\envs\\py36\\lib\\site-packages\\matminer\\featurizers\\composition.py\u001b[0m in \u001b[0;36mcompute_nearest_cluster_distance\u001b[1;34m(self, comp)\u001b[0m\n\u001b[0;32m   1589\u001b[0m         \u001b[1;31m# Get the cluster lookup tool using the most common elements\u001b[0m\u001b[1;33m\u001b[0m\u001b[1;33m\u001b[0m\u001b[0m\n\u001b[0;32m   1590\u001b[0m         cluster_lookup = self.create_cluster_lookup_tool(\n\u001b[1;32m-> 1591\u001b[1;33m             \u001b[0melems\u001b[0m\u001b[1;33m[\u001b[0m\u001b[1;33m:\u001b[0m\u001b[0mself\u001b[0m\u001b[1;33m.\u001b[0m\u001b[0mmax_types\u001b[0m\u001b[1;33m]\u001b[0m\u001b[1;33m\u001b[0m\u001b[0m\n\u001b[0m\u001b[0;32m   1592\u001b[0m         )\n\u001b[0;32m   1593\u001b[0m \u001b[1;33m\u001b[0m\u001b[0m\n",
      "\u001b[1;32m~\\Anaconda2\\envs\\py36\\lib\\site-packages\\matminer\\featurizers\\composition.py\u001b[0m in \u001b[0;36mcreate_cluster_lookup_tool\u001b[1;34m(self, elements)\u001b[0m\n\u001b[0;32m   1621\u001b[0m         \"\"\"\n\u001b[0;32m   1622\u001b[0m         \u001b[0melements\u001b[0m \u001b[1;33m=\u001b[0m \u001b[0mlist\u001b[0m\u001b[1;33m(\u001b[0m\u001b[0mset\u001b[0m\u001b[1;33m(\u001b[0m\u001b[0melements\u001b[0m\u001b[1;33m)\u001b[0m\u001b[1;33m)\u001b[0m\u001b[1;33m\u001b[0m\u001b[0m\n\u001b[1;32m-> 1623\u001b[1;33m         \u001b[1;32mreturn\u001b[0m \u001b[0mself\u001b[0m\u001b[1;33m.\u001b[0m\u001b[0m_create_cluster_lookup_tool\u001b[0m\u001b[1;33m(\u001b[0m\u001b[0mtuple\u001b[0m\u001b[1;33m(\u001b[0m\u001b[0msorted\u001b[0m\u001b[1;33m(\u001b[0m\u001b[0melements\u001b[0m\u001b[1;33m)\u001b[0m\u001b[1;33m)\u001b[0m\u001b[1;33m)\u001b[0m\u001b[1;33m\u001b[0m\u001b[0m\n\u001b[0m\u001b[0;32m   1624\u001b[0m \u001b[1;33m\u001b[0m\u001b[0m\n\u001b[0;32m   1625\u001b[0m     \u001b[1;33m@\u001b[0m\u001b[0mlru_cache\u001b[0m\u001b[1;33m(\u001b[0m\u001b[1;33m)\u001b[0m\u001b[1;33m\u001b[0m\u001b[0m\n",
      "\u001b[1;32m~\\Anaconda2\\envs\\py36\\lib\\site-packages\\matminer\\featurizers\\composition.py\u001b[0m in \u001b[0;36m_create_cluster_lookup_tool\u001b[1;34m(self, elements)\u001b[0m\n\u001b[0;32m   1680\u001b[0m \u001b[1;33m\u001b[0m\u001b[0m\n\u001b[0;32m   1681\u001b[0m         \u001b[1;31m# Return tool to quickly determine distance from efficient clusters\u001b[0m\u001b[1;33m\u001b[0m\u001b[1;33m\u001b[0m\u001b[0m\n\u001b[1;32m-> 1682\u001b[1;33m         \u001b[1;32mreturn\u001b[0m \u001b[0mNearestNeighbors\u001b[0m\u001b[1;33m(\u001b[0m\u001b[1;33m)\u001b[0m\u001b[1;33m.\u001b[0m\u001b[0mfit\u001b[0m\u001b[1;33m(\u001b[0m\u001b[0mcomps\u001b[0m\u001b[1;33m)\u001b[0m\u001b[1;33m\u001b[0m\u001b[0m\n\u001b[0m\u001b[0;32m   1683\u001b[0m \u001b[1;33m\u001b[0m\u001b[0m\n\u001b[0;32m   1684\u001b[0m     \u001b[1;32mdef\u001b[0m \u001b[0mfind_ideal_cluster_size\u001b[0m\u001b[1;33m(\u001b[0m\u001b[0mself\u001b[0m\u001b[1;33m,\u001b[0m \u001b[0mradius_ratio\u001b[0m\u001b[1;33m)\u001b[0m\u001b[1;33m:\u001b[0m\u001b[1;33m\u001b[0m\u001b[0m\n",
      "\u001b[1;32m~\\Anaconda2\\envs\\py36\\lib\\site-packages\\sklearn\\neighbors\\base.py\u001b[0m in \u001b[0;36mfit\u001b[1;34m(self, X, y)\u001b[0m\n\u001b[0;32m    801\u001b[0m             \u001b[1;32mor\u001b[0m \u001b[1;33m[\u001b[0m\u001b[0mn_samples\u001b[0m\u001b[1;33m,\u001b[0m \u001b[0mn_samples\u001b[0m\u001b[1;33m]\u001b[0m \u001b[1;32mif\u001b[0m \u001b[0mmetric\u001b[0m\u001b[1;33m=\u001b[0m\u001b[1;34m'precomputed'\u001b[0m\u001b[1;33m.\u001b[0m\u001b[1;33m\u001b[0m\u001b[0m\n\u001b[0;32m    802\u001b[0m         \"\"\"\n\u001b[1;32m--> 803\u001b[1;33m         \u001b[1;32mreturn\u001b[0m \u001b[0mself\u001b[0m\u001b[1;33m.\u001b[0m\u001b[0m_fit\u001b[0m\u001b[1;33m(\u001b[0m\u001b[0mX\u001b[0m\u001b[1;33m)\u001b[0m\u001b[1;33m\u001b[0m\u001b[0m\n\u001b[0m",
      "\u001b[1;32m~\\Anaconda2\\envs\\py36\\lib\\site-packages\\sklearn\\neighbors\\base.py\u001b[0m in \u001b[0;36m_fit\u001b[1;34m(self, X)\u001b[0m\n\u001b[0;32m    202\u001b[0m             \u001b[1;32mreturn\u001b[0m \u001b[0mself\u001b[0m\u001b[1;33m\u001b[0m\u001b[0m\n\u001b[0;32m    203\u001b[0m \u001b[1;33m\u001b[0m\u001b[0m\n\u001b[1;32m--> 204\u001b[1;33m         \u001b[0mX\u001b[0m \u001b[1;33m=\u001b[0m \u001b[0mcheck_array\u001b[0m\u001b[1;33m(\u001b[0m\u001b[0mX\u001b[0m\u001b[1;33m,\u001b[0m \u001b[0maccept_sparse\u001b[0m\u001b[1;33m=\u001b[0m\u001b[1;34m'csr'\u001b[0m\u001b[1;33m)\u001b[0m\u001b[1;33m\u001b[0m\u001b[0m\n\u001b[0m\u001b[0;32m    205\u001b[0m \u001b[1;33m\u001b[0m\u001b[0m\n\u001b[0;32m    206\u001b[0m         \u001b[0mn_samples\u001b[0m \u001b[1;33m=\u001b[0m \u001b[0mX\u001b[0m\u001b[1;33m.\u001b[0m\u001b[0mshape\u001b[0m\u001b[1;33m[\u001b[0m\u001b[1;36m0\u001b[0m\u001b[1;33m]\u001b[0m\u001b[1;33m\u001b[0m\u001b[0m\n",
      "\u001b[1;32m~\\Anaconda2\\envs\\py36\\lib\\site-packages\\sklearn\\utils\\validation.py\u001b[0m in \u001b[0;36mcheck_array\u001b[1;34m(array, accept_sparse, dtype, order, copy, force_all_finite, ensure_2d, allow_nd, ensure_min_samples, ensure_min_features, warn_on_dtype, estimator)\u001b[0m\n\u001b[0;32m    460\u001b[0m                              \u001b[1;34m\" minimum of %d is required%s.\"\u001b[0m\u001b[1;33m\u001b[0m\u001b[0m\n\u001b[0;32m    461\u001b[0m                              % (n_samples, shape_repr, ensure_min_samples,\n\u001b[1;32m--> 462\u001b[1;33m                                 context))\n\u001b[0m\u001b[0;32m    463\u001b[0m \u001b[1;33m\u001b[0m\u001b[0m\n\u001b[0;32m    464\u001b[0m     \u001b[1;32mif\u001b[0m \u001b[0mensure_min_features\u001b[0m \u001b[1;33m>\u001b[0m \u001b[1;36m0\u001b[0m \u001b[1;32mand\u001b[0m \u001b[0marray\u001b[0m\u001b[1;33m.\u001b[0m\u001b[0mndim\u001b[0m \u001b[1;33m==\u001b[0m \u001b[1;36m2\u001b[0m\u001b[1;33m:\u001b[0m\u001b[1;33m\u001b[0m\u001b[0m\n",
      "\u001b[1;31mValueError\u001b[0m: Found array with 0 sample(s) (shape=(0, 103)) while a minimum of 1 is required."
     ]
    }
   ],
   "source": [
    "compSingle = Composition('Ti1')\n",
    "Xsingle = base_featurizer.featurize(compSingle)"
   ]
  },
  {
   "cell_type": "code",
   "execution_count": 19,
   "metadata": {},
   "outputs": [
    {
     "name": "stderr",
     "output_type": "stream",
     "text": [
      "C:\\Users\\Hikaru\\Anaconda2\\envs\\py36\\lib\\site-packages\\matminer\\featurizers\\composition.py:1388: RuntimeWarning:\n",
      "\n",
      "divide by zero encountered in double_scalars\n",
      "\n"
     ]
    },
    {
     "data": {
      "text/plain": [
       "array([ 2.00000000e+00,  7.07106781e-01,  6.29960525e-01,  5.74349177e-01,\n",
       "        5.52044757e-01,  5.35886731e-01,  2.60000000e+01,  7.40000000e+01,\n",
       "        4.80000000e+01,  5.00000000e+01,  2.40000000e+01,  2.60000000e+01,\n",
       "        5.10000000e+01,  5.50000000e+01,  4.00000000e+00,  5.30000000e+01,\n",
       "        2.00000000e+00,  5.10000000e+01,  5.58450000e+01,  1.83840000e+02,\n",
       "        1.27995000e+02,  1.19842500e+02,  6.39975000e+01,  5.58450000e+01,\n",
       "        1.81100000e+03,  3.69500000e+03,  1.88400000e+03,  2.75300000e+03,\n",
       "        9.42000000e+02,  1.81100000e+03,  6.00000000e+00,  8.00000000e+00,\n",
       "        2.00000000e+00,  7.00000000e+00,  1.00000000e+00,  6.00000000e+00,\n",
       "        4.00000000e+00,  6.00000000e+00,  2.00000000e+00,  5.00000000e+00,\n",
       "        1.00000000e+00,  4.00000000e+00,  1.32000000e+02,  1.62000000e+02,\n",
       "        3.00000000e+01,  1.47000000e+02,  1.50000000e+01,  1.32000000e+02,\n",
       "        1.83000000e+00,  2.36000000e+00,  5.30000000e-01,  2.09500000e+00,\n",
       "        2.65000000e-01,  1.83000000e+00,  2.00000000e+00,  2.00000000e+00,\n",
       "        0.00000000e+00,  2.00000000e+00,  0.00000000e+00,  2.00000000e+00,\n",
       "        0.00000000e+00,  0.00000000e+00,  0.00000000e+00,  0.00000000e+00,\n",
       "        0.00000000e+00,  0.00000000e+00,  4.00000000e+00,  6.00000000e+00,\n",
       "        2.00000000e+00,  5.00000000e+00,  1.00000000e+00,  4.00000000e+00,\n",
       "        0.00000000e+00,  1.40000000e+01,  1.40000000e+01,  7.00000000e+00,\n",
       "        7.00000000e+00,  0.00000000e+00,  8.00000000e+00,  2.00000000e+01,\n",
       "        1.20000000e+01,  1.40000000e+01,  6.00000000e+00,  8.00000000e+00,\n",
       "        0.00000000e+00,  0.00000000e+00,  0.00000000e+00,  0.00000000e+00,\n",
       "        0.00000000e+00,  0.00000000e+00,  0.00000000e+00,  0.00000000e+00,\n",
       "        0.00000000e+00,  0.00000000e+00,  0.00000000e+00,  0.00000000e+00,\n",
       "        4.00000000e+00,  6.00000000e+00,  2.00000000e+00,  5.00000000e+00,\n",
       "        1.00000000e+00,  4.00000000e+00,  0.00000000e+00,  0.00000000e+00,\n",
       "        0.00000000e+00,  0.00000000e+00,  0.00000000e+00,  0.00000000e+00,\n",
       "        4.00000000e+00,  6.00000000e+00,  2.00000000e+00,  5.00000000e+00,\n",
       "        1.00000000e+00,  4.00000000e+00,  1.07300000e+01,  1.60500000e+01,\n",
       "        5.32000000e+00,  1.33900000e+01,  2.66000000e+00,  1.07300000e+01,\n",
       "        0.00000000e+00,  0.00000000e+00,  0.00000000e+00,  0.00000000e+00,\n",
       "        0.00000000e+00,  0.00000000e+00,  0.00000000e+00,  2.11066280e+00,\n",
       "        2.11066280e+00,  1.05533140e+00,  1.05533140e+00,  0.00000000e+00,\n",
       "        2.29000000e+02,  2.29000000e+02,  0.00000000e+00,  2.29000000e+02,\n",
       "        0.00000000e+00,  2.29000000e+02,  2.00000000e+00,  0.00000000e+00,\n",
       "        5.00000000e+00,  7.00000000e+00,  0.00000000e+00,  6.78159451e-02,\n",
       "        1.69539863e-02,             inf,  3.84615385e-02, -1.17931200e-02,\n",
       "        1.17931200e-02,  4.71404521e-02,  7.85674201e-02,  1.34687006e-01])"
      ]
     },
     "execution_count": 19,
     "metadata": {},
     "output_type": "execute_result"
    }
   ],
   "source": [
    "# Single inf value\n",
    "compAlloy = Composition('Fe1 W1')\n",
    "Xalloy = base_featurizer.featurize(compAlloy)\n",
    "Xalloy"
   ]
  },
  {
   "cell_type": "code",
   "execution_count": 21,
   "metadata": {},
   "outputs": [
    {
     "name": "stdout",
     "output_type": "stream",
     "text": [
      "Zr64.13 Al10 Cu15.75 Ni10.12 S2\n"
     ]
    },
    {
     "data": {
      "text/plain": [
       "array([5.00000000e+00, 6.62554634e-01, 6.33419438e-01, 6.28861687e-01,\n",
       "       6.28730751e-01, 6.28725542e-01, 1.30000000e+01, 4.00000000e+01,\n",
       "       2.70000000e+01, 3.39932353e+01, 7.55321217e+00, 4.00000000e+01,\n",
       "       4.40000000e+01, 8.80000000e+01, 4.40000000e+01, 5.24807843e+01,\n",
       "       1.06641705e+01, 4.40000000e+01, 2.69815386e+01, 9.12240000e+01,\n",
       "       6.42424614e+01, 7.62643845e+01, 1.88109832e+01, 9.12240000e+01,\n",
       "       3.88360000e+02, 2.12800000e+03, 1.73964000e+03, 1.81815978e+03,\n",
       "       3.89608889e+02, 2.12800000e+03, 4.00000000e+00, 1.60000000e+01,\n",
       "       1.20000000e+01, 6.79382353e+00, 3.51309614e+00, 4.00000000e+00,\n",
       "       3.00000000e+00, 5.00000000e+00, 2.00000000e+00, 4.51107843e+00,\n",
       "       6.14794906e-01, 5.00000000e+00, 1.05000000e+02, 1.75000000e+02,\n",
       "       7.00000000e+01, 1.56633627e+02, 2.30948132e+01, 1.75000000e+02,\n",
       "       1.33000000e+00, 2.58000000e+00, 1.25000000e+00, 1.52752059e+00,\n",
       "       2.48372457e-01, 1.33000000e+00, 1.00000000e+00, 2.00000000e+00,\n",
       "       1.00000000e+00, 1.84558824e+00, 2.61137543e-01, 2.00000000e+00,\n",
       "       0.00000000e+00, 4.00000000e+00, 4.00000000e+00, 1.76470588e-01,\n",
       "       3.11418685e-01, 0.00000000e+00, 0.00000000e+00, 1.00000000e+01,\n",
       "       1.00000000e+01, 3.59529412e+00, 2.85195571e+00, 2.00000000e+00,\n",
       "       0.00000000e+00, 0.00000000e+00, 0.00000000e+00, 0.00000000e+00,\n",
       "       0.00000000e+00, 0.00000000e+00, 3.00000000e+00, 1.10000000e+01,\n",
       "       8.00000000e+00, 5.61735294e+00, 2.54694850e+00, 4.00000000e+00,\n",
       "       0.00000000e+00, 1.00000000e+00, 1.00000000e+00, 1.54411765e-01,\n",
       "       2.61137543e-01, 0.00000000e+00, 0.00000000e+00, 5.00000000e+00,\n",
       "       5.00000000e+00, 5.29411765e-01, 9.34256055e-01, 0.00000000e+00,\n",
       "       0.00000000e+00, 8.00000000e+00, 8.00000000e+00, 5.22823529e+00,\n",
       "       3.48535825e+00, 8.00000000e+00, 0.00000000e+00, 0.00000000e+00,\n",
       "       0.00000000e+00, 0.00000000e+00, 0.00000000e+00, 0.00000000e+00,\n",
       "       1.00000000e+00, 8.00000000e+00, 7.00000000e+00, 5.91205882e+00,\n",
       "       2.62548368e+00, 8.00000000e+00, 1.03200000e+01, 2.57868750e+01,\n",
       "       1.54668750e+01, 1.94378431e+01, 4.97342222e+00, 2.31950000e+01,\n",
       "       0.00000000e+00, 2.20200000e+00, 2.20200000e+00, 4.31764706e-02,\n",
       "       8.46597463e-02, 0.00000000e+00, 0.00000000e+00, 5.95394700e-01,\n",
       "       5.95394700e-01, 5.90724938e-02, 1.06423152e-01, 0.00000000e+00,\n",
       "       7.00000000e+01, 2.25000000e+02, 1.55000000e+02, 2.02470294e+02,\n",
       "       1.58458931e+01, 1.94000000e+02, 1.84558824e+00, 1.76470588e-01,\n",
       "       3.59529412e+00, 0.00000000e+00, 0.00000000e+00, 3.23366154e-01,\n",
       "       1.92599082e-02,            nan, 1.02935703e-01, 5.22191415e-03,\n",
       "       2.57933208e-02, 9.33516855e-02, 9.45890270e-02, 9.76260149e-02])"
      ]
     },
     "execution_count": 21,
     "metadata": {},
     "output_type": "execute_result"
    }
   ],
   "source": [
    "# Single nan value?  \n",
    "compAlloy2 = Composition('Zr64.13 Al10 Cu15.75 Ni10.12 S2')\n",
    "print(compAlloy2)\n",
    "Xalloy2 = base_featurizer.featurize(compAlloy2)\n",
    "Xalloy2"
   ]
  },
  {
   "cell_type": "code",
   "execution_count": 28,
   "metadata": {},
   "outputs": [
    {
     "data": {
      "text/plain": [
       "'Yang omega'"
      ]
     },
     "execution_count": 28,
     "metadata": {},
     "output_type": "execute_result"
    }
   ],
   "source": [
    "base_featurizer.feature_labels()[-7]"
   ]
  },
  {
   "cell_type": "code",
   "execution_count": null,
   "metadata": {},
   "outputs": [],
   "source": []
  }
 ],
 "metadata": {
  "kernelspec": {
   "display_name": "Python 3",
   "language": "python",
   "name": "python3"
  },
  "language_info": {
   "codemirror_mode": {
    "name": "ipython",
    "version": 3
   },
   "file_extension": ".py",
   "mimetype": "text/x-python",
   "name": "python",
   "nbconvert_exporter": "python",
   "pygments_lexer": "ipython3",
   "version": "3.6.3"
  }
 },
 "nbformat": 4,
 "nbformat_minor": 2
}
