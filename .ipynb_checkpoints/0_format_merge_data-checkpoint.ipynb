{
 "cells": [
  {
   "cell_type": "code",
   "execution_count": 94,
   "metadata": {},
   "outputs": [],
   "source": [
    "%matplotlib inline\n",
    "from matplotlib import pyplot as plt\n",
    "from matminer.featurizers.base import MultipleFeaturizer, StackedFeaturizer\n",
    "from matminer.featurizers import composition as cf\n",
    "from sklearn.ensemble import RandomForestClassifier, RandomForestRegressor\n",
    "from sklearn.model_selection import GridSearchCV, ShuffleSplit, LeaveOneGroupOut, cross_val_score, learning_curve, KFold\n",
    "from sklearn.pipeline import Pipeline\n",
    "from sklearn.preprocessing import Imputer, LabelEncoder\n",
    "from sklearn.metrics import roc_curve, auc, r2_score, make_scorer\n",
    "from sklearn import metrics\n",
    "from pymatgen import Composition\n",
    "import pickle as pkl\n",
    "import pandas as pd\n",
    "import numpy as np\n",
    "import gzip\n",
    "import os\n",
    "import copy"
   ]
  },
  {
   "cell_type": "code",
   "execution_count": 2,
   "metadata": {},
   "outputs": [],
   "source": [
    "def featCleanImpute(Y):\n",
    "    ''' Convert inf to NaN in feature array, in place\n",
    "    \n",
    "    Args: \n",
    "        Y, feature array, list of ndarray (#samples x #features)\n",
    "    Returns:\n",
    "        None\n",
    "    '''\n",
    "    # Clean inf values\n",
    "    for i in range(len(Y)):\n",
    "        for j in range(len(Y[i])):\n",
    "            if Y[i][j] == np.inf:\n",
    "                Y[i][j] = np.nan\n",
    "            else:\n",
    "                Y[i][j] = Y[i][j]\n",
    "                \n",
    "    # Impute nan values\n",
    "    imp = Imputer(missing_values='NaN', axis=0, strategy='mean', copy=False)\n",
    "    imp2 = Imputer(missing_values='NaN', axis=1, strategy='mean', copy=False)\n",
    "\n",
    "    imp.fit(Y)\n",
    "    imp.transform(Y)\n",
    "    imp2.fit(Y)\n",
    "    imp.transform(Y)\n",
    "    "
   ]
  },
  {
   "cell_type": "code",
   "execution_count": 3,
   "metadata": {},
   "outputs": [],
   "source": [
    "def genStatsDF(dfOrig):\n",
    "    '''\n",
    "    Generates a new dataframe that merges duplicate entries, while supplying avg/std/no.\n",
    "\n",
    "    input: DataFrame with 2 columns, first is composition, second is property\n",
    "    output: Datafrme with 4 columns\n",
    "\n",
    "    '''\n",
    "    yDcopy = dfOrig.copy()\n",
    "    (col1, col2) = dfOrig.columns\n",
    "\n",
    "    redList = []\n",
    "    cnt=0\n",
    "    while ~yDcopy.empty and cnt < len(yDcopy):\n",
    "        compTemp = yDcopy[col1][0]\n",
    "        \n",
    "        # difference must be below atol+rtol*mean.  \n",
    "        dupes = yDcopy[ [x.almost_equals(compTemp) for x in yDcopy[col1]] ]\n",
    "\n",
    "        tempDict = {col1: compTemp, col2+'_avg': dupes[col2].mean(), \n",
    "                    col2+'_std': dupes[col2].std(), 'numSamp': len(dupes)}\n",
    "\n",
    "        redList.append(tempDict)\n",
    "\n",
    "        #remove processed entries\n",
    "        yDcopy.drop(index=list(dupes.index), inplace=True)\n",
    "        yDcopy.reset_index(drop=True, inplace=True)\n",
    "        cnt+=1\n",
    "\n",
    "    reducedDF = pd.DataFrame(redList)\n",
    "    return reducedDF"
   ]
  },
  {
   "cell_type": "markdown",
   "metadata": {},
   "source": [
    "# Import and Format datasets"
   ]
  },
  {
   "cell_type": "code",
   "execution_count": 4,
   "metadata": {},
   "outputs": [
    {
     "data": {
      "text/plain": [
       "2174"
      ]
     },
     "execution_count": 4,
     "metadata": {},
     "output_type": "execute_result"
    }
   ],
   "source": [
    "elastProp_SLAC = pd.read_excel('datasets/Mechnical properties analysis v33_Pruned.xlsx')\n",
    "rawCopy = elastProp_SLAC.copy()\n",
    "len(rawCopy)"
   ]
  },
  {
   "cell_type": "code",
   "execution_count": 5,
   "metadata": {
    "scrolled": true
   },
   "outputs": [
    {
     "data": {
      "text/html": [
       "<div>\n",
       "<style scoped>\n",
       "    .dataframe tbody tr th:only-of-type {\n",
       "        vertical-align: middle;\n",
       "    }\n",
       "\n",
       "    .dataframe tbody tr th {\n",
       "        vertical-align: top;\n",
       "    }\n",
       "\n",
       "    .dataframe thead th {\n",
       "        text-align: right;\n",
       "    }\n",
       "</style>\n",
       "<table border=\"1\" class=\"dataframe\">\n",
       "  <thead>\n",
       "    <tr style=\"text-align: right;\">\n",
       "      <th></th>\n",
       "      <th>Compositions</th>\n",
       "      <th>Sample</th>\n",
       "      <th>Conditions</th>\n",
       "      <th>Tensile strength (MPa)</th>\n",
       "      <th>Error</th>\n",
       "      <th>Yeild strength, σy (MPa)</th>\n",
       "      <th>Error</th>\n",
       "      <th>Elongation (%)</th>\n",
       "      <th>Compressive fracture strength, σf (MPa)</th>\n",
       "      <th>Error.1</th>\n",
       "      <th>...</th>\n",
       "      <th>Vd (%)</th>\n",
       "      <th>Strain hardening rate</th>\n",
       "      <th>ρ (g/cm3)</th>\n",
       "      <th>Stress Intensity, Kc</th>\n",
       "      <th>G/K</th>\n",
       "      <th>θd</th>\n",
       "      <th>Energy of fracture,Gc</th>\n",
       "      <th>Glasses</th>\n",
       "      <th>Diameter, mm</th>\n",
       "      <th>Reference2</th>\n",
       "    </tr>\n",
       "  </thead>\n",
       "  <tbody>\n",
       "    <tr>\n",
       "      <th>0</th>\n",
       "      <td>Zr55Al10Ni5Cu30</td>\n",
       "      <td>Zr-based</td>\n",
       "      <td>NaN</td>\n",
       "      <td>1840</td>\n",
       "      <td>NaN</td>\n",
       "      <td>NaN</td>\n",
       "      <td>NaN</td>\n",
       "      <td>2</td>\n",
       "      <td>NaN</td>\n",
       "      <td>NaN</td>\n",
       "      <td>...</td>\n",
       "      <td>NaN</td>\n",
       "      <td>NaN</td>\n",
       "      <td>NaN</td>\n",
       "      <td>NaN</td>\n",
       "      <td>NaN</td>\n",
       "      <td>NaN</td>\n",
       "      <td>NaN</td>\n",
       "      <td>BMG</td>\n",
       "      <td>NaN</td>\n",
       "      <td>B. Guennec et al, Intermetallics 92 (2018) 72–78</td>\n",
       "    </tr>\n",
       "    <tr>\n",
       "      <th>1</th>\n",
       "      <td>Zr61Ti2Cu25Al12</td>\n",
       "      <td>Zr-based</td>\n",
       "      <td>NaN</td>\n",
       "      <td>1600</td>\n",
       "      <td>NaN</td>\n",
       "      <td>NaN</td>\n",
       "      <td>NaN</td>\n",
       "      <td>NaN</td>\n",
       "      <td>1688</td>\n",
       "      <td>NaN</td>\n",
       "      <td>...</td>\n",
       "      <td>NaN</td>\n",
       "      <td>NaN</td>\n",
       "      <td>NaN</td>\n",
       "      <td>NaN</td>\n",
       "      <td>NaN</td>\n",
       "      <td>NaN</td>\n",
       "      <td>NaN</td>\n",
       "      <td>BMG</td>\n",
       "      <td>NaN</td>\n",
       "      <td>Z-Q Song et al, Acta Materialia 99 (2015) 165–175</td>\n",
       "    </tr>\n",
       "    <tr>\n",
       "      <th>2</th>\n",
       "      <td>Zr56Co24Ag4Al16</td>\n",
       "      <td>Zr-based</td>\n",
       "      <td>(electric charge 100 Ag)</td>\n",
       "      <td>2284</td>\n",
       "      <td>63</td>\n",
       "      <td>NaN</td>\n",
       "      <td>NaN</td>\n",
       "      <td>NaN</td>\n",
       "      <td>NaN</td>\n",
       "      <td>NaN</td>\n",
       "      <td>...</td>\n",
       "      <td>NaN</td>\n",
       "      <td>NaN</td>\n",
       "      <td>NaN</td>\n",
       "      <td>NaN</td>\n",
       "      <td>NaN</td>\n",
       "      <td>NaN</td>\n",
       "      <td>NaN</td>\n",
       "      <td>BMG</td>\n",
       "      <td>NaN</td>\n",
       "      <td>M. Mohammadi Rahvard et al, Journal of Non-Cry...</td>\n",
       "    </tr>\n",
       "    <tr>\n",
       "      <th>3</th>\n",
       "      <td>Zr56Co24Ag4Al16</td>\n",
       "      <td>Zr-based</td>\n",
       "      <td>(electric charge 90 Ag)</td>\n",
       "      <td>2197</td>\n",
       "      <td>48</td>\n",
       "      <td>NaN</td>\n",
       "      <td>NaN</td>\n",
       "      <td>NaN</td>\n",
       "      <td>NaN</td>\n",
       "      <td>NaN</td>\n",
       "      <td>...</td>\n",
       "      <td>NaN</td>\n",
       "      <td>NaN</td>\n",
       "      <td>NaN</td>\n",
       "      <td>NaN</td>\n",
       "      <td>NaN</td>\n",
       "      <td>NaN</td>\n",
       "      <td>NaN</td>\n",
       "      <td>BMG</td>\n",
       "      <td>NaN</td>\n",
       "      <td>M. Mohammadi Rahvard et al, Journal of Non-Cry...</td>\n",
       "    </tr>\n",
       "    <tr>\n",
       "      <th>4</th>\n",
       "      <td>Al20Co25Zr55</td>\n",
       "      <td>Al-based</td>\n",
       "      <td>NaN</td>\n",
       "      <td>2050</td>\n",
       "      <td>NaN</td>\n",
       "      <td>NaN</td>\n",
       "      <td>NaN</td>\n",
       "      <td>2.1</td>\n",
       "      <td>2200</td>\n",
       "      <td>NaN</td>\n",
       "      <td>...</td>\n",
       "      <td>NaN</td>\n",
       "      <td>NaN</td>\n",
       "      <td>NaN</td>\n",
       "      <td>NaN</td>\n",
       "      <td>NaN</td>\n",
       "      <td>NaN</td>\n",
       "      <td>NaN</td>\n",
       "      <td>BMG</td>\n",
       "      <td>NaN</td>\n",
       "      <td>M. Mohammadi Rahvard et al, Journal of Non-Cry...</td>\n",
       "    </tr>\n",
       "  </tbody>\n",
       "</table>\n",
       "<p>5 rows × 40 columns</p>\n",
       "</div>"
      ],
      "text/plain": [
       "      Compositions    Sample                 Conditions  \\\n",
       "0  Zr55Al10Ni5Cu30  Zr-based                        NaN   \n",
       "1  Zr61Ti2Cu25Al12  Zr-based                        NaN   \n",
       "2  Zr56Co24Ag4Al16  Zr-based   (electric charge 100 Ag)   \n",
       "3  Zr56Co24Ag4Al16  Zr-based    (electric charge 90 Ag)   \n",
       "4     Al20Co25Zr55  Al-based                        NaN   \n",
       "\n",
       "  Tensile strength (MPa) Error  Yeild strength, σy (MPa)  Error  \\\n",
       "0                   1840    NaN                      NaN    NaN   \n",
       "1                   1600    NaN                      NaN    NaN   \n",
       "2                   2284     63                      NaN    NaN   \n",
       "3                   2197     48                      NaN    NaN   \n",
       "4                   2050    NaN                      NaN    NaN   \n",
       "\n",
       "  Elongation (%) Compressive fracture strength, σf (MPa)  Error.1  \\\n",
       "0              2                                     NaN      NaN   \n",
       "1            NaN                                    1688      NaN   \n",
       "2            NaN                                     NaN      NaN   \n",
       "3            NaN                                     NaN      NaN   \n",
       "4            2.1                                    2200      NaN   \n",
       "\n",
       "                         ...                         Vd (%)  \\\n",
       "0                        ...                            NaN   \n",
       "1                        ...                            NaN   \n",
       "2                        ...                            NaN   \n",
       "3                        ...                            NaN   \n",
       "4                        ...                            NaN   \n",
       "\n",
       "   Strain hardening rate ρ (g/cm3) Stress Intensity, Kc G/K   θd  \\\n",
       "0                    NaN       NaN                  NaN NaN  NaN   \n",
       "1                    NaN       NaN                  NaN NaN  NaN   \n",
       "2                    NaN       NaN                  NaN NaN  NaN   \n",
       "3                    NaN       NaN                  NaN NaN  NaN   \n",
       "4                    NaN       NaN                  NaN NaN  NaN   \n",
       "\n",
       "   Energy of fracture,Gc Glasses  Diameter, mm  \\\n",
       "0                    NaN     BMG           NaN   \n",
       "1                    NaN     BMG           NaN   \n",
       "2                    NaN     BMG           NaN   \n",
       "3                    NaN     BMG           NaN   \n",
       "4                    NaN     BMG           NaN   \n",
       "\n",
       "                                          Reference2  \n",
       "0   B. Guennec et al, Intermetallics 92 (2018) 72–78  \n",
       "1  Z-Q Song et al, Acta Materialia 99 (2015) 165–175  \n",
       "2  M. Mohammadi Rahvard et al, Journal of Non-Cry...  \n",
       "3  M. Mohammadi Rahvard et al, Journal of Non-Cry...  \n",
       "4  M. Mohammadi Rahvard et al, Journal of Non-Cry...  \n",
       "\n",
       "[5 rows x 40 columns]"
      ]
     },
     "execution_count": 5,
     "metadata": {},
     "output_type": "execute_result"
    }
   ],
   "source": [
    "elastProp_SLAC.head()"
   ]
  },
  {
   "cell_type": "code",
   "execution_count": 6,
   "metadata": {},
   "outputs": [],
   "source": [
    "elastProp_SLAC.rename(index=str, columns={'θd':'theta_d', 'ρ (g/cm3)':'density (g/cm3)', \n",
    "                                          'Yeild strength, σy (MPa)':'Yeild strength (MPa)', \n",
    "                                         'Compressive fracture strength, σf (MPa)': 'Compressive fracture strength (MPa)'},inplace=True)\n",
    "#elastProp_SLAC.columns"
   ]
  },
  {
   "cell_type": "code",
   "execution_count": 7,
   "metadata": {},
   "outputs": [],
   "source": [
    "dfSLAC = elastProp_SLAC"
   ]
  },
  {
   "cell_type": "code",
   "execution_count": 8,
   "metadata": {},
   "outputs": [],
   "source": [
    "def makeComp(x):\n",
    "    '''Apply Composition() constructor to string x\n",
    "       Return: Composition object, or 0 if not parse-able'''\n",
    "    try:\n",
    "        return Composition(x)\n",
    "    except:\n",
    "        print(x)\n",
    "        return 0"
   ]
  },
  {
   "cell_type": "code",
   "execution_count": 9,
   "metadata": {},
   "outputs": [
    {
     "name": "stdout",
     "output_type": "stream",
     "text": [
      "Mg60Ca30−xTixY10\n",
      "Mg60Li5Cu25−xZnx (Y, Gd)10\n",
      "Mg65−xLixCu25Znx (Y, Gd)10\n",
      "(CaCu)100xMgx\n",
      "La57.6Al17.5(Cu,Ni)24.9\n",
      "La64Al14 (Cu = Ni)22\n",
      "Fused quartz\n",
      "Amorphous carbon\n",
      "Microcrystal glass\n",
      "Breakaway glass\n",
      "Water-white glass\n",
      "Window glass\n",
      "Float glass\n",
      "Ti-glass\n",
      "Borosilicate glass\n",
      "B2O3 glass\n",
      "Glassy sulfur\n",
      "Amorphous Se\n",
      "Fused quartz\n",
      "window glass (SiO2)\n",
      "∥Fe70Mo5Ni5∣P12.5∥C5B2.5∣\n",
      "Toughened glass (SiO2)\n",
      "Amorphous carbon\n",
      "Vit1\n",
      "Float glass\n",
      "Ti-glass\n",
      "Window glass\n",
      "Water-white glass\n",
      "Fused quartz\n",
      "Microcrystal glass\n",
      "Borosilicate glass\n",
      "Carbon glass\n",
      "Mo52Cr14Fel4P12B8\n",
      "Fused silica\n",
      "Window glass\n",
      "Toughened glass\n",
      "Sn 99.9%\n",
      "(Zr54Al17C029)100-0Ta0\n",
      "316L SS\n",
      "Ti-6Al-4V\n",
      "Cortical bone\n",
      "Vitreloy 105\n",
      "FC20+0.4 wt.% B\n",
      "La74Al14(Cu,Ni)12\n",
      "300 M Steel\n",
      "D6AC Steel \n",
      "Ti-6Al-4V \n",
      "2090-T81 Al–Li \n"
     ]
    }
   ],
   "source": [
    "# prints out compositions that cannot be converted into Composition objects\n",
    "dfSLAC['comp'] = dfSLAC['Compositions'].apply(makeComp)"
   ]
  },
  {
   "cell_type": "markdown",
   "metadata": {},
   "source": [
    "Remove entries where composition was unable to be read"
   ]
  },
  {
   "cell_type": "code",
   "execution_count": 10,
   "metadata": {},
   "outputs": [
    {
     "name": "stdout",
     "output_type": "stream",
     "text": [
      "2126 entries remaining\n"
     ]
    }
   ],
   "source": [
    "dfSLAC = dfSLAC[dfSLAC['comp']!=0]\n",
    "dfSLAC.reset_index(drop=True, inplace=True)\n",
    "print('{} entries remaining'.format(len(dfSLAC)))"
   ]
  },
  {
   "cell_type": "code",
   "execution_count": 11,
   "metadata": {},
   "outputs": [
    {
     "name": "stdout",
     "output_type": "stream",
     "text": [
      "moved 'comp' to first column\n"
     ]
    }
   ],
   "source": [
    "cols = dfSLAC.columns.tolist()\n",
    "dfSLAC = dfSLAC[cols[-1:] + cols[:-1]]\n",
    "print(\"moved 'comp' to first column\")"
   ]
  },
  {
   "cell_type": "code",
   "execution_count": 12,
   "metadata": {},
   "outputs": [
    {
     "data": {
      "text/plain": [
       "2126"
      ]
     },
     "execution_count": 12,
     "metadata": {},
     "output_type": "execute_result"
    }
   ],
   "source": [
    "len(dfSLAC['comp']!=0)"
   ]
  },
  {
   "cell_type": "code",
   "execution_count": 13,
   "metadata": {},
   "outputs": [
    {
     "name": "stderr",
     "output_type": "stream",
     "text": [
      "C:\\Users\\Hikaru\\Anaconda2\\envs\\py36\\lib\\site-packages\\pymatgen\\core\\periodic_table.py:409: UserWarning:\n",
      "\n",
      "No electronegativity for Ar. Setting to NaN. This has no physical meaning, and is mainly done to avoid errors caused by the code expecting a float.\n",
      "\n"
     ]
    },
    {
     "name": "stdout",
     "output_type": "stream",
     "text": [
      "\n",
      "2125 entries remaining\n"
     ]
    }
   ],
   "source": [
    "def redComp(x):\n",
    "    try: \n",
    "        return Composition(x.reduced_formula)\n",
    "    except: \n",
    "        print(x)\n",
    "        return 0\n",
    "    \n",
    "dfSLAC['comp'] = dfSLAC['comp'].apply(redComp)\n",
    "dfSLAC = dfSLAC[dfSLAC['comp']!=0]\n",
    "dfSLAC.reset_index(drop=True, inplace=True)\n",
    "print('{} entries remaining'.format(len(dfSLAC)))"
   ]
  },
  {
   "cell_type": "code",
   "execution_count": 14,
   "metadata": {},
   "outputs": [
    {
     "data": {
      "text/html": [
       "<div>\n",
       "<style scoped>\n",
       "    .dataframe tbody tr th:only-of-type {\n",
       "        vertical-align: middle;\n",
       "    }\n",
       "\n",
       "    .dataframe tbody tr th {\n",
       "        vertical-align: top;\n",
       "    }\n",
       "\n",
       "    .dataframe thead th {\n",
       "        text-align: right;\n",
       "    }\n",
       "</style>\n",
       "<table border=\"1\" class=\"dataframe\">\n",
       "  <thead>\n",
       "    <tr style=\"text-align: right;\">\n",
       "      <th></th>\n",
       "      <th>comp</th>\n",
       "      <th>Compositions</th>\n",
       "      <th>Sample</th>\n",
       "      <th>Conditions</th>\n",
       "      <th>Tensile strength (MPa)</th>\n",
       "      <th>Error</th>\n",
       "      <th>Yeild strength (MPa)</th>\n",
       "      <th>Error</th>\n",
       "      <th>Elongation (%)</th>\n",
       "      <th>Compressive fracture strength (MPa)</th>\n",
       "      <th>...</th>\n",
       "      <th>Vd (%)</th>\n",
       "      <th>Strain hardening rate</th>\n",
       "      <th>density (g/cm3)</th>\n",
       "      <th>Stress Intensity, Kc</th>\n",
       "      <th>G/K</th>\n",
       "      <th>theta_d</th>\n",
       "      <th>Energy of fracture,Gc</th>\n",
       "      <th>Glasses</th>\n",
       "      <th>Diameter, mm</th>\n",
       "      <th>Reference2</th>\n",
       "    </tr>\n",
       "  </thead>\n",
       "  <tbody>\n",
       "    <tr>\n",
       "      <th>0</th>\n",
       "      <td>(Zr, Al, Cu, Ni)</td>\n",
       "      <td>Zr55Al10Ni5Cu30</td>\n",
       "      <td>Zr-based</td>\n",
       "      <td>NaN</td>\n",
       "      <td>1840</td>\n",
       "      <td>NaN</td>\n",
       "      <td>NaN</td>\n",
       "      <td>NaN</td>\n",
       "      <td>2</td>\n",
       "      <td>NaN</td>\n",
       "      <td>...</td>\n",
       "      <td>NaN</td>\n",
       "      <td>NaN</td>\n",
       "      <td>NaN</td>\n",
       "      <td>NaN</td>\n",
       "      <td>NaN</td>\n",
       "      <td>NaN</td>\n",
       "      <td>NaN</td>\n",
       "      <td>BMG</td>\n",
       "      <td>NaN</td>\n",
       "      <td>B. Guennec et al, Intermetallics 92 (2018) 72–78</td>\n",
       "    </tr>\n",
       "    <tr>\n",
       "      <th>1</th>\n",
       "      <td>(Zr, Ti, Al, Cu)</td>\n",
       "      <td>Zr61Ti2Cu25Al12</td>\n",
       "      <td>Zr-based</td>\n",
       "      <td>NaN</td>\n",
       "      <td>1600</td>\n",
       "      <td>NaN</td>\n",
       "      <td>NaN</td>\n",
       "      <td>NaN</td>\n",
       "      <td>NaN</td>\n",
       "      <td>1688</td>\n",
       "      <td>...</td>\n",
       "      <td>NaN</td>\n",
       "      <td>NaN</td>\n",
       "      <td>NaN</td>\n",
       "      <td>NaN</td>\n",
       "      <td>NaN</td>\n",
       "      <td>NaN</td>\n",
       "      <td>NaN</td>\n",
       "      <td>BMG</td>\n",
       "      <td>NaN</td>\n",
       "      <td>Z-Q Song et al, Acta Materialia 99 (2015) 165–175</td>\n",
       "    </tr>\n",
       "    <tr>\n",
       "      <th>2</th>\n",
       "      <td>(Zr, Al, Co, Ag)</td>\n",
       "      <td>Zr56Co24Ag4Al16</td>\n",
       "      <td>Zr-based</td>\n",
       "      <td>(electric charge 100 Ag)</td>\n",
       "      <td>2284</td>\n",
       "      <td>63</td>\n",
       "      <td>NaN</td>\n",
       "      <td>NaN</td>\n",
       "      <td>NaN</td>\n",
       "      <td>NaN</td>\n",
       "      <td>...</td>\n",
       "      <td>NaN</td>\n",
       "      <td>NaN</td>\n",
       "      <td>NaN</td>\n",
       "      <td>NaN</td>\n",
       "      <td>NaN</td>\n",
       "      <td>NaN</td>\n",
       "      <td>NaN</td>\n",
       "      <td>BMG</td>\n",
       "      <td>NaN</td>\n",
       "      <td>M. Mohammadi Rahvard et al, Journal of Non-Cry...</td>\n",
       "    </tr>\n",
       "    <tr>\n",
       "      <th>3</th>\n",
       "      <td>(Zr, Al, Co, Ag)</td>\n",
       "      <td>Zr56Co24Ag4Al16</td>\n",
       "      <td>Zr-based</td>\n",
       "      <td>(electric charge 90 Ag)</td>\n",
       "      <td>2197</td>\n",
       "      <td>48</td>\n",
       "      <td>NaN</td>\n",
       "      <td>NaN</td>\n",
       "      <td>NaN</td>\n",
       "      <td>NaN</td>\n",
       "      <td>...</td>\n",
       "      <td>NaN</td>\n",
       "      <td>NaN</td>\n",
       "      <td>NaN</td>\n",
       "      <td>NaN</td>\n",
       "      <td>NaN</td>\n",
       "      <td>NaN</td>\n",
       "      <td>NaN</td>\n",
       "      <td>BMG</td>\n",
       "      <td>NaN</td>\n",
       "      <td>M. Mohammadi Rahvard et al, Journal of Non-Cry...</td>\n",
       "    </tr>\n",
       "    <tr>\n",
       "      <th>4</th>\n",
       "      <td>(Zr, Al, Co)</td>\n",
       "      <td>Al20Co25Zr55</td>\n",
       "      <td>Al-based</td>\n",
       "      <td>NaN</td>\n",
       "      <td>2050</td>\n",
       "      <td>NaN</td>\n",
       "      <td>NaN</td>\n",
       "      <td>NaN</td>\n",
       "      <td>2.1</td>\n",
       "      <td>2200</td>\n",
       "      <td>...</td>\n",
       "      <td>NaN</td>\n",
       "      <td>NaN</td>\n",
       "      <td>NaN</td>\n",
       "      <td>NaN</td>\n",
       "      <td>NaN</td>\n",
       "      <td>NaN</td>\n",
       "      <td>NaN</td>\n",
       "      <td>BMG</td>\n",
       "      <td>NaN</td>\n",
       "      <td>M. Mohammadi Rahvard et al, Journal of Non-Cry...</td>\n",
       "    </tr>\n",
       "  </tbody>\n",
       "</table>\n",
       "<p>5 rows × 41 columns</p>\n",
       "</div>"
      ],
      "text/plain": [
       "               comp     Compositions    Sample                 Conditions  \\\n",
       "0  (Zr, Al, Cu, Ni)  Zr55Al10Ni5Cu30  Zr-based                        NaN   \n",
       "1  (Zr, Ti, Al, Cu)  Zr61Ti2Cu25Al12  Zr-based                        NaN   \n",
       "2  (Zr, Al, Co, Ag)  Zr56Co24Ag4Al16  Zr-based   (electric charge 100 Ag)   \n",
       "3  (Zr, Al, Co, Ag)  Zr56Co24Ag4Al16  Zr-based    (electric charge 90 Ag)   \n",
       "4      (Zr, Al, Co)     Al20Co25Zr55  Al-based                        NaN   \n",
       "\n",
       "  Tensile strength (MPa) Error  Yeild strength (MPa)  Error Elongation (%)  \\\n",
       "0                   1840    NaN                  NaN    NaN              2   \n",
       "1                   1600    NaN                  NaN    NaN            NaN   \n",
       "2                   2284     63                  NaN    NaN            NaN   \n",
       "3                   2197     48                  NaN    NaN            NaN   \n",
       "4                   2050    NaN                  NaN    NaN            2.1   \n",
       "\n",
       "  Compressive fracture strength (MPa)  \\\n",
       "0                                 NaN   \n",
       "1                                1688   \n",
       "2                                 NaN   \n",
       "3                                 NaN   \n",
       "4                                2200   \n",
       "\n",
       "                         ...                          Vd (%)  \\\n",
       "0                        ...                             NaN   \n",
       "1                        ...                             NaN   \n",
       "2                        ...                             NaN   \n",
       "3                        ...                             NaN   \n",
       "4                        ...                             NaN   \n",
       "\n",
       "  Strain hardening rate  density (g/cm3) Stress Intensity, Kc G/K theta_d  \\\n",
       "0                   NaN              NaN                  NaN NaN     NaN   \n",
       "1                   NaN              NaN                  NaN NaN     NaN   \n",
       "2                   NaN              NaN                  NaN NaN     NaN   \n",
       "3                   NaN              NaN                  NaN NaN     NaN   \n",
       "4                   NaN              NaN                  NaN NaN     NaN   \n",
       "\n",
       "  Energy of fracture,Gc  Glasses Diameter, mm  \\\n",
       "0                   NaN      BMG          NaN   \n",
       "1                   NaN      BMG          NaN   \n",
       "2                   NaN      BMG          NaN   \n",
       "3                   NaN      BMG          NaN   \n",
       "4                   NaN      BMG          NaN   \n",
       "\n",
       "                                          Reference2  \n",
       "0   B. Guennec et al, Intermetallics 92 (2018) 72–78  \n",
       "1  Z-Q Song et al, Acta Materialia 99 (2015) 165–175  \n",
       "2  M. Mohammadi Rahvard et al, Journal of Non-Cry...  \n",
       "3  M. Mohammadi Rahvard et al, Journal of Non-Cry...  \n",
       "4  M. Mohammadi Rahvard et al, Journal of Non-Cry...  \n",
       "\n",
       "[5 rows x 41 columns]"
      ]
     },
     "execution_count": 14,
     "metadata": {},
     "output_type": "execute_result"
    }
   ],
   "source": [
    "dfSLAC.head()"
   ]
  },
  {
   "cell_type": "markdown",
   "metadata": {},
   "source": [
    "Import NREL dataset"
   ]
  },
  {
   "cell_type": "code",
   "execution_count": 15,
   "metadata": {},
   "outputs": [
    {
     "data": {
      "text/html": [
       "<div>\n",
       "<style scoped>\n",
       "    .dataframe tbody tr th:only-of-type {\n",
       "        vertical-align: middle;\n",
       "    }\n",
       "\n",
       "    .dataframe tbody tr th {\n",
       "        vertical-align: top;\n",
       "    }\n",
       "\n",
       "    .dataframe thead th {\n",
       "        text-align: right;\n",
       "    }\n",
       "</style>\n",
       "<table border=\"1\" class=\"dataframe\">\n",
       "  <thead>\n",
       "    <tr style=\"text-align: right;\">\n",
       "      <th></th>\n",
       "      <th>Compositions</th>\n",
       "      <th>Youngs_Modulus_GPa</th>\n",
       "      <th>Shear_Modulus_GPa</th>\n",
       "      <th>Bulk_Modulus_GPa</th>\n",
       "      <th>density</th>\n",
       "    </tr>\n",
       "  </thead>\n",
       "  <tbody>\n",
       "    <tr>\n",
       "      <th>0</th>\n",
       "      <td>Se70Ge30</td>\n",
       "      <td>15.7</td>\n",
       "      <td>6.2</td>\n",
       "      <td>11.7</td>\n",
       "      <td>4.277</td>\n",
       "    </tr>\n",
       "    <tr>\n",
       "      <th>1</th>\n",
       "      <td>Zn20Ca20Sr20Yb20Li11Mg9</td>\n",
       "      <td>16.0</td>\n",
       "      <td>6.3</td>\n",
       "      <td>12</td>\n",
       "      <td>3.6</td>\n",
       "    </tr>\n",
       "    <tr>\n",
       "      <th>2</th>\n",
       "      <td>Zn20Ca20Sr20Yb20Li11Mg9</td>\n",
       "      <td>16.0</td>\n",
       "      <td>6.3</td>\n",
       "      <td>None</td>\n",
       "      <td>None</td>\n",
       "    </tr>\n",
       "    <tr>\n",
       "      <th>3</th>\n",
       "      <td>Sr60Li5Mg15Zn20</td>\n",
       "      <td>18.4</td>\n",
       "      <td>7.02</td>\n",
       "      <td>16.1</td>\n",
       "      <td>2.99</td>\n",
       "    </tr>\n",
       "    <tr>\n",
       "      <th>4</th>\n",
       "      <td>Mg81Cu9.3Y4.7Zn5</td>\n",
       "      <td>19.2</td>\n",
       "      <td>None</td>\n",
       "      <td>None</td>\n",
       "      <td>2.47</td>\n",
       "    </tr>\n",
       "  </tbody>\n",
       "</table>\n",
       "</div>"
      ],
      "text/plain": [
       "              Compositions  Youngs_Modulus_GPa Shear_Modulus_GPa  \\\n",
       "0                 Se70Ge30                15.7               6.2   \n",
       "1  Zn20Ca20Sr20Yb20Li11Mg9                16.0               6.3   \n",
       "2  Zn20Ca20Sr20Yb20Li11Mg9                16.0               6.3   \n",
       "3          Sr60Li5Mg15Zn20                18.4              7.02   \n",
       "4         Mg81Cu9.3Y4.7Zn5                19.2              None   \n",
       "\n",
       "  Bulk_Modulus_GPa density  \n",
       "0             11.7   4.277  \n",
       "1               12     3.6  \n",
       "2             None    None  \n",
       "3             16.1    2.99  \n",
       "4             None    2.47  "
      ]
     },
     "execution_count": 15,
     "metadata": {},
     "output_type": "execute_result"
    }
   ],
   "source": [
    "NRELmodulusDataPath= 'C:\\\\Users\\\\Hikaru\\\\Desktop\\\\School\\\\_Stanford\\\\_SLAC\\\\MechPropModels\\\\ryan\\'s code\\\\MG_elastic_properties_package\\\\datasets\\\\SLAC_Modulus_Only_Cleaned_modified_trim.xlsx'\n",
    "elastProp_NREL = pd.read_excel(NRELmodulusDataPath)\n",
    "rawCopy = elastProp_NREL.copy()\n",
    "rawCopy.head()"
   ]
  },
  {
   "cell_type": "code",
   "execution_count": 16,
   "metadata": {},
   "outputs": [
    {
     "name": "stderr",
     "output_type": "stream",
     "text": [
      "C:\\Users\\Hikaru\\Anaconda2\\envs\\py36\\lib\\site-packages\\pymatgen\\core\\periodic_table.py:409: UserWarning:\n",
      "\n",
      "No electronegativity for Ar. Setting to NaN. This has no physical meaning, and is mainly done to avoid errors caused by the code expecting a float.\n",
      "\n"
     ]
    }
   ],
   "source": [
    "elastProp_NREL['comp'] = elastProp_NREL['Compositions'].apply(makeComp)\n",
    "elastProp_NREL['comp'] = elastProp_NREL['comp'].apply(redComp)"
   ]
  },
  {
   "cell_type": "code",
   "execution_count": 17,
   "metadata": {},
   "outputs": [
    {
     "data": {
      "text/plain": [
       "Comp: Ge3 Se7"
      ]
     },
     "execution_count": 17,
     "metadata": {},
     "output_type": "execute_result"
    }
   ],
   "source": [
    "elastProp_NREL['comp'][0]\n",
    "# Compositions have been standardized and reduced"
   ]
  },
  {
   "cell_type": "code",
   "execution_count": 18,
   "metadata": {},
   "outputs": [],
   "source": [
    "# cell about Composition.almost_equal() method experimentation was here\n",
    "# Note that an unreduced chemical formula is not equal in composition"
   ]
  },
  {
   "cell_type": "markdown",
   "metadata": {},
   "source": [
    "# Build individual datasets"
   ]
  },
  {
   "cell_type": "markdown",
   "metadata": {},
   "source": [
    "### Generate, clean feature set"
   ]
  },
  {
   "cell_type": "code",
   "execution_count": 19,
   "metadata": {},
   "outputs": [],
   "source": [
    "base_featurizer = MultipleFeaturizer([cf.Stoichiometry(), cf.ElementProperty.from_preset(\"magpie\"),\n",
    "                                 cf.ValenceOrbital(props=['avg']), cf.IonProperty(fast=True),\n",
    "                                cf.YangSolidSolution(), cf.AtomicPackingEfficiency()])"
   ]
  },
  {
   "cell_type": "markdown",
   "metadata": {},
   "source": [
    "### Young's Modulus dataset \n",
    "Isolate Youngs Modulus, Composition.\n",
    "Build Features"
   ]
  },
  {
   "cell_type": "code",
   "execution_count": 20,
   "metadata": {},
   "outputs": [],
   "source": [
    "# Separate Data into new frame\n",
    "youngsSLAC = pd.DataFrame()\n",
    "youngsSLAC['comp'] = dfSLAC['comp']\n",
    "youngsSLAC['E'] = dfSLAC['Young’s  Modulus, E (GPa)']\n",
    "\n",
    "# Drop missing entries \n",
    "youngsSLAC = youngsSLAC[[(type(x) in (int, float)) for x in youngsSLAC['E']]]\n",
    "youngsSLAC.reset_index(drop=True, inplace=True)\n",
    "youngsSLAC = youngsSLAC[~youngsSLAC['E'].isnull()]\n",
    "youngsSLAC['E'].astype(float)\n",
    "youngsSLAC.reset_index(drop=True, inplace=True)"
   ]
  },
  {
   "cell_type": "markdown",
   "metadata": {},
   "source": [
    "# Separate Data into new frame\n",
    "youngsNREL = pd.DataFrame()\n",
    "youngsNREL['comp'] = elastProp_NREL['comp']\n",
    "youngsNREL['E'] = elastProp_NREL['Youngs_Modulus_GPa']\n",
    "\n",
    "# Drop missing entries\n",
    "youngsNREL = youngsNREL[[(type(x) in (int, float)) for x in youngsNREL['E']]]\n",
    "youngsNREL.reset_index(drop=True, inplace=True)\n",
    "youngsNREL = youngsNREL[~youngsNREL['E'].isnull()]\n",
    "youngsNREL['E'].astype(float)\n",
    "youngsNREL.reset_index(drop=True, inplace=True)"
   ]
  },
  {
   "cell_type": "code",
   "execution_count": 21,
   "metadata": {},
   "outputs": [
    {
     "name": "stderr",
     "output_type": "stream",
     "text": [
      "C:\\Users\\Hikaru\\Anaconda2\\envs\\py36\\lib\\site-packages\\pymatgen\\core\\periodic_table.py:409: UserWarning:\n",
      "\n",
      "No electronegativity for Ar. Setting to NaN. This has no physical meaning, and is mainly done to avoid errors caused by the code expecting a float.\n",
      "\n"
     ]
    },
    {
     "name": "stdout",
     "output_type": "stream",
     "text": [
      "1203 = 1203 + 0?\n"
     ]
    }
   ],
   "source": [
    "# Join and sort data (SLAC dataset is complete)\n",
    "youngsData = youngsSLAC #.append(youngsNREL, ignore_index=True)\n",
    "youngsData = youngsData.sort_values('comp').reset_index(drop=True)\n",
    "print('{} = {} + {}?'.format(len(youngsData), len(youngsSLAC), len([])))"
   ]
  },
  {
   "cell_type": "code",
   "execution_count": 22,
   "metadata": {},
   "outputs": [
    {
     "name": "stdout",
     "output_type": "stream",
     "text": [
      "Computed 152 features\n",
      "Wall time: 18min 10s\n"
     ]
    }
   ],
   "source": [
    "%%time\n",
    "X_E = base_featurizer.featurize_many(youngsData['comp'], ignore_errors=True)\n",
    "X_E = np.array(X_E)\n",
    "X_E.astype(float)\n",
    "print('Computed {} features'.format(X_E.shape[1]))"
   ]
  },
  {
   "cell_type": "code",
   "execution_count": 23,
   "metadata": {},
   "outputs": [],
   "source": [
    "# Create smaller dataset for quick tests\n",
    "youngsDataSmall = youngsData.sample(500).reset_index(drop=True)"
   ]
  },
  {
   "cell_type": "code",
   "execution_count": 24,
   "metadata": {},
   "outputs": [
    {
     "ename": "KeyboardInterrupt",
     "evalue": "",
     "output_type": "error",
     "traceback": [
      "\u001b[1;31m---------------------------------------------------------------------------\u001b[0m",
      "\u001b[1;31mKeyboardInterrupt\u001b[0m                         Traceback (most recent call last)",
      "\u001b[1;32m<ipython-input-24-64c8f7ef9c4e>\u001b[0m in \u001b[0;36m<module>\u001b[1;34m()\u001b[0m\n\u001b[1;32m----> 1\u001b[1;33m \u001b[0mXEsmall\u001b[0m \u001b[1;33m=\u001b[0m \u001b[0mbase_featurizer\u001b[0m\u001b[1;33m.\u001b[0m\u001b[0mfeaturize_many\u001b[0m\u001b[1;33m(\u001b[0m\u001b[0myoungsDataSmall\u001b[0m\u001b[1;33m[\u001b[0m\u001b[1;34m'comp'\u001b[0m\u001b[1;33m]\u001b[0m\u001b[1;33m,\u001b[0m \u001b[0mignore_errors\u001b[0m\u001b[1;33m=\u001b[0m\u001b[1;32mTrue\u001b[0m\u001b[1;33m)\u001b[0m\u001b[1;33m\u001b[0m\u001b[0m\n\u001b[0m\u001b[0;32m      2\u001b[0m \u001b[0mXEsmall\u001b[0m \u001b[1;33m=\u001b[0m \u001b[0mnp\u001b[0m\u001b[1;33m.\u001b[0m\u001b[0marray\u001b[0m\u001b[1;33m(\u001b[0m\u001b[0mXEsmall\u001b[0m\u001b[1;33m)\u001b[0m\u001b[1;33m\u001b[0m\u001b[0m\n\u001b[0;32m      3\u001b[0m \u001b[0mXEsmall\u001b[0m\u001b[1;33m.\u001b[0m\u001b[0mastype\u001b[0m\u001b[1;33m(\u001b[0m\u001b[0mfloat\u001b[0m\u001b[1;33m)\u001b[0m\u001b[1;33m\u001b[0m\u001b[0m\n\u001b[0;32m      4\u001b[0m \u001b[0mprint\u001b[0m\u001b[1;33m(\u001b[0m\u001b[1;34m'Computed {} features'\u001b[0m\u001b[1;33m.\u001b[0m\u001b[0mformat\u001b[0m\u001b[1;33m(\u001b[0m\u001b[0mXEsmall\u001b[0m\u001b[1;33m.\u001b[0m\u001b[0mshape\u001b[0m\u001b[1;33m[\u001b[0m\u001b[1;36m1\u001b[0m\u001b[1;33m]\u001b[0m\u001b[1;33m)\u001b[0m\u001b[1;33m)\u001b[0m\u001b[1;33m\u001b[0m\u001b[0m\n",
      "\u001b[1;32m~\\Anaconda2\\envs\\py36\\lib\\site-packages\\matminer\\featurizers\\base.py\u001b[0m in \u001b[0;36mfeaturize_many\u001b[1;34m(self, entries, ignore_errors, return_errors)\u001b[0m\n\u001b[0;32m    261\u001b[0m                                            return_errors=return_errors)\n\u001b[0;32m    262\u001b[0m             \u001b[1;32mwith\u001b[0m \u001b[0mPool\u001b[0m\u001b[1;33m(\u001b[0m\u001b[0mself\u001b[0m\u001b[1;33m.\u001b[0m\u001b[0mn_jobs\u001b[0m\u001b[1;33m)\u001b[0m \u001b[1;32mas\u001b[0m \u001b[0mp\u001b[0m\u001b[1;33m:\u001b[0m\u001b[1;33m\u001b[0m\u001b[0m\n\u001b[1;32m--> 263\u001b[1;33m                 \u001b[1;32mreturn\u001b[0m \u001b[0mp\u001b[0m\u001b[1;33m.\u001b[0m\u001b[0mmap\u001b[0m\u001b[1;33m(\u001b[0m\u001b[0mself\u001b[0m\u001b[1;33m.\u001b[0m\u001b[0mfeaturize_wrapper\u001b[0m\u001b[1;33m,\u001b[0m \u001b[0mentries\u001b[0m\u001b[1;33m)\u001b[0m\u001b[1;33m\u001b[0m\u001b[0m\n\u001b[0m\u001b[0;32m    264\u001b[0m \u001b[1;33m\u001b[0m\u001b[0m\n\u001b[0;32m    265\u001b[0m     \u001b[1;32mdef\u001b[0m \u001b[0mfeaturize_wrapper\u001b[0m\u001b[1;33m(\u001b[0m\u001b[0mself\u001b[0m\u001b[1;33m,\u001b[0m \u001b[0mx\u001b[0m\u001b[1;33m)\u001b[0m\u001b[1;33m:\u001b[0m\u001b[1;33m\u001b[0m\u001b[0m\n",
      "\u001b[1;32m~\\Anaconda2\\envs\\py36\\lib\\multiprocessing\\pool.py\u001b[0m in \u001b[0;36mmap\u001b[1;34m(self, func, iterable, chunksize)\u001b[0m\n\u001b[0;32m    264\u001b[0m         \u001b[1;32min\u001b[0m \u001b[0ma\u001b[0m \u001b[0mlist\u001b[0m \u001b[0mthat\u001b[0m \u001b[1;32mis\u001b[0m \u001b[0mreturned\u001b[0m\u001b[1;33m.\u001b[0m\u001b[1;33m\u001b[0m\u001b[0m\n\u001b[0;32m    265\u001b[0m         '''\n\u001b[1;32m--> 266\u001b[1;33m         \u001b[1;32mreturn\u001b[0m \u001b[0mself\u001b[0m\u001b[1;33m.\u001b[0m\u001b[0m_map_async\u001b[0m\u001b[1;33m(\u001b[0m\u001b[0mfunc\u001b[0m\u001b[1;33m,\u001b[0m \u001b[0miterable\u001b[0m\u001b[1;33m,\u001b[0m \u001b[0mmapstar\u001b[0m\u001b[1;33m,\u001b[0m \u001b[0mchunksize\u001b[0m\u001b[1;33m)\u001b[0m\u001b[1;33m.\u001b[0m\u001b[0mget\u001b[0m\u001b[1;33m(\u001b[0m\u001b[1;33m)\u001b[0m\u001b[1;33m\u001b[0m\u001b[0m\n\u001b[0m\u001b[0;32m    267\u001b[0m \u001b[1;33m\u001b[0m\u001b[0m\n\u001b[0;32m    268\u001b[0m     \u001b[1;32mdef\u001b[0m \u001b[0mstarmap\u001b[0m\u001b[1;33m(\u001b[0m\u001b[0mself\u001b[0m\u001b[1;33m,\u001b[0m \u001b[0mfunc\u001b[0m\u001b[1;33m,\u001b[0m \u001b[0miterable\u001b[0m\u001b[1;33m,\u001b[0m \u001b[0mchunksize\u001b[0m\u001b[1;33m=\u001b[0m\u001b[1;32mNone\u001b[0m\u001b[1;33m)\u001b[0m\u001b[1;33m:\u001b[0m\u001b[1;33m\u001b[0m\u001b[0m\n",
      "\u001b[1;32m~\\Anaconda2\\envs\\py36\\lib\\multiprocessing\\pool.py\u001b[0m in \u001b[0;36mget\u001b[1;34m(self, timeout)\u001b[0m\n\u001b[0;32m    636\u001b[0m \u001b[1;33m\u001b[0m\u001b[0m\n\u001b[0;32m    637\u001b[0m     \u001b[1;32mdef\u001b[0m \u001b[0mget\u001b[0m\u001b[1;33m(\u001b[0m\u001b[0mself\u001b[0m\u001b[1;33m,\u001b[0m \u001b[0mtimeout\u001b[0m\u001b[1;33m=\u001b[0m\u001b[1;32mNone\u001b[0m\u001b[1;33m)\u001b[0m\u001b[1;33m:\u001b[0m\u001b[1;33m\u001b[0m\u001b[0m\n\u001b[1;32m--> 638\u001b[1;33m         \u001b[0mself\u001b[0m\u001b[1;33m.\u001b[0m\u001b[0mwait\u001b[0m\u001b[1;33m(\u001b[0m\u001b[0mtimeout\u001b[0m\u001b[1;33m)\u001b[0m\u001b[1;33m\u001b[0m\u001b[0m\n\u001b[0m\u001b[0;32m    639\u001b[0m         \u001b[1;32mif\u001b[0m \u001b[1;32mnot\u001b[0m \u001b[0mself\u001b[0m\u001b[1;33m.\u001b[0m\u001b[0mready\u001b[0m\u001b[1;33m(\u001b[0m\u001b[1;33m)\u001b[0m\u001b[1;33m:\u001b[0m\u001b[1;33m\u001b[0m\u001b[0m\n\u001b[0;32m    640\u001b[0m             \u001b[1;32mraise\u001b[0m \u001b[0mTimeoutError\u001b[0m\u001b[1;33m\u001b[0m\u001b[0m\n",
      "\u001b[1;32m~\\Anaconda2\\envs\\py36\\lib\\multiprocessing\\pool.py\u001b[0m in \u001b[0;36mwait\u001b[1;34m(self, timeout)\u001b[0m\n\u001b[0;32m    633\u001b[0m \u001b[1;33m\u001b[0m\u001b[0m\n\u001b[0;32m    634\u001b[0m     \u001b[1;32mdef\u001b[0m \u001b[0mwait\u001b[0m\u001b[1;33m(\u001b[0m\u001b[0mself\u001b[0m\u001b[1;33m,\u001b[0m \u001b[0mtimeout\u001b[0m\u001b[1;33m=\u001b[0m\u001b[1;32mNone\u001b[0m\u001b[1;33m)\u001b[0m\u001b[1;33m:\u001b[0m\u001b[1;33m\u001b[0m\u001b[0m\n\u001b[1;32m--> 635\u001b[1;33m         \u001b[0mself\u001b[0m\u001b[1;33m.\u001b[0m\u001b[0m_event\u001b[0m\u001b[1;33m.\u001b[0m\u001b[0mwait\u001b[0m\u001b[1;33m(\u001b[0m\u001b[0mtimeout\u001b[0m\u001b[1;33m)\u001b[0m\u001b[1;33m\u001b[0m\u001b[0m\n\u001b[0m\u001b[0;32m    636\u001b[0m \u001b[1;33m\u001b[0m\u001b[0m\n\u001b[0;32m    637\u001b[0m     \u001b[1;32mdef\u001b[0m \u001b[0mget\u001b[0m\u001b[1;33m(\u001b[0m\u001b[0mself\u001b[0m\u001b[1;33m,\u001b[0m \u001b[0mtimeout\u001b[0m\u001b[1;33m=\u001b[0m\u001b[1;32mNone\u001b[0m\u001b[1;33m)\u001b[0m\u001b[1;33m:\u001b[0m\u001b[1;33m\u001b[0m\u001b[0m\n",
      "\u001b[1;32m~\\Anaconda2\\envs\\py36\\lib\\threading.py\u001b[0m in \u001b[0;36mwait\u001b[1;34m(self, timeout)\u001b[0m\n\u001b[0;32m    549\u001b[0m             \u001b[0msignaled\u001b[0m \u001b[1;33m=\u001b[0m \u001b[0mself\u001b[0m\u001b[1;33m.\u001b[0m\u001b[0m_flag\u001b[0m\u001b[1;33m\u001b[0m\u001b[0m\n\u001b[0;32m    550\u001b[0m             \u001b[1;32mif\u001b[0m \u001b[1;32mnot\u001b[0m \u001b[0msignaled\u001b[0m\u001b[1;33m:\u001b[0m\u001b[1;33m\u001b[0m\u001b[0m\n\u001b[1;32m--> 551\u001b[1;33m                 \u001b[0msignaled\u001b[0m \u001b[1;33m=\u001b[0m \u001b[0mself\u001b[0m\u001b[1;33m.\u001b[0m\u001b[0m_cond\u001b[0m\u001b[1;33m.\u001b[0m\u001b[0mwait\u001b[0m\u001b[1;33m(\u001b[0m\u001b[0mtimeout\u001b[0m\u001b[1;33m)\u001b[0m\u001b[1;33m\u001b[0m\u001b[0m\n\u001b[0m\u001b[0;32m    552\u001b[0m             \u001b[1;32mreturn\u001b[0m \u001b[0msignaled\u001b[0m\u001b[1;33m\u001b[0m\u001b[0m\n\u001b[0;32m    553\u001b[0m \u001b[1;33m\u001b[0m\u001b[0m\n",
      "\u001b[1;32m~\\Anaconda2\\envs\\py36\\lib\\threading.py\u001b[0m in \u001b[0;36mwait\u001b[1;34m(self, timeout)\u001b[0m\n\u001b[0;32m    293\u001b[0m         \u001b[1;32mtry\u001b[0m\u001b[1;33m:\u001b[0m    \u001b[1;31m# restore state no matter what (e.g., KeyboardInterrupt)\u001b[0m\u001b[1;33m\u001b[0m\u001b[0m\n\u001b[0;32m    294\u001b[0m             \u001b[1;32mif\u001b[0m \u001b[0mtimeout\u001b[0m \u001b[1;32mis\u001b[0m \u001b[1;32mNone\u001b[0m\u001b[1;33m:\u001b[0m\u001b[1;33m\u001b[0m\u001b[0m\n\u001b[1;32m--> 295\u001b[1;33m                 \u001b[0mwaiter\u001b[0m\u001b[1;33m.\u001b[0m\u001b[0macquire\u001b[0m\u001b[1;33m(\u001b[0m\u001b[1;33m)\u001b[0m\u001b[1;33m\u001b[0m\u001b[0m\n\u001b[0m\u001b[0;32m    296\u001b[0m                 \u001b[0mgotit\u001b[0m \u001b[1;33m=\u001b[0m \u001b[1;32mTrue\u001b[0m\u001b[1;33m\u001b[0m\u001b[0m\n\u001b[0;32m    297\u001b[0m             \u001b[1;32melse\u001b[0m\u001b[1;33m:\u001b[0m\u001b[1;33m\u001b[0m\u001b[0m\n",
      "\u001b[1;31mKeyboardInterrupt\u001b[0m: "
     ]
    }
   ],
   "source": [
    "XEsmall = base_featurizer.featurize_many(youngsDataSmall['comp'], ignore_errors=True)\n",
    "XEsmall = np.array(XEsmall)\n",
    "XEsmall.astype(float)\n",
    "print('Computed {} features'.format(XEsmall.shape[1]))"
   ]
  },
  {
   "cell_type": "code",
   "execution_count": null,
   "metadata": {},
   "outputs": [],
   "source": [
    "# some duplicates exist\n",
    "comp = Composition('Zr14Al4Co7')\n",
    "comp2 = Composition('Zr20Al4Co7') \n",
    "for index, row in youngsData[ [x.almost_equals(comp) for x in youngsData['comp']] ].iterrows():\n",
    "    print('Comp: {} .... at row: {}'.format(row['comp'], index))"
   ]
  },
  {
   "cell_type": "code",
   "execution_count": 25,
   "metadata": {},
   "outputs": [
    {
     "name": "stdout",
     "output_type": "stream",
     "text": [
      "(array([   0,    0,    0, ..., 1202, 1202, 1202], dtype=int64), array([  0,   1,   2, ..., 149, 150, 151], dtype=int64))\n",
      "(array([], dtype=int64), array([], dtype=int64))\n"
     ]
    }
   ],
   "source": [
    "print(np.where(np.isnan(X_E)))\n",
    "featCleanImpute(X_E)\n",
    "print(np.where(np.isnan(X_E)))"
   ]
  },
  {
   "cell_type": "code",
   "execution_count": 26,
   "metadata": {},
   "outputs": [],
   "source": [
    "with gzip.open('./datasets/youngs_features.pkl.gz', 'wb') as fp:\n",
    "    pkl.dump(X_E, fp)\n",
    "with gzip.open('./datasets/youngs_data.pkl.gz', 'wb') as fd:\n",
    "    pkl.dump(youngsData, fd)"
   ]
  },
  {
   "cell_type": "code",
   "execution_count": 27,
   "metadata": {},
   "outputs": [
    {
     "ename": "NameError",
     "evalue": "name 'XEsmall' is not defined",
     "output_type": "error",
     "traceback": [
      "\u001b[1;31m---------------------------------------------------------------------------\u001b[0m",
      "\u001b[1;31mNameError\u001b[0m                                 Traceback (most recent call last)",
      "\u001b[1;32m<ipython-input-27-78349040c24b>\u001b[0m in \u001b[0;36m<module>\u001b[1;34m()\u001b[0m\n\u001b[0;32m      1\u001b[0m \u001b[1;32mwith\u001b[0m \u001b[0mgzip\u001b[0m\u001b[1;33m.\u001b[0m\u001b[0mopen\u001b[0m\u001b[1;33m(\u001b[0m\u001b[1;34m'./datasets/youngsSmall_features.pkl.gz'\u001b[0m\u001b[1;33m,\u001b[0m \u001b[1;34m'wb'\u001b[0m\u001b[1;33m)\u001b[0m \u001b[1;32mas\u001b[0m \u001b[0mfp\u001b[0m\u001b[1;33m:\u001b[0m\u001b[1;33m\u001b[0m\u001b[0m\n\u001b[1;32m----> 2\u001b[1;33m     \u001b[0mpkl\u001b[0m\u001b[1;33m.\u001b[0m\u001b[0mdump\u001b[0m\u001b[1;33m(\u001b[0m\u001b[0mXEsmall\u001b[0m\u001b[1;33m,\u001b[0m \u001b[0mfp\u001b[0m\u001b[1;33m)\u001b[0m\u001b[1;33m\u001b[0m\u001b[0m\n\u001b[0m\u001b[0;32m      3\u001b[0m \u001b[1;32mwith\u001b[0m \u001b[0mgzip\u001b[0m\u001b[1;33m.\u001b[0m\u001b[0mopen\u001b[0m\u001b[1;33m(\u001b[0m\u001b[1;34m'./datasets/youngsSmall_data.pkl.gz'\u001b[0m\u001b[1;33m,\u001b[0m \u001b[1;34m'wb'\u001b[0m\u001b[1;33m)\u001b[0m \u001b[1;32mas\u001b[0m \u001b[0mfd\u001b[0m\u001b[1;33m:\u001b[0m\u001b[1;33m\u001b[0m\u001b[0m\n\u001b[0;32m      4\u001b[0m     \u001b[0mpkl\u001b[0m\u001b[1;33m.\u001b[0m\u001b[0mdump\u001b[0m\u001b[1;33m(\u001b[0m\u001b[0myoungsDataSmall\u001b[0m\u001b[1;33m,\u001b[0m \u001b[0mfd\u001b[0m\u001b[1;33m)\u001b[0m\u001b[1;33m\u001b[0m\u001b[0m\n",
      "\u001b[1;31mNameError\u001b[0m: name 'XEsmall' is not defined"
     ]
    }
   ],
   "source": [
    "with gzip.open('./datasets/youngsSmall_features.pkl.gz', 'wb') as fp:\n",
    "    pkl.dump(XEsmall, fp)\n",
    "with gzip.open('./datasets/youngsSmall_data.pkl.gz', 'wb') as fd:\n",
    "    pkl.dump(youngsDataSmall, fd)"
   ]
  },
  {
   "cell_type": "markdown",
   "metadata": {},
   "source": [
    "#### Generate new dataframe, reducing duplicates"
   ]
  },
  {
   "cell_type": "code",
   "execution_count": 28,
   "metadata": {},
   "outputs": [
    {
     "name": "stdout",
     "output_type": "stream",
     "text": [
      "Wall time: 5.21 s\n"
     ]
    }
   ],
   "source": [
    "%%time\n",
    "youngsReduced = genStatsDF(youngsData)\n",
    "youngsReduced.head()"
   ]
  },
  {
   "cell_type": "code",
   "execution_count": 29,
   "metadata": {},
   "outputs": [
    {
     "data": {
      "text/plain": [
       "<matplotlib.axes._subplots.AxesSubplot at 0x125f2a90>"
      ]
     },
     "execution_count": 29,
     "metadata": {},
     "output_type": "execute_result"
    },
    {
     "data": {
      "image/png": "[encoded data removed]",
      "text/plain": [
       "<matplotlib.figure.Figure at 0x1257a6d8>"
      ]
     },
     "metadata": {},
     "output_type": "display_data"
    }
   ],
   "source": [
    "youngsReduced['numSamp'].plot()"
   ]
  },
  {
   "cell_type": "code",
   "execution_count": 30,
   "metadata": {},
   "outputs": [
    {
     "data": {
      "text/plain": [
       "<matplotlib.axes._subplots.AxesSubplot at 0x1257a198>"
      ]
     },
     "execution_count": 30,
     "metadata": {},
     "output_type": "execute_result"
    },
    {
     "data": {
      "image/png": "[encoded data removed]",
      "text/plain": [
       "<matplotlib.figure.Figure at 0x125e2ba8>"
      ]
     },
     "metadata": {},
     "output_type": "display_data"
    }
   ],
   "source": [
    "youngsReduced['E_std'].plot()"
   ]
  },
  {
   "cell_type": "code",
   "execution_count": 31,
   "metadata": {},
   "outputs": [
    {
     "ename": "NameError",
     "evalue": "name 'comp' is not defined",
     "output_type": "error",
     "traceback": [
      "\u001b[1;31m---------------------------------------------------------------------------\u001b[0m",
      "\u001b[1;31mNameError\u001b[0m                                 Traceback (most recent call last)",
      "\u001b[1;32m<ipython-input-31-33bd09511cb5>\u001b[0m in \u001b[0;36m<module>\u001b[1;34m()\u001b[0m\n\u001b[1;32m----> 1\u001b[1;33m \u001b[0meleDict\u001b[0m \u001b[1;33m=\u001b[0m \u001b[0mcomp\u001b[0m\u001b[1;33m.\u001b[0m\u001b[0mas_dict\u001b[0m\u001b[1;33m(\u001b[0m\u001b[1;33m)\u001b[0m\u001b[1;33m\u001b[0m\u001b[0m\n\u001b[0m\u001b[0;32m      2\u001b[0m \u001b[0mprint\u001b[0m\u001b[1;33m(\u001b[0m\u001b[0meleDict\u001b[0m\u001b[1;33m)\u001b[0m\u001b[1;33m\u001b[0m\u001b[0m\n\u001b[0;32m      3\u001b[0m \u001b[0mprint\u001b[0m\u001b[1;33m(\u001b[0m\u001b[0meleDict\u001b[0m\u001b[1;33m.\u001b[0m\u001b[0mpopitem\u001b[0m\u001b[1;33m(\u001b[0m\u001b[1;33m)\u001b[0m\u001b[1;33m)\u001b[0m\u001b[1;33m\u001b[0m\u001b[0m\n\u001b[0;32m      4\u001b[0m \u001b[0mprint\u001b[0m\u001b[1;33m(\u001b[0m\u001b[0meleDict\u001b[0m\u001b[1;33m)\u001b[0m\u001b[1;33m\u001b[0m\u001b[0m\n",
      "\u001b[1;31mNameError\u001b[0m: name 'comp' is not defined"
     ]
    }
   ],
   "source": [
    "eleDict = comp.as_dict()\n",
    "print(eleDict)\n",
    "print(eleDict.popitem())\n",
    "print(eleDict)"
   ]
  },
  {
   "cell_type": "code",
   "execution_count": null,
   "metadata": {},
   "outputs": [],
   "source": [
    "dfSLAC.columns"
   ]
  },
  {
   "cell_type": "markdown",
   "metadata": {},
   "source": [
    "### Density Model Dataset\n",
    "Use as benchmark for validity of other models?"
   ]
  },
  {
   "cell_type": "code",
   "execution_count": 60,
   "metadata": {},
   "outputs": [],
   "source": [
    "densitySLAC = pd.DataFrame()\n",
    "densitySLAC['comp'] = dfSLAC['comp']\n",
    "densitySLAC['density'] = dfSLAC['density (g/cm3)']\n",
    "\n",
    "densitySLAC.dropna(inplace=True)\n",
    "densitySLAC.reset_index(drop=True, inplace=True)\n",
    "densitySLAC = densitySLAC[[(type(x) in (int, float)) for x in densitySLAC['density']]]\n",
    "densitySLAC['density'].astype(float)\n",
    "densitySLAC.reset_index(drop=True, inplace=True)"
   ]
  },
  {
   "cell_type": "code",
   "execution_count": 61,
   "metadata": {},
   "outputs": [
    {
     "name": "stdout",
     "output_type": "stream",
     "text": [
      "dropping N/A, non number density values leaves 746 values\n"
     ]
    },
    {
     "data": {
      "text/html": [
       "<div>\n",
       "<style scoped>\n",
       "    .dataframe tbody tr th:only-of-type {\n",
       "        vertical-align: middle;\n",
       "    }\n",
       "\n",
       "    .dataframe tbody tr th {\n",
       "        vertical-align: top;\n",
       "    }\n",
       "\n",
       "    .dataframe thead th {\n",
       "        text-align: right;\n",
       "    }\n",
       "</style>\n",
       "<table border=\"1\" class=\"dataframe\">\n",
       "  <thead>\n",
       "    <tr style=\"text-align: right;\">\n",
       "      <th></th>\n",
       "      <th>comp</th>\n",
       "      <th>density</th>\n",
       "    </tr>\n",
       "  </thead>\n",
       "  <tbody>\n",
       "    <tr>\n",
       "      <th>0</th>\n",
       "      <td>(Ce, Al)</td>\n",
       "      <td>3.462</td>\n",
       "    </tr>\n",
       "    <tr>\n",
       "      <th>1</th>\n",
       "      <td>(Al, Fe, B)</td>\n",
       "      <td>3.539</td>\n",
       "    </tr>\n",
       "    <tr>\n",
       "      <th>2</th>\n",
       "      <td>(Zr, Al, Ni)</td>\n",
       "      <td>3.384</td>\n",
       "    </tr>\n",
       "    <tr>\n",
       "      <th>3</th>\n",
       "      <td>(Zr, Al, Ni)</td>\n",
       "      <td>3.517</td>\n",
       "    </tr>\n",
       "    <tr>\n",
       "      <th>4</th>\n",
       "      <td>(Hf, Al, Ni)</td>\n",
       "      <td>2.835</td>\n",
       "    </tr>\n",
       "  </tbody>\n",
       "</table>\n",
       "</div>"
      ],
      "text/plain": [
       "           comp density\n",
       "0      (Ce, Al)   3.462\n",
       "1   (Al, Fe, B)   3.539\n",
       "2  (Zr, Al, Ni)   3.384\n",
       "3  (Zr, Al, Ni)   3.517\n",
       "4  (Hf, Al, Ni)   2.835"
      ]
     },
     "execution_count": 61,
     "metadata": {},
     "output_type": "execute_result"
    }
   ],
   "source": [
    "print('dropping N/A, non number density values leaves {} values'.format(len(densitySLAC)))\n",
    "densitySLAC.head()"
   ]
  },
  {
   "cell_type": "code",
   "execution_count": 62,
   "metadata": {},
   "outputs": [],
   "source": [
    "densityNREL = pd.DataFrame()\n",
    "densityNREL['comp'] = elastProp_NREL['comp']\n",
    "densityNREL['density'] = elastProp_NREL['density']"
   ]
  },
  {
   "cell_type": "code",
   "execution_count": 63,
   "metadata": {},
   "outputs": [
    {
     "data": {
      "text/html": [
       "<div>\n",
       "<style scoped>\n",
       "    .dataframe tbody tr th:only-of-type {\n",
       "        vertical-align: middle;\n",
       "    }\n",
       "\n",
       "    .dataframe tbody tr th {\n",
       "        vertical-align: top;\n",
       "    }\n",
       "\n",
       "    .dataframe thead th {\n",
       "        text-align: right;\n",
       "    }\n",
       "</style>\n",
       "<table border=\"1\" class=\"dataframe\">\n",
       "  <thead>\n",
       "    <tr style=\"text-align: right;\">\n",
       "      <th></th>\n",
       "      <th>index</th>\n",
       "      <th>comp</th>\n",
       "      <th>density</th>\n",
       "    </tr>\n",
       "  </thead>\n",
       "  <tbody>\n",
       "    <tr>\n",
       "      <th>0</th>\n",
       "      <td>0</td>\n",
       "      <td>(Ge, Se)</td>\n",
       "      <td>4.277</td>\n",
       "    </tr>\n",
       "    <tr>\n",
       "      <th>1</th>\n",
       "      <td>1</td>\n",
       "      <td>(Sr, Li, Ca, Yb, Mg, Zn)</td>\n",
       "      <td>3.6</td>\n",
       "    </tr>\n",
       "    <tr>\n",
       "      <th>2</th>\n",
       "      <td>3</td>\n",
       "      <td>(Sr, Li, Mg, Zn)</td>\n",
       "      <td>2.99</td>\n",
       "    </tr>\n",
       "    <tr>\n",
       "      <th>3</th>\n",
       "      <td>4</td>\n",
       "      <td>(Y, Mg, Zn, Cu)</td>\n",
       "      <td>2.47</td>\n",
       "    </tr>\n",
       "    <tr>\n",
       "      <th>4</th>\n",
       "      <td>6</td>\n",
       "      <td>(Sr, Mg, Zn)</td>\n",
       "      <td>3.04</td>\n",
       "    </tr>\n",
       "  </tbody>\n",
       "</table>\n",
       "</div>"
      ],
      "text/plain": [
       "   index                      comp density\n",
       "0      0                  (Ge, Se)   4.277\n",
       "1      1  (Sr, Li, Ca, Yb, Mg, Zn)     3.6\n",
       "2      3          (Sr, Li, Mg, Zn)    2.99\n",
       "3      4           (Y, Mg, Zn, Cu)    2.47\n",
       "4      6              (Sr, Mg, Zn)    3.04"
      ]
     },
     "execution_count": 63,
     "metadata": {},
     "output_type": "execute_result"
    }
   ],
   "source": [
    "densityNREL.dropna(inplace=True)\n",
    "densityNREL.reset_index(inplace=True)\n",
    "densityNREL = densityNREL[[(type(x) in (int, float)) for x in densityNREL['density']]]\n",
    "densityNREL.reset_index(drop=True, inplace=True)\n",
    "densityNREL['density'].astype(float)\n",
    "densityNREL.head()"
   ]
  },
  {
   "cell_type": "code",
   "execution_count": 64,
   "metadata": {},
   "outputs": [
    {
     "name": "stdout",
     "output_type": "stream",
     "text": [
      "746 = 746 + 0?\n"
     ]
    }
   ],
   "source": [
    "densityData = densitySLAC #.append(densityNREL, ignore_index=True)\n",
    "print('{} = {} + {}?'.format(len(densityData), len(densitySLAC), len([])))"
   ]
  },
  {
   "cell_type": "code",
   "execution_count": 59,
   "metadata": {},
   "outputs": [],
   "source": [
    "# Drop exceptions actually accepted into composition object....\n",
    "densityData.drop([94, 273, 326], inplace=True)\n",
    "densityData.reset_index(inplace=True, drop=True)"
   ]
  },
  {
   "cell_type": "code",
   "execution_count": null,
   "metadata": {},
   "outputs": [],
   "source": [
    "%%time\n",
    "X_dens = base_featurizer.featurize_many(densityData['comp'], ignore_errors=True)\n",
    "X_dens = np.array(X_dens)\n",
    "X_dens.astype(float)\n",
    "print('Computed {} features'.format(X_dens.shape[1]))"
   ]
  },
  {
   "cell_type": "code",
   "execution_count": 38,
   "metadata": {},
   "outputs": [
    {
     "name": "stdout",
     "output_type": "stream",
     "text": [
      "(array([ 94,  94,  94, ..., 385, 598, 598], dtype=int64), array([  0,   1,   2, ..., 145, 145, 146], dtype=int64))\n",
      "(array([], dtype=int64), array([], dtype=int64))\n"
     ]
    }
   ],
   "source": [
    "print(np.where(np.isnan(X_dens)))\n",
    "featCleanImpute(X_dens)\n",
    "print(np.where(np.isnan(X_dens)))"
   ]
  },
  {
   "cell_type": "code",
   "execution_count": 40,
   "metadata": {},
   "outputs": [],
   "source": [
    "X_dens_raw = base_featurizer.featurize_many(densityData['comp'], ignore_errors=True)"
   ]
  },
  {
   "cell_type": "code",
   "execution_count": 71,
   "metadata": {
    "scrolled": true
   },
   "outputs": [
    {
     "name": "stdout",
     "output_type": "stream",
     "text": [
      "44\n"
     ]
    },
    {
     "data": {
      "text/plain": [
       "{94,\n",
       " 273,\n",
       " 326,\n",
       " 327,\n",
       " 328,\n",
       " 329,\n",
       " 330,\n",
       " 331,\n",
       " 332,\n",
       " 333,\n",
       " 334,\n",
       " 335,\n",
       " 336,\n",
       " 337,\n",
       " 338,\n",
       " 339,\n",
       " 340,\n",
       " 341,\n",
       " 342,\n",
       " 343,\n",
       " 344,\n",
       " 345,\n",
       " 346,\n",
       " 347,\n",
       " 348,\n",
       " 349,\n",
       " 350,\n",
       " 351,\n",
       " 352,\n",
       " 353,\n",
       " 354,\n",
       " 355,\n",
       " 356,\n",
       " 357,\n",
       " 358,\n",
       " 359,\n",
       " 360,\n",
       " 361,\n",
       " 362,\n",
       " 363,\n",
       " 364,\n",
       " 383,\n",
       " 385,\n",
       " 598}"
      ]
     },
     "execution_count": 71,
     "metadata": {},
     "output_type": "execute_result"
    }
   ],
   "source": [
    "inan = set(np.where(np.isnan(X_dens_raw))[0])\n",
    "print(len(inan))\n",
    "inan"
   ]
  },
  {
   "cell_type": "code",
   "execution_count": 92,
   "metadata": {
    "scrolled": true
   },
   "outputs": [
    {
     "name": "stdout",
     "output_type": "stream",
     "text": [
      "Zr64.13 Al10 Cu15.75 Ni10.12 S2\n",
      "[5.00000000e+00 6.62554634e-01 6.33419438e-01 6.28861687e-01\n",
      " 6.28730751e-01 6.28725542e-01 1.30000000e+01 4.00000000e+01\n",
      " 2.70000000e+01 3.39932353e+01 7.55321217e+00 4.00000000e+01\n",
      " 4.40000000e+01 8.80000000e+01 4.40000000e+01 5.24807843e+01\n",
      " 1.06641705e+01 4.40000000e+01 2.69815386e+01 9.12240000e+01\n",
      " 6.42424614e+01 7.62643845e+01 1.88109832e+01 9.12240000e+01\n",
      " 3.88360000e+02 2.12800000e+03 1.73964000e+03 1.81815978e+03\n",
      " 3.89608889e+02 2.12800000e+03 4.00000000e+00 1.60000000e+01\n",
      " 1.20000000e+01 6.79382353e+00 3.51309614e+00 4.00000000e+00\n",
      " 3.00000000e+00 5.00000000e+00 2.00000000e+00 4.51107843e+00\n",
      " 6.14794906e-01 5.00000000e+00 1.05000000e+02 1.75000000e+02\n",
      " 7.00000000e+01 1.56633627e+02 2.30948132e+01 1.75000000e+02\n",
      " 1.33000000e+00 2.58000000e+00 1.25000000e+00 1.52752059e+00\n",
      " 2.48372457e-01 1.33000000e+00 1.00000000e+00 2.00000000e+00\n",
      " 1.00000000e+00 1.84558824e+00 2.61137543e-01 2.00000000e+00\n",
      " 0.00000000e+00 4.00000000e+00 4.00000000e+00 1.76470588e-01\n",
      " 3.11418685e-01 0.00000000e+00 0.00000000e+00 1.00000000e+01\n",
      " 1.00000000e+01 3.59529412e+00 2.85195571e+00 2.00000000e+00\n",
      " 0.00000000e+00 0.00000000e+00 0.00000000e+00 0.00000000e+00\n",
      " 0.00000000e+00 0.00000000e+00 3.00000000e+00 1.10000000e+01\n",
      " 8.00000000e+00 5.61735294e+00 2.54694850e+00 4.00000000e+00\n",
      " 0.00000000e+00 1.00000000e+00 1.00000000e+00 1.54411765e-01\n",
      " 2.61137543e-01 0.00000000e+00 0.00000000e+00 5.00000000e+00\n",
      " 5.00000000e+00 5.29411765e-01 9.34256055e-01 0.00000000e+00\n",
      " 0.00000000e+00 8.00000000e+00 8.00000000e+00 5.22823529e+00\n",
      " 3.48535825e+00 8.00000000e+00 0.00000000e+00 0.00000000e+00\n",
      " 0.00000000e+00 0.00000000e+00 0.00000000e+00 0.00000000e+00\n",
      " 1.00000000e+00 8.00000000e+00 7.00000000e+00 5.91205882e+00\n",
      " 2.62548368e+00 8.00000000e+00 1.03200000e+01 2.57868750e+01\n",
      " 1.54668750e+01 1.94378431e+01 4.97342222e+00 2.31950000e+01\n",
      " 0.00000000e+00 2.20200000e+00 2.20200000e+00 4.31764706e-02\n",
      " 8.46597463e-02 0.00000000e+00 0.00000000e+00 5.95394700e-01\n",
      " 5.95394700e-01 5.90724938e-02 1.06423152e-01 0.00000000e+00\n",
      " 7.00000000e+01 2.25000000e+02 1.55000000e+02 2.02470294e+02\n",
      " 1.58458931e+01 1.94000000e+02 1.84558824e+00 1.76470588e-01\n",
      " 3.59529412e+00 0.00000000e+00 0.00000000e+00 3.23366154e-01\n",
      " 1.92599082e-02            nan 1.02935703e-01 5.22191415e-03\n",
      " 2.57933208e-02 9.33516855e-02 9.45890270e-02 9.76260149e-02]\n"
     ]
    }
   ],
   "source": [
    "compTemp = densityData['comp'].iloc[383]\n",
    "print(compTemp)\n",
    "tempX = base_featurizer.featurize(compTemp)\n",
    "print(tempX)"
   ]
  },
  {
   "cell_type": "code",
   "execution_count": 99,
   "metadata": {},
   "outputs": [
    {
     "data": {
      "text/plain": [
       "702"
      ]
     },
     "execution_count": 99,
     "metadata": {},
     "output_type": "execute_result"
    }
   ],
   "source": [
    "X_dens_trim = np.delete(X_dens_raw, list(inan), axis=0)\n",
    "len(X_dens_trim)"
   ]
  },
  {
   "cell_type": "code",
   "execution_count": 98,
   "metadata": {},
   "outputs": [
    {
     "data": {
      "text/plain": [
       "746"
      ]
     },
     "execution_count": 98,
     "metadata": {},
     "output_type": "execute_result"
    }
   ],
   "source": [
    "len(X_dens_trim"
   ]
  },
  {
   "cell_type": "code",
   "execution_count": 39,
   "metadata": {},
   "outputs": [],
   "source": [
    "with gzip.open('./datasets/density_features.pkl.gz', 'wb') as fp:\n",
    "    pkl.dump(X_dens, fp)\n",
    "with gzip.open('./datasets/density_data.pkl.gz', 'wb') as fd:\n",
    "    pkl.dump(densityData, fd)"
   ]
  },
  {
   "cell_type": "markdown",
   "metadata": {},
   "source": [
    "#### Generate Reduced Dataset with some stats"
   ]
  },
  {
   "cell_type": "code",
   "execution_count": 154,
   "metadata": {},
   "outputs": [
    {
     "name": "stdout",
     "output_type": "stream",
     "text": [
      "combining duplicates removes 447 entries\n",
      "Wall time: 3.15 s\n"
     ]
    }
   ],
   "source": [
    "%%time\n",
    "densReduced = genStatsDF(densityData)\n",
    "densReduced.head()\n",
    "\n",
    "print('combining duplicates removes {} entries'.format(len(densityData)-len(densReduced)))"
   ]
  },
  {
   "cell_type": "code",
   "execution_count": 156,
   "metadata": {},
   "outputs": [
    {
     "data": {
      "text/plain": [
       "<matplotlib.axes._subplots.AxesSubplot at 0x126de898>"
      ]
     },
     "execution_count": 156,
     "metadata": {},
     "output_type": "execute_result"
    },
    {
     "data": {
      "image/png": "[encoded data removed]",
      "text/plain": [
       "<matplotlib.figure.Figure at 0x126ea3c8>"
      ]
     },
     "metadata": {},
     "output_type": "display_data"
    }
   ],
   "source": [
    "densReduced['density_std'].plot()"
   ]
  },
  {
   "cell_type": "code",
   "execution_count": 171,
   "metadata": {},
   "outputs": [
    {
     "name": "stdout",
     "output_type": "stream",
     "text": [
      "Ce1 Al9\n",
      "Al3 Fe1 B1\n",
      "Zr1 Al17 Ni2\n",
      "Zr5 Al82 Ni13\n",
      "Hf1 Al17 Ni2\n",
      "Nb1 Al17 Ni2\n",
      "Y10 Al87 Ni3\n",
      "Y2 Al17 Ni1\n",
      "La3 Al42 Ni5\n",
      "La5 Al86 Ni9\n",
      "La1 Al17 Ni2\n",
      "Ce1 Al17 Ni2\n",
      "Ce3 Al42 Ni5\n",
      "Ce5.33 Al84 Ni10.67\n",
      "Gd6 Al87 Ni7\n",
      "Pr1 Al17 Ni2\n",
      "Nd1 Al17 Ni2\n",
      "Y6 Sc0.5 Al86 Co2.94 Si0.5 Ni4.06\n",
      "La1.5 Y4.5 Al86 Co1 Ni7\n",
      "Ce1 Al18 Fe1\n",
      "Gd4.3 Al87 Fe8.7\n",
      "Mg152 Al1425 Cu323 Ni1\n",
      "Y2 Al17 Ni1\n",
      "Ce2 Al88 Fe1 Ni9\n",
      "Al47 V2 Fe1\n",
      "Ti5 Al93 Fe2\n",
      "Y2 Mg13 Cu5\n",
      "Y2 Mg13 Cu5\n",
      "Y2 Mg13 Cu3 Ag2\n",
      "Y2 Mg13 Cu3 Ag2\n"
     ]
    }
   ],
   "source": [
    "cnt=0\n",
    "\n",
    "for x in densityData['comp']:\n",
    "    print(x)\n",
    "    cnt+=1\n",
    "    if cnt==30:\n",
    "        break"
   ]
  },
  {
   "cell_type": "code",
   "execution_count": null,
   "metadata": {},
   "outputs": [],
   "source": []
  }
 ],
 "metadata": {
  "kernelspec": {
   "display_name": "Python 3",
   "language": "python",
   "name": "python3"
  },
  "language_info": {
   "codemirror_mode": {
    "name": "ipython",
    "version": 3
   },
   "file_extension": ".py",
   "mimetype": "text/x-python",
   "name": "python",
   "nbconvert_exporter": "python",
   "pygments_lexer": "ipython3",
   "version": "3.6.3"
  }
 },
 "nbformat": 4,
 "nbformat_minor": 2
}
