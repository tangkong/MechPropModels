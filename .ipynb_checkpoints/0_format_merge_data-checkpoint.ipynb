{
 "cells": [
  {
   "cell_type": "code",
   "execution_count": 1,
   "metadata": {},
   "outputs": [],
   "source": [
    "%matplotlib inline\n",
    "from matplotlib import pyplot as plt\n",
    "from matminer.featurizers.base import MultipleFeaturizer, StackedFeaturizer\n",
    "from matminer.featurizers import composition as cf\n",
    "from sklearn.ensemble import RandomForestClassifier, RandomForestRegressor\n",
    "from sklearn.model_selection import GridSearchCV, ShuffleSplit, LeaveOneGroupOut, cross_val_score, learning_curve, KFold\n",
    "from sklearn.pipeline import Pipeline\n",
    "from sklearn.preprocessing import Imputer, LabelEncoder\n",
    "from sklearn.metrics import roc_curve, auc, r2_score, make_scorer\n",
    "from sklearn import metrics\n",
    "from pymatgen import Composition\n",
    "import pickle as pkl\n",
    "import pandas as pd\n",
    "import numpy as np\n",
    "import gzip\n",
    "import os"
   ]
  },
  {
   "cell_type": "code",
   "execution_count": 2,
   "metadata": {},
   "outputs": [],
   "source": [
    "def featCleanImpute(Y):\n",
    "    ''' Convert inf to NaN in feature array, in place\n",
    "    \n",
    "    Args: \n",
    "        Y, feature array, list of ndarray (#samples x #features)\n",
    "    Returns:\n",
    "        None\n",
    "    '''\n",
    "    # Clean inf values\n",
    "    for i in range(len(Y)):\n",
    "        for j in range(len(Y[i])):\n",
    "            if Y[i][j] == np.inf:\n",
    "                Y[i][j] = np.nan\n",
    "            else:\n",
    "                Y[i][j] = Y[i][j]\n",
    "                \n",
    "    # Impute nan values\n",
    "    imp = Imputer(missing_values='NaN', axis=0, strategy='mean', copy=False)\n",
    "    imp2 = Imputer(missing_values='NaN', axis=1, strategy='mean', copy=False)\n",
    "\n",
    "    imp.fit(Y)\n",
    "    imp.transform(Y)\n",
    "    imp2.fit(Y)\n",
    "    imp.transform(Y)\n",
    "    "
   ]
  },
  {
   "cell_type": "markdown",
   "metadata": {},
   "source": [
    "# Import and Format datasets"
   ]
  },
  {
   "cell_type": "code",
   "execution_count": 3,
   "metadata": {},
   "outputs": [
    {
     "data": {
      "text/plain": [
       "2174"
      ]
     },
     "execution_count": 3,
     "metadata": {},
     "output_type": "execute_result"
    }
   ],
   "source": [
    "elastProp_SLAC = pd.read_excel('datasets/Mechnical properties analysis v33.xlsx')\n",
    "rawCopy = elastProp_SLAC.copy()\n",
    "len(rawCopy)"
   ]
  },
  {
   "cell_type": "code",
   "execution_count": 4,
   "metadata": {
    "scrolled": true
   },
   "outputs": [
    {
     "data": {
      "text/html": [
       "<div>\n",
       "<style scoped>\n",
       "    .dataframe tbody tr th:only-of-type {\n",
       "        vertical-align: middle;\n",
       "    }\n",
       "\n",
       "    .dataframe tbody tr th {\n",
       "        vertical-align: top;\n",
       "    }\n",
       "\n",
       "    .dataframe thead th {\n",
       "        text-align: right;\n",
       "    }\n",
       "</style>\n",
       "<table border=\"1\" class=\"dataframe\">\n",
       "  <thead>\n",
       "    <tr style=\"text-align: right;\">\n",
       "      <th></th>\n",
       "      <th>Compositions</th>\n",
       "      <th>Sample</th>\n",
       "      <th>Conditions</th>\n",
       "      <th>Tensile strength (MPa)</th>\n",
       "      <th>Error</th>\n",
       "      <th>Yeild strength, σy (MPa)</th>\n",
       "      <th>Error</th>\n",
       "      <th>Elongation (%)</th>\n",
       "      <th>Compressive fracture strength, σf (MPa)</th>\n",
       "      <th>Error.1</th>\n",
       "      <th>...</th>\n",
       "      <th>Vd (%)</th>\n",
       "      <th>Strain hardening rate</th>\n",
       "      <th>ρ (g/cm3)</th>\n",
       "      <th>Stress Intensity, Kc</th>\n",
       "      <th>G/K</th>\n",
       "      <th>θd</th>\n",
       "      <th>Energy of fracture,Gc</th>\n",
       "      <th>Glasses</th>\n",
       "      <th>Diameter, mm</th>\n",
       "      <th>Reference2</th>\n",
       "    </tr>\n",
       "  </thead>\n",
       "  <tbody>\n",
       "    <tr>\n",
       "      <th>0</th>\n",
       "      <td>Zr55Al10Ni5Cu30</td>\n",
       "      <td>Zr-based</td>\n",
       "      <td>NaN</td>\n",
       "      <td>1840</td>\n",
       "      <td>NaN</td>\n",
       "      <td>NaN</td>\n",
       "      <td>NaN</td>\n",
       "      <td>2</td>\n",
       "      <td>NaN</td>\n",
       "      <td>NaN</td>\n",
       "      <td>...</td>\n",
       "      <td>NaN</td>\n",
       "      <td>NaN</td>\n",
       "      <td>NaN</td>\n",
       "      <td>NaN</td>\n",
       "      <td>NaN</td>\n",
       "      <td>NaN</td>\n",
       "      <td>NaN</td>\n",
       "      <td>BMG</td>\n",
       "      <td>NaN</td>\n",
       "      <td>B. Guennec et al, Intermetallics 92 (2018) 72–78</td>\n",
       "    </tr>\n",
       "    <tr>\n",
       "      <th>1</th>\n",
       "      <td>Zr61Ti2Cu25Al12</td>\n",
       "      <td>Zr-based</td>\n",
       "      <td>NaN</td>\n",
       "      <td>1600</td>\n",
       "      <td>NaN</td>\n",
       "      <td>NaN</td>\n",
       "      <td>NaN</td>\n",
       "      <td>NaN</td>\n",
       "      <td>1688</td>\n",
       "      <td>NaN</td>\n",
       "      <td>...</td>\n",
       "      <td>NaN</td>\n",
       "      <td>NaN</td>\n",
       "      <td>NaN</td>\n",
       "      <td>NaN</td>\n",
       "      <td>NaN</td>\n",
       "      <td>NaN</td>\n",
       "      <td>NaN</td>\n",
       "      <td>BMG</td>\n",
       "      <td>NaN</td>\n",
       "      <td>Z-Q Song et al, Acta Materialia 99 (2015) 165–175</td>\n",
       "    </tr>\n",
       "    <tr>\n",
       "      <th>2</th>\n",
       "      <td>Zr56Co24Ag4Al16</td>\n",
       "      <td>Zr-based</td>\n",
       "      <td>(electric charge 100 Ag)</td>\n",
       "      <td>2284</td>\n",
       "      <td>63</td>\n",
       "      <td>NaN</td>\n",
       "      <td>NaN</td>\n",
       "      <td>NaN</td>\n",
       "      <td>NaN</td>\n",
       "      <td>NaN</td>\n",
       "      <td>...</td>\n",
       "      <td>NaN</td>\n",
       "      <td>NaN</td>\n",
       "      <td>NaN</td>\n",
       "      <td>NaN</td>\n",
       "      <td>NaN</td>\n",
       "      <td>NaN</td>\n",
       "      <td>NaN</td>\n",
       "      <td>BMG</td>\n",
       "      <td>NaN</td>\n",
       "      <td>M. Mohammadi Rahvard et al, Journal of Non-Cry...</td>\n",
       "    </tr>\n",
       "    <tr>\n",
       "      <th>3</th>\n",
       "      <td>Zr56Co24Ag4Al16</td>\n",
       "      <td>Zr-based</td>\n",
       "      <td>(electric charge 90 Ag)</td>\n",
       "      <td>2197</td>\n",
       "      <td>48</td>\n",
       "      <td>NaN</td>\n",
       "      <td>NaN</td>\n",
       "      <td>NaN</td>\n",
       "      <td>NaN</td>\n",
       "      <td>NaN</td>\n",
       "      <td>...</td>\n",
       "      <td>NaN</td>\n",
       "      <td>NaN</td>\n",
       "      <td>NaN</td>\n",
       "      <td>NaN</td>\n",
       "      <td>NaN</td>\n",
       "      <td>NaN</td>\n",
       "      <td>NaN</td>\n",
       "      <td>BMG</td>\n",
       "      <td>NaN</td>\n",
       "      <td>M. Mohammadi Rahvard et al, Journal of Non-Cry...</td>\n",
       "    </tr>\n",
       "    <tr>\n",
       "      <th>4</th>\n",
       "      <td>Al20Co25Zr55</td>\n",
       "      <td>Al-based</td>\n",
       "      <td>NaN</td>\n",
       "      <td>2050</td>\n",
       "      <td>NaN</td>\n",
       "      <td>NaN</td>\n",
       "      <td>NaN</td>\n",
       "      <td>2.1</td>\n",
       "      <td>2200</td>\n",
       "      <td>NaN</td>\n",
       "      <td>...</td>\n",
       "      <td>NaN</td>\n",
       "      <td>NaN</td>\n",
       "      <td>NaN</td>\n",
       "      <td>NaN</td>\n",
       "      <td>NaN</td>\n",
       "      <td>NaN</td>\n",
       "      <td>NaN</td>\n",
       "      <td>BMG</td>\n",
       "      <td>NaN</td>\n",
       "      <td>M. Mohammadi Rahvard et al, Journal of Non-Cry...</td>\n",
       "    </tr>\n",
       "  </tbody>\n",
       "</table>\n",
       "<p>5 rows × 40 columns</p>\n",
       "</div>"
      ],
      "text/plain": [
       "      Compositions    Sample                 Conditions  \\\n",
       "0  Zr55Al10Ni5Cu30  Zr-based                        NaN   \n",
       "1  Zr61Ti2Cu25Al12  Zr-based                        NaN   \n",
       "2  Zr56Co24Ag4Al16  Zr-based   (electric charge 100 Ag)   \n",
       "3  Zr56Co24Ag4Al16  Zr-based    (electric charge 90 Ag)   \n",
       "4     Al20Co25Zr55  Al-based                        NaN   \n",
       "\n",
       "  Tensile strength (MPa) Error  Yeild strength, σy (MPa)  Error  \\\n",
       "0                   1840    NaN                      NaN    NaN   \n",
       "1                   1600    NaN                      NaN    NaN   \n",
       "2                   2284     63                      NaN    NaN   \n",
       "3                   2197     48                      NaN    NaN   \n",
       "4                   2050    NaN                      NaN    NaN   \n",
       "\n",
       "  Elongation (%) Compressive fracture strength, σf (MPa)  Error.1  \\\n",
       "0              2                                     NaN      NaN   \n",
       "1            NaN                                    1688      NaN   \n",
       "2            NaN                                     NaN      NaN   \n",
       "3            NaN                                     NaN      NaN   \n",
       "4            2.1                                    2200      NaN   \n",
       "\n",
       "                         ...                         Vd (%)  \\\n",
       "0                        ...                            NaN   \n",
       "1                        ...                            NaN   \n",
       "2                        ...                            NaN   \n",
       "3                        ...                            NaN   \n",
       "4                        ...                            NaN   \n",
       "\n",
       "   Strain hardening rate ρ (g/cm3) Stress Intensity, Kc G/K   θd  \\\n",
       "0                    NaN       NaN                  NaN NaN  NaN   \n",
       "1                    NaN       NaN                  NaN NaN  NaN   \n",
       "2                    NaN       NaN                  NaN NaN  NaN   \n",
       "3                    NaN       NaN                  NaN NaN  NaN   \n",
       "4                    NaN       NaN                  NaN NaN  NaN   \n",
       "\n",
       "   Energy of fracture,Gc Glasses  Diameter, mm  \\\n",
       "0                    NaN     BMG           NaN   \n",
       "1                    NaN     BMG           NaN   \n",
       "2                    NaN     BMG           NaN   \n",
       "3                    NaN     BMG           NaN   \n",
       "4                    NaN     BMG           NaN   \n",
       "\n",
       "                                          Reference2  \n",
       "0   B. Guennec et al, Intermetallics 92 (2018) 72–78  \n",
       "1  Z-Q Song et al, Acta Materialia 99 (2015) 165–175  \n",
       "2  M. Mohammadi Rahvard et al, Journal of Non-Cry...  \n",
       "3  M. Mohammadi Rahvard et al, Journal of Non-Cry...  \n",
       "4  M. Mohammadi Rahvard et al, Journal of Non-Cry...  \n",
       "\n",
       "[5 rows x 40 columns]"
      ]
     },
     "execution_count": 4,
     "metadata": {},
     "output_type": "execute_result"
    }
   ],
   "source": [
    "elastProp_SLAC.head()"
   ]
  },
  {
   "cell_type": "code",
   "execution_count": 5,
   "metadata": {},
   "outputs": [],
   "source": [
    "elastProp_SLAC.rename(index=str, columns={'θd':'theta_d', 'ρ (g/cm3)':'density (g/cm3)', \n",
    "                                          'Yeild strength, σy (MPa)':'Yeild strength (MPa)', \n",
    "                                         'Compressive fracture strength, σf (MPa)': 'Compressive fracture strength (MPa)'},inplace=True)\n",
    "#elastProp_SLAC.columns"
   ]
  },
  {
   "cell_type": "code",
   "execution_count": 6,
   "metadata": {},
   "outputs": [],
   "source": [
    "dfSLAC = elastProp_SLAC"
   ]
  },
  {
   "cell_type": "code",
   "execution_count": 7,
   "metadata": {},
   "outputs": [],
   "source": [
    "def makeComp(x):\n",
    "    '''Apply Composition() constructor to string x\n",
    "       Return: Composition object, or 0 if not parse-able'''\n",
    "    try:\n",
    "        return Composition(x)\n",
    "    except:\n",
    "        print(x)\n",
    "        return 0"
   ]
  },
  {
   "cell_type": "code",
   "execution_count": 8,
   "metadata": {},
   "outputs": [
    {
     "name": "stdout",
     "output_type": "stream",
     "text": [
      "Ti59. 23Zr25.39Nb10.06Cu1.85Sn3.47\n",
      "Mg60Ca30−xTixY10\n",
      "Mg60Li5Cu25−xZnx (Y, Gd)10\n",
      "Mg65−xLixCu25Znx (Y, Gd)10\n",
      "(CaCu)100xMgx\n",
      "(Zr41Ti14Cu12.5Ni10Be22. 5)98Y2\n",
      "La57.6Al17.5(Cu,Ni)24.9\n",
      "La64Al14 (Cu = Ni)22\n",
      "Fused quartz\n",
      "Amorphous carbon\n",
      "Microcrystal glass\n",
      "Breakaway glass\n",
      "Water-white glass\n",
      "Window glass\n",
      "Float glass\n",
      "Ti-glass\n",
      "Borosilicate glass\n",
      "B2O3 glass\n",
      "Glassy sulfur\n",
      "Amorphous Se\n",
      "Fused quartz\n",
      "window glass (SiO2)\n",
      "∥Fe70Mo5Ni5∣P12.5∥C5B2.5∣\n",
      "Toughened glass (SiO2)\n",
      "Amorphous carbon\n",
      "Vit1\n",
      "[(Fe0.8Co0.2)0.75B0.2Si0. 05]96Nb4\n",
      "[(Fe0.8Co0.1Ni0.1)0.75B0.2Si0.05]96Nb4\n",
      "Float glass\n",
      "Ti-glass\n",
      "Window glass\n",
      "Water-white glass\n",
      "Fused quartz\n",
      "Microcrystal glass\n",
      "Borosilicate glass\n",
      "Carbon glass\n",
      "[(Fe0.8Co0.2)0.75B0.2Si0.05]96Nb4\n",
      "Mo52Cr14Fel4P12B8\n",
      "[(Fe0.8Co0.1Ni0.1)0.75B0.2Si0.05]96Nb4\n",
      "[(Fe0.6Ni0.4)0.75B0.2Si0.05]96Nb4\n",
      "Fused silica\n",
      "Window glass\n",
      "Toughened glass\n",
      "[(Fe0.9Co0.1)0.75B0.2Si0.05]96Nb4\n",
      "[(Fe0.8Co0.2)0.75B0.2Si0.05]96Nb4\n",
      "[(Fe0.7Co0.3)0.75B0.2Si0.05]96Nb4\n",
      "[(Fe0.6Co0.4)0.75B0.2Si0.05]96Nb4\n",
      "[(Fe0.5Co0.5)0.75B0.2Si0.05]96Nb4\n",
      "[(Fe0.8Co0.1Ni0.1)0.75B0.2Si0.05]96Nb4\n",
      "[(Fe0.6Co0.1Ni0.3)0.75B0.2Si0.05]96Nb4\n",
      "[(Fe0.6Co0.2Ni0.2)0.75B0.2Si0.05]96Nb4\n",
      "[(Fe0.6Co0.3Ni0.1)0.75B0.2Si0.05]96Nb4\n",
      "[(Co0.535Fe0.1Ta0.055B0.31)0.98Mo0.02]99Si1\n",
      "[(Co0.535Fe0.1Ta0.055B0.31)0.98Mo0.02]98Si2\n",
      "Ti59. 23Zr25.39Nb10.06Cu1.85Sn3.47\n",
      "Sn 99.9%\n",
      "(Zr54Al17C029)100-0Ta0\n",
      "316L SS\n",
      "Ti-6Al-4V\n",
      "Cortical bone\n",
      "Vitreloy 105\n",
      "Zr52:5Cu17:9Ni14:6Al10Ti5\n",
      "[(Fe0.432Co0.288B0.192Si0.048Nb0.04)0.99Cr0.01]99.9Cu0.1\n",
      "[(Fe0.432Co0.288B0.192Si0.048Nb0.04)0.99Cr0.01]99.7Cu0.3\n",
      "[(Fe0.432Co0.288B0.192Si0.048Nb0.04)0.99Cr0.01]99.5Cu0.5\n",
      "[(Fe0.432Co0.288B0.192Si0.048Nb0.04)0.99Cr0.01]99.3Cu0.7\n",
      "[(Fe0.432Co0.288B0.192Si0.048Nb0.04)0.99Cr0.01]98Cu1\n",
      "[(Fe0.5Ni0.5)0.75B0.2Si0.05]96Nb4\n",
      "[(Fe0.8Ni0.2)0.75B0.2Si0.05]96Nb4\n",
      "[(Fe0.5Ni0.5)0.75B0.2Si0.05]96Nb4\n",
      "FC20+0.4 wt.% B\n",
      "[(Fe0.6Co0.3Ni0.1)0.75B0.2Si0.05]95Nb4Zr1\n",
      "(Cu0.6Hf0.25ti0.1)94Ta6\n",
      "(Cu0.6Hf0.25ti0.1)96Nb4\n",
      "La62Al14(Cu5/6Ag1/6)20(Ni1/2Co1/2)4\n",
      "La62Al14(Cu5/6Ag1/6)16(Ni1/2Co1/2)8\n",
      "La62Al14(Cu5/6Ag1/6)14(Ni1/2Co1/2)10\n",
      "La62Al14(Cu5/6Ag1/6)12(Ni1/2Co1/2)12\n",
      "Zr57.4Cu17.9Ni13.4-Al10.3Nb1\n",
      "Zr57.4Cu17.9Ni13.4-Al10.3Nb1\n",
      "Zr57.4Cu17.9Ni13.4-Al10.3Nb1\n",
      "La74Al14(Cu,Ni)12\n",
      "Zr46(Cu4.5/5.5Ag1/5.5)46Al8\n",
      "[Zr41Ti14Cu12.5Ni10Be22.598]Y2\n",
      "[Zr55Al15Ni10Cu20]98Y2\n",
      "[Zr55Al15Ni10Cu20]96Y4\n",
      "La62Al14(Cu5/6Ag1/6)14Ni5Co5\n",
      "Zr46(Cu4.5/5.5Ag1/5.5)46Al8\n",
      "Zr45(Cu4.5/5.5Ag1/5.5)48Al7\n",
      "Zr47(Cu4/5Ag1/5)46Al7\n",
      "Zr47(Cu4.5/5.5Ag1/5.5)46Al7\n",
      "Zr47(Cu5/6Ag1/6)46Al7\n",
      "Zr47(Cu6/7Ag1/7)46Al7\n",
      "Zr45(Cu4/5Ag1/5)48Al7\n",
      "Zr45(Cu4.5/5.5Ag1/5.5)48Al7\n",
      "Zr45(Cu5/6Ag1/6)48Al7\n",
      "Zr43(Cu5/6Ag1/6)50Al7\n",
      "Zr50(Cu4/5Ag1/5)42Al8\n",
      "Zr50(Cu5/6Ag1/6)42Al8\n",
      "Zr48(Cu3/4Ag1/4)44Al8\n",
      "Zr48(Cu4/5Ag1/5)44Al8\n",
      "Zr48(Cu4.5/5.5Ag1/5.5)44Al8\n",
      "Zr48(Cu5/6Ag1/6)44Al8\n",
      "Zr48(Cu6/7Ag1/7)44Al8\n",
      "Zr48(Cu7/8Ag1/8)44Al8\n",
      "Zr46(Cu4/5Ag1/5)46Al8\n",
      "Zr46(Cu4.5/5.5Ag1/5.5)46Al8\n",
      "Zr46(Cu4.5/5.5Ag1/5.5)46Al8ingots\n",
      "Zr46(Cu5/6Ag1/6)46Al8\n",
      "Zr53(Cu5/6Ag1/6)38Al9\n",
      "Zr51(Cu4.5/5.5Ag1/5.5)40Al9\n",
      "Zr49(Cu5/6Ag1/6)42Al9\n",
      "Zr41.2Ti13.8Cu12.5Ni10Be22.5(Vit1)\n",
      "300 M Steel\n",
      "D6AC Steel \n",
      "Ti-6Al-4V \n",
      "2090-T81 Al–Li \n"
     ]
    }
   ],
   "source": [
    "dfSLAC['comp'] = dfSLAC['Compositions'].apply(makeComp)"
   ]
  },
  {
   "cell_type": "markdown",
   "metadata": {},
   "source": [
    "Remove entries where composition was unable to be read"
   ]
  },
  {
   "cell_type": "code",
   "execution_count": 9,
   "metadata": {},
   "outputs": [
    {
     "name": "stdout",
     "output_type": "stream",
     "text": [
      "2057 entries remaining\n"
     ]
    }
   ],
   "source": [
    "dfSLAC = dfSLAC[dfSLAC['comp']!=0]\n",
    "dfSLAC.reset_index(drop=True, inplace=True)\n",
    "print('{} entries remaining'.format(len(dfSLAC)))"
   ]
  },
  {
   "cell_type": "code",
   "execution_count": 10,
   "metadata": {},
   "outputs": [
    {
     "name": "stdout",
     "output_type": "stream",
     "text": [
      "moved 'comp' to first column\n"
     ]
    }
   ],
   "source": [
    "cols = dfSLAC.columns.tolist()\n",
    "dfSLAC = dfSLAC[cols[-1:] + cols[:-1]]\n",
    "print(\"moved 'comp' to first column\")"
   ]
  },
  {
   "cell_type": "code",
   "execution_count": 11,
   "metadata": {},
   "outputs": [
    {
     "data": {
      "text/plain": [
       "2057"
      ]
     },
     "execution_count": 11,
     "metadata": {},
     "output_type": "execute_result"
    }
   ],
   "source": [
    "len(dfSLAC['comp']!=0)"
   ]
  },
  {
   "cell_type": "code",
   "execution_count": 12,
   "metadata": {},
   "outputs": [
    {
     "name": "stderr",
     "output_type": "stream",
     "text": [
      "C:\\Users\\Hikaru\\Anaconda2\\envs\\py36\\lib\\site-packages\\pymatgen\\core\\periodic_table.py:409: UserWarning:\n",
      "\n",
      "No electronegativity for Ar. Setting to NaN. This has no physical meaning, and is mainly done to avoid errors caused by the code expecting a float.\n",
      "\n"
     ]
    },
    {
     "name": "stdout",
     "output_type": "stream",
     "text": [
      "\n",
      "2056 entries remaining\n"
     ]
    }
   ],
   "source": [
    "def redComp(x):\n",
    "    try: \n",
    "        return Composition(x.reduced_formula)\n",
    "    except: \n",
    "        print(x)\n",
    "        return 0\n",
    "    \n",
    "dfSLAC['comp'] = dfSLAC['comp'].apply(redComp)\n",
    "dfSLAC = dfSLAC[dfSLAC['comp']!=0]\n",
    "dfSLAC.reset_index(drop=True, inplace=True)\n",
    "print('{} entries remaining'.format(len(dfSLAC)))"
   ]
  },
  {
   "cell_type": "code",
   "execution_count": 13,
   "metadata": {},
   "outputs": [
    {
     "name": "stderr",
     "output_type": "stream",
     "text": [
      "C:\\Users\\Hikaru\\Anaconda2\\envs\\py36\\lib\\site-packages\\pymatgen\\core\\periodic_table.py:409: UserWarning:\n",
      "\n",
      "No electronegativity for Ar. Setting to NaN. This has no physical meaning, and is mainly done to avoid errors caused by the code expecting a float.\n",
      "\n"
     ]
    }
   ],
   "source": [
    "dfSLAC['compStr'] = dfSLAC['comp'].apply(lambda x: x.reduced_formula)"
   ]
  },
  {
   "cell_type": "code",
   "execution_count": 14,
   "metadata": {},
   "outputs": [
    {
     "data": {
      "text/html": [
       "<div>\n",
       "<style scoped>\n",
       "    .dataframe tbody tr th:only-of-type {\n",
       "        vertical-align: middle;\n",
       "    }\n",
       "\n",
       "    .dataframe tbody tr th {\n",
       "        vertical-align: top;\n",
       "    }\n",
       "\n",
       "    .dataframe thead th {\n",
       "        text-align: right;\n",
       "    }\n",
       "</style>\n",
       "<table border=\"1\" class=\"dataframe\">\n",
       "  <thead>\n",
       "    <tr style=\"text-align: right;\">\n",
       "      <th></th>\n",
       "      <th>comp</th>\n",
       "      <th>Compositions</th>\n",
       "      <th>Sample</th>\n",
       "      <th>Conditions</th>\n",
       "      <th>Tensile strength (MPa)</th>\n",
       "      <th>Error</th>\n",
       "      <th>Yeild strength (MPa)</th>\n",
       "      <th>Error</th>\n",
       "      <th>Elongation (%)</th>\n",
       "      <th>Compressive fracture strength (MPa)</th>\n",
       "      <th>...</th>\n",
       "      <th>Strain hardening rate</th>\n",
       "      <th>density (g/cm3)</th>\n",
       "      <th>Stress Intensity, Kc</th>\n",
       "      <th>G/K</th>\n",
       "      <th>theta_d</th>\n",
       "      <th>Energy of fracture,Gc</th>\n",
       "      <th>Glasses</th>\n",
       "      <th>Diameter, mm</th>\n",
       "      <th>Reference2</th>\n",
       "      <th>compStr</th>\n",
       "    </tr>\n",
       "  </thead>\n",
       "  <tbody>\n",
       "    <tr>\n",
       "      <th>0</th>\n",
       "      <td>(Zr, Al, Cu, Ni)</td>\n",
       "      <td>Zr55Al10Ni5Cu30</td>\n",
       "      <td>Zr-based</td>\n",
       "      <td>NaN</td>\n",
       "      <td>1840</td>\n",
       "      <td>NaN</td>\n",
       "      <td>NaN</td>\n",
       "      <td>NaN</td>\n",
       "      <td>2</td>\n",
       "      <td>NaN</td>\n",
       "      <td>...</td>\n",
       "      <td>NaN</td>\n",
       "      <td>NaN</td>\n",
       "      <td>NaN</td>\n",
       "      <td>NaN</td>\n",
       "      <td>NaN</td>\n",
       "      <td>NaN</td>\n",
       "      <td>BMG</td>\n",
       "      <td>NaN</td>\n",
       "      <td>B. Guennec et al, Intermetallics 92 (2018) 72–78</td>\n",
       "      <td>Zr11Al2Cu6Ni</td>\n",
       "    </tr>\n",
       "    <tr>\n",
       "      <th>1</th>\n",
       "      <td>(Zr, Ti, Al, Cu)</td>\n",
       "      <td>Zr61Ti2Cu25Al12</td>\n",
       "      <td>Zr-based</td>\n",
       "      <td>NaN</td>\n",
       "      <td>1600</td>\n",
       "      <td>NaN</td>\n",
       "      <td>NaN</td>\n",
       "      <td>NaN</td>\n",
       "      <td>NaN</td>\n",
       "      <td>1688</td>\n",
       "      <td>...</td>\n",
       "      <td>NaN</td>\n",
       "      <td>NaN</td>\n",
       "      <td>NaN</td>\n",
       "      <td>NaN</td>\n",
       "      <td>NaN</td>\n",
       "      <td>NaN</td>\n",
       "      <td>BMG</td>\n",
       "      <td>NaN</td>\n",
       "      <td>Z-Q Song et al, Acta Materialia 99 (2015) 165–175</td>\n",
       "      <td>Zr61Ti2Al12Cu25</td>\n",
       "    </tr>\n",
       "    <tr>\n",
       "      <th>2</th>\n",
       "      <td>(Zr, Al, Co, Ag)</td>\n",
       "      <td>Zr56Co24Ag4Al16</td>\n",
       "      <td>Zr-based</td>\n",
       "      <td>(electric charge 100 Ag)</td>\n",
       "      <td>2284</td>\n",
       "      <td>63</td>\n",
       "      <td>NaN</td>\n",
       "      <td>NaN</td>\n",
       "      <td>NaN</td>\n",
       "      <td>NaN</td>\n",
       "      <td>...</td>\n",
       "      <td>NaN</td>\n",
       "      <td>NaN</td>\n",
       "      <td>NaN</td>\n",
       "      <td>NaN</td>\n",
       "      <td>NaN</td>\n",
       "      <td>NaN</td>\n",
       "      <td>BMG</td>\n",
       "      <td>NaN</td>\n",
       "      <td>M. Mohammadi Rahvard et al, Journal of Non-Cry...</td>\n",
       "      <td>Zr14Al4Co6Ag</td>\n",
       "    </tr>\n",
       "    <tr>\n",
       "      <th>3</th>\n",
       "      <td>(Zr, Al, Co, Ag)</td>\n",
       "      <td>Zr56Co24Ag4Al16</td>\n",
       "      <td>Zr-based</td>\n",
       "      <td>(electric charge 90 Ag)</td>\n",
       "      <td>2197</td>\n",
       "      <td>48</td>\n",
       "      <td>NaN</td>\n",
       "      <td>NaN</td>\n",
       "      <td>NaN</td>\n",
       "      <td>NaN</td>\n",
       "      <td>...</td>\n",
       "      <td>NaN</td>\n",
       "      <td>NaN</td>\n",
       "      <td>NaN</td>\n",
       "      <td>NaN</td>\n",
       "      <td>NaN</td>\n",
       "      <td>NaN</td>\n",
       "      <td>BMG</td>\n",
       "      <td>NaN</td>\n",
       "      <td>M. Mohammadi Rahvard et al, Journal of Non-Cry...</td>\n",
       "      <td>Zr14Al4Co6Ag</td>\n",
       "    </tr>\n",
       "    <tr>\n",
       "      <th>4</th>\n",
       "      <td>(Zr, Al, Co)</td>\n",
       "      <td>Al20Co25Zr55</td>\n",
       "      <td>Al-based</td>\n",
       "      <td>NaN</td>\n",
       "      <td>2050</td>\n",
       "      <td>NaN</td>\n",
       "      <td>NaN</td>\n",
       "      <td>NaN</td>\n",
       "      <td>2.1</td>\n",
       "      <td>2200</td>\n",
       "      <td>...</td>\n",
       "      <td>NaN</td>\n",
       "      <td>NaN</td>\n",
       "      <td>NaN</td>\n",
       "      <td>NaN</td>\n",
       "      <td>NaN</td>\n",
       "      <td>NaN</td>\n",
       "      <td>BMG</td>\n",
       "      <td>NaN</td>\n",
       "      <td>M. Mohammadi Rahvard et al, Journal of Non-Cry...</td>\n",
       "      <td>Zr11Al4Co5</td>\n",
       "    </tr>\n",
       "  </tbody>\n",
       "</table>\n",
       "<p>5 rows × 42 columns</p>\n",
       "</div>"
      ],
      "text/plain": [
       "               comp     Compositions    Sample                 Conditions  \\\n",
       "0  (Zr, Al, Cu, Ni)  Zr55Al10Ni5Cu30  Zr-based                        NaN   \n",
       "1  (Zr, Ti, Al, Cu)  Zr61Ti2Cu25Al12  Zr-based                        NaN   \n",
       "2  (Zr, Al, Co, Ag)  Zr56Co24Ag4Al16  Zr-based   (electric charge 100 Ag)   \n",
       "3  (Zr, Al, Co, Ag)  Zr56Co24Ag4Al16  Zr-based    (electric charge 90 Ag)   \n",
       "4      (Zr, Al, Co)     Al20Co25Zr55  Al-based                        NaN   \n",
       "\n",
       "  Tensile strength (MPa) Error  Yeild strength (MPa)  Error Elongation (%)  \\\n",
       "0                   1840    NaN                  NaN    NaN              2   \n",
       "1                   1600    NaN                  NaN    NaN            NaN   \n",
       "2                   2284     63                  NaN    NaN            NaN   \n",
       "3                   2197     48                  NaN    NaN            NaN   \n",
       "4                   2050    NaN                  NaN    NaN            2.1   \n",
       "\n",
       "  Compressive fracture strength (MPa)       ...         Strain hardening rate  \\\n",
       "0                                 NaN       ...                           NaN   \n",
       "1                                1688       ...                           NaN   \n",
       "2                                 NaN       ...                           NaN   \n",
       "3                                 NaN       ...                           NaN   \n",
       "4                                2200       ...                           NaN   \n",
       "\n",
       "  density (g/cm3)  Stress Intensity, Kc G/K theta_d Energy of fracture,Gc  \\\n",
       "0             NaN                   NaN NaN     NaN                   NaN   \n",
       "1             NaN                   NaN NaN     NaN                   NaN   \n",
       "2             NaN                   NaN NaN     NaN                   NaN   \n",
       "3             NaN                   NaN NaN     NaN                   NaN   \n",
       "4             NaN                   NaN NaN     NaN                   NaN   \n",
       "\n",
       "  Glasses  Diameter, mm                                         Reference2  \\\n",
       "0     BMG           NaN   B. Guennec et al, Intermetallics 92 (2018) 72–78   \n",
       "1     BMG           NaN  Z-Q Song et al, Acta Materialia 99 (2015) 165–175   \n",
       "2     BMG           NaN  M. Mohammadi Rahvard et al, Journal of Non-Cry...   \n",
       "3     BMG           NaN  M. Mohammadi Rahvard et al, Journal of Non-Cry...   \n",
       "4     BMG           NaN  M. Mohammadi Rahvard et al, Journal of Non-Cry...   \n",
       "\n",
       "           compStr  \n",
       "0     Zr11Al2Cu6Ni  \n",
       "1  Zr61Ti2Al12Cu25  \n",
       "2     Zr14Al4Co6Ag  \n",
       "3     Zr14Al4Co6Ag  \n",
       "4       Zr11Al4Co5  \n",
       "\n",
       "[5 rows x 42 columns]"
      ]
     },
     "execution_count": 14,
     "metadata": {},
     "output_type": "execute_result"
    }
   ],
   "source": [
    "dfSLAC.head()"
   ]
  },
  {
   "cell_type": "markdown",
   "metadata": {},
   "source": [
    "Import NREL dataset"
   ]
  },
  {
   "cell_type": "code",
   "execution_count": 15,
   "metadata": {},
   "outputs": [
    {
     "data": {
      "text/html": [
       "<div>\n",
       "<style scoped>\n",
       "    .dataframe tbody tr th:only-of-type {\n",
       "        vertical-align: middle;\n",
       "    }\n",
       "\n",
       "    .dataframe tbody tr th {\n",
       "        vertical-align: top;\n",
       "    }\n",
       "\n",
       "    .dataframe thead th {\n",
       "        text-align: right;\n",
       "    }\n",
       "</style>\n",
       "<table border=\"1\" class=\"dataframe\">\n",
       "  <thead>\n",
       "    <tr style=\"text-align: right;\">\n",
       "      <th></th>\n",
       "      <th>Compositions</th>\n",
       "      <th>Youngs_Modulus_GPa</th>\n",
       "      <th>Shear_Modulus_GPa</th>\n",
       "      <th>Bulk_Modulus_GPa</th>\n",
       "      <th>density</th>\n",
       "    </tr>\n",
       "  </thead>\n",
       "  <tbody>\n",
       "    <tr>\n",
       "      <th>0</th>\n",
       "      <td>Se70Ge30</td>\n",
       "      <td>15.7</td>\n",
       "      <td>6.2</td>\n",
       "      <td>11.7</td>\n",
       "      <td>4.277</td>\n",
       "    </tr>\n",
       "    <tr>\n",
       "      <th>1</th>\n",
       "      <td>Zn20Ca20Sr20Yb20Li11Mg9</td>\n",
       "      <td>16.0</td>\n",
       "      <td>6.3</td>\n",
       "      <td>12</td>\n",
       "      <td>3.6</td>\n",
       "    </tr>\n",
       "    <tr>\n",
       "      <th>2</th>\n",
       "      <td>Zn20Ca20Sr20Yb20Li11Mg9</td>\n",
       "      <td>16.0</td>\n",
       "      <td>6.3</td>\n",
       "      <td>None</td>\n",
       "      <td>None</td>\n",
       "    </tr>\n",
       "    <tr>\n",
       "      <th>3</th>\n",
       "      <td>Sr60Li5Mg15Zn20</td>\n",
       "      <td>18.4</td>\n",
       "      <td>7.02</td>\n",
       "      <td>16.1</td>\n",
       "      <td>2.99</td>\n",
       "    </tr>\n",
       "    <tr>\n",
       "      <th>4</th>\n",
       "      <td>Mg81Cu9.3Y4.7Zn5</td>\n",
       "      <td>19.2</td>\n",
       "      <td>None</td>\n",
       "      <td>None</td>\n",
       "      <td>2.47</td>\n",
       "    </tr>\n",
       "  </tbody>\n",
       "</table>\n",
       "</div>"
      ],
      "text/plain": [
       "              Compositions  Youngs_Modulus_GPa Shear_Modulus_GPa  \\\n",
       "0                 Se70Ge30                15.7               6.2   \n",
       "1  Zn20Ca20Sr20Yb20Li11Mg9                16.0               6.3   \n",
       "2  Zn20Ca20Sr20Yb20Li11Mg9                16.0               6.3   \n",
       "3          Sr60Li5Mg15Zn20                18.4              7.02   \n",
       "4         Mg81Cu9.3Y4.7Zn5                19.2              None   \n",
       "\n",
       "  Bulk_Modulus_GPa density  \n",
       "0             11.7   4.277  \n",
       "1               12     3.6  \n",
       "2             None    None  \n",
       "3             16.1    2.99  \n",
       "4             None    2.47  "
      ]
     },
     "execution_count": 15,
     "metadata": {},
     "output_type": "execute_result"
    }
   ],
   "source": [
    "NRELmodulusDataPath= 'C:\\\\Users\\\\Hikaru\\\\Desktop\\\\School\\\\_Stanford\\\\_SLAC\\\\MechPropModels\\\\ryan\\'s code\\\\MG_elastic_properties_package\\\\datasets\\\\SLAC_Modulus_Only_Cleaned_modified_trim.xlsx'\n",
    "elastProp_NREL = pd.read_excel(NRELmodulusDataPath)\n",
    "rawCopy = elastProp_NREL.copy()\n",
    "rawCopy.head()"
   ]
  },
  {
   "cell_type": "code",
   "execution_count": 16,
   "metadata": {},
   "outputs": [
    {
     "name": "stderr",
     "output_type": "stream",
     "text": [
      "C:\\Users\\Hikaru\\Anaconda2\\envs\\py36\\lib\\site-packages\\pymatgen\\core\\periodic_table.py:409: UserWarning:\n",
      "\n",
      "No electronegativity for Ar. Setting to NaN. This has no physical meaning, and is mainly done to avoid errors caused by the code expecting a float.\n",
      "\n"
     ]
    }
   ],
   "source": [
    "elastProp_NREL['comp'] = elastProp_NREL['Compositions'].apply(makeComp)\n",
    "elastProp_NREL['comp'] = elastProp_NREL['comp'].apply(redComp)"
   ]
  },
  {
   "cell_type": "code",
   "execution_count": 17,
   "metadata": {},
   "outputs": [
    {
     "data": {
      "text/plain": [
       "Comp: Ge3 Se7"
      ]
     },
     "execution_count": 17,
     "metadata": {},
     "output_type": "execute_result"
    }
   ],
   "source": [
    "elastProp_NREL['comp'][0]\n",
    "# Compositions have been standardized and reduced"
   ]
  },
  {
   "cell_type": "code",
   "execution_count": 18,
   "metadata": {},
   "outputs": [],
   "source": [
    "# cell about Composition.almost_equal() method experimentation was here\n",
    "# Note that an unreduced chemical formula is not equal in composition"
   ]
  },
  {
   "cell_type": "markdown",
   "metadata": {},
   "source": [
    "# Build individual datasets"
   ]
  },
  {
   "cell_type": "markdown",
   "metadata": {},
   "source": [
    "### Generate, clean feature set"
   ]
  },
  {
   "cell_type": "code",
   "execution_count": 19,
   "metadata": {},
   "outputs": [],
   "source": [
    "base_featurizer = MultipleFeaturizer([cf.Stoichiometry(), cf.ElementProperty.from_preset(\"magpie\"),\n",
    "                                 cf.ValenceOrbital(props=['avg']), cf.IonProperty(fast=True),\n",
    "                                cf.YangSolidSolution(), cf.AtomicPackingEfficiency()])"
   ]
  },
  {
   "cell_type": "markdown",
   "metadata": {},
   "source": [
    "### Young's Modulus dataset \n",
    "Isolate Youngs Modulus, Composition.\n",
    "Build Features"
   ]
  },
  {
   "cell_type": "code",
   "execution_count": 69,
   "metadata": {},
   "outputs": [],
   "source": [
    "# Separate Data into new frame\n",
    "youngsSLAC = pd.DataFrame()\n",
    "youngsSLAC['comp'] = dfSLAC['comp']\n",
    "youngsSLAC['E'] = dfSLAC['Young’s  Modulus, E (GPa)']\n",
    "\n",
    "# Drop missing entries \n",
    "youngsSLAC = youngsSLAC[[(type(x) in (int, float)) for x in youngsSLAC['E']]]\n",
    "youngsSLAC.reset_index(drop=True, inplace=True)\n",
    "youngsSLAC = youngsSLAC[~youngsSLAC['E'].isnull()]\n",
    "youngsSLAC['E'].astype(float)\n",
    "youngsSLAC.reset_index(drop=True, inplace=True)"
   ]
  },
  {
   "cell_type": "code",
   "execution_count": 70,
   "metadata": {},
   "outputs": [],
   "source": [
    "# Separate Data into new frame\n",
    "youngsNREL = pd.DataFrame()\n",
    "youngsNREL['comp'] = elastProp_NREL['comp']\n",
    "youngsNREL['E'] = elastProp_NREL['Youngs_Modulus_GPa']\n",
    "\n",
    "# Drop missing entries\n",
    "youngsNREL = youngsNREL[[(type(x) in (int, float)) for x in youngsNREL['E']]]\n",
    "youngsNREL.reset_index(drop=True, inplace=True)\n",
    "youngsNREL = youngsNREL[~youngsNREL['E'].isnull()]\n",
    "youngsNREL['E'].astype(float)\n",
    "youngsNREL.reset_index(drop=True, inplace=True)"
   ]
  },
  {
   "cell_type": "code",
   "execution_count": 101,
   "metadata": {},
   "outputs": [
    {
     "name": "stderr",
     "output_type": "stream",
     "text": [
      "C:\\Users\\Hikaru\\Anaconda2\\envs\\py36\\lib\\site-packages\\pymatgen\\core\\periodic_table.py:409: UserWarning:\n",
      "\n",
      "No electronegativity for Ar. Setting to NaN. This has no physical meaning, and is mainly done to avoid errors caused by the code expecting a float.\n",
      "\n"
     ]
    },
    {
     "name": "stdout",
     "output_type": "stream",
     "text": [
      "2333 = 1176 + 1157?\n"
     ]
    }
   ],
   "source": [
    "# Join and sort data (SLAC dataset is complete)\n",
    "youngsData = youngsSLAC #.append(youngsNREL, ignore_index=True)\n",
    "youngsData = youngsData.sort_values('comp').reset_index(drop=True)\n",
    "print('{} = {} + {}?'.format(len(youngsData), len(youngsSLAC), len(youngsNREL)))"
   ]
  },
  {
   "cell_type": "code",
   "execution_count": 54,
   "metadata": {},
   "outputs": [
    {
     "name": "stdout",
     "output_type": "stream",
     "text": [
      "Computed 152 features\n",
      "Wall time: 1h 1min 10s\n"
     ]
    }
   ],
   "source": [
    "%%time\n",
    "X_E = base_featurizer.featurize_many(youngsData['comp'], ignore_errors=True)\n",
    "X_E = np.array(X_E)\n",
    "X_E.astype(float)\n",
    "print('Computed {} features'.format(X_E.shape[1]))"
   ]
  },
  {
   "cell_type": "code",
   "execution_count": 108,
   "metadata": {},
   "outputs": [
    {
     "name": "stdout",
     "output_type": "stream",
     "text": [
      "Computed 152 features\n"
     ]
    }
   ],
   "source": [
    "# Create smaller dataset for quick tests\n",
    "youngsDataSmall = youngsData.sample(500).reset_index(drop=True)\n",
    "XEsmall = base_featurizer.featurize_many(youngsDataSmall['comp'], ignore_errors=True)\n",
    "XEsmall = np.array(XEsmall)\n",
    "XEsmall.astype(float)\n",
    "print('Computed {} features'.format(XEsmall.shape[1]))"
   ]
  },
  {
   "cell_type": "code",
   "execution_count": 102,
   "metadata": {},
   "outputs": [
    {
     "name": "stdout",
     "output_type": "stream",
     "text": [
      "Comp: Zr14 Al4 Co7 .... at row: 934\n",
      "Comp: Zr14 Al4 Co7 .... at row: 935\n",
      "Comp: Zr14 Al4 Co7 .... at row: 936\n",
      "Comp: Zr14 Al4 Co7 .... at row: 937\n",
      "Comp: Zr14 Al4 Co7 .... at row: 938\n"
     ]
    }
   ],
   "source": [
    "# some duplicates exist\n",
    "comp = Composition('Zr14Al4Co7')\n",
    "comp2 = Composition('Zr20Al4Co7') \n",
    "for index, row in youngsData[ [x.almost_equals(comp) for x in youngsData['comp']] ].iterrows():\n",
    "    print('Comp: {} .... at row: {}'.format(row['comp'], index))"
   ]
  },
  {
   "cell_type": "code",
   "execution_count": 35,
   "metadata": {},
   "outputs": [
    {
     "name": "stdout",
     "output_type": "stream",
     "text": [
      "(array([ 130,  130,  130, ..., 3140, 3140, 3140], dtype=int64), array([  0,   1,   2, ..., 149, 150, 151], dtype=int64))\n",
      "(array([], dtype=int64), array([], dtype=int64))\n"
     ]
    }
   ],
   "source": [
    "print(np.where(np.isnan(X_E)))\n",
    "featCleanImpute(X_E)\n",
    "print(np.where(np.isnan(X_E)))"
   ]
  },
  {
   "cell_type": "code",
   "execution_count": 56,
   "metadata": {},
   "outputs": [],
   "source": [
    "with gzip.open('./datasets/youngs_features.pkl.gz', 'wb') as fp:\n",
    "    pkl.dump(X_E, fp)\n",
    "with gzip.open('./datasets/youngs_data.pkl.gz', 'wb') as fd:\n",
    "    pkl.dump(youngsData, fd)"
   ]
  },
  {
   "cell_type": "code",
   "execution_count": 109,
   "metadata": {},
   "outputs": [],
   "source": [
    "with gzip.open('./datasets/youngsSmall_features.pkl.gz', 'wb') as fp:\n",
    "    pkl.dump(XEsmall, fp)\n",
    "with gzip.open('./datasets/youngsSmall_data.pkl.gz', 'wb') as fd:\n",
    "    pkl.dump(youngsDataSmall, fd)"
   ]
  },
  {
   "cell_type": "code",
   "execution_count": 122,
   "metadata": {},
   "outputs": [],
   "source": [
    "youngsDataReduced = pd.DataFrame()\n",
    "yDcopy = youngsData.copy()\n",
    "while ~yDcopy.empty:\n",
    "    compTemp = yDcopy['comp'][0]\n",
    "    dupes = yDcopy[ [x.almost_equals(comp) for x in yDcopy['comp']] ]\n",
    "    \n",
    "    \n",
    "    \n",
    "    break\n",
    "    yDcopy.reset_index(drop=True, inplace=True)"
   ]
  },
  {
   "cell_type": "code",
   "execution_count": 123,
   "metadata": {},
   "outputs": [
    {
     "data": {
      "text/html": [
       "<div>\n",
       "<style scoped>\n",
       "    .dataframe tbody tr th:only-of-type {\n",
       "        vertical-align: middle;\n",
       "    }\n",
       "\n",
       "    .dataframe tbody tr th {\n",
       "        vertical-align: top;\n",
       "    }\n",
       "\n",
       "    .dataframe thead th {\n",
       "        text-align: right;\n",
       "    }\n",
       "</style>\n",
       "<table border=\"1\" class=\"dataframe\">\n",
       "  <thead>\n",
       "    <tr style=\"text-align: right;\">\n",
       "      <th></th>\n",
       "      <th>comp</th>\n",
       "      <th>E</th>\n",
       "    </tr>\n",
       "  </thead>\n",
       "  <tbody>\n",
       "    <tr>\n",
       "      <th>934</th>\n",
       "      <td>(Zr, Al, Co)</td>\n",
       "      <td>92</td>\n",
       "    </tr>\n",
       "    <tr>\n",
       "      <th>935</th>\n",
       "      <td>(Zr, Al, Co)</td>\n",
       "      <td>92.4</td>\n",
       "    </tr>\n",
       "    <tr>\n",
       "      <th>936</th>\n",
       "      <td>(Zr, Al, Co)</td>\n",
       "      <td>92.4</td>\n",
       "    </tr>\n",
       "    <tr>\n",
       "      <th>937</th>\n",
       "      <td>(Zr, Al, Co)</td>\n",
       "      <td>109.6</td>\n",
       "    </tr>\n",
       "    <tr>\n",
       "      <th>938</th>\n",
       "      <td>(Zr, Al, Co)</td>\n",
       "      <td>92</td>\n",
       "    </tr>\n",
       "  </tbody>\n",
       "</table>\n",
       "</div>"
      ],
      "text/plain": [
       "             comp      E\n",
       "934  (Zr, Al, Co)     92\n",
       "935  (Zr, Al, Co)   92.4\n",
       "936  (Zr, Al, Co)   92.4\n",
       "937  (Zr, Al, Co)  109.6\n",
       "938  (Zr, Al, Co)     92"
      ]
     },
     "execution_count": 123,
     "metadata": {},
     "output_type": "execute_result"
    }
   ],
   "source": [
    "dupes"
   ]
  },
  {
   "cell_type": "code",
   "execution_count": 23,
   "metadata": {},
   "outputs": [
    {
     "data": {
      "text/plain": [
       "Index(['comp', 'Compositions', 'Sample', 'Conditions',\n",
       "       'Tensile strength (MPa)', 'Error ', 'Yeild strength (MPa)', 'Error',\n",
       "       'Elongation (%)', 'Compressive fracture strength (MPa)', 'Error.1',\n",
       "       'Young’s  Modulus, E (GPa)', 'Error.2', 'Possion’s Ratio',\n",
       "       'Shear modulus, G (GPa)', 'Bulk Modulus, B (GPa)/K', 'Tg', 'Error.3',\n",
       "       'Hardness', 'Error.4', 'hardness (GPa)', 'Error.5',\n",
       "       'Fracture strain , ef%', 'Error.6', 'Fracture toughness (MPa.m1/2)',\n",
       "       'Error.7', 'Fatigue limit (MPa)', 'Fatigue threshold (MPa.m1/2)',\n",
       "       'Plastic Strain, ep %', 'Error.8', 'Fracture elongation', 'Vd (%)',\n",
       "       'Strain hardening rate', 'density (g/cm3)', 'Stress Intensity, Kc',\n",
       "       'G/K', 'theta_d', 'Energy of fracture,Gc', 'Glasses', 'Diameter, mm',\n",
       "       'Reference2', 'compStr'],\n",
       "      dtype='object')"
      ]
     },
     "execution_count": 23,
     "metadata": {},
     "output_type": "execute_result"
    }
   ],
   "source": [
    "dfSLAC.columns"
   ]
  },
  {
   "cell_type": "markdown",
   "metadata": {},
   "source": [
    "### Density Model Dataset\n",
    "Use as benchmark for validity of other models?"
   ]
  },
  {
   "cell_type": "code",
   "execution_count": 25,
   "metadata": {},
   "outputs": [],
   "source": [
    "densitySLAC = pd.DataFrame()\n",
    "densitySLAC['comp'] = dfSLAC['comp']\n",
    "densitySLAC['density'] = dfSLAC['density (g/cm3)']\n",
    "\n",
    "densitySLAC.dropna(inplace=True)\n",
    "densitySLAC.reset_index(drop=True, inplace=True)\n",
    "densitySLAC = densitySLAC[[(type(x) in (int, float)) for x in densitySLAC['density']]]\n",
    "densitySLAC['density'].astype(float)\n",
    "densitySLAC.reset_index(drop=True, inplace=True)"
   ]
  },
  {
   "cell_type": "code",
   "execution_count": 26,
   "metadata": {},
   "outputs": [
    {
     "name": "stdout",
     "output_type": "stream",
     "text": [
      "dropping N/A, non number density values leaves 738 values\n"
     ]
    },
    {
     "data": {
      "text/html": [
       "<div>\n",
       "<style scoped>\n",
       "    .dataframe tbody tr th:only-of-type {\n",
       "        vertical-align: middle;\n",
       "    }\n",
       "\n",
       "    .dataframe tbody tr th {\n",
       "        vertical-align: top;\n",
       "    }\n",
       "\n",
       "    .dataframe thead th {\n",
       "        text-align: right;\n",
       "    }\n",
       "</style>\n",
       "<table border=\"1\" class=\"dataframe\">\n",
       "  <thead>\n",
       "    <tr style=\"text-align: right;\">\n",
       "      <th></th>\n",
       "      <th>comp</th>\n",
       "      <th>density</th>\n",
       "    </tr>\n",
       "  </thead>\n",
       "  <tbody>\n",
       "    <tr>\n",
       "      <th>0</th>\n",
       "      <td>(Ce, Al)</td>\n",
       "      <td>3.462</td>\n",
       "    </tr>\n",
       "    <tr>\n",
       "      <th>1</th>\n",
       "      <td>(Al, Fe, B)</td>\n",
       "      <td>3.539</td>\n",
       "    </tr>\n",
       "    <tr>\n",
       "      <th>2</th>\n",
       "      <td>(Zr, Al, Ni)</td>\n",
       "      <td>3.384</td>\n",
       "    </tr>\n",
       "    <tr>\n",
       "      <th>3</th>\n",
       "      <td>(Zr, Al, Ni)</td>\n",
       "      <td>3.517</td>\n",
       "    </tr>\n",
       "    <tr>\n",
       "      <th>4</th>\n",
       "      <td>(Hf, Al, Ni)</td>\n",
       "      <td>2.835</td>\n",
       "    </tr>\n",
       "  </tbody>\n",
       "</table>\n",
       "</div>"
      ],
      "text/plain": [
       "           comp density\n",
       "0      (Ce, Al)   3.462\n",
       "1   (Al, Fe, B)   3.539\n",
       "2  (Zr, Al, Ni)   3.384\n",
       "3  (Zr, Al, Ni)   3.517\n",
       "4  (Hf, Al, Ni)   2.835"
      ]
     },
     "execution_count": 26,
     "metadata": {},
     "output_type": "execute_result"
    }
   ],
   "source": [
    "print('dropping N/A, non number density values leaves {} values'.format(len(densitySLAC)))\n",
    "densitySLAC.head()"
   ]
  },
  {
   "cell_type": "code",
   "execution_count": 27,
   "metadata": {},
   "outputs": [],
   "source": [
    "densityNREL = pd.DataFrame()\n",
    "densityNREL['comp'] = elastProp_NREL['comp']\n",
    "densityNREL['density'] = elastProp_NREL['density']"
   ]
  },
  {
   "cell_type": "code",
   "execution_count": 28,
   "metadata": {},
   "outputs": [
    {
     "data": {
      "text/html": [
       "<div>\n",
       "<style scoped>\n",
       "    .dataframe tbody tr th:only-of-type {\n",
       "        vertical-align: middle;\n",
       "    }\n",
       "\n",
       "    .dataframe tbody tr th {\n",
       "        vertical-align: top;\n",
       "    }\n",
       "\n",
       "    .dataframe thead th {\n",
       "        text-align: right;\n",
       "    }\n",
       "</style>\n",
       "<table border=\"1\" class=\"dataframe\">\n",
       "  <thead>\n",
       "    <tr style=\"text-align: right;\">\n",
       "      <th></th>\n",
       "      <th>comp</th>\n",
       "      <th>density</th>\n",
       "    </tr>\n",
       "  </thead>\n",
       "  <tbody>\n",
       "    <tr>\n",
       "      <th>0</th>\n",
       "      <td>(Ge, Se)</td>\n",
       "      <td>4.277</td>\n",
       "    </tr>\n",
       "    <tr>\n",
       "      <th>1</th>\n",
       "      <td>(Sr, Li, Ca, Yb, Mg, Zn)</td>\n",
       "      <td>3.6</td>\n",
       "    </tr>\n",
       "    <tr>\n",
       "      <th>2</th>\n",
       "      <td>(Sr, Li, Mg, Zn)</td>\n",
       "      <td>2.99</td>\n",
       "    </tr>\n",
       "    <tr>\n",
       "      <th>3</th>\n",
       "      <td>(Y, Mg, Zn, Cu)</td>\n",
       "      <td>2.47</td>\n",
       "    </tr>\n",
       "    <tr>\n",
       "      <th>4</th>\n",
       "      <td>(Sr, Mg, Zn)</td>\n",
       "      <td>3.04</td>\n",
       "    </tr>\n",
       "  </tbody>\n",
       "</table>\n",
       "</div>"
      ],
      "text/plain": [
       "                       comp density\n",
       "0                  (Ge, Se)   4.277\n",
       "1  (Sr, Li, Ca, Yb, Mg, Zn)     3.6\n",
       "2          (Sr, Li, Mg, Zn)    2.99\n",
       "3           (Y, Mg, Zn, Cu)    2.47\n",
       "4              (Sr, Mg, Zn)    3.04"
      ]
     },
     "execution_count": 28,
     "metadata": {},
     "output_type": "execute_result"
    }
   ],
   "source": [
    "densityNREL.dropna(inplace=True)\n",
    "densityNREL.reset_index(inplace=True)\n",
    "densityNREL = densityNREL[[(type(x) in (int, float)) for x in densityNREL['density']]]\n",
    "densityNREL.reset_index(drop=True, inplace=True)\n",
    "densityNREL['density'].astype(float)\n",
    "densityNREL.head()"
   ]
  },
  {
   "cell_type": "code",
   "execution_count": 29,
   "metadata": {},
   "outputs": [
    {
     "name": "stdout",
     "output_type": "stream",
     "text": [
      "1230 = 738 + 492?\n"
     ]
    }
   ],
   "source": [
    "densityData = densitySLAC.append(densityNREL, ignore_index=True)\n",
    "print('{} = {} + {}?'.format(len(densityData), len(densitySLAC), len(densityNREL)))"
   ]
  },
  {
   "cell_type": "code",
   "execution_count": 30,
   "metadata": {},
   "outputs": [
    {
     "name": "stdout",
     "output_type": "stream",
     "text": [
      "Computed 152 features\n",
      "Wall time: 27min 44s\n"
     ]
    }
   ],
   "source": [
    "%%time\n",
    "X_dens = base_featurizer.featurize_many(densityData['comp'], ignore_errors=True)\n",
    "X_dens = np.array(X_dens)\n",
    "X_dens.astype(float)\n",
    "print('Computed {} features'.format(X_dens.shape[1]))"
   ]
  },
  {
   "cell_type": "code",
   "execution_count": 31,
   "metadata": {},
   "outputs": [
    {
     "name": "stdout",
     "output_type": "stream",
     "text": [
      "(array([  94,   94,   94, ..., 1227, 1227, 1227], dtype=int64), array([  0,   1,   2, ..., 149, 150, 151], dtype=int64))\n",
      "(array([], dtype=int64), array([], dtype=int64))\n"
     ]
    }
   ],
   "source": [
    "print(np.where(np.isnan(X_dens)))\n",
    "featCleanImpute(X_dens)\n",
    "print(np.where(np.isnan(X_dens)))"
   ]
  },
  {
   "cell_type": "code",
   "execution_count": 37,
   "metadata": {},
   "outputs": [],
   "source": [
    "with gzip.open('./datasets/density_features.pkl.gz', 'wb') as fp:\n",
    "    pkl.dump(X_dens, fp)\n",
    "with gzip.open('./datasets/density_data.pkl.gz', 'wb') as fd:\n",
    "    pkl.dump(densityData, fd)"
   ]
  },
  {
   "cell_type": "markdown",
   "metadata": {},
   "source": [
    "-------------------------"
   ]
  },
  {
   "cell_type": "markdown",
   "metadata": {},
   "source": [
    "# Build Model: Density"
   ]
  },
  {
   "cell_type": "markdown",
   "metadata": {},
   "source": [
    "Build model, Impute unknown values"
   ]
  },
  {
   "cell_type": "code",
   "execution_count": 257,
   "metadata": {},
   "outputs": [],
   "source": [
    "density_model = Pipeline([('impute',Imputer()), \n",
    "                          ('model', RandomForestRegressor(n_estimators=100, n_jobs=1, max_features=12))])"
   ]
  },
  {
   "cell_type": "code",
   "execution_count": 258,
   "metadata": {},
   "outputs": [
    {
     "name": "stdout",
     "output_type": "stream",
     "text": [
      "Wall time: 606 ms\n"
     ]
    },
    {
     "data": {
      "text/plain": [
       "Pipeline(memory=None,\n",
       "     steps=[('impute', Imputer(axis=0, copy=True, missing_values='NaN', strategy='mean', verbose=0)), ('model', RandomForestRegressor(bootstrap=True, criterion='mse', max_depth=None,\n",
       "           max_features=12, max_leaf_nodes=None, min_impurity_decrease=0.0,\n",
       "           min_impurity_split=None, min_samples_leaf=1,\n",
       "           min_samples_split=2, min_weight_fraction_leaf=0.0,\n",
       "           n_estimators=100, n_jobs=1, oob_score=False, random_state=None,\n",
       "           verbose=0, warm_start=False))])"
      ]
     },
     "execution_count": 258,
     "metadata": {},
     "output_type": "execute_result"
    }
   ],
   "source": [
    "%%time\n",
    "density_model.fit(X_dens, densitySLAC['density'])"
   ]
  },
  {
   "cell_type": "code",
   "execution_count": 84,
   "metadata": {},
   "outputs": [
    {
     "data": {
      "text/html": [
       "<div>\n",
       "<style scoped>\n",
       "    .dataframe tbody tr th:only-of-type {\n",
       "        vertical-align: middle;\n",
       "    }\n",
       "\n",
       "    .dataframe tbody tr th {\n",
       "        vertical-align: top;\n",
       "    }\n",
       "\n",
       "    .dataframe thead th {\n",
       "        text-align: right;\n",
       "    }\n",
       "</style>\n",
       "<table border=\"1\" class=\"dataframe\">\n",
       "  <thead>\n",
       "    <tr style=\"text-align: right;\">\n",
       "      <th></th>\n",
       "      <th>importance</th>\n",
       "    </tr>\n",
       "  </thead>\n",
       "  <tbody>\n",
       "    <tr>\n",
       "      <th>mode Number</th>\n",
       "      <td>0.064758</td>\n",
       "    </tr>\n",
       "    <tr>\n",
       "      <th>mean NValence</th>\n",
       "      <td>0.056742</td>\n",
       "    </tr>\n",
       "    <tr>\n",
       "      <th>mode AtomicWeight</th>\n",
       "      <td>0.053304</td>\n",
       "    </tr>\n",
       "    <tr>\n",
       "      <th>mode NValence</th>\n",
       "      <td>0.053093</td>\n",
       "    </tr>\n",
       "    <tr>\n",
       "      <th>mean NdValence</th>\n",
       "      <td>0.041724</td>\n",
       "    </tr>\n",
       "  </tbody>\n",
       "</table>\n",
       "</div>"
      ],
      "text/plain": [
       "                   importance\n",
       "mode Number          0.064758\n",
       "mean NValence        0.056742\n",
       "mode AtomicWeight    0.053304\n",
       "mode NValence        0.053093\n",
       "mean NdValence       0.041724"
      ]
     },
     "execution_count": 84,
     "metadata": {},
     "output_type": "execute_result"
    }
   ],
   "source": [
    "featureImp = pd.DataFrame(density_model.steps[1][1].feature_importances_,\n",
    "                          index=dens_featurizer.feature_labels(),\n",
    "                          columns=['importance']).sort_values('importance',ascending=False)\n",
    "featureImp.head()"
   ]
  },
  {
   "cell_type": "markdown",
   "metadata": {},
   "source": [
    "# Assess quality of model?\n",
    "what metric to use?  r2 seems fine"
   ]
  },
  {
   "cell_type": "code",
   "execution_count": 29,
   "metadata": {
    "scrolled": false
   },
   "outputs": [],
   "source": [
    "train_sizes, train_scores, valid_scores = learning_curve(density_model, X_dens, densitySLAC['density'], cv=ShuffleSplit())#,\n",
    "                                                          #scoring=r2_scorer)"
   ]
  },
  {
   "cell_type": "code",
   "execution_count": 31,
   "metadata": {},
   "outputs": [
    {
     "data": {
      "image/png": "[encoded data removed]",
      "text/plain": [
       "<matplotlib.figure.Figure at 0x15186860>"
      ]
     },
     "metadata": {},
     "output_type": "display_data"
    }
   ],
   "source": [
    "plt.figure()\n",
    "plt.title('Learning Curve, RForest: std model, 12 features')\n",
    "plt.xlabel(\"Training examples: density data\")\n",
    "plt.ylabel(\"default scoring method?\")\n",
    "train_scores_mean = np.mean(train_scores, axis=1)\n",
    "train_scores_std = np.std(train_scores, axis=1)\n",
    "test_scores_mean = np.mean(valid_scores, axis=1)\n",
    "test_scores_std = np.std(valid_scores, axis=1)\n",
    "plt.grid()\n",
    "\n",
    "plt.fill_between(train_sizes, train_scores_mean - train_scores_std,\n",
    "                 train_scores_mean + train_scores_std, alpha=0.1,\n",
    "                 color=\"r\")\n",
    "plt.fill_between(train_sizes, test_scores_mean - test_scores_std,\n",
    "                 test_scores_mean + test_scores_std, alpha=0.1, color=\"g\")\n",
    "plt.plot(train_sizes, train_scores_mean, 'o-', color=\"r\",\n",
    "         label=\"Training score\")\n",
    "plt.plot(train_sizes, test_scores_mean, 'o-', color=\"g\",\n",
    "         label=\"Cross-validation score\")\n",
    "\n",
    "plt.legend(loc=\"best\")\n",
    "plt.show()"
   ]
  },
  {
   "cell_type": "code",
   "execution_count": 32,
   "metadata": {
    "scrolled": false
   },
   "outputs": [],
   "source": [
    "r2_scorer = make_scorer(r2_score)\n",
    "train_sizes, train_scores, valid_scores = learning_curve(density_model, X_dens, densitySLAC['density'], cv=ShuffleSplit(),\n",
    "                                                          scoring=r2_scorer)"
   ]
  },
  {
   "cell_type": "code",
   "execution_count": 33,
   "metadata": {},
   "outputs": [
    {
     "data": {
      "image/png": "[encoded data removed]",
      "text/plain": [
       "<matplotlib.figure.Figure at 0x1514eb38>"
      ]
     },
     "metadata": {},
     "output_type": "display_data"
    }
   ],
   "source": [
    "plt.figure()\n",
    "plt.title('Learning Curve, RForest: std features, max 12 features')\n",
    "plt.xlabel(\"Training examples: density data\")\n",
    "plt.ylabel(\"$r^2$\")\n",
    "train_scores_mean = np.mean(train_scores, axis=1)\n",
    "train_scores_std = np.std(train_scores, axis=1)\n",
    "test_scores_mean = np.mean(valid_scores, axis=1)\n",
    "test_scores_std = np.std(valid_scores, axis=1)\n",
    "plt.grid()\n",
    "\n",
    "plt.fill_between(train_sizes, train_scores_mean - train_scores_std,\n",
    "                 train_scores_mean + train_scores_std, alpha=0.1,\n",
    "                 color=\"r\")\n",
    "plt.fill_between(train_sizes, test_scores_mean - test_scores_std,\n",
    "                 test_scores_mean + test_scores_std, alpha=0.1, color=\"g\")\n",
    "plt.plot(train_sizes, train_scores_mean, 'o-', color=\"r\",\n",
    "         label=\"Training score\")\n",
    "plt.plot(train_sizes, test_scores_mean, 'o-', color=\"g\",\n",
    "         label=\"Cross-validation score\")\n",
    "\n",
    "plt.legend(loc=\"best\")\n",
    "plt.show()"
   ]
  },
  {
   "cell_type": "markdown",
   "metadata": {},
   "source": [
    "Plot predicted vs actual scatter plot"
   ]
  },
  {
   "cell_type": "code",
   "execution_count": 61,
   "metadata": {},
   "outputs": [
    {
     "name": "stdout",
     "output_type": "stream",
     "text": [
      "Split #0\n",
      "Split #1\n",
      "Split #2\n",
      "Split #3\n",
      "Split #4\n"
     ]
    }
   ],
   "source": [
    "#take predicted values from each cross validation set to ensure training not performed on own set.  Take 200 training samples\n",
    "# Probably could have used cross_val_predict\n",
    "kf = KFold(5)\n",
    "rep=0\n",
    "densitySLAC['density_predict'] = np.nan\n",
    "for train_index, test_index in kf.split(densitySLAC['comp']):\n",
    "    print('Split #{}'.format(rep))\n",
    "    density_model.fit(X_dens[train_index,:], densitySLAC['density'][train_index])\n",
    "    \n",
    "    y_densPredict = density_model.predict(X_dens[test_index,:])\n",
    "    densitySLAC['density_predict'][test_index] = y_densPredict\n",
    "    \n",
    "    #print(train_index, test_index)\n",
    "    rep+=1\n",
    "#y_densPredict = "
   ]
  },
  {
   "cell_type": "code",
   "execution_count": 73,
   "metadata": {},
   "outputs": [
    {
     "data": {
      "text/plain": [
       "(0, 25)"
      ]
     },
     "execution_count": 73,
     "metadata": {},
     "output_type": "execute_result"
    },
    {
     "data": {
      "image/png": "[encoded data removed]",
      "text/plain": [
       "<matplotlib.figure.Figure at 0x15ce1b38>"
      ]
     },
     "metadata": {},
     "output_type": "display_data"
    }
   ],
   "source": [
    "plt.figure(figsize=(5,5))\n",
    "plt.scatter(densitySLAC['density'], densitySLAC['density_predict'], edgecolors='k')\n",
    "plt.plot([0,30], [0,30], 'r-')\n",
    "plt.xlabel('density [g/cm$^3$]')\n",
    "plt.ylabel('predicted density')\n",
    "\n",
    "plt.xlim([0,25])\n",
    "plt.ylim([0,25])\n"
   ]
  },
  {
   "cell_type": "markdown",
   "metadata": {},
   "source": [
    "# Build Model: Modulus"
   ]
  },
  {
   "cell_type": "code",
   "execution_count": 85,
   "metadata": {},
   "outputs": [],
   "source": [
    "elasticSLAC = pd.DataFrame()\n",
    "elasticSLAC['comp'] = dfSLAC['comp']\n",
    "elasticSLAC['E'] = dfSLAC['Young’s  Modulus, E (GPa)']"
   ]
  },
  {
   "cell_type": "code",
   "execution_count": 91,
   "metadata": {},
   "outputs": [],
   "source": [
    "elastic_model = Pipeline([('impute',Imputer()), ('model', RandomForestRegressor(n_estimators=100, n_jobs=1, max_features=12))])"
   ]
  },
  {
   "cell_type": "code",
   "execution_count": 92,
   "metadata": {},
   "outputs": [
    {
     "ename": "ValueError",
     "evalue": "could not convert string to float: '–'",
     "output_type": "error",
     "traceback": [
      "\u001b[1;31m---------------------------------------------------------------------------\u001b[0m",
      "\u001b[1;31mValueError\u001b[0m                                Traceback (most recent call last)",
      "\u001b[1;32m<timed eval>\u001b[0m in \u001b[0;36m<module>\u001b[1;34m()\u001b[0m\n",
      "\u001b[1;32m~\\Anaconda2\\envs\\py36\\lib\\site-packages\\sklearn\\pipeline.py\u001b[0m in \u001b[0;36mfit\u001b[1;34m(self, X, y, **fit_params)\u001b[0m\n\u001b[0;32m    248\u001b[0m         \u001b[0mXt\u001b[0m\u001b[1;33m,\u001b[0m \u001b[0mfit_params\u001b[0m \u001b[1;33m=\u001b[0m \u001b[0mself\u001b[0m\u001b[1;33m.\u001b[0m\u001b[0m_fit\u001b[0m\u001b[1;33m(\u001b[0m\u001b[0mX\u001b[0m\u001b[1;33m,\u001b[0m \u001b[0my\u001b[0m\u001b[1;33m,\u001b[0m \u001b[1;33m**\u001b[0m\u001b[0mfit_params\u001b[0m\u001b[1;33m)\u001b[0m\u001b[1;33m\u001b[0m\u001b[0m\n\u001b[0;32m    249\u001b[0m         \u001b[1;32mif\u001b[0m \u001b[0mself\u001b[0m\u001b[1;33m.\u001b[0m\u001b[0m_final_estimator\u001b[0m \u001b[1;32mis\u001b[0m \u001b[1;32mnot\u001b[0m \u001b[1;32mNone\u001b[0m\u001b[1;33m:\u001b[0m\u001b[1;33m\u001b[0m\u001b[0m\n\u001b[1;32m--> 250\u001b[1;33m             \u001b[0mself\u001b[0m\u001b[1;33m.\u001b[0m\u001b[0m_final_estimator\u001b[0m\u001b[1;33m.\u001b[0m\u001b[0mfit\u001b[0m\u001b[1;33m(\u001b[0m\u001b[0mXt\u001b[0m\u001b[1;33m,\u001b[0m \u001b[0my\u001b[0m\u001b[1;33m,\u001b[0m \u001b[1;33m**\u001b[0m\u001b[0mfit_params\u001b[0m\u001b[1;33m)\u001b[0m\u001b[1;33m\u001b[0m\u001b[0m\n\u001b[0m\u001b[0;32m    251\u001b[0m         \u001b[1;32mreturn\u001b[0m \u001b[0mself\u001b[0m\u001b[1;33m\u001b[0m\u001b[0m\n\u001b[0;32m    252\u001b[0m \u001b[1;33m\u001b[0m\u001b[0m\n",
      "\u001b[1;32m~\\Anaconda2\\envs\\py36\\lib\\site-packages\\sklearn\\ensemble\\forest.py\u001b[0m in \u001b[0;36mfit\u001b[1;34m(self, X, y, sample_weight)\u001b[0m\n\u001b[0;32m    274\u001b[0m \u001b[1;33m\u001b[0m\u001b[0m\n\u001b[0;32m    275\u001b[0m         \u001b[1;32mif\u001b[0m \u001b[0mgetattr\u001b[0m\u001b[1;33m(\u001b[0m\u001b[0my\u001b[0m\u001b[1;33m,\u001b[0m \u001b[1;34m\"dtype\"\u001b[0m\u001b[1;33m,\u001b[0m \u001b[1;32mNone\u001b[0m\u001b[1;33m)\u001b[0m \u001b[1;33m!=\u001b[0m \u001b[0mDOUBLE\u001b[0m \u001b[1;32mor\u001b[0m \u001b[1;32mnot\u001b[0m \u001b[0my\u001b[0m\u001b[1;33m.\u001b[0m\u001b[0mflags\u001b[0m\u001b[1;33m.\u001b[0m\u001b[0mcontiguous\u001b[0m\u001b[1;33m:\u001b[0m\u001b[1;33m\u001b[0m\u001b[0m\n\u001b[1;32m--> 276\u001b[1;33m             \u001b[0my\u001b[0m \u001b[1;33m=\u001b[0m \u001b[0mnp\u001b[0m\u001b[1;33m.\u001b[0m\u001b[0mascontiguousarray\u001b[0m\u001b[1;33m(\u001b[0m\u001b[0my\u001b[0m\u001b[1;33m,\u001b[0m \u001b[0mdtype\u001b[0m\u001b[1;33m=\u001b[0m\u001b[0mDOUBLE\u001b[0m\u001b[1;33m)\u001b[0m\u001b[1;33m\u001b[0m\u001b[0m\n\u001b[0m\u001b[0;32m    277\u001b[0m \u001b[1;33m\u001b[0m\u001b[0m\n\u001b[0;32m    278\u001b[0m         \u001b[1;32mif\u001b[0m \u001b[0mexpanded_class_weight\u001b[0m \u001b[1;32mis\u001b[0m \u001b[1;32mnot\u001b[0m \u001b[1;32mNone\u001b[0m\u001b[1;33m:\u001b[0m\u001b[1;33m\u001b[0m\u001b[0m\n",
      "\u001b[1;32m~\\Anaconda2\\envs\\py36\\lib\\site-packages\\numpy\\core\\numeric.py\u001b[0m in \u001b[0;36mascontiguousarray\u001b[1;34m(a, dtype)\u001b[0m\n\u001b[0;32m    579\u001b[0m \u001b[1;33m\u001b[0m\u001b[0m\n\u001b[0;32m    580\u001b[0m     \"\"\"\n\u001b[1;32m--> 581\u001b[1;33m     \u001b[1;32mreturn\u001b[0m \u001b[0marray\u001b[0m\u001b[1;33m(\u001b[0m\u001b[0ma\u001b[0m\u001b[1;33m,\u001b[0m \u001b[0mdtype\u001b[0m\u001b[1;33m,\u001b[0m \u001b[0mcopy\u001b[0m\u001b[1;33m=\u001b[0m\u001b[1;32mFalse\u001b[0m\u001b[1;33m,\u001b[0m \u001b[0morder\u001b[0m\u001b[1;33m=\u001b[0m\u001b[1;34m'C'\u001b[0m\u001b[1;33m,\u001b[0m \u001b[0mndmin\u001b[0m\u001b[1;33m=\u001b[0m\u001b[1;36m1\u001b[0m\u001b[1;33m)\u001b[0m\u001b[1;33m\u001b[0m\u001b[0m\n\u001b[0m\u001b[0;32m    582\u001b[0m \u001b[1;33m\u001b[0m\u001b[0m\n\u001b[0;32m    583\u001b[0m \u001b[1;33m\u001b[0m\u001b[0m\n",
      "\u001b[1;31mValueError\u001b[0m: could not convert string to float: '–'"
     ]
    }
   ],
   "source": [
    "%%time\n",
    "elastic_model.fit(X_dens, elasticSLAC['E'])"
   ]
  },
  {
   "cell_type": "code",
   "execution_count": 107,
   "metadata": {},
   "outputs": [
    {
     "data": {
      "text/plain": [
       "565"
      ]
     },
     "execution_count": 107,
     "metadata": {},
     "output_type": "execute_result"
    }
   ],
   "source": [
    "sum(elasticSLAC['E'].apply(lambda x: str(x).isnumeric()))"
   ]
  },
  {
   "cell_type": "code",
   "execution_count": null,
   "metadata": {},
   "outputs": [],
   "source": []
  }
 ],
 "metadata": {
  "kernelspec": {
   "display_name": "Python 3",
   "language": "python",
   "name": "python3"
  },
  "language_info": {
   "codemirror_mode": {
    "name": "ipython",
    "version": 3
   },
   "file_extension": ".py",
   "mimetype": "text/x-python",
   "name": "python",
   "nbconvert_exporter": "python",
   "pygments_lexer": "ipython3",
   "version": "3.6.3"
  }
 },
 "nbformat": 4,
 "nbformat_minor": 2
}
