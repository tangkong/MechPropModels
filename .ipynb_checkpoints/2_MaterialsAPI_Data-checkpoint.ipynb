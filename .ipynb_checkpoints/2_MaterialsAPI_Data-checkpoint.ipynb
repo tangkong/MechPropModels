{
 "cells": [
  {
   "cell_type": "code",
   "execution_count": 38,
   "metadata": {},
   "outputs": [],
   "source": [
    "import numpy as np\n",
    "import os\n",
    "import pandas as pd\n",
    "import gzip\n",
    "import pickle as pkl\n",
    "\n",
    "from pymatgen import MPRester \n",
    "    # Look to gist.github or pymatgen docs for examples\n",
    "from pymatgen import Composition\n",
    "import json"
   ]
  },
  {
   "cell_type": "markdown",
   "metadata": {},
   "source": [
    "# Obtain data from MAPI via RESTurl"
   ]
  },
  {
   "cell_type": "code",
   "execution_count": 2,
   "metadata": {},
   "outputs": [],
   "source": [
    "# Keep private, scrub when publishing\n",
    "APIkey = 'x1tVaUozdiZW6cK7'"
   ]
  },
  {
   "cell_type": "code",
   "execution_count": 3,
   "metadata": {},
   "outputs": [],
   "source": [
    "mpr = MPRester(api_key=APIkey)"
   ]
  },
  {
   "cell_type": "code",
   "execution_count": 23,
   "metadata": {},
   "outputs": [],
   "source": [
    "data = mpr.get_data('ZrAlNi',prop='density')\n",
    "data1 = mpr.get_data('ZrAlNi')"
   ]
  },
  {
   "cell_type": "code",
   "execution_count": 69,
   "metadata": {},
   "outputs": [
    {
     "data": {
      "text/plain": [
       "[{'density': 6.0990192647020605,\n",
       "  'material_id': 'mp-1025457',\n",
       "  'pretty_formula': 'HfAl5Ni2'},\n",
       " {'density': 9.372035219242056,\n",
       "  'material_id': 'mp-1078767',\n",
       "  'pretty_formula': 'HfAlNi'},\n",
       " {'density': 9.530657163365866,\n",
       "  'material_id': 'mp-5748',\n",
       "  'pretty_formula': 'HfAlNi2'}]"
      ]
     },
     "execution_count": 69,
     "metadata": {},
     "output_type": "execute_result"
    }
   ],
   "source": [
    "mpr.query({'elements':{'$all':['Hf','Al','Ni']}}, properties=['material_id', 'density', 'pretty_formula'])"
   ]
  },
  {
   "cell_type": "code",
   "execution_count": 36,
   "metadata": {},
   "outputs": [
    {
     "data": {
      "text/plain": [
       "\"# generated using pymatgen\\ndata_ZrAlNi\\n_symmetry_space_group_name_H-M   'P 1'\\n_cell_length_a   3.50853034\\n_cell_length_b   6.90772970\\n_cell_length_c   6.90716467\\n_cell_angle_alpha   120.00270371\\n_cell_angle_beta   90.00000000\\n_cell_angle_gamma   90.00000000\\n_symmetry_Int_Tables_number   1\\n_chemical_formula_structural   ZrAlNi\\n_chemical_formula_sum   'Zr3 Al3 Ni3'\\n_cell_volume   144.97034775\\n_cell_formula_units_Z   3\\nloop_\\n _symmetry_equiv_pos_site_id\\n _symmetry_equiv_pos_as_xyz\\n  1  'x, y, z'\\nloop_\\n _atom_site_type_symbol\\n _atom_site_label\\n _atom_site_symmetry_multiplicity\\n _atom_site_fract_x\\n _atom_site_fract_y\\n _atom_site_fract_z\\n _atom_site_occupancy\\n  Zr  Zr1  1  0.500000  0.592952  1.000000  1\\n  Zr  Zr2  1  0.500000  0.407024  0.407037  1\\n  Zr  Zr3  1  0.500000  0.999988  0.592963  1\\n  Al  Al4  1  0.000000  0.249448  0.000000  1\\n  Al  Al5  1  -0.000000  0.750544  0.750578  1\\n  Al  Al6  1  -0.000000  0.999967  0.249422  1\\n  Ni  Ni7  1  0.500000  0.000001  0.000000  1\\n  Ni  Ni8  1  0.000000  0.333340  0.666703  1\\n  Ni  Ni9  1  -0.000000  0.666636  0.333297  1\\n\""
      ]
     },
     "execution_count": 36,
     "metadata": {},
     "output_type": "execute_result"
    }
   ],
   "source": [
    "data1[0]['cif']"
   ]
  },
  {
   "cell_type": "markdown",
   "metadata": {},
   "source": [
    "# Try getting density from MAPI"
   ]
  },
  {
   "cell_type": "code",
   "execution_count": 39,
   "metadata": {},
   "outputs": [],
   "source": [
    "with gzip.open('./datasets/density_data.pkl.gz', 'rb') as fd:\n",
    "    densityData = pkl.load(fd)"
   ]
  },
  {
   "cell_type": "code",
   "execution_count": 82,
   "metadata": {},
   "outputs": [
    {
     "name": "stdout",
     "output_type": "stream",
     "text": [
      "Ce1Al9\n",
      "--- entry not found: Ce1Al9\n",
      "Al3Fe1B1\n",
      "--- entry not found: Al3Fe1B1\n",
      "Zr1Al17Ni2\n",
      "--- entry not found: Zr1Al17Ni2\n",
      "Zr5Al82Ni13\n",
      "--- entry not found: Zr5Al82Ni13\n",
      "Hf1Al17Ni2\n",
      "--- entry not found: Hf1Al17Ni2\n",
      "Nb1Al17Ni2\n",
      "--- entry not found: Nb1Al17Ni2\n",
      "Y10Al87Ni3\n",
      "--- entry not found: Y10Al87Ni3\n",
      "Y2Al17Ni1\n",
      "--- entry not found: Y2Al17Ni1\n",
      "La3Al42Ni5\n",
      "--- entry not found: La3Al42Ni5\n",
      "La5Al86Ni9\n",
      "--- entry not found: La5Al86Ni9\n",
      "La1Al17Ni2\n",
      "--- entry not found: La1Al17Ni2\n",
      "Ce1Al17Ni2\n",
      "--- entry not found: Ce1Al17Ni2\n",
      "Ce3Al42Ni5\n",
      "--- entry not found: Ce3Al42Ni5\n",
      "Ce5.33Al84Ni10.67\n"
     ]
    },
    {
     "ename": "MPRestError",
     "evalue": "REST query returned with error status code 404. Content: b'\\n\\n<!DOCTYPE html>\\n<html>\\n<head>\\n  <title> Materials Project :: 404 </title>\\n  <meta http-equiv=\"Content-Type\" content=\"text/html; charset=utf-8\" /><script type=\"text/javascript\">window.NREUM||(NREUM={}),__nr_require=function(e,n,t){function r(t){if(!n[t]){var o=n[t]={exports:{}};e[t][0].call(o.exports,function(n){var o=e[t][1][n];return r(o||n)},o,o.exports)}return n[t].exports}if(\"function\"==typeof __nr_require)return __nr_require;for(var o=0;o<t.length;o++)r(t[o]);return r}({1:[function(e,n,t){function r(){}function o(e,n,t){return function(){return i(e,[c.now()].concat(u(arguments)),n?null:this,t),n?void 0:this}}var i=e(\"handle\"),a=e(3),u=e(4),f=e(\"ee\").get(\"tracer\"),c=e(\"loader\"),s=NREUM;\"undefined\"==typeof window.newrelic&&(newrelic=s);var p=[\"setPageViewName\",\"setCustomAttribute\",\"setErrorHandler\",\"finished\",\"addToTrace\",\"inlineHit\",\"addRelease\"],d=\"api-\",l=d+\"ixn-\";a(p,function(e,n){s[n]=o(d+n,!0,\"api\")}),s.addPageAction=o(d+\"addPageAction\",!0),s.setCurrentRouteName=o(d+\"routeName\",!0),n.exports=newrelic,s.interaction=function(){return(new r).get()};var m=r.prototype={createTracer:function(e,n){var t={},r=this,o=\"function\"==typeof n;return i(l+\"tracer\",[c.now(),e,t],r),function(){if(f.emit((o?\"\":\"no-\")+\"fn-start\",[c.now(),r,o],t),o)try{return n.apply(this,arguments)}catch(e){throw f.emit(\"fn-err\",[arguments,this,e],t),e}finally{f.emit(\"fn-end\",[c.now()],t)}}}};a(\"actionText,setName,setAttribute,save,ignore,onEnd,getContext,end,get\".split(\",\"),function(e,n){m[n]=o(l+n)}),newrelic.noticeError=function(e){\"string\"==typeof e&&(e=new Error(e)),i(\"err\",[e,c.now()])}},{}],2:[function(e,n,t){function r(e,n){if(!o)return!1;if(e!==o)return!1;if(!n)return!0;if(!i)return!1;for(var t=i.split(\".\"),r=n.split(\".\"),a=0;a<r.length;a++)if(r[a]!==t[a])return!1;return!0}var o=null,i=null,a=/Version\\\\/(\\\\S+)\\\\s+Safari/;if(navigator.userAgent){var u=navigator.userAgent,f=u.match(a);f&&u.indexOf(\"Chrome\")===-1&&u.indexOf(\"Chromium\")===-1&&(o=\"Safari\",i=f[1])}n.exports={agent:o,version:i,match:r}},{}],3:[function(e,n,t){function r(e,n){var t=[],r=\"\",i=0;for(r in e)o.call(e,r)&&(t[i]=n(r,e[r]),i+=1);return t}var o=Object.prototype.hasOwnProperty;n.exports=r},{}],4:[function(e,n,t){function r(e,n,t){n||(n=0),\"undefined\"==typeof t&&(t=e?e.length:0);for(var r=-1,o=t-n||0,i=Array(o<0?0:o);++r<o;)i[r]=e[n+r];return i}n.exports=r},{}],5:[function(e,n,t){n.exports={exists:\"undefined\"!=typeof window.performance&&window.performance.timing&&\"undefined\"!=typeof window.performance.timing.navigationStart}},{}],ee:[function(e,n,t){function r(){}function o(e){function n(e){return e&&e instanceof r?e:e?f(e,u,i):i()}function t(t,r,o,i){if(!d.aborted||i){e&&e(t,r,o);for(var a=n(o),u=v(t),f=u.length,c=0;c<f;c++)u[c].apply(a,r);var p=s[y[t]];return p&&p.push([b,t,r,a]),a}}function l(e,n){h[e]=v(e).concat(n)}function m(e,n){var t=h[e];if(t)for(var r=0;r<t.length;r++)t[r]===n&&t.splice(r,1)}function v(e){return h[e]||[]}function g(e){return p[e]=p[e]||o(t)}function w(e,n){c(e,function(e,t){n=n||\"feature\",y[t]=n,n in s||(s[n]=[])})}var h={},y={},b={on:l,addEventListener:l,removeEventListener:m,emit:t,get:g,listeners:v,context:n,buffer:w,abort:a,aborted:!1};return b}function i(){return new r}function a(){(s.api||s.feature)&&(d.aborted=!0,s=d.backlog={})}var u=\"nr@context\",f=e(\"gos\"),c=e(3),s={},p={},d=n.exports=o();d.backlog=s},{}],gos:[function(e,n,t){function r(e,n,t){if(o.call(e,n))return e[n];var r=t();if(Object.defineProperty&&Object.keys)try{return Object.defineProperty(e,n,{value:r,writable:!0,enumerable:!1}),r}catch(i){}return e[n]=r,r}var o=Object.prototype.hasOwnProperty;n.exports=r},{}],handle:[function(e,n,t){function r(e,n,t,r){o.buffer([e],r),o.emit(e,n,t)}var o=e(\"ee\").get(\"handle\");n.exports=r,r.ee=o},{}],id:[function(e,n,t){function r(e){var n=typeof e;return!e||\"object\"!==n&&\"function\"!==n?-1:e===window?0:a(e,i,function(){return o++})}var o=1,i=\"nr@id\",a=e(\"gos\");n.exports=r},{}],loader:[function(e,n,t){function r(){if(!E++){var e=x.info=NREUM.info,n=l.getElementsByTagName(\"script\")[0];if(setTimeout(s.abort,3e4),!(e&&e.licenseKey&&e.applicationID&&n))return s.abort();c(y,function(n,t){e[n]||(e[n]=t)}),f(\"mark\",[\"onload\",a()+x.offset],null,\"api\");var t=l.createElement(\"script\");t.src=\"https://\"+e.agent,n.parentNode.insertBefore(t,n)}}function o(){\"complete\"===l.readyState&&i()}function i(){f(\"mark\",[\"domContent\",a()+x.offset],null,\"api\")}function a(){return O.exists&&performance.now?Math.round(performance.now()):(u=Math.max((new Date).getTime(),u))-x.offset}var u=(new Date).getTime(),f=e(\"handle\"),c=e(3),s=e(\"ee\"),p=e(2),d=window,l=d.document,m=\"addEventListener\",v=\"attachEvent\",g=d.XMLHttpRequest,w=g&&g.prototype;NREUM.o={ST:setTimeout,SI:d.setImmediate,CT:clearTimeout,XHR:g,REQ:d.Request,EV:d.Event,PR:d.Promise,MO:d.MutationObserver};var h=\"\"+location,y={beacon:\"bam.nr-data.net\",errorBeacon:\"bam.nr-data.net\",agent:\"js-agent.newrelic.com/nr-1099.min.js\"},b=g&&w&&w[m]&&!/CriOS/.test(navigator.userAgent),x=n.exports={offset:u,now:a,origin:h,features:{},xhrWrappable:b,userAgent:p};e(1),l[m]?(l[m](\"DOMContentLoaded\",i,!1),d[m](\"load\",r,!1)):(l[v](\"onreadystatechange\",o),d[v](\"onload\",r)),f(\"mark\",[\"firstbyte\",u],null,\"api\");var E=0,O=e(5)},{}]},{},[\"loader\"]);</script><script type=\"text/javascript\">window.NREUM||(NREUM={});NREUM.info={\"beacon\":\"bam.nr-data.net\",\"errorBeacon\":\"bam.nr-data.net\",\"licenseKey\":\"488418a6fe\",\"applicationID\":\"176556248\",\"transactionName\":\"MlYDZxNRXUBVB0xRXQscJ0YPU0daWwoXTUYMXxIdDFlXV1gBT1lAAAkzVgZZQEdGBUxRXQt+CFcFXFZEVRZdFkIXXAJWEkNsQVEVTV1BEQ==\",\"queueTime\":1,\"applicationTime\":109,\"agent\":\"\"}</script>\\n\\n  <!--    <meta name=\"viewport\" content=\"user-scalable = no\">\\n     -->\\n  <!-- <meta name=\"viewport\" content=\"width=device-width, initial-scale=1\"> -->\\n  <meta name=\"keywords\" content=\"Materials Design, Materials Database, Materials Information, Materials Tools\" />\\n  <meta name=\"description\" content=\"The Materials Project\\'s mission is to accelerate the the discovery of new technological materials through advanced scientific computing and innovative design tools.\" />\\n  <link rel=\"search\"\\n      type=\"application/opensearchdescription+xml\"\\n      title=\"Search Materials Project\"\\n      href=\\'/static/opensearch.25669ffdaab0.xml\\'>\\n  <link rel=\"shortcut icon\" href=\\'/static/images/favicon.00f51d402f3d.png\\' />\\n  <link rel=\"stylesheet\" href=\\'/static/stylesheets/less/compiled/nucleus.5db1710fde48.css\\' charset=\"utf-8\">\\n  <link rel=\"stylesheet\" href=\\'/static/stylesheets/less/compiled/app.dde63dd75350.css\\' charset=\"utf-8\">\\n  <link href=\"https://fonts.googleapis.com/css?family=Roboto+Slab:300,400,700\" rel=\"stylesheet\">\\n<script type=\"text/javascript\">\\nif (!window.console) window.console = {};\\nif (!window.console.log) window.console.log = function () {};\\n</script>\\n\\n\\n\\n  <script src=\"/static/components/requirejs/require.a0fb07562cea.js\" data-main=\"/static/js/dist/config.fa1f1c266ba8.js\"></script>\\n  <script type=\"text/javascript\">\\n  window.onload = function () {\\n    require([\"base\"], function () {\\n          window.PATH = \"/static/js/redesign/views/\";\\n          window.STATIC_URL = \"/static/\";\\n          window.GROUPS = JSON.parse(\"[]\");\\n          window.SANDBOX = \"core\";\\n          $(\"span.chemform\").each(function () {\\n            $(this).html(_.htmlFormula($(this).text()))\\n          })\\n        \\n    });\\n  };\\n  </script>\\n\\n\\n\\n<script type=\"text/javascript\">\\n\\n      var _gaq = _gaq || [];\\n      _gaq.push([\\'_setAccount\\', \\'UA-26097776-1\\']);\\n      _gaq.push([\\'_trackPageview\\']);\\n\\n      (function() {\\n        var ga = document.createElement(\\'script\\'); ga.type = \\'text/javascript\\'; ga.async = true;\\n        ga.src = (\\'https:\\' == document.location.protocol ? \\'https://ssl\\' : \\'http://www\\') + \\'.google-analytics.com/ga.js\\';\\n        var s = document.getElementsByTagName(\\'script\\')[0]; s.parentNode.insertBefore(ga, s);\\n      })();\\n\\n</script>\\n\\n</head>\\n<body>\\n  \\n  <header>\\n  \\n\\n\\n\\n<nav class=\"navbar navbar-inverse\">\\n  <div class=\"navbar-inner\">  \\n     <a class=\"btn btn-navbar\" data-toggle=\"collapse\" data-target=\".nav-collapse\">\\n      <span class=\"icon-bar\"></span>\\n      <span class=\"icon-bar\"></span>\\n      <span class=\"icon-bar\"></span>\\n    </a>\\n    <div class=\"nav-collapse\">\\n      <a class=\"brand\" href=\"/\"><img src=\"/static/images/Logo/Mp-logo-v5.ad467cf84f15.png\"></a>\\n      <ul class=\"nav pull-right\" role=\"navigation\"> \\n        <li>\\n          <a href=\"/\">Home</a>\\n        </li>\\n        <li class=dropdown>\\n          <a data-toggle=dropdown role=\"button\" class=\"dropdown-toggle\" href=\"#\">About <b class=\"caret\"></b></a>  \\n          <ul class=\"dropdown-menu\">\\n            <li role=\"presentation\">\\n              <a href=\"/about\">About</a>\\n            </li>\\n            <li role=\"presentation\">\\n              <a class=\"\" href=\"https://discuss.materialsproject.org\" target=\"_blank\">\\n  Forum\\n</a>\\n\\n           </li>\\n            <li role=\"presentation\">\\n              <a href=\"/press\">Press</a>\\n            </li>\\n            <li role=\"presentation\">\\n              <a href=\"/references\">Publications</a>\\n            </li>\\n            <li role=\"presentation\">\\n              <a href=\"/citing\">Citing</a>\\n            </li>\\n            <li role=\"presentation\">\\n              <a href=\"/infrastructure\">Infrastructure</a>\\n            </li>\\n          </ul>\\n        </li>\\n\\n      \\n        \\n          \\n<li class=\"dropdown\">\\n  <a data-toggle=dropdown role=\"button\" class=\"dropdown-toggle\" href=\"#\">Apps <b class=\"caret\"></b></a>\\n\\n  <ul class=\"dropdown-menu\">\\n    <li role=\"presentation\">\\n      <a href=\"/#search/materials/\">Materials Explorer</a>\\n    </li>\\n    <li role=\"presentation\">\\n      <a href=\"/#search/batteries/\">Battery Explorer</a>\\n    </li>\\n    <li role=\"presentation\">\\n      <a href=\"/#apps/xtaltoolkit\">Crystal Toolkit</a>\\n    </li>\\n    <li role=\"presentation\">\\n      <a href=\"/#apps/structurepredictor\">Structure Predictor</a>\\n    </li>\\n    <li role=\"presentation\">\\n      <a href=\"/#apps/phasediagram/\">Phase Diagram</a>\\n    </li>\\n    <li role=\"presentation\">\\n      <a href=\"/#apps/pourbaixdiagram\">Pourbaix Diagram</a>\\n    </li>\\n    <li role=\"presentation\">\\n      <a href=\"/#apps/reactioncalculator\">Reaction Calculator</a>\\n    </li>\\n    <li role=\"presentation\">\\n      <a href=\"/#search/thermo\">Thermodynamical Data</a>\\n    </li>\\n    <li role=\"presentation\">\\n      <a href=\"/#compare\">Compare Elements</a>\\n    </li>\\n    <li role=\"presentation\">\\n      <a href=\"/#search/porous/\">Nanoporous Explorer</a>\\n    </li>\\n    <li role=\"presentation\">\\n      <a href=\"/#search/molecules/\">Molecules Explorer</a>\\n    </li>\\n    <li role=\"presentation\">\\n      <a href=\"/#apps/rfbdashboard/\">RFB Dashboard</a>\\n    </li>\\n    <li role=\"presentation\">\\n      <a href=\"/#apps/xas/\">XAS Matcher</a>\\n    </li>\\n    <li role=\"presentation\">\\n      <a href=\"/apps/synthesis/\">Synthesis Descriptions</a>\\n    </li>\\n  </ul>\\n</li>\\n\\n        \\n      \\n\\n        \\n<li class=\"dropdown\">\\n  <a data-toggle=dropdown role=\"button\" class=\"dropdown-toggle\" href=\"#\">Documentation <b class=\"caret\"></b></a>\\n  <ul class=\"dropdown-menu\">\\n    <li role=\"presentation\">\\n      <a href=\"/docs/api\">API</a>\\n    </li>\\n    <li role=\"presentation\">\\n      <a href=\"/docs/calculations\">Calculations Guide</a>\\n    </li>\\n    <li role=\"presentation\">\\n      <a href=\"/docs/phasediagram\">Phase Diagram</a>\\n    </li>\\n    <li role=\"presentation\">\\n      <a href=\"/docs/pourbaixdiagram\">Pourbaix Diagram</a>\\n    </li>\\n    <li role=\"presentation\">\\n      <a href=\"/docs/battery\">Battery Search</a>\\n    </li>\\n    <li role=\"presentation\">\\n      <a href=\"/docs/rxncalculator\">Reaction Calculator</a>\\n    </li>\\n    <li role=\"presentation\">\\n      <a href=\"/docs/xtaltoolkit\">Crystal Toolkit</a>\\n    </li>\\n    <li role=\"presentation\">\\n      <a href=\"/docs/structurepredictor\">Structure Predictor</a>\\n    </li>\\n    <li role=\"presentation\">\\n      <a href=\"/docs/nanoporous\">Nanoporous Explorer</a>\\n    </li>\\n    <li role=\"presentation\">\\n      <a href=\"/docs/molecules\">Molecules Explorer</a>\\n    </li>\\n    <li role=\"presentation\">\\n      <a href=\"/docs/rfbdashboard\">RFB Dashboard</a>\\n    </li>\\n    <li role=\"presentation\">\\n      <a href=\"/docs/xas\">XAS Matcher</a>\\n    </li>\\n    <li role=\"presentation\">\\n      <a href=\"/docs/error_checking\">Error Checking</a>\\n    </li>\\n    <li role=\"separator\" class=\"divider\"\\n        style=\"border-bottom: 1px solid #6F6F6F;\"></li>\\n    <li role=\"presentation\">\\n      <a href=\"//wiki.materialsproject.org\">Wiki</a>\\n    </li>\\n  </ul>\\n</li>\\n\\n        <li>\\n        <li>\\n          <a href=\"/open\">API</a>\\n        </li>\\n        \\n        <li>\\n          <a href=\"https://www.youtube.com/playlist?list=PLTjFYVNE7LTjHJwV994iQHS-bIkh3UXKJ\"\\n             class=\"nav-tutorials-link yt-icon-youtube-play\">\\n            Tutorials\\n          </a>\\n        </li>\\n        <li>\\n          <a href=\"/dashboard\" data-icon=\"&gt;\" class=\"icon\"> Dashboard</a>\\n        </li>\\n        <li>\\n          <a href=\"/janrain/logout\" ><i title=\"logout\" class=\"icon-logout\"></i></a>\\n        </li>\\n      \\n      </ul>\\n    </div>\\n  </div>\\n</nav>\\n\\n  </header>\\n  \\n  \\n<div class=\"container\">\\n  <h1> Page Not Found </h1>\\n  <div>\\n    <p>\\n      The page you attempted to view is not available.  Please check\\n      the URL and try again.  If you got here by following a link from\\n      the Materials Project site, please let us know by sending a\\n      message to feedback [at] materialsproject.org.\\n    </p>\\n    <p>\\n      If you got to this page via a login link, it\\'s possible your\\n      link is no longer valid. Login links only work once, and they\\n      are only valid for 24.0 hours after being\\n      generated.\\n    </p>\\n    <center><a class=\"icon icon-home\" href=\"/\"> Return Home</a></center>\\n  </div>\\n</div>\\n\\n  <footer>\\n  \\n  \\n  <hr>\\n<ul class=\"text-center inline\">\\n\\t<li>\\n  \\t<a href=\"/about\">About</a>\\n\\t</li>\\n\\t<li>\\n\\t  <a class=\"\" href=\"https://discuss.materialsproject.org\" target=\"_blank\">\\n  Forum\\n</a>\\n\\n\\t</li>\\n\\t<li>\\n\\t  <a href=\"/citing\">Citing</a>\\n\\t</li>\\n\\t<li>\\n  \\t  <a href=\"/terms\">Terms of Use</a>\\n\\t</li>\\n\\t<li>\\n  \\t<a href=\"/open\">API</a>\\n\\t</li>\\n</ul>\\n<div class=\"pad-top row text-center\">\\n\\t  <small>\\n\\t\\t    Powered by <a href=\"http://pymatgen.org\">pymatgen</a>,\\n      <a href=\"https://materialsproject.github.io/custodian\">custodian</a>,\\n      <a href=\"https://materialsproject.github.io/fireworks\">fireworks</a>,\\n      and <a href=\"https://hackingmaterials.github.io/atomate\">atomate</a>.\\n\\t</small>\\n</div>\\n\\n  </footer>\\n  <!-- Manged at https://cdn.fontawesome.com by dwinston-->\\n  <script src=\"https://use.fontawesome.com/fd3b9caec8.js\"></script>\\n</body>\\n</html>\\n'",
     "output_type": "error",
     "traceback": [
      "\u001b[1;31m---------------------------------------------------------------------------\u001b[0m",
      "\u001b[1;31mMPRestError\u001b[0m                               Traceback (most recent call last)",
      "\u001b[1;32m~\\Anaconda2\\envs\\py36\\lib\\site-packages\\pymatgen\\ext\\matproj.py\u001b[0m in \u001b[0;36m_make_request\u001b[1;34m(self, sub_url, payload, method, mp_decode)\u001b[0m\n\u001b[0;32m    151\u001b[0m             raise MPRestError(\"REST query returned with error status code {}\"\n\u001b[1;32m--> 152\u001b[1;33m                               .format(response.status_code))\n\u001b[0m\u001b[0;32m    153\u001b[0m \u001b[1;33m\u001b[0m\u001b[0m\n",
      "\u001b[1;31mMPRestError\u001b[0m: REST query returned with error status code 404",
      "\nDuring handling of the above exception, another exception occurred:\n",
      "\u001b[1;31mMPRestError\u001b[0m                               Traceback (most recent call last)",
      "\u001b[1;32m<ipython-input-82-2e5f26a57237>\u001b[0m in \u001b[0;36m<module>\u001b[1;34m()\u001b[0m\n\u001b[0;32m      5\u001b[0m     \u001b[0mredFormula\u001b[0m \u001b[1;33m=\u001b[0m \u001b[0mstr\u001b[0m\u001b[1;33m(\u001b[0m\u001b[0mx\u001b[0m\u001b[1;33m)\u001b[0m\u001b[1;33m.\u001b[0m\u001b[0mreplace\u001b[0m\u001b[1;33m(\u001b[0m\u001b[1;34m' '\u001b[0m\u001b[1;33m,\u001b[0m\u001b[1;34m''\u001b[0m\u001b[1;33m)\u001b[0m\u001b[1;33m\u001b[0m\u001b[0m\n\u001b[0;32m      6\u001b[0m     \u001b[0mprint\u001b[0m\u001b[1;33m(\u001b[0m\u001b[0mredFormula\u001b[0m\u001b[1;33m)\u001b[0m\u001b[1;33m\u001b[0m\u001b[0m\n\u001b[1;32m----> 7\u001b[1;33m     \u001b[0mq\u001b[0m \u001b[1;33m=\u001b[0m \u001b[0mmpr\u001b[0m\u001b[1;33m.\u001b[0m\u001b[0mget_data\u001b[0m\u001b[1;33m(\u001b[0m\u001b[0mredFormula\u001b[0m\u001b[1;33m,\u001b[0m \u001b[0mprop\u001b[0m\u001b[1;33m=\u001b[0m\u001b[1;34m'density'\u001b[0m\u001b[1;33m)\u001b[0m\u001b[1;33m\u001b[0m\u001b[0m\n\u001b[0m\u001b[0;32m      8\u001b[0m     \u001b[1;32mtry\u001b[0m\u001b[1;33m:\u001b[0m\u001b[1;33m\u001b[0m\u001b[0m\n\u001b[0;32m      9\u001b[0m         \u001b[0mdensityData\u001b[0m\u001b[1;33m[\u001b[0m\u001b[1;34m'MAPI_density'\u001b[0m\u001b[1;33m]\u001b[0m\u001b[1;33m[\u001b[0m\u001b[0mdensityData\u001b[0m\u001b[1;33m[\u001b[0m\u001b[1;34m'comp'\u001b[0m\u001b[1;33m]\u001b[0m \u001b[1;33m==\u001b[0m \u001b[0mx\u001b[0m\u001b[1;33m]\u001b[0m \u001b[1;33m=\u001b[0m \u001b[0mq\u001b[0m\u001b[1;33m[\u001b[0m\u001b[1;36m0\u001b[0m\u001b[1;33m]\u001b[0m\u001b[1;33m[\u001b[0m\u001b[1;34m'density'\u001b[0m\u001b[1;33m]\u001b[0m\u001b[1;33m\u001b[0m\u001b[0m\n",
      "\u001b[1;32m~\\Anaconda2\\envs\\py36\\lib\\site-packages\\pymatgen\\ext\\matproj.py\u001b[0m in \u001b[0;36mget_data\u001b[1;34m(self, chemsys_formula_id, data_type, prop)\u001b[0m\n\u001b[0;32m    204\u001b[0m         \u001b[1;32mif\u001b[0m \u001b[0mprop\u001b[0m\u001b[1;33m:\u001b[0m\u001b[1;33m\u001b[0m\u001b[0m\n\u001b[0;32m    205\u001b[0m             \u001b[0msub_url\u001b[0m \u001b[1;33m+=\u001b[0m \u001b[1;34m\"/\"\u001b[0m \u001b[1;33m+\u001b[0m \u001b[0mprop\u001b[0m\u001b[1;33m\u001b[0m\u001b[0m\n\u001b[1;32m--> 206\u001b[1;33m         \u001b[1;32mreturn\u001b[0m \u001b[0mself\u001b[0m\u001b[1;33m.\u001b[0m\u001b[0m_make_request\u001b[0m\u001b[1;33m(\u001b[0m\u001b[0msub_url\u001b[0m\u001b[1;33m)\u001b[0m\u001b[1;33m\u001b[0m\u001b[0m\n\u001b[0m\u001b[0;32m    207\u001b[0m \u001b[1;33m\u001b[0m\u001b[0m\n\u001b[0;32m    208\u001b[0m     \u001b[1;32mdef\u001b[0m \u001b[0mget_materials_ids\u001b[0m\u001b[1;33m(\u001b[0m\u001b[0mself\u001b[0m\u001b[1;33m,\u001b[0m \u001b[0mchemsys_formula\u001b[0m\u001b[1;33m)\u001b[0m\u001b[1;33m:\u001b[0m\u001b[1;33m\u001b[0m\u001b[0m\n",
      "\u001b[1;32m~\\Anaconda2\\envs\\py36\\lib\\site-packages\\pymatgen\\ext\\matproj.py\u001b[0m in \u001b[0;36m_make_request\u001b[1;34m(self, sub_url, payload, method, mp_decode)\u001b[0m\n\u001b[0;32m    155\u001b[0m             \u001b[0mmsg\u001b[0m \u001b[1;33m=\u001b[0m \u001b[1;34m\"{}. Content: {}\"\u001b[0m\u001b[1;33m.\u001b[0m\u001b[0mformat\u001b[0m\u001b[1;33m(\u001b[0m\u001b[0mstr\u001b[0m\u001b[1;33m(\u001b[0m\u001b[0mex\u001b[0m\u001b[1;33m)\u001b[0m\u001b[1;33m,\u001b[0m \u001b[0mresponse\u001b[0m\u001b[1;33m.\u001b[0m\u001b[0mcontent\u001b[0m\u001b[1;33m)\u001b[0m\u001b[0;31m \u001b[0m\u001b[0;31m\\\u001b[0m\u001b[1;33m\u001b[0m\u001b[0m\n\u001b[0;32m    156\u001b[0m                 \u001b[1;32mif\u001b[0m \u001b[0mhasattr\u001b[0m\u001b[1;33m(\u001b[0m\u001b[0mresponse\u001b[0m\u001b[1;33m,\u001b[0m \u001b[1;34m\"content\"\u001b[0m\u001b[1;33m)\u001b[0m \u001b[1;32melse\u001b[0m \u001b[0mstr\u001b[0m\u001b[1;33m(\u001b[0m\u001b[0mex\u001b[0m\u001b[1;33m)\u001b[0m\u001b[1;33m\u001b[0m\u001b[0m\n\u001b[1;32m--> 157\u001b[1;33m             \u001b[1;32mraise\u001b[0m \u001b[0mMPRestError\u001b[0m\u001b[1;33m(\u001b[0m\u001b[0mmsg\u001b[0m\u001b[1;33m)\u001b[0m\u001b[1;33m\u001b[0m\u001b[0m\n\u001b[0m\u001b[0;32m    158\u001b[0m \u001b[1;33m\u001b[0m\u001b[0m\n\u001b[0;32m    159\u001b[0m     \u001b[1;32mdef\u001b[0m \u001b[0mget_materials_id_from_task_id\u001b[0m\u001b[1;33m(\u001b[0m\u001b[0mself\u001b[0m\u001b[1;33m,\u001b[0m \u001b[0mtask_id\u001b[0m\u001b[1;33m)\u001b[0m\u001b[1;33m:\u001b[0m\u001b[1;33m\u001b[0m\u001b[0m\n",
      "\u001b[1;31mMPRestError\u001b[0m: REST query returned with error status code 404. Content: b'\\n\\n<!DOCTYPE html>\\n<html>\\n<head>\\n  <title> Materials Project :: 404 </title>\\n  <meta http-equiv=\"Content-Type\" content=\"text/html; charset=utf-8\" /><script type=\"text/javascript\">window.NREUM||(NREUM={}),__nr_require=function(e,n,t){function r(t){if(!n[t]){var o=n[t]={exports:{}};e[t][0].call(o.exports,function(n){var o=e[t][1][n];return r(o||n)},o,o.exports)}return n[t].exports}if(\"function\"==typeof __nr_require)return __nr_require;for(var o=0;o<t.length;o++)r(t[o]);return r}({1:[function(e,n,t){function r(){}function o(e,n,t){return function(){return i(e,[c.now()].concat(u(arguments)),n?null:this,t),n?void 0:this}}var i=e(\"handle\"),a=e(3),u=e(4),f=e(\"ee\").get(\"tracer\"),c=e(\"loader\"),s=NREUM;\"undefined\"==typeof window.newrelic&&(newrelic=s);var p=[\"setPageViewName\",\"setCustomAttribute\",\"setErrorHandler\",\"finished\",\"addToTrace\",\"inlineHit\",\"addRelease\"],d=\"api-\",l=d+\"ixn-\";a(p,function(e,n){s[n]=o(d+n,!0,\"api\")}),s.addPageAction=o(d+\"addPageAction\",!0),s.setCurrentRouteName=o(d+\"routeName\",!0),n.exports=newrelic,s.interaction=function(){return(new r).get()};var m=r.prototype={createTracer:function(e,n){var t={},r=this,o=\"function\"==typeof n;return i(l+\"tracer\",[c.now(),e,t],r),function(){if(f.emit((o?\"\":\"no-\")+\"fn-start\",[c.now(),r,o],t),o)try{return n.apply(this,arguments)}catch(e){throw f.emit(\"fn-err\",[arguments,this,e],t),e}finally{f.emit(\"fn-end\",[c.now()],t)}}}};a(\"actionText,setName,setAttribute,save,ignore,onEnd,getContext,end,get\".split(\",\"),function(e,n){m[n]=o(l+n)}),newrelic.noticeError=function(e){\"string\"==typeof e&&(e=new Error(e)),i(\"err\",[e,c.now()])}},{}],2:[function(e,n,t){function r(e,n){if(!o)return!1;if(e!==o)return!1;if(!n)return!0;if(!i)return!1;for(var t=i.split(\".\"),r=n.split(\".\"),a=0;a<r.length;a++)if(r[a]!==t[a])return!1;return!0}var o=null,i=null,a=/Version\\\\/(\\\\S+)\\\\s+Safari/;if(navigator.userAgent){var u=navigator.userAgent,f=u.match(a);f&&u.indexOf(\"Chrome\")===-1&&u.indexOf(\"Chromium\")===-1&&(o=\"Safari\",i=f[1])}n.exports={agent:o,version:i,match:r}},{}],3:[function(e,n,t){function r(e,n){var t=[],r=\"\",i=0;for(r in e)o.call(e,r)&&(t[i]=n(r,e[r]),i+=1);return t}var o=Object.prototype.hasOwnProperty;n.exports=r},{}],4:[function(e,n,t){function r(e,n,t){n||(n=0),\"undefined\"==typeof t&&(t=e?e.length:0);for(var r=-1,o=t-n||0,i=Array(o<0?0:o);++r<o;)i[r]=e[n+r];return i}n.exports=r},{}],5:[function(e,n,t){n.exports={exists:\"undefined\"!=typeof window.performance&&window.performance.timing&&\"undefined\"!=typeof window.performance.timing.navigationStart}},{}],ee:[function(e,n,t){function r(){}function o(e){function n(e){return e&&e instanceof r?e:e?f(e,u,i):i()}function t(t,r,o,i){if(!d.aborted||i){e&&e(t,r,o);for(var a=n(o),u=v(t),f=u.length,c=0;c<f;c++)u[c].apply(a,r);var p=s[y[t]];return p&&p.push([b,t,r,a]),a}}function l(e,n){h[e]=v(e).concat(n)}function m(e,n){var t=h[e];if(t)for(var r=0;r<t.length;r++)t[r]===n&&t.splice(r,1)}function v(e){return h[e]||[]}function g(e){return p[e]=p[e]||o(t)}function w(e,n){c(e,function(e,t){n=n||\"feature\",y[t]=n,n in s||(s[n]=[])})}var h={},y={},b={on:l,addEventListener:l,removeEventListener:m,emit:t,get:g,listeners:v,context:n,buffer:w,abort:a,aborted:!1};return b}function i(){return new r}function a(){(s.api||s.feature)&&(d.aborted=!0,s=d.backlog={})}var u=\"nr@context\",f=e(\"gos\"),c=e(3),s={},p={},d=n.exports=o();d.backlog=s},{}],gos:[function(e,n,t){function r(e,n,t){if(o.call(e,n))return e[n];var r=t();if(Object.defineProperty&&Object.keys)try{return Object.defineProperty(e,n,{value:r,writable:!0,enumerable:!1}),r}catch(i){}return e[n]=r,r}var o=Object.prototype.hasOwnProperty;n.exports=r},{}],handle:[function(e,n,t){function r(e,n,t,r){o.buffer([e],r),o.emit(e,n,t)}var o=e(\"ee\").get(\"handle\");n.exports=r,r.ee=o},{}],id:[function(e,n,t){function r(e){var n=typeof e;return!e||\"object\"!==n&&\"function\"!==n?-1:e===window?0:a(e,i,function(){return o++})}var o=1,i=\"nr@id\",a=e(\"gos\");n.exports=r},{}],loader:[function(e,n,t){function r(){if(!E++){var e=x.info=NREUM.info,n=l.getElementsByTagName(\"script\")[0];if(setTimeout(s.abort,3e4),!(e&&e.licenseKey&&e.applicationID&&n))return s.abort();c(y,function(n,t){e[n]||(e[n]=t)}),f(\"mark\",[\"onload\",a()+x.offset],null,\"api\");var t=l.createElement(\"script\");t.src=\"https://\"+e.agent,n.parentNode.insertBefore(t,n)}}function o(){\"complete\"===l.readyState&&i()}function i(){f(\"mark\",[\"domContent\",a()+x.offset],null,\"api\")}function a(){return O.exists&&performance.now?Math.round(performance.now()):(u=Math.max((new Date).getTime(),u))-x.offset}var u=(new Date).getTime(),f=e(\"handle\"),c=e(3),s=e(\"ee\"),p=e(2),d=window,l=d.document,m=\"addEventListener\",v=\"attachEvent\",g=d.XMLHttpRequest,w=g&&g.prototype;NREUM.o={ST:setTimeout,SI:d.setImmediate,CT:clearTimeout,XHR:g,REQ:d.Request,EV:d.Event,PR:d.Promise,MO:d.MutationObserver};var h=\"\"+location,y={beacon:\"bam.nr-data.net\",errorBeacon:\"bam.nr-data.net\",agent:\"js-agent.newrelic.com/nr-1099.min.js\"},b=g&&w&&w[m]&&!/CriOS/.test(navigator.userAgent),x=n.exports={offset:u,now:a,origin:h,features:{},xhrWrappable:b,userAgent:p};e(1),l[m]?(l[m](\"DOMContentLoaded\",i,!1),d[m](\"load\",r,!1)):(l[v](\"onreadystatechange\",o),d[v](\"onload\",r)),f(\"mark\",[\"firstbyte\",u],null,\"api\");var E=0,O=e(5)},{}]},{},[\"loader\"]);</script><script type=\"text/javascript\">window.NREUM||(NREUM={});NREUM.info={\"beacon\":\"bam.nr-data.net\",\"errorBeacon\":\"bam.nr-data.net\",\"licenseKey\":\"488418a6fe\",\"applicationID\":\"176556248\",\"transactionName\":\"MlYDZxNRXUBVB0xRXQscJ0YPU0daWwoXTUYMXxIdDFlXV1gBT1lAAAkzVgZZQEdGBUxRXQt+CFcFXFZEVRZdFkIXXAJWEkNsQVEVTV1BEQ==\",\"queueTime\":1,\"applicationTime\":109,\"agent\":\"\"}</script>\\n\\n  <!--    <meta name=\"viewport\" content=\"user-scalable = no\">\\n     -->\\n  <!-- <meta name=\"viewport\" content=\"width=device-width, initial-scale=1\"> -->\\n  <meta name=\"keywords\" content=\"Materials Design, Materials Database, Materials Information, Materials Tools\" />\\n  <meta name=\"description\" content=\"The Materials Project\\'s mission is to accelerate the the discovery of new technological materials through advanced scientific computing and innovative design tools.\" />\\n  <link rel=\"search\"\\n      type=\"application/opensearchdescription+xml\"\\n      title=\"Search Materials Project\"\\n      href=\\'/static/opensearch.25669ffdaab0.xml\\'>\\n  <link rel=\"shortcut icon\" href=\\'/static/images/favicon.00f51d402f3d.png\\' />\\n  <link rel=\"stylesheet\" href=\\'/static/stylesheets/less/compiled/nucleus.5db1710fde48.css\\' charset=\"utf-8\">\\n  <link rel=\"stylesheet\" href=\\'/static/stylesheets/less/compiled/app.dde63dd75350.css\\' charset=\"utf-8\">\\n  <link href=\"https://fonts.googleapis.com/css?family=Roboto+Slab:300,400,700\" rel=\"stylesheet\">\\n<script type=\"text/javascript\">\\nif (!window.console) window.console = {};\\nif (!window.console.log) window.console.log = function () {};\\n</script>\\n\\n\\n\\n  <script src=\"/static/components/requirejs/require.a0fb07562cea.js\" data-main=\"/static/js/dist/config.fa1f1c266ba8.js\"></script>\\n  <script type=\"text/javascript\">\\n  window.onload = function () {\\n    require([\"base\"], function () {\\n          window.PATH = \"/static/js/redesign/views/\";\\n          window.STATIC_URL = \"/static/\";\\n          window.GROUPS = JSON.parse(\"[]\");\\n          window.SANDBOX = \"core\";\\n          $(\"span.chemform\").each(function () {\\n            $(this).html(_.htmlFormula($(this).text()))\\n          })\\n        \\n    });\\n  };\\n  </script>\\n\\n\\n\\n<script type=\"text/javascript\">\\n\\n      var _gaq = _gaq || [];\\n      _gaq.push([\\'_setAccount\\', \\'UA-26097776-1\\']);\\n      _gaq.push([\\'_trackPageview\\']);\\n\\n      (function() {\\n        var ga = document.createElement(\\'script\\'); ga.type = \\'text/javascript\\'; ga.async = true;\\n        ga.src = (\\'https:\\' == document.location.protocol ? \\'https://ssl\\' : \\'http://www\\') + \\'.google-analytics.com/ga.js\\';\\n        var s = document.getElementsByTagName(\\'script\\')[0]; s.parentNode.insertBefore(ga, s);\\n      })();\\n\\n</script>\\n\\n</head>\\n<body>\\n  \\n  <header>\\n  \\n\\n\\n\\n<nav class=\"navbar navbar-inverse\">\\n  <div class=\"navbar-inner\">  \\n     <a class=\"btn btn-navbar\" data-toggle=\"collapse\" data-target=\".nav-collapse\">\\n      <span class=\"icon-bar\"></span>\\n      <span class=\"icon-bar\"></span>\\n      <span class=\"icon-bar\"></span>\\n    </a>\\n    <div class=\"nav-collapse\">\\n      <a class=\"brand\" href=\"/\"><img src=\"/static/images/Logo/Mp-logo-v5.ad467cf84f15.png\"></a>\\n      <ul class=\"nav pull-right\" role=\"navigation\"> \\n        <li>\\n          <a href=\"/\">Home</a>\\n        </li>\\n        <li class=dropdown>\\n          <a data-toggle=dropdown role=\"button\" class=\"dropdown-toggle\" href=\"#\">About <b class=\"caret\"></b></a>  \\n          <ul class=\"dropdown-menu\">\\n            <li role=\"presentation\">\\n              <a href=\"/about\">About</a>\\n            </li>\\n            <li role=\"presentation\">\\n              <a class=\"\" href=\"https://discuss.materialsproject.org\" target=\"_blank\">\\n  Forum\\n</a>\\n\\n           </li>\\n            <li role=\"presentation\">\\n              <a href=\"/press\">Press</a>\\n            </li>\\n            <li role=\"presentation\">\\n              <a href=\"/references\">Publications</a>\\n            </li>\\n            <li role=\"presentation\">\\n              <a href=\"/citing\">Citing</a>\\n            </li>\\n            <li role=\"presentation\">\\n              <a href=\"/infrastructure\">Infrastructure</a>\\n            </li>\\n          </ul>\\n        </li>\\n\\n      \\n        \\n          \\n<li class=\"dropdown\">\\n  <a data-toggle=dropdown role=\"button\" class=\"dropdown-toggle\" href=\"#\">Apps <b class=\"caret\"></b></a>\\n\\n  <ul class=\"dropdown-menu\">\\n    <li role=\"presentation\">\\n      <a href=\"/#search/materials/\">Materials Explorer</a>\\n    </li>\\n    <li role=\"presentation\">\\n      <a href=\"/#search/batteries/\">Battery Explorer</a>\\n    </li>\\n    <li role=\"presentation\">\\n      <a href=\"/#apps/xtaltoolkit\">Crystal Toolkit</a>\\n    </li>\\n    <li role=\"presentation\">\\n      <a href=\"/#apps/structurepredictor\">Structure Predictor</a>\\n    </li>\\n    <li role=\"presentation\">\\n      <a href=\"/#apps/phasediagram/\">Phase Diagram</a>\\n    </li>\\n    <li role=\"presentation\">\\n      <a href=\"/#apps/pourbaixdiagram\">Pourbaix Diagram</a>\\n    </li>\\n    <li role=\"presentation\">\\n      <a href=\"/#apps/reactioncalculator\">Reaction Calculator</a>\\n    </li>\\n    <li role=\"presentation\">\\n      <a href=\"/#search/thermo\">Thermodynamical Data</a>\\n    </li>\\n    <li role=\"presentation\">\\n      <a href=\"/#compare\">Compare Elements</a>\\n    </li>\\n    <li role=\"presentation\">\\n      <a href=\"/#search/porous/\">Nanoporous Explorer</a>\\n    </li>\\n    <li role=\"presentation\">\\n      <a href=\"/#search/molecules/\">Molecules Explorer</a>\\n    </li>\\n    <li role=\"presentation\">\\n      <a href=\"/#apps/rfbdashboard/\">RFB Dashboard</a>\\n    </li>\\n    <li role=\"presentation\">\\n      <a href=\"/#apps/xas/\">XAS Matcher</a>\\n    </li>\\n    <li role=\"presentation\">\\n      <a href=\"/apps/synthesis/\">Synthesis Descriptions</a>\\n    </li>\\n  </ul>\\n</li>\\n\\n        \\n      \\n\\n        \\n<li class=\"dropdown\">\\n  <a data-toggle=dropdown role=\"button\" class=\"dropdown-toggle\" href=\"#\">Documentation <b class=\"caret\"></b></a>\\n  <ul class=\"dropdown-menu\">\\n    <li role=\"presentation\">\\n      <a href=\"/docs/api\">API</a>\\n    </li>\\n    <li role=\"presentation\">\\n      <a href=\"/docs/calculations\">Calculations Guide</a>\\n    </li>\\n    <li role=\"presentation\">\\n      <a href=\"/docs/phasediagram\">Phase Diagram</a>\\n    </li>\\n    <li role=\"presentation\">\\n      <a href=\"/docs/pourbaixdiagram\">Pourbaix Diagram</a>\\n    </li>\\n    <li role=\"presentation\">\\n      <a href=\"/docs/battery\">Battery Search</a>\\n    </li>\\n    <li role=\"presentation\">\\n      <a href=\"/docs/rxncalculator\">Reaction Calculator</a>\\n    </li>\\n    <li role=\"presentation\">\\n      <a href=\"/docs/xtaltoolkit\">Crystal Toolkit</a>\\n    </li>\\n    <li role=\"presentation\">\\n      <a href=\"/docs/structurepredictor\">Structure Predictor</a>\\n    </li>\\n    <li role=\"presentation\">\\n      <a href=\"/docs/nanoporous\">Nanoporous Explorer</a>\\n    </li>\\n    <li role=\"presentation\">\\n      <a href=\"/docs/molecules\">Molecules Explorer</a>\\n    </li>\\n    <li role=\"presentation\">\\n      <a href=\"/docs/rfbdashboard\">RFB Dashboard</a>\\n    </li>\\n    <li role=\"presentation\">\\n      <a href=\"/docs/xas\">XAS Matcher</a>\\n    </li>\\n    <li role=\"presentation\">\\n      <a href=\"/docs/error_checking\">Error Checking</a>\\n    </li>\\n    <li role=\"separator\" class=\"divider\"\\n        style=\"border-bottom: 1px solid #6F6F6F;\"></li>\\n    <li role=\"presentation\">\\n      <a href=\"//wiki.materialsproject.org\">Wiki</a>\\n    </li>\\n  </ul>\\n</li>\\n\\n        <li>\\n        <li>\\n          <a href=\"/open\">API</a>\\n        </li>\\n        \\n        <li>\\n          <a href=\"https://www.youtube.com/playlist?list=PLTjFYVNE7LTjHJwV994iQHS-bIkh3UXKJ\"\\n             class=\"nav-tutorials-link yt-icon-youtube-play\">\\n            Tutorials\\n          </a>\\n        </li>\\n        <li>\\n          <a href=\"/dashboard\" data-icon=\"&gt;\" class=\"icon\"> Dashboard</a>\\n        </li>\\n        <li>\\n          <a href=\"/janrain/logout\" ><i title=\"logout\" class=\"icon-logout\"></i></a>\\n        </li>\\n      \\n      </ul>\\n    </div>\\n  </div>\\n</nav>\\n\\n  </header>\\n  \\n  \\n<div class=\"container\">\\n  <h1> Page Not Found </h1>\\n  <div>\\n    <p>\\n      The page you attempted to view is not available.  Please check\\n      the URL and try again.  If you got here by following a link from\\n      the Materials Project site, please let us know by sending a\\n      message to feedback [at] materialsproject.org.\\n    </p>\\n    <p>\\n      If you got to this page via a login link, it\\'s possible your\\n      link is no longer valid. Login links only work once, and they\\n      are only valid for 24.0 hours after being\\n      generated.\\n    </p>\\n    <center><a class=\"icon icon-home\" href=\"/\"> Return Home</a></center>\\n  </div>\\n</div>\\n\\n  <footer>\\n  \\n  \\n  <hr>\\n<ul class=\"text-center inline\">\\n\\t<li>\\n  \\t<a href=\"/about\">About</a>\\n\\t</li>\\n\\t<li>\\n\\t  <a class=\"\" href=\"https://discuss.materialsproject.org\" target=\"_blank\">\\n  Forum\\n</a>\\n\\n\\t</li>\\n\\t<li>\\n\\t  <a href=\"/citing\">Citing</a>\\n\\t</li>\\n\\t<li>\\n  \\t  <a href=\"/terms\">Terms of Use</a>\\n\\t</li>\\n\\t<li>\\n  \\t<a href=\"/open\">API</a>\\n\\t</li>\\n</ul>\\n<div class=\"pad-top row text-center\">\\n\\t  <small>\\n\\t\\t    Powered by <a href=\"http://pymatgen.org\">pymatgen</a>,\\n      <a href=\"https://materialsproject.github.io/custodian\">custodian</a>,\\n      <a href=\"https://materialsproject.github.io/fireworks\">fireworks</a>,\\n      and <a href=\"https://hackingmaterials.github.io/atomate\">atomate</a>.\\n\\t</small>\\n</div>\\n\\n  </footer>\\n  <!-- Manged at https://cdn.fontawesome.com by dwinston-->\\n  <script src=\"https://use.fontawesome.com/fd3b9caec8.js\"></script>\\n</body>\\n</html>\\n'"
     ]
    }
   ],
   "source": [
    "comps = densityData['comp']\n",
    "#comps = [str(x).replace(' ', '') for x in comps]\n",
    "densityData['MAPI_density'] = np.nan\n",
    "for x in comps:\n",
    "    redFormula = str(x).replace(' ','') # MAPI does not like spaces, nor decimals in formulas....\n",
    "    print(redFormula)\n",
    "    q = mpr.get_data(redFormula, prop='density')\n",
    "    try:\n",
    "        densityData['MAPI_density'][densityData['comp'] == x] = q[0]['density']\n",
    "    except:\n",
    "        print('--- entry not found: {}'.format(redFormula))"
   ]
  },
  {
   "cell_type": "code",
   "execution_count": 71,
   "metadata": {},
   "outputs": [
    {
     "data": {
      "text/plain": [
       "[{'density': 9.530657163365866, 'material_id': 'mp-5748'}]"
      ]
     },
     "execution_count": 71,
     "metadata": {},
     "output_type": "execute_result"
    }
   ],
   "source": [
    "mpr.get_data('HfAlNi2', prop='density')"
   ]
  },
  {
   "cell_type": "code",
   "execution_count": 84,
   "metadata": {},
   "outputs": [
    {
     "data": {
      "text/plain": [
       "[]"
      ]
     },
     "execution_count": 84,
     "metadata": {},
     "output_type": "execute_result"
    }
   ],
   "source": [
    "mpr.get_data('Ce533Al8400Ni1067', prop='density')"
   ]
  },
  {
   "cell_type": "code",
   "execution_count": null,
   "metadata": {},
   "outputs": [],
   "source": []
  }
 ],
 "metadata": {
  "kernelspec": {
   "display_name": "Python 3",
   "language": "python",
   "name": "python3"
  },
  "language_info": {
   "codemirror_mode": {
    "name": "ipython",
    "version": 3
   },
   "file_extension": ".py",
   "mimetype": "text/x-python",
   "name": "python",
   "nbconvert_exporter": "python",
   "pygments_lexer": "ipython3",
   "version": "3.6.3"
  }
 },
 "nbformat": 4,
 "nbformat_minor": 2
}
