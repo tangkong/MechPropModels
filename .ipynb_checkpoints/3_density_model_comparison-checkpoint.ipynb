{
 "cells": [
  {
   "cell_type": "code",
   "execution_count": 4,
   "metadata": {},
   "outputs": [],
   "source": [
    "%matplotlib inline\n",
    "from matplotlib import pyplot as plt\n",
    "from matminer.featurizers.base import MultipleFeaturizer, StackedFeaturizer\n",
    "from matminer.featurizers import composition as cf\n",
    "from sklearn.ensemble import RandomForestClassifier, RandomForestRegressor\n",
    "from sklearn.model_selection import GridSearchCV, ShuffleSplit, LeaveOneGroupOut, cross_val_score, learning_curve, KFold\n",
    "from sklearn.pipeline import Pipeline\n",
    "from sklearn.preprocessing import Imputer, LabelEncoder\n",
    "from sklearn.metrics import roc_curve, auc, r2_score, make_scorer, mean_absolute_error\n",
    "from sklearn.feature_selection import RFECV\n",
    "from sklearn import metrics\n",
    "from pymatgen import Composition\n",
    "import pickle as pkl\n",
    "import pandas as pd\n",
    "import numpy as np\n",
    "import gzip\n",
    "import os\n",
    "import re"
   ]
  },
  {
   "cell_type": "code",
   "execution_count": 5,
   "metadata": {},
   "outputs": [],
   "source": [
    "saveFigures=False"
   ]
  },
  {
   "cell_type": "code",
   "execution_count": 6,
   "metadata": {},
   "outputs": [],
   "source": [
    "def featCleanImpute(Y):\n",
    "    ''' Convert inf to NaN in feature array, in place\n",
    "    \n",
    "    Args: \n",
    "        Y, feature array, list of ndarray (#samples x #features)\n",
    "    Returns:\n",
    "        None\n",
    "    '''\n",
    "    # Clean inf values\n",
    "    for i in range(len(Y)):\n",
    "        for j in range(len(Y[i])):\n",
    "            if Y[i][j] == np.inf:\n",
    "                Y[i][j] = np.nan\n",
    "            else:\n",
    "                Y[i][j] = Y[i][j]\n",
    "                \n",
    "    # Impute nan values\n",
    "    imp = Imputer(missing_values='NaN', axis=0, strategy='mean', copy=False)\n",
    "    imp2 = Imputer(missing_values='NaN', axis=1, strategy='mean', copy=False)\n",
    "\n",
    "    imp.fit(Y)\n",
    "    imp.transform(Y)\n",
    "    imp2.fit(Y)\n",
    "    imp.transform(Y)\n",
    "    "
   ]
  },
  {
   "cell_type": "markdown",
   "metadata": {},
   "source": [
    "# Build Model: Density"
   ]
  },
  {
   "cell_type": "markdown",
   "metadata": {},
   "source": [
    "Import feature set, import data"
   ]
  },
  {
   "cell_type": "code",
   "execution_count": 7,
   "metadata": {},
   "outputs": [],
   "source": [
    "with gzip.open('./datasets/density_features.pkl.gz', 'rb') as fp:\n",
    "    X_dens = pkl.load(fp)\n",
    "with gzip.open('./datasets/density_data.pkl.gz', 'rb') as fd:\n",
    "    densityData = pkl.load(fd)"
   ]
  },
  {
   "cell_type": "code",
   "execution_count": 8,
   "metadata": {},
   "outputs": [],
   "source": [
    "density_model = Pipeline([('impute',Imputer()), \n",
    "                          ('model', RandomForestRegressor(n_estimators=100, n_jobs=1, max_features=12))])\n",
    "dens_featurizer = MultipleFeaturizer([cf.Stoichiometry(), cf.ElementProperty.from_preset(\"magpie\"),\n",
    "                                 cf.ValenceOrbital(props=['avg']), cf.IonProperty(fast=True),\n",
    "                                cf.YangSolidSolution(), cf.AtomicPackingEfficiency()])"
   ]
  },
  {
   "cell_type": "code",
   "execution_count": 9,
   "metadata": {},
   "outputs": [
    {
     "name": "stdout",
     "output_type": "stream",
     "text": [
      "Wall time: 374 ms\n"
     ]
    },
    {
     "data": {
      "text/plain": [
       "Pipeline(memory=None,\n",
       "     steps=[('impute', Imputer(axis=0, copy=True, missing_values='NaN', strategy='mean', verbose=0)), ('model', RandomForestRegressor(bootstrap=True, criterion='mse', max_depth=None,\n",
       "           max_features=12, max_leaf_nodes=None, min_impurity_decrease=0.0,\n",
       "           min_impurity_split=None, min_samples_leaf=1,\n",
       "           min_samples_split=2, min_weight_fraction_leaf=0.0,\n",
       "           n_estimators=100, n_jobs=1, oob_score=False, random_state=None,\n",
       "           verbose=0, warm_start=False))])"
      ]
     },
     "execution_count": 9,
     "metadata": {},
     "output_type": "execute_result"
    }
   ],
   "source": [
    "%%time\n",
    "density_model.fit(X_dens, y=densityData['density'])"
   ]
  },
  {
   "cell_type": "code",
   "execution_count": 10,
   "metadata": {},
   "outputs": [],
   "source": [
    "# make scorer for r2 metric\n",
    "r2_scorer = make_scorer(r2_score)"
   ]
  },
  {
   "cell_type": "code",
   "execution_count": 11,
   "metadata": {},
   "outputs": [
    {
     "data": {
      "text/plain": [
       "(701, 152)"
      ]
     },
     "execution_count": 11,
     "metadata": {},
     "output_type": "execute_result"
    }
   ],
   "source": [
    "np.shape(X_dens)"
   ]
  },
  {
   "cell_type": "markdown",
   "metadata": {},
   "source": [
    "# Assess quality of model, identify outliers, refine model"
   ]
  },
  {
   "cell_type": "code",
   "execution_count": 12,
   "metadata": {},
   "outputs": [
    {
     "name": "stdout",
     "output_type": "stream",
     "text": [
      "Split #0\n",
      "Split #1\n",
      "Split #2\n",
      "Split #3\n",
      "Split #4\n"
     ]
    }
   ],
   "source": [
    "#take predicted values from each cross validation set to ensure training not performed on own set.  Take 200 training samples\n",
    "# Probably could have used cross_val_predict\n",
    "kf = KFold(5)\n",
    "rep=0\n",
    "densityData['density_predict'] = np.nan\n",
    "for train_index, test_index in kf.split(densityData['comp']):\n",
    "    print('Split #{}'.format(rep))\n",
    "    density_model.fit(X_dens[train_index,:], densityData['density'][train_index])\n",
    "    \n",
    "    y_densPredict = density_model.predict(X_dens[test_index,:])\n",
    "    densityData['density_predict'][test_index] = y_densPredict\n",
    "    \n",
    "    #print(train_index, test_index)\n",
    "    rep+=1\n",
    "#y_densPredict = "
   ]
  },
  {
   "cell_type": "code",
   "execution_count": 13,
   "metadata": {},
   "outputs": [
    {
     "data": {
      "image/png": "[encoded data removed]",
      "text/plain": [
       "<matplotlib.figure.Figure at 0x68018d0>"
      ]
     },
     "metadata": {},
     "output_type": "display_data"
    }
   ],
   "source": [
    "plt.figure(figsize=(5,5))\n",
    "plt.scatter(densityData['density'], densityData['density_predict'], edgecolors='k')\n",
    "plt.plot([0,30], [0,30], 'r-')\n",
    "plt.xlabel('density [g/cm$^3$]')\n",
    "plt.ylabel('predicted density')\n",
    "\n",
    "r2Std = r2_score(densityData['density'], densityData['density_predict'])\n",
    "plt.text(7,20, 'R$^2$ score: {:.3f}'.format(r2Std))\n",
    "plt.xlim([0,25])\n",
    "plt.ylim([0,25])\n",
    "plt.title('standard model: density')\n",
    "\n",
    "if saveFigures:\n",
    "    plt.savefig(os.path.join(os.getcwd(),'results','densityScatter.png'))\n",
    "    print('figure saved')"
   ]
  },
  {
   "cell_type": "markdown",
   "metadata": {},
   "source": [
    "Compare to Vegard's law, rule of mixtures"
   ]
  },
  {
   "cell_type": "code",
   "execution_count": 14,
   "metadata": {},
   "outputs": [],
   "source": [
    "elemProp = pd.read_excel('datasets/ElementalDensityIonizationTable.xlsx')\n",
    "elemDensity = elemProp[['symbol', 'density [g/cm3]']]\n",
    "\n",
    "def vegardsDensity(comp):\n",
    "    '''\n",
    "    input: Composition object\n",
    "    '''\n",
    "        \n",
    "    density=0\n",
    "    elemSet = set(comp.elements)\n",
    "    subscriptCnt = 0\n",
    "    \n",
    "    for elem in elemSet:\n",
    "        subscriptCnt += comp[elem]\n",
    "        try: \n",
    "            densityPart = comp[elem]*elemDensity[ elemDensity['symbol'] == str(elem)]['density [g/cm3]'].item()\n",
    "        except:\n",
    "            print('element {} not found?'.format(elem))\n",
    "            return 'error'\n",
    "            \n",
    "        density += densityPart\n",
    "        # print('element {} added density of {}: {}'.format(elem, densityPart, density))\n",
    "                \n",
    "    # print(subscriptCnt)\n",
    "    return density / subscriptCnt"
   ]
  },
  {
   "cell_type": "code",
   "execution_count": 15,
   "metadata": {},
   "outputs": [],
   "source": [
    "densityData['density_vegards'] = np.nan\n",
    "densityData['density_vegards'] = [vegardsDensity(c) for c in densityData['comp']]"
   ]
  },
  {
   "cell_type": "code",
   "execution_count": 16,
   "metadata": {},
   "outputs": [
    {
     "name": "stdout",
     "output_type": "stream",
     "text": [
      "Vegards: 0.8614466511737545, Random Forest Regressor: 0.8387510548825771\n"
     ]
    }
   ],
   "source": [
    "#densityData['density_vegards'] = pd.Series([vegardsDensity(comp) for comp in densityData['comp']])\n",
    "r2Vegards = r2_score(densityData['density'],densityData['density_vegards'])\n",
    "r2RF = r2_score(densityData['density'], densityData['density_predict'])\n",
    "print('Vegards: {}, Random Forest Regressor: {}'.format(r2Vegards, r2RF))"
   ]
  },
  {
   "cell_type": "code",
   "execution_count": 17,
   "metadata": {},
   "outputs": [
    {
     "data": {
      "image/png": "[encoded data removed]",
      "text/plain": [
       "<matplotlib.figure.Figure at 0x6c5bcc0>"
      ]
     },
     "metadata": {},
     "output_type": "display_data"
    }
   ],
   "source": [
    "plt.figure(figsize=(5,5))\n",
    "plt.scatter(densityData['density'], densityData['density_vegards'], edgecolors='k')\n",
    "plt.plot([0,30], [0,30], 'r-')\n",
    "plt.xlabel('density [g/cm$^3$]')\n",
    "plt.ylabel('predicted density (vegards)')\n",
    "plt.title('Vegards Law predictions')\n",
    "\n",
    "r2V = r2_score(densityData['density'], densityData['density_vegards'])\n",
    "plt.text(7,20, 'R$^2$ score: {:.3f}'.format(r2V))\n",
    "\n",
    "plt.xlim([0,25])\n",
    "plt.ylim([0,25])\n",
    "\n",
    "if saveFigures:\n",
    "    plt.savefig(os.path.join(os.getcwd(),'results','densityVegardsVsTruth.png'))\n",
    "    print('figure saved')"
   ]
  },
  {
   "cell_type": "markdown",
   "metadata": {},
   "source": [
    "# Investigating poorly performing predictions"
   ]
  },
  {
   "cell_type": "code",
   "execution_count": 18,
   "metadata": {},
   "outputs": [],
   "source": [
    "largeErrorDensity = densityData[ [ abs((x-y)/x) > 0.5 for x,y in zip(densityData['density'], densityData['density_predict']) ]]"
   ]
  },
  {
   "cell_type": "markdown",
   "metadata": {},
   "source": [
    "# Train model on difference from Vegards Predictions"
   ]
  },
  {
   "cell_type": "code",
   "execution_count": 19,
   "metadata": {},
   "outputs": [],
   "source": [
    "densityData['vegards_diff'] = densityData['density'] - densityData['density_vegards']"
   ]
  },
  {
   "cell_type": "code",
   "execution_count": 20,
   "metadata": {},
   "outputs": [
    {
     "name": "stdout",
     "output_type": "stream",
     "text": [
      "mean difference: 0.161, variance 0.707\n",
      "max difference: 8.760, min difference -2.111\n"
     ]
    }
   ],
   "source": [
    "print('mean difference: {:.3f}, variance {:.3f}'.format(densityData['vegards_diff'].mean(), densityData['vegards_diff'].var()))\n",
    "print('max difference: {:.3f}, min difference {:.3f}'.format(densityData['vegards_diff'].max(), densityData['vegards_diff'].min()))"
   ]
  },
  {
   "cell_type": "code",
   "execution_count": 21,
   "metadata": {},
   "outputs": [],
   "source": [
    "densDiffModel = Pipeline([('impute',Imputer()), \n",
    "                          ('model', RandomForestRegressor(n_estimators=100, n_jobs=1, max_features=12))])"
   ]
  },
  {
   "cell_type": "code",
   "execution_count": 22,
   "metadata": {},
   "outputs": [
    {
     "data": {
      "text/html": [
       "<div>\n",
       "<style scoped>\n",
       "    .dataframe tbody tr th:only-of-type {\n",
       "        vertical-align: middle;\n",
       "    }\n",
       "\n",
       "    .dataframe tbody tr th {\n",
       "        vertical-align: top;\n",
       "    }\n",
       "\n",
       "    .dataframe thead th {\n",
       "        text-align: right;\n",
       "    }\n",
       "</style>\n",
       "<table border=\"1\" class=\"dataframe\">\n",
       "  <thead>\n",
       "    <tr style=\"text-align: right;\">\n",
       "      <th></th>\n",
       "      <th>comp</th>\n",
       "      <th>density</th>\n",
       "      <th>density_predict</th>\n",
       "      <th>density_vegards</th>\n",
       "      <th>vegards_diff</th>\n",
       "    </tr>\n",
       "  </thead>\n",
       "  <tbody>\n",
       "    <tr>\n",
       "      <th>606</th>\n",
       "      <td>(Zr, Nb, Al, Cu, Ni)</td>\n",
       "      <td>15.2</td>\n",
       "      <td>6.727191</td>\n",
       "      <td>6.91044</td>\n",
       "      <td>8.28956</td>\n",
       "    </tr>\n",
       "    <tr>\n",
       "      <th>607</th>\n",
       "      <td>(Zr, Nb, Al, Cu, Ni)</td>\n",
       "      <td>14.3</td>\n",
       "      <td>6.727191</td>\n",
       "      <td>6.91044</td>\n",
       "      <td>7.38956</td>\n",
       "    </tr>\n",
       "    <tr>\n",
       "      <th>608</th>\n",
       "      <td>(Zr, Nb, Al, Cu, Ni)</td>\n",
       "      <td>15.67</td>\n",
       "      <td>6.727191</td>\n",
       "      <td>6.91044</td>\n",
       "      <td>8.75956</td>\n",
       "    </tr>\n",
       "    <tr>\n",
       "      <th>609</th>\n",
       "      <td>(Zr, Nb, Al, Cu, Ni)</td>\n",
       "      <td>15.44</td>\n",
       "      <td>6.727191</td>\n",
       "      <td>6.91044</td>\n",
       "      <td>8.52956</td>\n",
       "    </tr>\n",
       "  </tbody>\n",
       "</table>\n",
       "</div>"
      ],
      "text/plain": [
       "                     comp density  density_predict  density_vegards  \\\n",
       "606  (Zr, Nb, Al, Cu, Ni)    15.2         6.727191          6.91044   \n",
       "607  (Zr, Nb, Al, Cu, Ni)    14.3         6.727191          6.91044   \n",
       "608  (Zr, Nb, Al, Cu, Ni)   15.67         6.727191          6.91044   \n",
       "609  (Zr, Nb, Al, Cu, Ni)   15.44         6.727191          6.91044   \n",
       "\n",
       "    vegards_diff  \n",
       "606      8.28956  \n",
       "607      7.38956  \n",
       "608      8.75956  \n",
       "609      8.52956  "
      ]
     },
     "execution_count": 22,
     "metadata": {},
     "output_type": "execute_result"
    }
   ],
   "source": [
    "densityData[ abs(densityData['vegards_diff']) > 5]"
   ]
  },
  {
   "cell_type": "markdown",
   "metadata": {},
   "source": [
    "Remove the compositions with issues"
   ]
  },
  {
   "cell_type": "code",
   "execution_count": 26,
   "metadata": {},
   "outputs": [
    {
     "name": "stdout",
     "output_type": "stream",
     "text": [
      "Split #0\n",
      "prediction for trouble comp: [4.63580147]\n",
      "Split #1\n",
      "prediction for trouble comp: [5.17064476]\n",
      "Split #2\n",
      "prediction for trouble comp: [4.77612074]\n",
      "Split #3\n",
      "prediction for trouble comp: [5.0410092]\n",
      "Split #4\n",
      "prediction for trouble comp: [-0.17157068]\n"
     ]
    }
   ],
   "source": [
    "#take predicted values from each cross validation set to ensure training not performed on own set.  Take 200 training samples\n",
    "# Probably could have used cross_val_predict\n",
    "\n",
    "compTrouble = Composition('Zr57 Nb5 Al10 Cu15.4 Ni12.6')\n",
    "# Also probe interesting composition\n",
    "\n",
    "kf = KFold(5)\n",
    "rep=0\n",
    "densityData['diff_predict'] = np.nan\n",
    "for train_index, test_index in kf.split(densityData['comp']):\n",
    "    print('Split #{}'.format(rep))\n",
    "    densDiffModel.fit(X_dens[train_index,:], densityData['vegards_diff'][train_index])\n",
    "    \n",
    "    y_densPredict = densDiffModel.predict(X_dens[test_index,:])\n",
    "    densityData['diff_predict'][test_index] = y_densPredict\n",
    "    \n",
    "    troublePred = densDiffModel.predict(X_dens[615,:].reshape(1,-1))\n",
    "    \n",
    "    print('prediction for trouble comp: {}'.format(troublePred))\n",
    "    \n",
    "    #print(train_index, test_index)\n",
    "    rep+=1\n",
    "#y_densPredict = "
   ]
  },
  {
   "cell_type": "code",
   "execution_count": 27,
   "metadata": {},
   "outputs": [
    {
     "name": "stdout",
     "output_type": "stream",
     "text": [
      "Deviation Prediction, r2 sans outliers: 0.5538023734996227\n"
     ]
    }
   ],
   "source": [
    "#  Examine performance without outliers (trouble compositions)\n",
    "notTroubleDF = densityData[ [not compTrouble.almost_equals(c) for c in densityData['comp']] ]\n",
    "notTroubleDF.reset_index(inplace=True, drop=True)\n",
    "print('Deviation Prediction, r2 sans outliers: {}'.format(r2_score(notTroubleDF['vegards_diff'], notTroubleDF['diff_predict'])))"
   ]
  },
  {
   "cell_type": "code",
   "execution_count": 28,
   "metadata": {},
   "outputs": [
    {
     "name": "stdout",
     "output_type": "stream",
     "text": [
      "Density Prediction, r2 sans outliers: 0.9092829937255766\n"
     ]
    }
   ],
   "source": [
    "#  Examine performance without outliers in normal model\n",
    "print('Density Prediction, r2 sans outliers: {}'.format(r2_score(notTroubleDF['density_predict'], notTroubleDF['density'])))"
   ]
  },
  {
   "cell_type": "markdown",
   "metadata": {},
   "source": [
    "Train Models on cleaned datasets"
   ]
  },
  {
   "cell_type": "code",
   "execution_count": 37,
   "metadata": {},
   "outputs": [],
   "source": [
    "X_notTrouble = X_dens[ [not compTrouble.almost_equals(c) for c in densityData['comp']] ]"
   ]
  },
  {
   "cell_type": "code",
   "execution_count": 30,
   "metadata": {},
   "outputs": [
    {
     "name": "stdout",
     "output_type": "stream",
     "text": [
      "Split #0\n",
      "                         importance\n",
      "mean NValence              0.062667\n",
      "mode NValence              0.048198\n",
      "mode AtomicWeight          0.044671\n",
      "avg s valence electrons    0.039837\n",
      "minimum MendeleevNumber    0.039499\n",
      "Split #1\n",
      "                        importance\n",
      "mode AtomicWeight         0.071410\n",
      "mode Number               0.068555\n",
      "mode NValence             0.061914\n",
      "mode Electronegativity    0.051185\n",
      "mean Number               0.045897\n",
      "Split #2\n",
      "                   importance\n",
      "mean NValence        0.076486\n",
      "mode AtomicWeight    0.069820\n",
      "mode NValence        0.069489\n",
      "mode Number          0.066867\n",
      "mean MeltingT        0.044819\n",
      "Split #3\n",
      "                   importance\n",
      "mode AtomicWeight    0.074992\n",
      "mean NValence        0.056701\n",
      "mode NValence        0.055893\n",
      "mean AtomicWeight    0.054225\n",
      "mode Number          0.044328\n",
      "Split #4\n",
      "                   importance\n",
      "mode Number          0.073364\n",
      "mode NValence        0.069982\n",
      "mean NValence        0.059699\n",
      "mode MeltingT        0.051598\n",
      "mode AtomicWeight    0.045950\n"
     ]
    }
   ],
   "source": [
    "# how is learning in general without outliers?  Train on whole feature set\n",
    "densFeatTop = pd.DataFrame()\n",
    "\n",
    "# take predicted values from each cross validation set to ensure training not performed on own set.  Take 200 training samples\n",
    "# Probably could have used cross_val_predict\n",
    "kf = KFold(5)\n",
    "rep=0\n",
    "notTroubleDF['density_predict_noOutlier'] = np.nan\n",
    "for train_index, test_index in kf.split(notTroubleDF['comp']):\n",
    "    print('Split #{}'.format(rep))\n",
    "    density_model.fit(X_notTrouble[train_index,:], notTroubleDF['density'][train_index])\n",
    "    \n",
    "    y_densPredict = density_model.predict(X_notTrouble[test_index,:])\n",
    "    notTroubleDF['density_predict_noOutlier'][test_index] = y_densPredict\n",
    "    \n",
    "    \n",
    "    featureImp = pd.DataFrame(density_model.steps[1][1].feature_importances_,\n",
    "                          index=dens_featurizer.feature_labels(),\n",
    "                          columns=['importance']).sort_values('importance',ascending=False)\n",
    "    #print(featureImp.head())\n",
    "    \n",
    "    densFeatTop = densFeatTop.append(featureImp)\n",
    "\n",
    "    \n",
    "    #print(train_index, test_index)\n",
    "    rep+=1\n",
    "#y_densPredict = "
   ]
  },
  {
   "cell_type": "code",
   "execution_count": 39,
   "metadata": {},
   "outputs": [
    {
     "name": "stdout",
     "output_type": "stream",
     "text": [
      "top features over 5 training splits\n"
     ]
    },
    {
     "data": {
      "text/html": [
       "<div>\n",
       "<style scoped>\n",
       "    .dataframe tbody tr th:only-of-type {\n",
       "        vertical-align: middle;\n",
       "    }\n",
       "\n",
       "    .dataframe tbody tr th {\n",
       "        vertical-align: top;\n",
       "    }\n",
       "\n",
       "    .dataframe thead th {\n",
       "        text-align: right;\n",
       "    }\n",
       "</style>\n",
       "<table border=\"1\" class=\"dataframe\">\n",
       "  <thead>\n",
       "    <tr style=\"text-align: right;\">\n",
       "      <th></th>\n",
       "      <th>importance</th>\n",
       "      <th>totalImp</th>\n",
       "    </tr>\n",
       "  </thead>\n",
       "  <tbody>\n",
       "    <tr>\n",
       "      <th>mean NValence</th>\n",
       "      <td>0.062667</td>\n",
       "      <td>0.062667</td>\n",
       "    </tr>\n",
       "    <tr>\n",
       "      <th>mode NValence</th>\n",
       "      <td>0.048198</td>\n",
       "      <td>0.048198</td>\n",
       "    </tr>\n",
       "    <tr>\n",
       "      <th>mode AtomicWeight</th>\n",
       "      <td>0.044671</td>\n",
       "      <td>0.044671</td>\n",
       "    </tr>\n",
       "    <tr>\n",
       "      <th>avg s valence electrons</th>\n",
       "      <td>0.039837</td>\n",
       "      <td>0.039837</td>\n",
       "    </tr>\n",
       "    <tr>\n",
       "      <th>minimum MendeleevNumber</th>\n",
       "      <td>0.039499</td>\n",
       "      <td>0.039499</td>\n",
       "    </tr>\n",
       "  </tbody>\n",
       "</table>\n",
       "</div>"
      ],
      "text/plain": [
       "                         importance  totalImp\n",
       "mean NValence              0.062667  0.062667\n",
       "mode NValence              0.048198  0.048198\n",
       "mode AtomicWeight          0.044671  0.044671\n",
       "avg s valence electrons    0.039837  0.039837\n",
       "minimum MendeleevNumber    0.039499  0.039499"
      ]
     },
     "execution_count": 39,
     "metadata": {},
     "output_type": "execute_result"
    }
   ],
   "source": [
    "densFeatTop['totalImp'] = densFeatTop.groupby(level=0)['importance'].transform('sum')\n",
    "densFeatTop = densFeatTop.drop_duplicates(subset=['totalImp']).sort_values('totalImp',ascending=False)\n",
    "print('top features over 5 training splits')\n",
    "densFeatTop.head()\n",
    "\n",
    "#densFeatTop.to_csv(os.path.join(os.getcwd(),'results','avgTopFeats_densityNoOutliers.csv'))"
   ]
  },
  {
   "cell_type": "code",
   "execution_count": 33,
   "metadata": {},
   "outputs": [
    {
     "data": {
      "image/png": "[encoded data removed]",
      "text/plain": [
       "<matplotlib.figure.Figure at 0x16362cc0>"
      ]
     },
     "metadata": {},
     "output_type": "display_data"
    }
   ],
   "source": [
    "# plot Comparison, report r2\n",
    "r2noOut = r2_score(notTroubleDF['density'], notTroubleDF['density_predict_noOutlier'])\n",
    "\n",
    "plt.figure(figsize=(5,5))\n",
    "plt.scatter(notTroubleDF['density'], notTroubleDF['density_predict_noOutlier'], edgecolors='k')\n",
    "plt.plot([0,30], [0,30], 'r-')\n",
    "plt.xlabel('density [g/cm$^3$]')\n",
    "plt.ylabel('predicted density without Outlier Comp')\n",
    "\n",
    "\n",
    "plt.text(7,20, 'R$^2$ score: {:.3f}'.format(r2noOut))\n",
    "plt.xlim([0,25])\n",
    "plt.ylim([0,25])\n",
    "plt.title('default model: density, drop outlier comp')\n",
    "\n",
    "if saveFigures:\n",
    "    plt.savefig(os.path.join(os.getcwd(),'results','densityScatter_noOutliers_allFeats.png'))\n",
    "    print('figure saved')"
   ]
  },
  {
   "cell_type": "code",
   "execution_count": 34,
   "metadata": {},
   "outputs": [
    {
     "data": {
      "image/png": "[encoded data removed]",
      "text/plain": [
       "<matplotlib.figure.Figure at 0x17796b00>"
      ]
     },
     "metadata": {},
     "output_type": "display_data"
    }
   ],
   "source": [
    "# plot Comparison, report r2\n",
    "r2noOut = r2_score(notTroubleDF['density'], notTroubleDF['density_vegards'])\n",
    "\n",
    "plt.figure(figsize=(5,5))\n",
    "plt.scatter(notTroubleDF['density'], notTroubleDF['density_vegards'], edgecolors='k')\n",
    "plt.plot([0,30], [0,30], 'r-')\n",
    "plt.xlabel('density [g/cm$^3$]')\n",
    "plt.ylabel('Vegards-predicted density without Outlier Comp')\n",
    "\n",
    "\n",
    "plt.text(7,20, 'R$^2$ score: {:.3f}'.format(r2noOut))\n",
    "plt.xlim([0,25])\n",
    "plt.ylim([0,25])\n",
    "plt.title('Vegards Law: density, drop outlier comp')\n",
    "\n",
    "if saveFigures:\n",
    "    plt.savefig(os.path.join(os.getcwd(),'results','densityScatter_noOutliers_vegards.png'))\n",
    "    print('figure saved')"
   ]
  },
  {
   "cell_type": "markdown",
   "metadata": {},
   "source": [
    "## Train on difference between density and vegards, see what features float up\n",
    "Not including outliers"
   ]
  },
  {
   "cell_type": "code",
   "execution_count": 40,
   "metadata": {},
   "outputs": [
    {
     "data": {
      "text/html": [
       "<div>\n",
       "<style scoped>\n",
       "    .dataframe tbody tr th:only-of-type {\n",
       "        vertical-align: middle;\n",
       "    }\n",
       "\n",
       "    .dataframe tbody tr th {\n",
       "        vertical-align: top;\n",
       "    }\n",
       "\n",
       "    .dataframe thead th {\n",
       "        text-align: right;\n",
       "    }\n",
       "</style>\n",
       "<table border=\"1\" class=\"dataframe\">\n",
       "  <thead>\n",
       "    <tr style=\"text-align: right;\">\n",
       "      <th></th>\n",
       "      <th>comp</th>\n",
       "      <th>density</th>\n",
       "      <th>density_predict</th>\n",
       "      <th>density_vegards</th>\n",
       "      <th>vegards_diff</th>\n",
       "      <th>diff_predict</th>\n",
       "      <th>density_predict_noOutlier</th>\n",
       "    </tr>\n",
       "  </thead>\n",
       "  <tbody>\n",
       "    <tr>\n",
       "      <th>0</th>\n",
       "      <td>(Ce, Al)</td>\n",
       "      <td>3.462</td>\n",
       "      <td>4.473358</td>\n",
       "      <td>3.1070</td>\n",
       "      <td>0.355</td>\n",
       "      <td>0.285663</td>\n",
       "      <td>4.040834</td>\n",
       "    </tr>\n",
       "    <tr>\n",
       "      <th>1</th>\n",
       "      <td>(Al, Fe, B)</td>\n",
       "      <td>3.539</td>\n",
       "      <td>5.362311</td>\n",
       "      <td>3.6620</td>\n",
       "      <td>-0.123</td>\n",
       "      <td>0.717703</td>\n",
       "      <td>5.873150</td>\n",
       "    </tr>\n",
       "    <tr>\n",
       "      <th>2</th>\n",
       "      <td>(Zr, Al, Ni)</td>\n",
       "      <td>3.384</td>\n",
       "      <td>4.009530</td>\n",
       "      <td>3.5105</td>\n",
       "      <td>-0.1265</td>\n",
       "      <td>0.159782</td>\n",
       "      <td>4.027156</td>\n",
       "    </tr>\n",
       "    <tr>\n",
       "      <th>3</th>\n",
       "      <td>(Zr, Al, Ni)</td>\n",
       "      <td>3.517</td>\n",
       "      <td>4.227483</td>\n",
       "      <td>3.6965</td>\n",
       "      <td>-0.1795</td>\n",
       "      <td>0.119536</td>\n",
       "      <td>4.164639</td>\n",
       "    </tr>\n",
       "    <tr>\n",
       "      <th>4</th>\n",
       "      <td>(Hf, Al, Ni)</td>\n",
       "      <td>2.835</td>\n",
       "      <td>5.422530</td>\n",
       "      <td>3.8505</td>\n",
       "      <td>-1.0155</td>\n",
       "      <td>0.308912</td>\n",
       "      <td>5.790883</td>\n",
       "    </tr>\n",
       "  </tbody>\n",
       "</table>\n",
       "</div>"
      ],
      "text/plain": [
       "           comp density  density_predict  density_vegards vegards_diff  \\\n",
       "0      (Ce, Al)   3.462         4.473358           3.1070        0.355   \n",
       "1   (Al, Fe, B)   3.539         5.362311           3.6620       -0.123   \n",
       "2  (Zr, Al, Ni)   3.384         4.009530           3.5105      -0.1265   \n",
       "3  (Zr, Al, Ni)   3.517         4.227483           3.6965      -0.1795   \n",
       "4  (Hf, Al, Ni)   2.835         5.422530           3.8505      -1.0155   \n",
       "\n",
       "   diff_predict  density_predict_noOutlier  \n",
       "0      0.285663                   4.040834  \n",
       "1      0.717703                   5.873150  \n",
       "2      0.159782                   4.027156  \n",
       "3      0.119536                   4.164639  \n",
       "4      0.308912                   5.790883  "
      ]
     },
     "execution_count": 40,
     "metadata": {},
     "output_type": "execute_result"
    }
   ],
   "source": [
    "notTroubleDF.head()"
   ]
  },
  {
   "cell_type": "code",
   "execution_count": 41,
   "metadata": {},
   "outputs": [
    {
     "name": "stdout",
     "output_type": "stream",
     "text": [
      "Split #0, training on 555\n",
      "Split #1, training on 555\n",
      "Split #2, training on 555\n",
      "Split #3, training on 555\n",
      "Split #4, training on 556\n"
     ]
    }
   ],
   "source": [
    "# Train on difference\n",
    "diffFeatTop5 = pd.DataFrame()\n",
    "\n",
    "# take predicted values from each cross validation set to ensure training not performed on own set.  Take 200 training samples\n",
    "# Probably could have used cross_val_predict\n",
    "kf = KFold(5)\n",
    "rep=0\n",
    "notTroubleDF['diff_predict'] = np.nan\n",
    "for train_index, test_index in kf.split(notTroubleDF['comp']):\n",
    "    print('Split #{}, training on {}'.format(rep, len(train_index)))\n",
    "    density_model.fit(X_notTrouble[train_index,:], notTroubleDF['vegards_diff'][train_index])\n",
    "    \n",
    "    y_diffPredict = density_model.predict(X_notTrouble[test_index,:])\n",
    "    notTroubleDF['diff_predict'][test_index] = y_diffPredict\n",
    "    \n",
    "    \n",
    "    featureImp = pd.DataFrame(density_model.steps[1][1].feature_importances_,\n",
    "                          index=dens_featurizer.feature_labels(),\n",
    "                          columns=['importance']).sort_values('importance',ascending=False)\n",
    "    #print(featureImp.head())\n",
    "    \n",
    "    diffFeatTop5 = diffFeatTop5.append(featureImp)\n",
    "\n",
    "    \n",
    "    #print(train_index, test_index)\n",
    "    rep+=1\n",
    "#y_densPredict = "
   ]
  },
  {
   "cell_type": "code",
   "execution_count": 43,
   "metadata": {},
   "outputs": [
    {
     "name": "stdout",
     "output_type": "stream",
     "text": [
      "top features over 5 training splits\n",
      "                        importance  totalImp\n",
      "minimum CovalentRadius    0.038616  0.175144\n",
      "mean GSbandgap            0.040553  0.170183\n",
      "avg_dev Column            0.022401  0.162196\n",
      "avg_dev NpValence         0.037927  0.146012\n",
      "mode MeltingT             0.005060  0.121917\n"
     ]
    }
   ],
   "source": [
    "diffFeatTop5['totalImp'] = diffFeatTop5.groupby(level=0)['importance'].transform('sum')\n",
    "diffFeatTop = diffFeatTop5.drop_duplicates(subset=['totalImp']).sort_values('totalImp',ascending=False)\n",
    "print('top features over 5 training splits')\n",
    "print(diffFeatTop.head())\n",
    "#diffFeatTop.to_csv(os.path.join(os.getcwd(),'results','avgTopFeats_densityVegardsDiff.csv'))"
   ]
  },
  {
   "cell_type": "code",
   "execution_count": 45,
   "metadata": {},
   "outputs": [
    {
     "data": {
      "image/png": "[encoded data removed]",
      "text/plain": [
       "<matplotlib.figure.Figure at 0x177c96a0>"
      ]
     },
     "metadata": {},
     "output_type": "display_data"
    }
   ],
   "source": [
    "# plot Comparison, report r2\n",
    "r2noOutDiff = r2_score(notTroubleDF['vegards_diff'], notTroubleDF['diff_predict'])\n",
    "\n",
    "plt.figure(figsize=(5,5))\n",
    "plt.scatter(notTroubleDF['vegards_diff'], notTroubleDF['diff_predict'], edgecolors='k')\n",
    "plt.plot([-5,5], [-5,5], 'r-')\n",
    "plt.xlabel('(density - vegards prediction) [g/cm$^3$]')\n",
    "plt.ylabel('predicted difference')\n",
    "\n",
    "\n",
    "plt.text(-1,4, 'R$^2$ score: {:.3f}'.format(r2noOutDiff))\n",
    "plt.xlim([-5,5])\n",
    "plt.ylim([-5,5])\n",
    "plt.title('Prediction of deviation from vegards drop outlier comp')\n",
    "\n",
    "if saveFigures:\n",
    "    plt.savefig(os.path.join(os.getcwd(),'results','densityDiffScatter_noOutliers.png'))\n",
    "    print('figure saved')"
   ]
  },
  {
   "cell_type": "code",
   "execution_count": 115,
   "metadata": {},
   "outputs": [
    {
     "name": "stdout",
     "output_type": "stream",
     "text": [
      "MAE for random forest: 0.3014 vs vegards law 0.4477\n",
      "0.17192901628097415\n"
     ]
    }
   ],
   "source": [
    "# Look at mean absolute err with this new data set:\n",
    "\n",
    "mae = mean_absolute_error(notTroubleDF['density'], notTroubleDF['density_predict_noOutlier'])\n",
    "mae_vegards = mean_absolute_error(notTroubleDF['density'], notTroubleDF['density_vegards'])\n",
    "print('MAE for random forest: {:.4f} vs vegards law {:.4f}'.format(mae, mae_vegards))\n",
    "mae_diff = mean_absolute_error(notTroubleDF['vegards_diff'], notTroubleDF['diff_predict'])\n",
    "print(mae_diff)"
   ]
  },
  {
   "cell_type": "markdown",
   "metadata": {},
   "source": [
    "# Assess performance of using difference predictions instead of full model "
   ]
  },
  {
   "cell_type": "code",
   "execution_count": 47,
   "metadata": {},
   "outputs": [
    {
     "name": "stdout",
     "output_type": "stream",
     "text": [
      "0.9783616185073568\n"
     ]
    },
    {
     "data": {
      "image/png": "[encoded data removed]",
      "text/plain": [
       "<matplotlib.figure.Figure at 0x177ed5c0>"
      ]
     },
     "metadata": {},
     "output_type": "display_data"
    }
   ],
   "source": [
    "notTroubleDF['vPlusDiff'] = notTroubleDF['density_vegards'] + notTroubleDF['diff_predict']\n",
    "r2Comp = r2_score(notTroubleDF['density'], notTroubleDF['vPlusDiff'])\n",
    "print(r2Comp)\n",
    "\n",
    "plt.figure(figsize=(5,5))\n",
    "plt.scatter(notTroubleDF['vPlusDiff'], notTroubleDF['density'], edgecolors='k')\n",
    "plt.plot([0,25], [0,25], 'r-')\n",
    "plt.xlabel('density [g/cm$^3$]')\n",
    "plt.ylabel('predicted: Vegards + predicted difference')\n",
    "\n",
    "\n",
    "plt.text(10,20, 'R$^2$ score: {:.3f}'.format(r2Comp))\n",
    "plt.xlim([0,25])\n",
    "plt.ylim([0,25])\n",
    "plt.title('Prediction of deviation from vegards drop outlier comp')\n",
    "\n",
    "if saveFigures:\n",
    "    plt.savefig(os.path.join(os.getcwd(),'results','densityDiffScatter_VegardsPlusDiff.png'))\n",
    "    print('figure saved')"
   ]
  },
  {
   "cell_type": "markdown",
   "metadata": {},
   "source": [
    "# Gather Materials Project data and try to predict compositions."
   ]
  },
  {
   "cell_type": "code",
   "execution_count": null,
   "metadata": {},
   "outputs": [],
   "source": []
  }
 ],
 "metadata": {
  "kernelspec": {
   "display_name": "Python 3",
   "language": "python",
   "name": "python3"
  },
  "language_info": {
   "codemirror_mode": {
    "name": "ipython",
    "version": 3
   },
   "file_extension": ".py",
   "mimetype": "text/x-python",
   "name": "python",
   "nbconvert_exporter": "python",
   "pygments_lexer": "ipython3",
   "version": "3.6.3"
  }
 },
 "nbformat": 4,
 "nbformat_minor": 2
}
