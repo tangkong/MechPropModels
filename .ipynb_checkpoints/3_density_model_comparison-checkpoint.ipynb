{
 "cells": [
  {
   "cell_type": "code",
   "execution_count": 1,
   "metadata": {},
   "outputs": [],
   "source": [
    "%matplotlib inline\n",
    "from matplotlib import pyplot as plt\n",
    "from matminer.featurizers.base import MultipleFeaturizer, StackedFeaturizer\n",
    "from matminer.featurizers import composition as cf\n",
    "from sklearn.ensemble import RandomForestClassifier, RandomForestRegressor\n",
    "from sklearn.model_selection import GridSearchCV, ShuffleSplit, LeaveOneGroupOut, cross_val_score, learning_curve, KFold\n",
    "from sklearn.pipeline import Pipeline\n",
    "from sklearn.preprocessing import Imputer, LabelEncoder\n",
    "from sklearn.metrics import roc_curve, auc, r2_score, make_scorer, mean_absolute_error\n",
    "from sklearn.feature_selection import RFECV\n",
    "from sklearn import metrics\n",
    "from pymatgen import Composition\n",
    "import pickle as pkl\n",
    "import pandas as pd\n",
    "import numpy as np\n",
    "import gzip\n",
    "import os\n",
    "import re"
   ]
  },
  {
   "cell_type": "code",
   "execution_count": 2,
   "metadata": {},
   "outputs": [],
   "source": [
    "saveFigures=False"
   ]
  },
  {
   "cell_type": "code",
   "execution_count": 3,
   "metadata": {},
   "outputs": [],
   "source": [
    "def featCleanImpute(Y):\n",
    "    ''' Convert inf to NaN in feature array, in place\n",
    "    \n",
    "    Args: \n",
    "        Y, feature array, list of ndarray (#samples x #features)\n",
    "    Returns:\n",
    "        None\n",
    "    '''\n",
    "    # Clean inf values\n",
    "    for i in range(len(Y)):\n",
    "        for j in range(len(Y[i])):\n",
    "            if Y[i][j] == np.inf:\n",
    "                Y[i][j] = np.nan\n",
    "            else:\n",
    "                Y[i][j] = Y[i][j]\n",
    "                \n",
    "    # Impute nan values\n",
    "    imp = Imputer(missing_values='NaN', axis=0, strategy='mean', copy=False)\n",
    "    imp2 = Imputer(missing_values='NaN', axis=1, strategy='mean', copy=False)\n",
    "\n",
    "    imp.fit(Y)\n",
    "    imp.transform(Y)\n",
    "    imp2.fit(Y)\n",
    "    imp.transform(Y)\n",
    "    "
   ]
  },
  {
   "cell_type": "markdown",
   "metadata": {},
   "source": [
    "# Build Model: Density"
   ]
  },
  {
   "cell_type": "markdown",
   "metadata": {},
   "source": [
    "Import feature set, import data"
   ]
  },
  {
   "cell_type": "code",
   "execution_count": 4,
   "metadata": {},
   "outputs": [],
   "source": [
    "with gzip.open('./datasets/density_features.pkl.gz', 'rb') as fp:\n",
    "    X_dens = pkl.load(fp)\n",
    "with gzip.open('./datasets/density_data.pkl.gz', 'rb') as fd:\n",
    "    densityData = pkl.load(fd)"
   ]
  },
  {
   "cell_type": "code",
   "execution_count": 5,
   "metadata": {},
   "outputs": [],
   "source": [
    "density_model = Pipeline([('impute',Imputer()), \n",
    "                          ('model', RandomForestRegressor(n_estimators=100, n_jobs=1, max_features=12))])\n",
    "dens_featurizer = MultipleFeaturizer([cf.Stoichiometry(), cf.ElementProperty.from_preset(\"magpie\"),\n",
    "                                 cf.ValenceOrbital(props=['avg']), cf.IonProperty(fast=True),\n",
    "                                cf.YangSolidSolution(), cf.AtomicPackingEfficiency()])"
   ]
  },
  {
   "cell_type": "code",
   "execution_count": 6,
   "metadata": {},
   "outputs": [
    {
     "name": "stdout",
     "output_type": "stream",
     "text": [
      "Wall time: 1.55 s\n"
     ]
    },
    {
     "data": {
      "text/plain": [
       "Pipeline(memory=None,\n",
       "     steps=[('impute', Imputer(axis=0, copy=True, missing_values='NaN', strategy='mean', verbose=0)), ('model', RandomForestRegressor(bootstrap=True, criterion='mse', max_depth=None,\n",
       "           max_features=12, max_leaf_nodes=None, min_impurity_decrease=0.0,\n",
       "           min_impurity_split=None, min_samples_leaf=1,\n",
       "           min_samples_split=2, min_weight_fraction_leaf=0.0,\n",
       "           n_estimators=100, n_jobs=1, oob_score=False, random_state=None,\n",
       "           verbose=0, warm_start=False))])"
      ]
     },
     "execution_count": 6,
     "metadata": {},
     "output_type": "execute_result"
    }
   ],
   "source": [
    "%%time\n",
    "density_model.fit(X_dens, y=densityData['density'])"
   ]
  },
  {
   "cell_type": "code",
   "execution_count": 7,
   "metadata": {},
   "outputs": [],
   "source": [
    "# make scorer for r2 metric\n",
    "r2_scorer = make_scorer(r2_score)"
   ]
  },
  {
   "cell_type": "code",
   "execution_count": 8,
   "metadata": {},
   "outputs": [
    {
     "data": {
      "text/plain": [
       "(701, 152)"
      ]
     },
     "execution_count": 8,
     "metadata": {},
     "output_type": "execute_result"
    }
   ],
   "source": [
    "np.shape(X_dens)"
   ]
  },
  {
   "cell_type": "markdown",
   "metadata": {},
   "source": [
    "# Assess quality of model, identify outliers, refine model"
   ]
  },
  {
   "cell_type": "markdown",
   "metadata": {},
   "source": [
    "Compare to Vegard's law, rule of mixtures"
   ]
  },
  {
   "cell_type": "code",
   "execution_count": 9,
   "metadata": {},
   "outputs": [],
   "source": [
    "elemProp = pd.read_excel('datasets/ElementalDensityIonizationTable.xlsx')\n",
    "elemDensity = elemProp[['symbol', 'density [g/cm3]']]\n",
    "\n",
    "def vegardsDensity(comp):\n",
    "    '''\n",
    "    input: Composition object\n",
    "    '''\n",
    "        \n",
    "    density=0\n",
    "    elemSet = set(comp.elements)\n",
    "    subscriptCnt = 0\n",
    "    \n",
    "    for elem in elemSet:\n",
    "        subscriptCnt += comp[elem]\n",
    "        try: \n",
    "            densityPart = comp[elem]*elemDensity[ elemDensity['symbol'] == str(elem)]['density [g/cm3]'].item()\n",
    "        except:\n",
    "            print('element {} not found?'.format(elem))\n",
    "            return 'error'\n",
    "            \n",
    "        density += densityPart\n",
    "        # print('element {} added density of {}: {}'.format(elem, densityPart, density))\n",
    "                \n",
    "    # print(subscriptCnt)\n",
    "    return density / subscriptCnt"
   ]
  },
  {
   "cell_type": "code",
   "execution_count": 10,
   "metadata": {},
   "outputs": [],
   "source": [
    "densityData['density_vegards'] = np.nan\n",
    "densityData['density_vegards'] = [vegardsDensity(c) for c in densityData['comp']]"
   ]
  },
  {
   "cell_type": "code",
   "execution_count": 11,
   "metadata": {},
   "outputs": [],
   "source": [
    "densDiffModel = Pipeline([('impute',Imputer()), \n",
    "                          ('model', RandomForestRegressor(n_estimators=100, n_jobs=1, max_features=12))])"
   ]
  },
  {
   "cell_type": "markdown",
   "metadata": {},
   "source": [
    "Remove the compositions with issues"
   ]
  },
  {
   "cell_type": "code",
   "execution_count": 12,
   "metadata": {},
   "outputs": [],
   "source": [
    "#  Examine performance without outliers (trouble compositions)\n",
    "compTrouble = Composition('Zr57 Nb5 Al10 Cu15.4 Ni12.6')\n",
    "notTroubleDF = densityData[ [not compTrouble.almost_equals(c) for c in densityData['comp']] ]\n",
    "notTroubleDF.reset_index(inplace=True, drop=True)\n",
    "#print('Deviation Prediction, r2 sans outliers: {}'.format(r2_score(notTroubleDF['vegards_diff'], notTroubleDF['diff_predict'])))"
   ]
  },
  {
   "cell_type": "markdown",
   "metadata": {},
   "source": [
    "Train Models on cleaned datasets"
   ]
  },
  {
   "cell_type": "code",
   "execution_count": 13,
   "metadata": {},
   "outputs": [],
   "source": [
    "X_notTrouble = X_dens[ [not compTrouble.almost_equals(c) for c in densityData['comp']] ]"
   ]
  },
  {
   "cell_type": "code",
   "execution_count": 14,
   "metadata": {},
   "outputs": [
    {
     "name": "stdout",
     "output_type": "stream",
     "text": [
      "Split #0\n",
      "Split #1\n",
      "Split #2\n",
      "Split #3\n",
      "Split #4\n"
     ]
    }
   ],
   "source": [
    "# how is learning in general without outliers?  Train on whole feature set\n",
    "densFeatTop = pd.DataFrame()\n",
    "\n",
    "# take predicted values from each cross validation set to ensure training not performed on own set.  Take 200 training samples\n",
    "# Probably could have used cross_val_predict\n",
    "kf = KFold(5)\n",
    "rep=0\n",
    "notTroubleDF['density_predict'] = np.nan\n",
    "for train_index, test_index in kf.split(notTroubleDF['comp']):\n",
    "    print('Split #{}'.format(rep))\n",
    "    density_model.fit(X_notTrouble[train_index,:], notTroubleDF['density'][train_index])\n",
    "    \n",
    "    y_densPredict = density_model.predict(X_notTrouble[test_index,:])\n",
    "    notTroubleDF['density_predict'][test_index] = y_densPredict\n",
    "    \n",
    "    \n",
    "    featureImp = pd.DataFrame(density_model.steps[1][1].feature_importances_,\n",
    "                          index=dens_featurizer.feature_labels(),\n",
    "                          columns=['importance']).sort_values('importance',ascending=False)\n",
    "    #print(featureImp.head())\n",
    "    \n",
    "    densFeatTop = densFeatTop.append(featureImp)\n",
    "\n",
    "    \n",
    "    #print(train_index, test_index)\n",
    "    rep+=1\n",
    "#y_densPredict = "
   ]
  },
  {
   "cell_type": "code",
   "execution_count": 15,
   "metadata": {},
   "outputs": [
    {
     "name": "stdout",
     "output_type": "stream",
     "text": [
      "top features over 5 training splits\n"
     ]
    },
    {
     "data": {
      "text/html": [
       "<div>\n",
       "<style scoped>\n",
       "    .dataframe tbody tr th:only-of-type {\n",
       "        vertical-align: middle;\n",
       "    }\n",
       "\n",
       "    .dataframe tbody tr th {\n",
       "        vertical-align: top;\n",
       "    }\n",
       "\n",
       "    .dataframe thead th {\n",
       "        text-align: right;\n",
       "    }\n",
       "</style>\n",
       "<table border=\"1\" class=\"dataframe\">\n",
       "  <thead>\n",
       "    <tr style=\"text-align: right;\">\n",
       "      <th></th>\n",
       "      <th>importance</th>\n",
       "      <th>totalImp</th>\n",
       "    </tr>\n",
       "  </thead>\n",
       "  <tbody>\n",
       "    <tr>\n",
       "      <th>mode AtomicWeight</th>\n",
       "      <td>0.055837</td>\n",
       "      <td>0.357031</td>\n",
       "    </tr>\n",
       "    <tr>\n",
       "      <th>mode NValence</th>\n",
       "      <td>0.056528</td>\n",
       "      <td>0.293434</td>\n",
       "    </tr>\n",
       "    <tr>\n",
       "      <th>mode Number</th>\n",
       "      <td>0.048045</td>\n",
       "      <td>0.264608</td>\n",
       "    </tr>\n",
       "    <tr>\n",
       "      <th>mean NValence</th>\n",
       "      <td>0.043194</td>\n",
       "      <td>0.228118</td>\n",
       "    </tr>\n",
       "    <tr>\n",
       "      <th>mean Number</th>\n",
       "      <td>0.013289</td>\n",
       "      <td>0.201938</td>\n",
       "    </tr>\n",
       "  </tbody>\n",
       "</table>\n",
       "</div>"
      ],
      "text/plain": [
       "                   importance  totalImp\n",
       "mode AtomicWeight    0.055837  0.357031\n",
       "mode NValence        0.056528  0.293434\n",
       "mode Number          0.048045  0.264608\n",
       "mean NValence        0.043194  0.228118\n",
       "mean Number          0.013289  0.201938"
      ]
     },
     "execution_count": 15,
     "metadata": {},
     "output_type": "execute_result"
    }
   ],
   "source": [
    "densFeatTop['totalImp'] = densFeatTop.groupby(level=0)['importance'].transform('sum')\n",
    "densFeatTop = densFeatTop.drop_duplicates(subset=['totalImp']).sort_values('totalImp',ascending=False)\n",
    "print('top features over 5 training splits')\n",
    "densFeatTop.head()\n",
    "\n",
    "#densFeatTop.to_csv(os.path.join(os.getcwd(),'results','avgTopFeats_densityNoOutliers.csv'))"
   ]
  },
  {
   "cell_type": "code",
   "execution_count": 16,
   "metadata": {},
   "outputs": [
    {
     "data": {
      "image/png": "[encoded data removed]",
      "text/plain": [
       "<matplotlib.figure.Figure at 0x13c20588>"
      ]
     },
     "metadata": {},
     "output_type": "display_data"
    }
   ],
   "source": [
    "# plot Comparison, report r2\n",
    "r2noOut = r2_score(notTroubleDF['density'], notTroubleDF['density_predict'])\n",
    "\n",
    "plt.figure(figsize=(5,5))\n",
    "plt.scatter(notTroubleDF['density'], notTroubleDF['density_predict'], edgecolors='k')\n",
    "plt.plot([0,30], [0,30], 'r-')\n",
    "plt.xlabel('density [g/cm$^3$]')\n",
    "plt.ylabel('predicted density without Outlier Comp')\n",
    "\n",
    "\n",
    "plt.text(7,20, 'R$^2$ score: {:.3f}'.format(r2noOut))\n",
    "plt.xlim([0,25])\n",
    "plt.ylim([0,25])\n",
    "plt.title('default model: density, drop outlier comp')\n",
    "\n",
    "if saveFigures:\n",
    "    plt.savefig(os.path.join(os.getcwd(),'results','densityScatter_noOutliers_allFeats.png'))\n",
    "    print('figure saved')"
   ]
  },
  {
   "cell_type": "code",
   "execution_count": 17,
   "metadata": {},
   "outputs": [
    {
     "data": {
      "image/png": "[encoded data removed]",
      "text/plain": [
       "<matplotlib.figure.Figure at 0x15daf240>"
      ]
     },
     "metadata": {},
     "output_type": "display_data"
    }
   ],
   "source": [
    "# plot Comparison, report r2\n",
    "r2noOut = r2_score(notTroubleDF['density'], notTroubleDF['density_vegards'])\n",
    "\n",
    "plt.figure(figsize=(5,5))\n",
    "plt.scatter(notTroubleDF['density'], notTroubleDF['density_vegards'], edgecolors='k')\n",
    "plt.plot([0,30], [0,30], 'r-')\n",
    "plt.xlabel('density [g/cm$^3$]')\n",
    "plt.ylabel('Vegards-predicted density without Outlier Comp')\n",
    "\n",
    "\n",
    "plt.text(7,20, 'R$^2$ score: {:.3f}'.format(r2noOut))\n",
    "plt.xlim([0,25])\n",
    "plt.ylim([0,25])\n",
    "plt.title('Vegards Law: density, drop outlier comp')\n",
    "\n",
    "if saveFigures:\n",
    "    plt.savefig(os.path.join(os.getcwd(),'results','densityScatter_noOutliers_vegards.png'))\n",
    "    print('figure saved')"
   ]
  },
  {
   "cell_type": "markdown",
   "metadata": {},
   "source": [
    "## Train on difference between density and vegards, see what features float up\n",
    "Not including outliers"
   ]
  },
  {
   "cell_type": "code",
   "execution_count": 18,
   "metadata": {},
   "outputs": [],
   "source": [
    "notTroubleDF['vegards_diff'] = notTroubleDF['density'] - notTroubleDF['density_vegards']"
   ]
  },
  {
   "cell_type": "code",
   "execution_count": 19,
   "metadata": {},
   "outputs": [
    {
     "name": "stdout",
     "output_type": "stream",
     "text": [
      "Split #0, training on 555\n",
      "Split #1, training on 555\n",
      "Split #2, training on 555\n",
      "Split #3, training on 555\n",
      "Split #4, training on 556\n"
     ]
    }
   ],
   "source": [
    "# Train on difference\n",
    "diffFeatTop5 = pd.DataFrame()\n",
    "\n",
    "# take predicted values from each cross validation set to ensure training not performed on own set.  Take 200 training samples\n",
    "# Probably could have used cross_val_predict\n",
    "kf = KFold(5)\n",
    "rep=0\n",
    "notTroubleDF['diff_predict'] = np.nan\n",
    "for train_index, test_index in kf.split(notTroubleDF['comp']):\n",
    "    print('Split #{}, training on {}'.format(rep, len(train_index)))\n",
    "    density_model.fit(X_notTrouble[train_index,:], notTroubleDF['vegards_diff'][train_index])\n",
    "    \n",
    "    y_diffPredict = density_model.predict(X_notTrouble[test_index,:])\n",
    "    notTroubleDF['diff_predict'][test_index] = y_diffPredict\n",
    "    \n",
    "    \n",
    "    featureImp = pd.DataFrame(density_model.steps[1][1].feature_importances_,\n",
    "                          index=dens_featurizer.feature_labels(),\n",
    "                          columns=['importance']).sort_values('importance',ascending=False)\n",
    "    #print(featureImp.head())\n",
    "    \n",
    "    diffFeatTop5 = diffFeatTop5.append(featureImp)\n",
    "\n",
    "    \n",
    "    #print(train_index, test_index)\n",
    "    rep+=1\n",
    "#y_densPredict = "
   ]
  },
  {
   "cell_type": "code",
   "execution_count": 20,
   "metadata": {},
   "outputs": [
    {
     "name": "stdout",
     "output_type": "stream",
     "text": [
      "top features over 5 training splits\n",
      "                        importance  totalImp\n",
      "minimum CovalentRadius    0.037032  0.185992\n",
      "avg_dev Column            0.019491  0.164135\n",
      "avg_dev NpValence         0.027041  0.143692\n",
      "avg_dev GSbandgap         0.037611  0.141368\n",
      "mean GSbandgap            0.032348  0.133119\n"
     ]
    }
   ],
   "source": [
    "diffFeatTop5['totalImp'] = diffFeatTop5.groupby(level=0)['importance'].transform('sum')\n",
    "diffFeatTop = diffFeatTop5.drop_duplicates(subset=['totalImp']).sort_values('totalImp',ascending=False)\n",
    "print('top features over 5 training splits')\n",
    "print(diffFeatTop.head())\n",
    "#diffFeatTop.to_csv(os.path.join(os.getcwd(),'results','avgTopFeats_densityVegardsDiff.csv'))"
   ]
  },
  {
   "cell_type": "code",
   "execution_count": 21,
   "metadata": {},
   "outputs": [
    {
     "data": {
      "image/png": "[encoded data removed]",
      "text/plain": [
       "<matplotlib.figure.Figure at 0x15e87a58>"
      ]
     },
     "metadata": {},
     "output_type": "display_data"
    }
   ],
   "source": [
    "# plot Comparison, report r2\n",
    "r2noOutDiff = r2_score(notTroubleDF['vegards_diff'], notTroubleDF['diff_predict'])\n",
    "\n",
    "plt.figure(figsize=(5,5))\n",
    "plt.scatter(notTroubleDF['vegards_diff'], notTroubleDF['diff_predict'], edgecolors='k')\n",
    "plt.plot([-5,5], [-5,5], 'r-')\n",
    "plt.xlabel('(density - vegards prediction) [g/cm$^3$]')\n",
    "plt.ylabel('predicted difference')\n",
    "\n",
    "\n",
    "plt.text(-1,4, 'R$^2$ score: {:.3f}'.format(r2noOutDiff))\n",
    "plt.xlim([-5,5])\n",
    "plt.ylim([-5,5])\n",
    "plt.title('Prediction of deviation from vegards drop outlier comp')\n",
    "\n",
    "if saveFigures:\n",
    "    plt.savefig(os.path.join(os.getcwd(),'results','densityDiffScatter_noOutliers.png'))\n",
    "    print('figure saved')"
   ]
  },
  {
   "cell_type": "code",
   "execution_count": 22,
   "metadata": {},
   "outputs": [
    {
     "name": "stdout",
     "output_type": "stream",
     "text": [
      "MAE for random forest: 0.2919 vs vegards law 0.4477\n",
      "0.17816298698347732\n"
     ]
    }
   ],
   "source": [
    "# Look at mean absolute err with this new data set:\n",
    "\n",
    "mae = mean_absolute_error(notTroubleDF['density'], notTroubleDF['density_predict'])\n",
    "mae_vegards = mean_absolute_error(notTroubleDF['density'], notTroubleDF['density_vegards'])\n",
    "print('MAE for random forest: {:.4f} vs vegards law {:.4f}'.format(mae, mae_vegards))\n",
    "mae_diff = mean_absolute_error(notTroubleDF['vegards_diff'], notTroubleDF['diff_predict'])\n",
    "print(mae_diff)"
   ]
  },
  {
   "cell_type": "markdown",
   "metadata": {},
   "source": [
    "# Assess performance of using difference predictions instead of full model "
   ]
  },
  {
   "cell_type": "code",
   "execution_count": 24,
   "metadata": {},
   "outputs": [
    {
     "name": "stdout",
     "output_type": "stream",
     "text": [
      "0.9784488802767065\n"
     ]
    },
    {
     "data": {
      "image/png": "[encoded data removed]",
      "text/plain": [
       "<matplotlib.figure.Figure at 0x15eaada0>"
      ]
     },
     "metadata": {},
     "output_type": "display_data"
    }
   ],
   "source": [
    "notTroubleDF['vPlusDiff'] = notTroubleDF['density_vegards'] + notTroubleDF['diff_predict']\n",
    "r2Comp = r2_score(notTroubleDF['density'], notTroubleDF['vPlusDiff'])\n",
    "print(r2Comp)\n",
    "\n",
    "plt.figure(figsize=(5,5))\n",
    "plt.scatter(notTroubleDF['vPlusDiff'], notTroubleDF['density'], edgecolors='k')\n",
    "plt.plot([0,25], [0,25], 'r-')\n",
    "plt.xlabel('density [g/cm$^3$]')\n",
    "plt.ylabel('predicted: Vegards + predicted difference')\n",
    "\n",
    "\n",
    "plt.text(10,20, 'R$^2$ score: {:.3f}'.format(r2Comp))\n",
    "plt.xlim([0,25])\n",
    "plt.ylim([0,25])\n",
    "plt.title('Prediction of deviation applied to vegards')\n",
    "\n",
    "if saveFigures:\n",
    "    plt.savefig(os.path.join(os.getcwd(),'results','densityDiffScatter_VegardsPlusDiff.png'))\n",
    "    print('figure saved')"
   ]
  },
  {
   "cell_type": "markdown",
   "metadata": {},
   "source": [
    "# Gather Materials Project data and try to predict compositions."
   ]
  },
  {
   "cell_type": "code",
   "execution_count": 25,
   "metadata": {},
   "outputs": [],
   "source": [
    "with gzip.open('./datasets/MAPI_density_data.pkl.gz', 'rb') as fd:\n",
    "    MAPIdata = pkl.load(fd)"
   ]
  },
  {
   "cell_type": "code",
   "execution_count": 26,
   "metadata": {},
   "outputs": [],
   "source": [
    "MAPIdata['density_vegards'] = [vegardsDensity(c) for c in MAPIdata['comp']]\n",
    "MAPIdata['vegards_diff'] = MAPIdata['density'] - MAPIdata['density_vegards']"
   ]
  },
  {
   "cell_type": "code",
   "execution_count": 27,
   "metadata": {},
   "outputs": [],
   "source": [
    "dens_featurizer = MultipleFeaturizer([cf.Stoichiometry(), cf.ElementProperty.from_preset(\"magpie\"),\n",
    "                                 cf.ValenceOrbital(props=['avg']), cf.IonProperty(fast=True),\n",
    "                                cf.YangSolidSolution(), cf.AtomicPackingEfficiency()])"
   ]
  },
  {
   "cell_type": "code",
   "execution_count": 28,
   "metadata": {},
   "outputs": [
    {
     "name": "stdout",
     "output_type": "stream",
     "text": [
      "[Errno 2] No such file or directory: './datasets/MAPI_density_SubsetFeats.pkl.gz'\n",
      "Feature file not found, featurizing\n",
      "Wall time: 0 ns\n"
     ]
    },
    {
     "data": {
      "application/vnd.jupyter.widget-view+json": {
       "model_id": "7eed7ae764034fbda05fbb17073169a2",
       "version_major": 2,
       "version_minor": 0
      },
      "text/plain": [
       "HBox(children=(IntProgress(value=0, description='MultipleFeaturizer', max=701), HTML(value='')))"
      ]
     },
     "metadata": {},
     "output_type": "display_data"
    },
    {
     "name": "stdout",
     "output_type": "stream",
     "text": [
      "\n",
      "Computed 152 features\n",
      "Exporting features and selected subset\n"
     ]
    }
   ],
   "source": [
    "%%time\n",
    "try:\n",
    "    with gzip.open('./datasets/MAPI_density_SubsetFeats.pkl.gz', 'rb') as fd:\n",
    "        X_mapi = pkl.load(fd)     \n",
    "    with gzip.open('./datasets/MAPI_density_SubsetData.pkl.gz', 'rb') as fb:\n",
    "        subsetMAPI = pkl.load(fb)     \n",
    "    \n",
    "except Exception as e:\n",
    "    print(e)\n",
    "    print('Feature file not found, featurizing')\n",
    "    \n",
    "    subsetMAPI = MAPIdata.sample(n=701)\n",
    "\n",
    "    X_mapi = dens_featurizer.featurize_many(subsetMAPI['comp'], ignore_errors=True)\n",
    "    X_mapi = np.array(X_mapi)\n",
    "    X_mapi.astype(float)\n",
    "    print('Computed {} features'.format(X_mapi.shape[1]))\n",
    "\n",
    "    print('Exporting features and selected subset')\n",
    "    with gzip.open('./datasets/MAPI_density_SubsetData.pkl.gz', 'wb') as fb:\n",
    "        pkl.dump(subsetMAPI, fb)\n",
    "    with gzip.open('./datasets/MAPI_density_SubsetFeats.pkl.gz', 'wb') as fd:\n",
    "        pkl.dump(X_mapi, fd)\n",
    "    "
   ]
  },
  {
   "cell_type": "code",
   "execution_count": 29,
   "metadata": {},
   "outputs": [
    {
     "data": {
      "text/plain": [
       "(array([], dtype=int64), array([], dtype=int64))"
      ]
     },
     "execution_count": 29,
     "metadata": {},
     "output_type": "execute_result"
    }
   ],
   "source": [
    "print(np.where(np.isnan(X_mapi)))\n",
    "featCleanImpute(X_mapi)\n",
    "print(np.where(np.isnan(X_mapi)))"
   ]
  },
  {
   "cell_type": "code",
   "execution_count": 31,
   "metadata": {},
   "outputs": [],
   "source": [
    "subsetMAPI['density_vegards'] = [vegardsDensity(c) for c in subsetMAPI['comp']]\n",
    "subsetMAPI['vegards_diff'] = subsetMAPI['density'] - subsetMAPI['density_vegards']"
   ]
  },
  {
   "cell_type": "code",
   "execution_count": 32,
   "metadata": {},
   "outputs": [
    {
     "data": {
      "text/html": [
       "<div>\n",
       "<style scoped>\n",
       "    .dataframe tbody tr th:only-of-type {\n",
       "        vertical-align: middle;\n",
       "    }\n",
       "\n",
       "    .dataframe tbody tr th {\n",
       "        vertical-align: top;\n",
       "    }\n",
       "\n",
       "    .dataframe thead th {\n",
       "        text-align: right;\n",
       "    }\n",
       "</style>\n",
       "<table border=\"1\" class=\"dataframe\">\n",
       "  <thead>\n",
       "    <tr style=\"text-align: right;\">\n",
       "      <th></th>\n",
       "      <th>density</th>\n",
       "      <th>material_id</th>\n",
       "      <th>pretty_formula</th>\n",
       "      <th>comp</th>\n",
       "      <th>density_vegards</th>\n",
       "      <th>vegards_diff</th>\n",
       "    </tr>\n",
       "  </thead>\n",
       "  <tbody>\n",
       "    <tr>\n",
       "      <th>0</th>\n",
       "      <td>5.752872</td>\n",
       "      <td>mp-20338</td>\n",
       "      <td>CeAl3Ni2</td>\n",
       "      <td>(Ce, Al, Ni)</td>\n",
       "      <td>5.445000</td>\n",
       "      <td>0.307872</td>\n",
       "    </tr>\n",
       "    <tr>\n",
       "      <th>1</th>\n",
       "      <td>4.807903</td>\n",
       "      <td>mp-30750</td>\n",
       "      <td>CeAl4Ni</td>\n",
       "      <td>(Ce, Al, Ni)</td>\n",
       "      <td>4.411667</td>\n",
       "      <td>0.396236</td>\n",
       "    </tr>\n",
       "    <tr>\n",
       "      <th>2</th>\n",
       "      <td>4.597243</td>\n",
       "      <td>mp-582245</td>\n",
       "      <td>Ce4Al23Ni6</td>\n",
       "      <td>(Ce, Al, Ni)</td>\n",
       "      <td>4.320606</td>\n",
       "      <td>0.276637</td>\n",
       "    </tr>\n",
       "    <tr>\n",
       "      <th>3</th>\n",
       "      <td>6.768836</td>\n",
       "      <td>mp-11351</td>\n",
       "      <td>CeAlNi</td>\n",
       "      <td>(Ce, Al, Ni)</td>\n",
       "      <td>6.123333</td>\n",
       "      <td>0.645503</td>\n",
       "    </tr>\n",
       "    <tr>\n",
       "      <th>4</th>\n",
       "      <td>4.901765</td>\n",
       "      <td>mp-4817</td>\n",
       "      <td>CeAl5Ni2</td>\n",
       "      <td>(Ce, Al, Ni)</td>\n",
       "      <td>4.758750</td>\n",
       "      <td>0.143015</td>\n",
       "    </tr>\n",
       "  </tbody>\n",
       "</table>\n",
       "</div>"
      ],
      "text/plain": [
       "    density material_id pretty_formula          comp  density_vegards  \\\n",
       "0  5.752872    mp-20338       CeAl3Ni2  (Ce, Al, Ni)         5.445000   \n",
       "1  4.807903    mp-30750        CeAl4Ni  (Ce, Al, Ni)         4.411667   \n",
       "2  4.597243   mp-582245     Ce4Al23Ni6  (Ce, Al, Ni)         4.320606   \n",
       "3  6.768836    mp-11351         CeAlNi  (Ce, Al, Ni)         6.123333   \n",
       "4  4.901765     mp-4817       CeAl5Ni2  (Ce, Al, Ni)         4.758750   \n",
       "\n",
       "   vegards_diff  \n",
       "0      0.307872  \n",
       "1      0.396236  \n",
       "2      0.276637  \n",
       "3      0.645503  \n",
       "4      0.143015  "
      ]
     },
     "execution_count": 32,
     "metadata": {},
     "output_type": "execute_result"
    }
   ],
   "source": [
    "MAPIdata.head()"
   ]
  },
  {
   "cell_type": "code",
   "execution_count": 33,
   "metadata": {},
   "outputs": [
    {
     "name": "stdout",
     "output_type": "stream",
     "text": [
      "Wall time: 374 ms\n"
     ]
    },
    {
     "data": {
      "text/plain": [
       "Pipeline(memory=None,\n",
       "     steps=[('impute', Imputer(axis=0, copy=True, missing_values='NaN', strategy='mean', verbose=0)), ('model', RandomForestRegressor(bootstrap=True, criterion='mse', max_depth=None,\n",
       "           max_features=12, max_leaf_nodes=None, min_impurity_decrease=0.0,\n",
       "           min_impurity_split=None, min_samples_leaf=1,\n",
       "           min_samples_split=2, min_weight_fraction_leaf=0.0,\n",
       "           n_estimators=100, n_jobs=1, oob_score=False, random_state=None,\n",
       "           verbose=0, warm_start=False))])"
      ]
     },
     "execution_count": 33,
     "metadata": {},
     "output_type": "execute_result"
    }
   ],
   "source": [
    "%%time \n",
    "# Train on all database info\n",
    "density_model.fit(X_notTrouble, y=notTroubleDF['density'])"
   ]
  },
  {
   "cell_type": "code",
   "execution_count": 34,
   "metadata": {},
   "outputs": [
    {
     "name": "stdout",
     "output_type": "stream",
     "text": [
      "Wall time: 15.6 ms\n"
     ]
    }
   ],
   "source": [
    "%%time\n",
    "# Predct MAPI data\n",
    "yMAPI = density_model.predict(X_mapi)"
   ]
  },
  {
   "cell_type": "code",
   "execution_count": 35,
   "metadata": {},
   "outputs": [
    {
     "data": {
      "text/plain": [
       "0.2271216067621844"
      ]
     },
     "execution_count": 35,
     "metadata": {},
     "output_type": "execute_result"
    }
   ],
   "source": [
    "subsetMAPI['density_predict'] = yMAPI\n",
    "r2_score(subsetMAPI['density'], subsetMAPI['density_predict'])"
   ]
  },
  {
   "cell_type": "code",
   "execution_count": 36,
   "metadata": {},
   "outputs": [
    {
     "name": "stdout",
     "output_type": "stream",
     "text": [
      "0.2271216067621844\n"
     ]
    },
    {
     "data": {
      "image/png": "[encoded data removed]",
      "text/plain": [
       "<matplotlib.figure.Figure at 0x16589d30>"
      ]
     },
     "metadata": {},
     "output_type": "display_data"
    }
   ],
   "source": [
    "r2mapi = r2_score(subsetMAPI['density'], subsetMAPI['density_predict'])\n",
    "print(r2mapi)\n",
    "\n",
    "plt.figure(figsize=(5,5))\n",
    "plt.scatter(subsetMAPI['density_predict'], subsetMAPI['density'], edgecolors='k')\n",
    "plt.plot([-5,25], [-5,25], 'r-')\n",
    "plt.xlabel('density [g/cm$^3$]')\n",
    "plt.ylabel('predicted density')\n",
    "\n",
    "\n",
    "plt.text(10,5, 'R$^2$ score: {:.3f}'.format(r2mapi))\n",
    "plt.xlim([-5,20])\n",
    "plt.ylim([-5,20])\n",
    "plt.title('Prediction of MAPI densities')\n",
    "\n",
    "if saveFigures:\n",
    "    plt.savefig(os.path.join(os.getcwd(),'results','densityScatter_MAPI.png'))\n",
    "    print('figure saved')"
   ]
  },
  {
   "cell_type": "markdown",
   "metadata": {},
   "source": [
    "## Fit Crystalline data on its own.\n",
    "To-do: use whole dataset"
   ]
  },
  {
   "cell_type": "code",
   "execution_count": 37,
   "metadata": {},
   "outputs": [],
   "source": [
    "densCr_model = Pipeline([('impute',Imputer()), \n",
    "                          ('model', RandomForestRegressor(n_estimators=100, n_jobs=1, max_features=12))])"
   ]
  },
  {
   "cell_type": "code",
   "execution_count": null,
   "metadata": {},
   "outputs": [],
   "source": []
  }
 ],
 "metadata": {
  "kernelspec": {
   "display_name": "Python 3",
   "language": "python",
   "name": "python3"
  },
  "language_info": {
   "codemirror_mode": {
    "name": "ipython",
    "version": 3
   },
   "file_extension": ".py",
   "mimetype": "text/x-python",
   "name": "python",
   "nbconvert_exporter": "python",
   "pygments_lexer": "ipython3",
   "version": "3.6.3"
  }
 },
 "nbformat": 4,
 "nbformat_minor": 2
}
